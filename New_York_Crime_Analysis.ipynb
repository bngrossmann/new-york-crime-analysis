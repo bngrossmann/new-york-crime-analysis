{
  "nbformat": 4,
  "nbformat_minor": 0,
  "metadata": {
    "colab": {
      "name": "New_York_Crime_Analysis.ipynb",
      "provenance": [],
      "collapsed_sections": [],
      "toc_visible": true,
      "include_colab_link": true
    },
    "kernelspec": {
      "name": "python3",
      "display_name": "Python 3"
    },
    "language_info": {
      "name": "python"
    }
  },
  "cells": [
    {
      "cell_type": "markdown",
      "metadata": {
        "id": "view-in-github",
        "colab_type": "text"
      },
      "source": [
        "<a href=\"https://colab.research.google.com/github/bngrossmann/new-york-crime-analysis/blob/main/New_York_Crime_Analysis.ipynb\" target=\"_parent\"><img src=\"https://colab.research.google.com/assets/colab-badge.svg\" alt=\"Open In Colab\"/></a>"
      ]
    },
    {
      "cell_type": "markdown",
      "source": [
        "# Project 2\n",
        "\n",
        "* Benjamin Grossmann"
      ],
      "metadata": {
        "id": "CQZALYVTexUy"
      }
    },
    {
      "cell_type": "markdown",
      "source": [
        "# Part 1\n"
      ],
      "metadata": {
        "id": "ciIVGuswe2WV"
      }
    },
    {
      "cell_type": "markdown",
      "source": [
        "Your second project is going to have a lot more freedom than your first project. This is because we want you to have a project in your portfolio that interests you or relates to the industry you would like to work in.\n",
        "\n",
        "Your task for this week is to propose two possible datasets you would like to work with for Project 2.  \n",
        "\n",
        "You will choose your first choice data set, and a backup data set in case the first proposed data set is not approved.  \n",
        "\n",
        "This data can be from any source and can be on any topic with these limitations:\n",
        "\n",
        "the data must be available for use (it is your responsibility to ensure that the license states that you are able to use it.)\n",
        "the data must be appropriate for a professional environment\n",
        "the data must NOT contain personal information\n",
        "the data must NOT be a dataset used for any assignment, lecture, or task from the course\n",
        "Make sure you select a dataset that will be reasonable to work with in the amount of time we have left. Think about what questions you could reasonably answer with the dataset you select. \n",
        "\n",
        "You must propose two datasets that each have a supervised learning component. You may choose a regression or classification problem for each proposed data set."
      ],
      "metadata": {
        "id": "LvQuBIBEe-vJ"
      }
    },
    {
      "cell_type": "markdown",
      "source": [
        "**For this task:**\n",
        "\n",
        "Create a Colab notebook where you have uploaded and shown the .head() of each of your data sets.  For each of the proposed datasets, answer the following questions:"
      ],
      "metadata": {
        "id": "Qrq_fF47e-i1"
      }
    },
    {
      "cell_type": "markdown",
      "source": [
        "## **Dataset #1**\n"
      ],
      "metadata": {
        "id": "UAJG7sDUgc_4"
      }
    },
    {
      "cell_type": "code",
      "source": [
        "from google.colab import drive\n",
        "drive.mount(\"/content/drive\")"
      ],
      "metadata": {
        "colab": {
          "base_uri": "https://localhost:8080/"
        },
        "id": "f0EtXTScDgQu",
        "outputId": "986f2ca7-7f50-4762-9919-6e1e358d27b3"
      },
      "execution_count": 379,
      "outputs": [
        {
          "output_type": "stream",
          "name": "stdout",
          "text": [
            "Drive already mounted at /content/drive; to attempt to forcibly remount, call drive.mount(\"/content/drive\", force_remount=True).\n"
          ]
        }
      ]
    },
    {
      "cell_type": "code",
      "source": [
        "# Load your data & imports\n",
        "import numpy as np\n",
        "import pandas as pd"
      ],
      "metadata": {
        "id": "Hx0zuT7zfUtC"
      },
      "execution_count": 380,
      "outputs": []
    },
    {
      "cell_type": "code",
      "execution_count": 381,
      "metadata": {
        "id": "K8_l1F5ZevgV"
      },
      "outputs": [],
      "source": [
        "df = pd.read_csv(\"/content/drive/MyDrive/Coding Dojo/Data Folder/NYPD_Complaint_Data_Current__Year_To_Date_.csv\")"
      ]
    },
    {
      "cell_type": "code",
      "source": [
        "# .head() for your dataframe\n",
        "df.head()"
      ],
      "metadata": {
        "id": "vRIlYFKWfdo8",
        "colab": {
          "base_uri": "https://localhost:8080/",
          "height": 490
        },
        "outputId": "9a51d45b-ceb1-4a6e-9a40-e5fb3193e59a"
      },
      "execution_count": 382,
      "outputs": [
        {
          "output_type": "execute_result",
          "data": {
            "text/plain": [
              "   CMPLNT_NUM  ADDR_PCT_CD BORO_NM CMPLNT_FR_DT CMPLNT_FR_TM CMPLNT_TO_DT  \\\n",
              "0   903695881           69     NaN   12/17/2021     22:13:00          NaN   \n",
              "1   400462399          113     NaN   12/17/2021     06:21:00          NaN   \n",
              "2   587910690          113     NaN   12/13/2021     20:05:00          NaN   \n",
              "3   186105368           52   BRONX   12/07/2021     22:49:00          NaN   \n",
              "4   185325394          113     NaN   12/06/2021     17:25:00          NaN   \n",
              "\n",
              "  CMPLNT_TO_TM CRM_ATPT_CPTD_CD HADEVELOPT  HOUSING_PSA  ...  \\\n",
              "0          NaN        COMPLETED        NaN          NaN  ...   \n",
              "1          NaN        COMPLETED        NaN          NaN  ...   \n",
              "2          NaN        COMPLETED        NaN          NaN  ...   \n",
              "3          NaN        COMPLETED        NaN          NaN  ...   \n",
              "4          NaN        COMPLETED        NaN          NaN  ...   \n",
              "\n",
              "   TRANSIT_DISTRICT VIC_AGE_GROUP  VIC_RACE VIC_SEX X_COORD_CD Y_COORD_CD  \\\n",
              "0               NaN         25-44     BLACK       M    1011203     174515   \n",
              "1               NaN         25-44     BLACK       F    1043252     187998   \n",
              "2               NaN         25-44     BLACK       M    1042087     190443   \n",
              "3               NaN       UNKNOWN   UNKNOWN       E    1017088     260895   \n",
              "4               NaN         25-44     BLACK       M    1046176     193100   \n",
              "\n",
              "    Latitude  Longitude                                   Lat_Lon  \\\n",
              "0  40.645647 -73.902876   (40.64564719600002, -73.90287588699994)   \n",
              "1  40.682499 -73.787269  (40.682499421000045, -73.78726915499993)   \n",
              "2  40.689218 -73.791449  (40.689218058000044, -73.79144856999993)   \n",
              "3  40.882718 -73.881247   (40.88271780700006, -73.88124724999993)   \n",
              "4  40.696483 -73.776680   (40.69648322200004, -73.77667979199998)   \n",
              "\n",
              "                        New Georeferenced Column  \n",
              "0   POINT (-73.90287588699994 40.64564719600002)  \n",
              "1  POINT (-73.78726915499993 40.682499421000045)  \n",
              "2  POINT (-73.79144856999993 40.689218058000044)  \n",
              "3   POINT (-73.88124724999993 40.88271780700006)  \n",
              "4   POINT (-73.77667979199998 40.69648322200004)  \n",
              "\n",
              "[5 rows x 36 columns]"
            ],
            "text/html": [
              "\n",
              "  <div id=\"df-4fa26a85-59ba-4b5b-8e0f-17fbd237e95b\">\n",
              "    <div class=\"colab-df-container\">\n",
              "      <div>\n",
              "<style scoped>\n",
              "    .dataframe tbody tr th:only-of-type {\n",
              "        vertical-align: middle;\n",
              "    }\n",
              "\n",
              "    .dataframe tbody tr th {\n",
              "        vertical-align: top;\n",
              "    }\n",
              "\n",
              "    .dataframe thead th {\n",
              "        text-align: right;\n",
              "    }\n",
              "</style>\n",
              "<table border=\"1\" class=\"dataframe\">\n",
              "  <thead>\n",
              "    <tr style=\"text-align: right;\">\n",
              "      <th></th>\n",
              "      <th>CMPLNT_NUM</th>\n",
              "      <th>ADDR_PCT_CD</th>\n",
              "      <th>BORO_NM</th>\n",
              "      <th>CMPLNT_FR_DT</th>\n",
              "      <th>CMPLNT_FR_TM</th>\n",
              "      <th>CMPLNT_TO_DT</th>\n",
              "      <th>CMPLNT_TO_TM</th>\n",
              "      <th>CRM_ATPT_CPTD_CD</th>\n",
              "      <th>HADEVELOPT</th>\n",
              "      <th>HOUSING_PSA</th>\n",
              "      <th>...</th>\n",
              "      <th>TRANSIT_DISTRICT</th>\n",
              "      <th>VIC_AGE_GROUP</th>\n",
              "      <th>VIC_RACE</th>\n",
              "      <th>VIC_SEX</th>\n",
              "      <th>X_COORD_CD</th>\n",
              "      <th>Y_COORD_CD</th>\n",
              "      <th>Latitude</th>\n",
              "      <th>Longitude</th>\n",
              "      <th>Lat_Lon</th>\n",
              "      <th>New Georeferenced Column</th>\n",
              "    </tr>\n",
              "  </thead>\n",
              "  <tbody>\n",
              "    <tr>\n",
              "      <th>0</th>\n",
              "      <td>903695881</td>\n",
              "      <td>69</td>\n",
              "      <td>NaN</td>\n",
              "      <td>12/17/2021</td>\n",
              "      <td>22:13:00</td>\n",
              "      <td>NaN</td>\n",
              "      <td>NaN</td>\n",
              "      <td>COMPLETED</td>\n",
              "      <td>NaN</td>\n",
              "      <td>NaN</td>\n",
              "      <td>...</td>\n",
              "      <td>NaN</td>\n",
              "      <td>25-44</td>\n",
              "      <td>BLACK</td>\n",
              "      <td>M</td>\n",
              "      <td>1011203</td>\n",
              "      <td>174515</td>\n",
              "      <td>40.645647</td>\n",
              "      <td>-73.902876</td>\n",
              "      <td>(40.64564719600002, -73.90287588699994)</td>\n",
              "      <td>POINT (-73.90287588699994 40.64564719600002)</td>\n",
              "    </tr>\n",
              "    <tr>\n",
              "      <th>1</th>\n",
              "      <td>400462399</td>\n",
              "      <td>113</td>\n",
              "      <td>NaN</td>\n",
              "      <td>12/17/2021</td>\n",
              "      <td>06:21:00</td>\n",
              "      <td>NaN</td>\n",
              "      <td>NaN</td>\n",
              "      <td>COMPLETED</td>\n",
              "      <td>NaN</td>\n",
              "      <td>NaN</td>\n",
              "      <td>...</td>\n",
              "      <td>NaN</td>\n",
              "      <td>25-44</td>\n",
              "      <td>BLACK</td>\n",
              "      <td>F</td>\n",
              "      <td>1043252</td>\n",
              "      <td>187998</td>\n",
              "      <td>40.682499</td>\n",
              "      <td>-73.787269</td>\n",
              "      <td>(40.682499421000045, -73.78726915499993)</td>\n",
              "      <td>POINT (-73.78726915499993 40.682499421000045)</td>\n",
              "    </tr>\n",
              "    <tr>\n",
              "      <th>2</th>\n",
              "      <td>587910690</td>\n",
              "      <td>113</td>\n",
              "      <td>NaN</td>\n",
              "      <td>12/13/2021</td>\n",
              "      <td>20:05:00</td>\n",
              "      <td>NaN</td>\n",
              "      <td>NaN</td>\n",
              "      <td>COMPLETED</td>\n",
              "      <td>NaN</td>\n",
              "      <td>NaN</td>\n",
              "      <td>...</td>\n",
              "      <td>NaN</td>\n",
              "      <td>25-44</td>\n",
              "      <td>BLACK</td>\n",
              "      <td>M</td>\n",
              "      <td>1042087</td>\n",
              "      <td>190443</td>\n",
              "      <td>40.689218</td>\n",
              "      <td>-73.791449</td>\n",
              "      <td>(40.689218058000044, -73.79144856999993)</td>\n",
              "      <td>POINT (-73.79144856999993 40.689218058000044)</td>\n",
              "    </tr>\n",
              "    <tr>\n",
              "      <th>3</th>\n",
              "      <td>186105368</td>\n",
              "      <td>52</td>\n",
              "      <td>BRONX</td>\n",
              "      <td>12/07/2021</td>\n",
              "      <td>22:49:00</td>\n",
              "      <td>NaN</td>\n",
              "      <td>NaN</td>\n",
              "      <td>COMPLETED</td>\n",
              "      <td>NaN</td>\n",
              "      <td>NaN</td>\n",
              "      <td>...</td>\n",
              "      <td>NaN</td>\n",
              "      <td>UNKNOWN</td>\n",
              "      <td>UNKNOWN</td>\n",
              "      <td>E</td>\n",
              "      <td>1017088</td>\n",
              "      <td>260895</td>\n",
              "      <td>40.882718</td>\n",
              "      <td>-73.881247</td>\n",
              "      <td>(40.88271780700006, -73.88124724999993)</td>\n",
              "      <td>POINT (-73.88124724999993 40.88271780700006)</td>\n",
              "    </tr>\n",
              "    <tr>\n",
              "      <th>4</th>\n",
              "      <td>185325394</td>\n",
              "      <td>113</td>\n",
              "      <td>NaN</td>\n",
              "      <td>12/06/2021</td>\n",
              "      <td>17:25:00</td>\n",
              "      <td>NaN</td>\n",
              "      <td>NaN</td>\n",
              "      <td>COMPLETED</td>\n",
              "      <td>NaN</td>\n",
              "      <td>NaN</td>\n",
              "      <td>...</td>\n",
              "      <td>NaN</td>\n",
              "      <td>25-44</td>\n",
              "      <td>BLACK</td>\n",
              "      <td>M</td>\n",
              "      <td>1046176</td>\n",
              "      <td>193100</td>\n",
              "      <td>40.696483</td>\n",
              "      <td>-73.776680</td>\n",
              "      <td>(40.69648322200004, -73.77667979199998)</td>\n",
              "      <td>POINT (-73.77667979199998 40.69648322200004)</td>\n",
              "    </tr>\n",
              "  </tbody>\n",
              "</table>\n",
              "<p>5 rows × 36 columns</p>\n",
              "</div>\n",
              "      <button class=\"colab-df-convert\" onclick=\"convertToInteractive('df-4fa26a85-59ba-4b5b-8e0f-17fbd237e95b')\"\n",
              "              title=\"Convert this dataframe to an interactive table.\"\n",
              "              style=\"display:none;\">\n",
              "        \n",
              "  <svg xmlns=\"http://www.w3.org/2000/svg\" height=\"24px\"viewBox=\"0 0 24 24\"\n",
              "       width=\"24px\">\n",
              "    <path d=\"M0 0h24v24H0V0z\" fill=\"none\"/>\n",
              "    <path d=\"M18.56 5.44l.94 2.06.94-2.06 2.06-.94-2.06-.94-.94-2.06-.94 2.06-2.06.94zm-11 1L8.5 8.5l.94-2.06 2.06-.94-2.06-.94L8.5 2.5l-.94 2.06-2.06.94zm10 10l.94 2.06.94-2.06 2.06-.94-2.06-.94-.94-2.06-.94 2.06-2.06.94z\"/><path d=\"M17.41 7.96l-1.37-1.37c-.4-.4-.92-.59-1.43-.59-.52 0-1.04.2-1.43.59L10.3 9.45l-7.72 7.72c-.78.78-.78 2.05 0 2.83L4 21.41c.39.39.9.59 1.41.59.51 0 1.02-.2 1.41-.59l7.78-7.78 2.81-2.81c.8-.78.8-2.07 0-2.86zM5.41 20L4 18.59l7.72-7.72 1.47 1.35L5.41 20z\"/>\n",
              "  </svg>\n",
              "      </button>\n",
              "      \n",
              "  <style>\n",
              "    .colab-df-container {\n",
              "      display:flex;\n",
              "      flex-wrap:wrap;\n",
              "      gap: 12px;\n",
              "    }\n",
              "\n",
              "    .colab-df-convert {\n",
              "      background-color: #E8F0FE;\n",
              "      border: none;\n",
              "      border-radius: 50%;\n",
              "      cursor: pointer;\n",
              "      display: none;\n",
              "      fill: #1967D2;\n",
              "      height: 32px;\n",
              "      padding: 0 0 0 0;\n",
              "      width: 32px;\n",
              "    }\n",
              "\n",
              "    .colab-df-convert:hover {\n",
              "      background-color: #E2EBFA;\n",
              "      box-shadow: 0px 1px 2px rgba(60, 64, 67, 0.3), 0px 1px 3px 1px rgba(60, 64, 67, 0.15);\n",
              "      fill: #174EA6;\n",
              "    }\n",
              "\n",
              "    [theme=dark] .colab-df-convert {\n",
              "      background-color: #3B4455;\n",
              "      fill: #D2E3FC;\n",
              "    }\n",
              "\n",
              "    [theme=dark] .colab-df-convert:hover {\n",
              "      background-color: #434B5C;\n",
              "      box-shadow: 0px 1px 3px 1px rgba(0, 0, 0, 0.15);\n",
              "      filter: drop-shadow(0px 1px 2px rgba(0, 0, 0, 0.3));\n",
              "      fill: #FFFFFF;\n",
              "    }\n",
              "  </style>\n",
              "\n",
              "      <script>\n",
              "        const buttonEl =\n",
              "          document.querySelector('#df-4fa26a85-59ba-4b5b-8e0f-17fbd237e95b button.colab-df-convert');\n",
              "        buttonEl.style.display =\n",
              "          google.colab.kernel.accessAllowed ? 'block' : 'none';\n",
              "\n",
              "        async function convertToInteractive(key) {\n",
              "          const element = document.querySelector('#df-4fa26a85-59ba-4b5b-8e0f-17fbd237e95b');\n",
              "          const dataTable =\n",
              "            await google.colab.kernel.invokeFunction('convertToInteractive',\n",
              "                                                     [key], {});\n",
              "          if (!dataTable) return;\n",
              "\n",
              "          const docLinkHtml = 'Like what you see? Visit the ' +\n",
              "            '<a target=\"_blank\" href=https://colab.research.google.com/notebooks/data_table.ipynb>data table notebook</a>'\n",
              "            + ' to learn more about interactive tables.';\n",
              "          element.innerHTML = '';\n",
              "          dataTable['output_type'] = 'display_data';\n",
              "          await google.colab.output.renderOutput(dataTable, element);\n",
              "          const docLink = document.createElement('div');\n",
              "          docLink.innerHTML = docLinkHtml;\n",
              "          element.appendChild(docLink);\n",
              "        }\n",
              "      </script>\n",
              "    </div>\n",
              "  </div>\n",
              "  "
            ]
          },
          "metadata": {},
          "execution_count": 382
        }
      ]
    },
    {
      "cell_type": "code",
      "source": [
        "df.shape"
      ],
      "metadata": {
        "colab": {
          "base_uri": "https://localhost:8080/"
        },
        "id": "P3n3B0cFGHoH",
        "outputId": "6f132918-6734-4f00-f9e5-d6ef3ac28081"
      },
      "execution_count": 383,
      "outputs": [
        {
          "output_type": "execute_result",
          "data": {
            "text/plain": [
              "(449506, 36)"
            ]
          },
          "metadata": {},
          "execution_count": 383
        }
      ]
    },
    {
      "cell_type": "markdown",
      "source": [
        "## Questions"
      ],
      "metadata": {
        "id": "RUP00hADfs1N"
      }
    },
    {
      "cell_type": "markdown",
      "source": [
        "### 1) source of your data\n",
        "\n",
        "The data comes from the New York City Police Department.\n",
        "\n",
        "https://data.cityofnewyork.us/Public-Safety/NYPD-Complaint-Data-Current-Year-To-Date-/5uac-w243\n"
      ],
      "metadata": {
        "id": "q9twhacHf_bd"
      }
    },
    {
      "cell_type": "markdown",
      "source": [
        "### 2) Brief description of data\n",
        "\n",
        "The data includes report information about crimes reported to the NYPD. (Location: Coordinates and Descriptive; Day and Time; Suspect Profile Information; Victim Profile Information; Weather; and several others)"
      ],
      "metadata": {
        "id": "s68fUeMogD_g"
      }
    },
    {
      "cell_type": "markdown",
      "source": [
        "### 3) What is the target?\n",
        "\n",
        "The target is `\"LAW_CAT_CD\"`, which is the level of offense (felony, misdemeanor, violation)."
      ],
      "metadata": {
        "id": "rsKJOX6PgKZV"
      }
    },
    {
      "cell_type": "markdown",
      "source": [
        "###  4) Is this a classification or regression problem?\n",
        "\n",
        "This will be a classification problem."
      ],
      "metadata": {
        "id": "QXfpkTOOgNlh"
      }
    },
    {
      "cell_type": "markdown",
      "source": [
        "### 5) How many features?\n",
        "Although the dataset has 35 features after being separated from the target, many of them are unnecessary and should be removed before any modeling is done.\n",
        "\n",
        "For example, there are multiple location features. Two pair of which express the same coordinate information in two different coordiante systems.\n",
        "\n",
        "There are also several features that are codes which ways of encoding report information and should not be used. They do not predict the target. They were explictly created by the reporting system after the crime was reported and cannot be used to predict future events (they postdict).\n",
        "\n",
        "A thourough examination of the data will be required to determine all the features that should be removed before modeling.\n"
      ],
      "metadata": {
        "id": "P_GxKXwmgRkL"
      }
    },
    {
      "cell_type": "markdown",
      "source": [
        "### 6) How many rows of data.\n",
        "\n",
        "The dataset has 449,506 rows of data"
      ],
      "metadata": {
        "id": "XKFujSFJgU0T"
      }
    },
    {
      "cell_type": "markdown",
      "source": [
        "### 7) What, if any, challenges do your foresee in cleaning, exploring, or modeling with this dataset?\n",
        "\n",
        "There are several columns which have a lot of missing values. Some missing values may be acceptable (`\"PARKS_NM\"` has no value if the occurance did not happen in a park), and can be accomadated.\n",
        "\n",
        "And as mentioned above in question 5, several of the columns should not be used because they may have values that are determined by the target values. Determining which ones may take some research.\n",
        "\n",
        "Some columns (such as some of the description columns) have multiple values within a single cell. It may be necessary to break them apart into their component values."
      ],
      "metadata": {
        "id": "BWc7tBFagXQz"
      }
    },
    {
      "cell_type": "markdown",
      "source": [
        ""
      ],
      "metadata": {
        "id": "7QfE9Qwf4roi"
      }
    },
    {
      "cell_type": "markdown",
      "source": [
        "#Data Dictionary\n",
        "\n",
        "Column Name|Description|Type\n",
        "-|-|-\n",
        "CMPLNT_NUM|Randomly generated persistent ID for each complaint|Number\n",
        "ADDR_PCT_CD|The precinct in which the incident occurred|Number\n",
        "BORO_NM|The name of the borough in which the incident occurred|Plain Text\n",
        "CMPLNT_FR_DT|Exact date of occurrence for the reported event (or starting date of occurrence, if CMPLNT_TO_DT exists)|Date & Time\n",
        "CMPLNT_FR_TM|Exact time of occurrence for the reported event (or starting time of occurrence, if CMPLNT_TO_TM exists)|Plain Text\n",
        "CMPLNT_TO_DT|Ending date of occurrence for the reported event, if exact time of occurrence is unknown|Date & Time\n",
        "CMPLNT_TO_TM|Ending time of occurrence for the reported event, if exact time of occurrence is unknown|Plain Text\n",
        "CRM_ATPT_CPTD_CD|Indicator of whether crime was successfully completed or attempted, but failed or was interrupted prematurely|Plain Text\n",
        "HADEVELOPT|Name of NYCHA housing development of occurrence, if applicable|Plain Text\n",
        "HOUSING_PSA|Development Level Code|Number\n",
        "JURISDICTION_CODE|Jurisdiction responsible for incident. Either internal, like Police(0), Transit(1), and Housing(2); or external(3), like Correction, Port Authority, etc.|Number\n",
        "JURIS_DESC|Description of the jurisdiction code|Plain Text\n",
        "KY_CD|Three digit offense classification code|Number\n",
        "LAW_CAT_CD|Level of offense: felony, misdemeanor, violation|Plain Text\n",
        "LOC_OF_OCCUR_DESC|Specific location of occurrence in or around the premises; inside, opposite of, front of, rear of|Plain Text\n",
        "OFNS_DESC|Description of offense corresponding with key code|Plain Text\n",
        "PARKS_NM|Name of NYC park, playground or greenspace of occurrence, if applicable (state parks are not included)|Plain Text\n",
        "PATROL_BORO|The name of the patrol borough in which the incident occurred|Plain Text\n",
        "PD_CD|Three digit internal classification code (more granular than Key Code)|Number\t\n",
        "PD_DESC|Description of internal classification corresponding with PD code (more granular than Offense Description)|Plain Text\n",
        "PREM_TYP_DESC|Specific description of premises; grocery store, residence, street, etc.|Plain Text\n",
        "RPT_DT|Date event was reported to police|Date & Time\n",
        "STATION_NAME|Transit station name|Plain Text\n",
        "SUSP_AGE_GROUP|Suspect’s Age Group|Plain Text\n",
        "SUSP_RACE|Suspect’s Race Description|Plain Text\n",
        "SUSP_SEX|Suspect’s Sex Description|Plain Text\n",
        "TRANSIT_DISTRICT|Transit district in which the offense occurred.|Number\t\n",
        "VIC_AGE_GROUP|Victim’s Age Group|Plain Text\n",
        "VIC_RACE|Victim’s Race Description|Plain Text\n",
        "VIC_SEX|Victim’s Sex Description|Plain Text\n",
        "X_COORD_CD|X-coordinate for New York State Plane Coordinate System, Long Island Zone, NAD 83, units feet (FIPS 3104)|Number\n",
        "Y_COORD_CD|Y-coordinate for New York State Plane Coordinate System, Long Island Zone, NAD 83, units feet (FIPS 3104)|Number\n",
        "Latitude|Midblock Latitude coordinate for Global Coordinate System, WGS 1984, decimal degrees (EPSG 4326)|Number\n",
        "Longitude|Midblock Longitude coordinate for Global Coordinate System, WGS 1984, decimal degrees (EPSG 4326)|Number\n",
        "Lat_Lon||Location\n",
        "New Georeferenced Column||Point"
      ],
      "metadata": {
        "id": "CjvWc9lH-DPT"
      }
    },
    {
      "cell_type": "markdown",
      "source": [
        "# 1 . Load Data"
      ],
      "metadata": {
        "id": "svM_yJyf4s95"
      }
    },
    {
      "cell_type": "code",
      "source": [
        "# from google.colab import drive\n",
        "# drive.mount(\"/content/drive\")"
      ],
      "metadata": {
        "id": "-5mAG4iC4xIh"
      },
      "execution_count": 384,
      "outputs": []
    },
    {
      "cell_type": "code",
      "source": [
        "# import numpy as np\n",
        "# import pandas as pd"
      ],
      "metadata": {
        "id": "pl75WLjI44OW"
      },
      "execution_count": 385,
      "outputs": []
    },
    {
      "cell_type": "code",
      "source": [
        "# df = pd.read_csv(\"/content/drive/MyDrive/Coding Dojo/Data Folder/NYPD_Complaint_Data_Current__Year_To_Date_.csv\")"
      ],
      "metadata": {
        "id": "CjYdd5nk8QOB"
      },
      "execution_count": 386,
      "outputs": []
    },
    {
      "cell_type": "code",
      "source": [
        "df.info()"
      ],
      "metadata": {
        "colab": {
          "base_uri": "https://localhost:8080/"
        },
        "id": "cglB3oDK8Xav",
        "outputId": "43082dc0-899d-49f3-d0e4-c87f5ee034ce"
      },
      "execution_count": 387,
      "outputs": [
        {
          "output_type": "stream",
          "name": "stdout",
          "text": [
            "<class 'pandas.core.frame.DataFrame'>\n",
            "RangeIndex: 449506 entries, 0 to 449505\n",
            "Data columns (total 36 columns):\n",
            " #   Column                    Non-Null Count   Dtype  \n",
            "---  ------                    --------------   -----  \n",
            " 0   CMPLNT_NUM                449506 non-null  int64  \n",
            " 1   ADDR_PCT_CD               449506 non-null  int64  \n",
            " 2   BORO_NM                   448355 non-null  object \n",
            " 3   CMPLNT_FR_DT              449506 non-null  object \n",
            " 4   CMPLNT_FR_TM              449506 non-null  object \n",
            " 5   CMPLNT_TO_DT              409416 non-null  object \n",
            " 6   CMPLNT_TO_TM              409568 non-null  object \n",
            " 7   CRM_ATPT_CPTD_CD          449345 non-null  object \n",
            " 8   HADEVELOPT                1577 non-null    object \n",
            " 9   HOUSING_PSA               32583 non-null   float64\n",
            " 10  JURISDICTION_CODE         449023 non-null  float64\n",
            " 11  JURIS_DESC                449506 non-null  object \n",
            " 12  KY_CD                     449506 non-null  int64  \n",
            " 13  LAW_CAT_CD                449506 non-null  object \n",
            " 14  LOC_OF_OCCUR_DESC         375243 non-null  object \n",
            " 15  OFNS_DESC                 449497 non-null  object \n",
            " 16  PARKS_NM                  3192 non-null    object \n",
            " 17  PATROL_BORO               449023 non-null  object \n",
            " 18  PD_CD                     449023 non-null  float64\n",
            " 19  PD_DESC                   449023 non-null  object \n",
            " 20  PREM_TYP_DESC             448236 non-null  object \n",
            " 21  RPT_DT                    449506 non-null  object \n",
            " 22  STATION_NAME              8976 non-null    object \n",
            " 23  SUSP_AGE_GROUP            361372 non-null  object \n",
            " 24  SUSP_RACE                 361372 non-null  object \n",
            " 25  SUSP_SEX                  361372 non-null  object \n",
            " 26  TRANSIT_DISTRICT          8976 non-null    float64\n",
            " 27  VIC_AGE_GROUP             449506 non-null  object \n",
            " 28  VIC_RACE                  449425 non-null  object \n",
            " 29  VIC_SEX                   449506 non-null  object \n",
            " 30  X_COORD_CD                449506 non-null  int64  \n",
            " 31  Y_COORD_CD                449506 non-null  int64  \n",
            " 32  Latitude                  449506 non-null  float64\n",
            " 33  Longitude                 449506 non-null  float64\n",
            " 34  Lat_Lon                   449506 non-null  object \n",
            " 35  New Georeferenced Column  449506 non-null  object \n",
            "dtypes: float64(6), int64(5), object(25)\n",
            "memory usage: 123.5+ MB\n"
          ]
        }
      ]
    },
    {
      "cell_type": "code",
      "source": [
        "# Function for showing unique values and missing rows from columns of a dataframe\n",
        "def show_column_values(dataframe,column_list=[]):\n",
        "    for col in column_list:\n",
        "        print(f\"{col:>18} : {dataframe[col].nunique():>5} : {dataframe[col].value_counts().sort_index().index.to_list()}\")\n",
        "        print(f\"{':':>20} {dataframe.loc[ df[col].isna() , col].duplicated().sum():>5} : Rows Missing Data\\n\")"
      ],
      "metadata": {
        "id": "7V_pjgsYvDKY"
      },
      "execution_count": 388,
      "outputs": []
    },
    {
      "cell_type": "markdown",
      "source": [
        "## 1 . 2 . Identify the Target"
      ],
      "metadata": {
        "id": "G0CGIphEsa1A"
      }
    },
    {
      "cell_type": "markdown",
      "source": [
        "The target value for this analysis is the level of the offense.\n",
        "* `\"LAW_CAT_CD\"`\n",
        "    > The level of the offense: felony, misdemeanor, or violation."
      ],
      "metadata": {
        "id": "sRcup3zPtM4J"
      }
    },
    {
      "cell_type": "code",
      "source": [
        "show_column_values(df,[\"LAW_CAT_CD\"])"
      ],
      "metadata": {
        "colab": {
          "base_uri": "https://localhost:8080/"
        },
        "id": "3YKX8D6Wt_qS",
        "outputId": "3f7dc545-8d9f-450e-eb4d-e39735bde564"
      },
      "execution_count": 389,
      "outputs": [
        {
          "output_type": "stream",
          "name": "stdout",
          "text": [
            "        LAW_CAT_CD :     3 : ['FELONY', 'MISDEMEANOR', 'VIOLATION']\n",
            "                   :     0 : Rows Missing Data\n",
            "\n"
          ]
        }
      ]
    },
    {
      "cell_type": "markdown",
      "source": [
        "If a greater distinction amoung the crimes is required, then an alternate target can be `\"OFNS_DESC\"`."
      ],
      "metadata": {
        "id": "Ux6fx75QrzP3"
      }
    },
    {
      "cell_type": "markdown",
      "source": [
        "# 2 . Uniqueness and Duplication"
      ],
      "metadata": {
        "id": "Eeg5idykSK2s"
      }
    },
    {
      "cell_type": "markdown",
      "source": [
        "Each data row is suppose to represent a single unique complaint identified in the `\"CMPLNT__NUM\"` column. So there should be no duplicates."
      ],
      "metadata": {
        "id": "XC0NCWMQFpbf"
      }
    },
    {
      "cell_type": "code",
      "source": [
        "print(f\"{df.shape[0]} Rows in the data table\")\n",
        "print(f\"{df['CMPLNT_NUM'].nunique()} Unique Entries in the complaint number column\")\n",
        "print(f\"{df.duplicated().sum():>6} Duplicated table rows\")"
      ],
      "metadata": {
        "colab": {
          "base_uri": "https://localhost:8080/"
        },
        "id": "BztrCtuv9hxD",
        "outputId": "5c74c38b-d221-4a47-805d-6c89ee9ecb79"
      },
      "execution_count": 390,
      "outputs": [
        {
          "output_type": "stream",
          "name": "stdout",
          "text": [
            "449506 Rows in the data table\n",
            "449506 Unique Entries in the complaint number column\n",
            "     0 Duplicated table rows\n"
          ]
        }
      ]
    },
    {
      "cell_type": "markdown",
      "source": [
        "Verified that no rows are duplicated.\n",
        "\n",
        "Since the values for `\"CMPLNT_NUM\"` are unique integers for each row, they can be used as the row index."
      ],
      "metadata": {
        "id": "ehPhU4YnnsS-"
      }
    },
    {
      "cell_type": "code",
      "source": [
        "df.set_index(\"CMPLNT_NUM\",inplace=True);"
      ],
      "metadata": {
        "id": "6MMWFqSKB91K"
      },
      "execution_count": 391,
      "outputs": []
    },
    {
      "cell_type": "markdown",
      "source": [
        "Now that the unique complaint number has been changed to the index, I can check again for duplicate rows. These new duplicates will indicate that there were probably mulitple suspects or mutiple victims at each incident, with each addtional suspect or victim contributing to new rows in the data table."
      ],
      "metadata": {
        "id": "eWUNvSx5qJUN"
      }
    },
    {
      "cell_type": "code",
      "source": [
        "print(f\"{df.duplicated().sum()} Duplicated table rows\")"
      ],
      "metadata": {
        "colab": {
          "base_uri": "https://localhost:8080/"
        },
        "id": "kIFcupY2vVUH",
        "outputId": "ddac2a11-26ee-474a-f784-08d5f9c9451f"
      },
      "execution_count": 392,
      "outputs": [
        {
          "output_type": "stream",
          "name": "stdout",
          "text": [
            "1576 Duplicated table rows\n"
          ]
        }
      ]
    },
    {
      "cell_type": "markdown",
      "source": [
        "Now I must make a choice of whether I will drop these new duplicates. I can either drop them and only consider each group of new duplicates as a single event. Or I can keep them and consider each new duplicate a separate event.\n",
        "\n",
        "From a resource perspective, I will consider each new duplicate a separate event. Although these new duplicates happen in groups, it may require more resources to respond to a single group of events.\n",
        "\n",
        "This choice may effect the results based on how often these groups of event occur."
      ],
      "metadata": {
        "id": "uhvELV_nvb9_"
      }
    },
    {
      "cell_type": "code",
      "source": [
        "print(f\"New duplicates account for {df.duplicated().sum() / df.shape[0]*100:.2f}% of all complaints.\")"
      ],
      "metadata": {
        "colab": {
          "base_uri": "https://localhost:8080/"
        },
        "id": "0eqmVix5vaf_",
        "outputId": "281588ac-1e44-4a66-89f5-8d7137f32ef2"
      },
      "execution_count": 393,
      "outputs": [
        {
          "output_type": "stream",
          "name": "stdout",
          "text": [
            "New duplicates account for 0.35% of all complaints.\n"
          ]
        }
      ]
    },
    {
      "cell_type": "markdown",
      "source": [
        "Since the new duplicates only account for just over a third of one percent, they are not very common (less than four out of every thousand).\n",
        "\n",
        "Further justification for keeping these new duplicate can be found by considering who may be invovled. These duplicates are those where the suspects and victims necessarily share demographic characteristics. If a single group of events had suspects and victims with different demographic characteristics, then data rows conresponding the these different individuals would not be duplicates.\n",
        "\n",
        "At this stage in the analysis, I am not yet prepared to determine any group events that have non-duplicated rows of data. After I do so, it will be possible to do comparative analysis to see if grouping simultaneous events as a single occurance has any detectable consequences. There may be some applications where such grouping is a better measure than haveing them treated as separate these events."
      ],
      "metadata": {
        "id": "RTESTYy5yEag"
      }
    },
    {
      "cell_type": "markdown",
      "source": [
        "# 3 . Eliminating Unnecessary Columns"
      ],
      "metadata": {
        "id": "_CEUmEpnSFwB"
      }
    },
    {
      "cell_type": "markdown",
      "source": [
        "In building a model that can help me understand where different kinds of crimes are happening, I need to separate the information that can be used to help allocate resources from the information that which cannot.\n",
        "\n",
        "Time and location are quantities that must occur for any complaint, and exist even if there is no complaint. These are also important criteria to use when allocating resorces. Without these pieces of information there is no framework for understanding the layout of the city.\n",
        "\n",
        "Since I will be dropping columns several times, I will make a function to assist me and report how many columns remain.\n"
      ],
      "metadata": {
        "id": "RRHhaHNl6yLb"
      }
    },
    {
      "cell_type": "code",
      "source": [
        "# Function for dropping a list of columns from a dataframe and reporting it\n",
        "def drop_columns(dataframe, column_list=[]):\n",
        "    print(f\"{dataframe.shape[1]} columns before the drop.\")\n",
        "    dataframe.drop(columns=column_list, inplace=True)\n",
        "    print(f\"{dataframe.shape[1]} columns after the drop.\")"
      ],
      "metadata": {
        "id": "piPPWZYuJl1O"
      },
      "execution_count": 394,
      "outputs": []
    },
    {
      "cell_type": "markdown",
      "source": [
        "## 3 . 1 . Suspect and Victim Demographics"
      ],
      "metadata": {
        "id": "a2amr1r-6hhL"
      }
    },
    {
      "cell_type": "markdown",
      "source": [
        "There are only three characteristics in the data set given for suspect and victim demographics: sex, age, and race.\n",
        "* `\"SUSP_SEX\"`, `\"VIC_SEX\"`\n",
        "> Sex of the suspect or victim\n",
        "* `\"SUSP_RACE\"`, `\"VIC_RACE\"`\n",
        "> Race of the suspect or victim\n",
        "* `\"SUSP_AGE_GROUP\"`, `\"VIC_AGE_GROUP\"`\n",
        "> Age group of the suspect or victim\n",
        "\n",
        "I can look at how these values are recorded. I will display the values in ascending order (alphabetically and increasing numerically) and how much data is missing."
      ],
      "metadata": {
        "id": "TklH_9My6mh9"
      }
    },
    {
      "cell_type": "code",
      "source": [
        "# for col in [\"SUSP_SEX\",\"SUSP_RACE\",\"SUSP_AGE_GROUP\",\"VIC_SEX\",\"VIC_RACE\",\"VIC_AGE_GROUP\"]:\n",
        "#     print(f\"{col:>14} : {df[col].nunique():>5} : {df[col].value_counts().sort_index().index.to_list()}\")\n",
        "#     print(f\"{':':>16} {df.loc[ df[col].isna() , col].duplicated().sum():>5} : Rows Missing Data\\n\")\n",
        "\n",
        "show_column_values(df,[\"SUSP_SEX\",\"SUSP_RACE\",\"SUSP_AGE_GROUP\",\"VIC_SEX\",\"VIC_RACE\",\"VIC_AGE_GROUP\"])"
      ],
      "metadata": {
        "colab": {
          "base_uri": "https://localhost:8080/"
        },
        "id": "RuL1velwA5uu",
        "outputId": "69c32692-4047-46a3-a48d-715ec60f7141"
      },
      "execution_count": 395,
      "outputs": [
        {
          "output_type": "stream",
          "name": "stdout",
          "text": [
            "          SUSP_SEX :     3 : ['F', 'M', 'U']\n",
            "                   : 88133 : Rows Missing Data\n",
            "\n",
            "         SUSP_RACE :     7 : ['AMERICAN INDIAN/ALASKAN NATIVE', 'ASIAN / PACIFIC ISLANDER', 'BLACK', 'BLACK HISPANIC', 'UNKNOWN', 'WHITE', 'WHITE HISPANIC']\n",
            "                   : 88133 : Rows Missing Data\n",
            "\n",
            "    SUSP_AGE_GROUP :    26 : ['-33', '-60', '-69', '-941', '-946', '-947', '-955', '-966', '-969', '-971', '-973', '-975', '1017', '1032', '1056', '18-24', '2021', '25-44', '45-64', '65+', '938', '940', '942', '953', '<18', 'UNKNOWN']\n",
            "                   : 88133 : Rows Missing Data\n",
            "\n",
            "           VIC_SEX :     4 : ['D', 'E', 'F', 'M']\n",
            "                   :     0 : Rows Missing Data\n",
            "\n",
            "          VIC_RACE :     7 : ['AMERICAN INDIAN/ALASKAN NATIVE', 'ASIAN / PACIFIC ISLANDER', 'BLACK', 'BLACK HISPANIC', 'UNKNOWN', 'WHITE', 'WHITE HISPANIC']\n",
            "                   :    80 : Rows Missing Data\n",
            "\n",
            "     VIC_AGE_GROUP :    21 : ['-1', '-3', '-4', '-48', '-51', '-61', '-62', '-921', '-935', '-943', '-960', '18-24', '25-44', '45-64', '65+', '936', '945', '963', '970', '<18', 'UNKNOWN']\n",
            "                   :     0 : Rows Missing Data\n",
            "\n"
          ]
        }
      ]
    },
    {
      "cell_type": "markdown",
      "source": [
        "These won't be very helpful to understand how crime is distributed as people matching these descriptions can be found throughout the city. Further, many complaints have no information about the suspect. And victims can include businesses and organizations (sex `\"D\"`) and the People of the State of New York  (sex `\"E\"`)\n",
        "\n",
        "A quick calculation can even show how much suspect information is unavailable. (As per the NYPD Complaints Incident Level Data Footnotes, item number 2, null values should be considered as either \"Unknown/Not Available/Not Reported\")."
      ],
      "metadata": {
        "id": "RiU-0Ip-MXUh"
      }
    },
    {
      "cell_type": "code",
      "source": [
        "for col,val in zip((\"SUSP_SEX\",\"SUSP_RACE\",\"SUSP_AGE_GROUP\"),(\"U\",\"UNKNOWN\",\"UNKNOWN\")):\n",
        "    print(f\"{df.loc[ df[col]==val , col].count() /  df[col].shape[0] * 100:.2f}% Rows with {col} {val}\")\n",
        "    print(f\"{df[col].isna().sum() /  df[col].shape[0] * 100:.2f}% Rows with {col} null\")\n",
        "    print(f\"{(df[col].isna().sum()+df.loc[ df[col]==val , col].count()) /  df[col].shape[0] * 100:.2f}% Total Rows\\n\")"
      ],
      "metadata": {
        "colab": {
          "base_uri": "https://localhost:8080/"
        },
        "id": "Abmfn3fzGyeY",
        "outputId": "a9420303-09d8-4dac-ab4c-0e125e675189"
      },
      "execution_count": 396,
      "outputs": [
        {
          "output_type": "stream",
          "name": "stdout",
          "text": [
            "21.14% Rows with SUSP_SEX U\n",
            "19.61% Rows with SUSP_SEX null\n",
            "40.75% Total Rows\n",
            "\n",
            "24.82% Rows with SUSP_RACE UNKNOWN\n",
            "19.61% Rows with SUSP_RACE null\n",
            "44.42% Total Rows\n",
            "\n",
            "37.32% Rows with SUSP_AGE_GROUP UNKNOWN\n",
            "19.61% Rows with SUSP_AGE_GROUP null\n",
            "56.92% Total Rows\n",
            "\n"
          ]
        }
      ]
    },
    {
      "cell_type": "markdown",
      "source": [
        "With this much information unavailable (over 40%), these columns would be problamatic if they were kept. So I will drop these from the working dataframe. (This is even without considering all the additional age values that don't represent real ages.)"
      ],
      "metadata": {
        "id": "oCcyJcFwXTb9"
      }
    },
    {
      "cell_type": "code",
      "source": [
        "drop_columns(df,[\"SUSP_SEX\",\"SUSP_RACE\",\"SUSP_AGE_GROUP\",\"VIC_SEX\",\"VIC_RACE\",\"VIC_AGE_GROUP\"])"
      ],
      "metadata": {
        "colab": {
          "base_uri": "https://localhost:8080/"
        },
        "id": "oJ9lVE5DYLEW",
        "outputId": "058b583d-221a-4baf-f55d-21b47a532f33"
      },
      "execution_count": 397,
      "outputs": [
        {
          "output_type": "stream",
          "name": "stdout",
          "text": [
            "35 columns before the drop.\n",
            "29 columns after the drop.\n"
          ]
        }
      ]
    },
    {
      "cell_type": "markdown",
      "source": [
        "## 3 . 2 . Location Data"
      ],
      "metadata": {
        "id": "qF7UJiMcRBGx"
      }
    },
    {
      "cell_type": "markdown",
      "source": [
        "There are several columns that descibe the location of the complaint. Some of them are too general, others are too specific, and some are redudant.\n",
        "\n",
        "\n",
        "\n",
        "Primary Location Information\n",
        "* `\"ADDR_PCT_CD\"` (Precinct) (KEEP)\n",
        ">New York is divided into 77 precincts. This is the level that neighborhood communities and law enforcement will typically interact. Additionally, some offenses are assigned alternate locations than where they actually occured. (NYPD Complaints Incident Level Data Footnotes, items number 10 through 13, 15). This makes location resolution smaller than the precinct level less accurate.\n",
        "\n",
        "Too General\n",
        "*  `\"BORO_NM\"` (Borough) (DROP)\n",
        ">New York City has five boroughs. Each has a significantly large population density (four of which are greater than any other city in the country). Locating where events occur by borough is too broad, so I will drop the column. If for some reason the boroughs should become an important feature to include, then it can be added back in as each precinct is within a specific borough (there is the exception of Marble Hill).\n",
        "\n",
        "* `\"PATROL_BORO\"` (Patrol Borough) (DROP)\n",
        ">The patrol borough value  divides three of the boroughs into a north and south region. But otherwise, the size of these patrol boroughs are still too broad.\n",
        "\n",
        "Too Specific and Redundant\n",
        "\n",
        "* `\"Latitude\"` and `\"Longitude\"` (DROP)\n",
        "    > Geographical location given in the Global Coordinate System. If a smaller resolution than precinct should be needed, these coordinates can be used to help reconstruct the necessary information information. If doing so, it must be kept in mind that coordinates which are not relocated will be approximations to the nearest mid-block or street intersection. This falls in line with the NYPD Complaints Incident Level Data Footnotes, item 9, which states that trying to match locations to an exact address is not recommended.\n",
        "* `\"Lat_Lon\"` and `\"New Georeferenced Column\"` (DROP)\n",
        "    > The latitude and longitude coordinates given as an ordered pair. The new georeferenced column reverses the order of the latitude-longitude ordered pair. Because these ordered pairs contain the same information as the latitude and longitude, they provide no new information.\n",
        "* `\"X_COORD_CD\"` and `\"Y_COORD_CD\"` (DROP)\n",
        "    >  Geographical location given in the New York State Plane Coordinate System. These coordinates can be determined by transforming the latitude and longitude, so provide no new information."
      ],
      "metadata": {
        "id": "FEoOrvI8Oi94"
      }
    },
    {
      "cell_type": "code",
      "source": [
        "drop_columns(df,[\"BORO_NM\", \"PATROL_BORO\", \"X_COORD_CD\",\"Y_COORD_CD\",\"Latitude\",\"Longitude\",\"Lat_Lon\",\"New Georeferenced Column\"])"
      ],
      "metadata": {
        "colab": {
          "base_uri": "https://localhost:8080/"
        },
        "id": "fjasq6rxN2Rg",
        "outputId": "717b789c-fc41-431b-ab94-85c95ca3f2ea"
      },
      "execution_count": 398,
      "outputs": [
        {
          "output_type": "stream",
          "name": "stdout",
          "text": [
            "29 columns before the drop.\n",
            "21 columns after the drop.\n"
          ]
        }
      ]
    },
    {
      "cell_type": "markdown",
      "source": [
        "## 3 . 3 . Location Descriptions"
      ],
      "metadata": {
        "id": "moajxmImcszd"
      }
    },
    {
      "cell_type": "markdown",
      "source": [
        "These columns describe attributes about the locations where the complaint occurred.\n",
        "\n",
        "* `\"PREM_TYP_DESC\"` (Premise Type Description) (KEEP)\n",
        ">This describe the type of premise where the complaint occurred. The distribution of location types may be a factor in identifying areas more susceptible to crimes as there may be an association between the type of crime and the type of location.\n",
        ">\n",
        ">This is not a smaller resolution than the precinct, as for most values it doesn't identify where within a precinct an event occurs. (Some exceptions can be identified, but are not common. For example, if the value is `\"CEMETARY\"` and there is only one cemetary in the precinct if won't be difficult to geo-locate the crime.)\n",
        "\n",
        "* `\"LOC_OF_OCCUR_DESC\"` (DROP)\n",
        ">This describes the specific location on the premises the crime occured. Although important for an investigation, I don't believe this is particularly helpful for understanding the distribution of crime throughout the city.\n",
        " \n",
        "The values in each column are listed below.\n",
        "\n",
        "\n",
        "\n",
        "\n"
      ],
      "metadata": {
        "id": "XWUn1NogWCL_"
      }
    },
    {
      "cell_type": "code",
      "source": [
        "# for col in [\"PREM_TYP_DESC\",\"LOC_OF_OCCUR_DESC\"]:\n",
        "#     print(f\"{col:>17} : {df[col].nunique():>4} : {df[col].value_counts().index.to_list()}\\n\")\n",
        "\n",
        "show_column_values(df,[\"PREM_TYP_DESC\",\"LOC_OF_OCCUR_DESC\"])"
      ],
      "metadata": {
        "colab": {
          "base_uri": "https://localhost:8080/"
        },
        "id": "mFlDn6rVcWLr",
        "outputId": "1743cec8-cb82-4b06-a782-5f95103d5e2c"
      },
      "execution_count": 399,
      "outputs": [
        {
          "output_type": "stream",
          "name": "stdout",
          "text": [
            "     PREM_TYP_DESC :    74 : ['ABANDONED BUILDING', 'AIRPORT TERMINAL', 'ATM', 'BANK', 'BAR/NIGHT CLUB', 'BEAUTY & NAIL SALON', 'BOOK/CARD', 'BRIDGE', 'BUS (NYC TRANSIT)', 'BUS (OTHER)', 'BUS STOP', 'BUS TERMINAL', 'CANDY STORE', 'CEMETERY', 'CHAIN STORE', 'CHECK CASHING BUSINESS', 'CHURCH', 'CLOTHING/BOUTIQUE', 'COMMERCIAL BUILDING', 'CONSTRUCTION SITE', 'DAYCARE FACILITY', 'DEPARTMENT STORE', 'DOCTOR/DENTIST OFFICE', 'DRUG STORE', 'DRY CLEANER/LAUNDRY', 'FACTORY/WAREHOUSE', 'FAST FOOD', 'FERRY/FERRY TERMINAL', 'FOOD SUPERMARKET', 'GAS STATION', 'GROCERY/BODEGA', 'GYM/FITNESS FACILITY', 'HIGHWAY/PARKWAY', 'HOMELESS SHELTER', 'HOSPITAL', 'HOTEL/MOTEL', 'JEWELRY', 'LIQUOR STORE', 'LOAN COMPANY', 'MAILBOX INSIDE', 'MAILBOX OUTSIDE', 'MARINA/PIER', 'MOSQUE', 'OPEN AREAS (OPEN LOTS)', 'OTHER', 'OTHER HOUSE OF WORSHIP', 'PARK/PLAYGROUND', 'PARKING LOT/GARAGE (PRIVATE)', 'PARKING LOT/GARAGE (PUBLIC)', 'PHOTO/COPY', 'PRIVATE/PAROCHIAL SCHOOL', 'PUBLIC BUILDING', 'PUBLIC SCHOOL', 'RESIDENCE - APT. HOUSE', 'RESIDENCE - PUBLIC HOUSING', 'RESIDENCE-HOUSE', 'RESTAURANT/DINER', 'SHOE', 'SMALL MERCHANT', 'SOCIAL CLUB/POLICY', 'STORAGE FACILITY', 'STORE UNCLASSIFIED', 'STREET', 'SYNAGOGUE', 'TAXI (LIVERY LICENSED)', 'TAXI (YELLOW LICENSED)', 'TAXI/LIVERY (UNLICENSED)', 'TELECOMM. STORE', 'TRAMWAY', 'TRANSIT - NYC SUBWAY', 'TRANSIT FACILITY (OTHER)', 'TUNNEL', 'VARIETY STORE', 'VIDEO STORE']\n",
            "                   :  1269 : Rows Missing Data\n",
            "\n",
            " LOC_OF_OCCUR_DESC :     5 : ['FRONT OF', 'INSIDE', 'OPPOSITE OF', 'OUTSIDE', 'REAR OF']\n",
            "                   : 74262 : Rows Missing Data\n",
            "\n"
          ]
        }
      ]
    },
    {
      "cell_type": "markdown",
      "source": [
        "The values in `\"PREM_TYP_DESC\"` are clearly meant to distinguish different type of locations. Some are similar, and can potentially be merged into common categories if the need should arise (such as the mulitple type of residences).\n"
      ],
      "metadata": {
        "id": "LGw6xzOBco-D"
      }
    },
    {
      "cell_type": "code",
      "source": [
        "drop_columns(df,[\"LOC_OF_OCCUR_DESC\"])"
      ],
      "metadata": {
        "colab": {
          "base_uri": "https://localhost:8080/"
        },
        "id": "B2K58h1KhPP4",
        "outputId": "335aec8a-5efe-45e9-e4ec-a5a10c08a38d"
      },
      "execution_count": 400,
      "outputs": [
        {
          "output_type": "stream",
          "name": "stdout",
          "text": [
            "21 columns before the drop.\n",
            "20 columns after the drop.\n"
          ]
        }
      ]
    },
    {
      "cell_type": "markdown",
      "source": [
        "## 3 . 4 . Special Locations"
      ],
      "metadata": {
        "id": "54AFILIVh8VH"
      }
    },
    {
      "cell_type": "markdown",
      "source": [
        "There are a few columns that provide special location information.\n",
        "* `\"HADEVELOPT\"` (DROP)\n",
        "    > Name of a New York City Housing Authority Development, if applicable.\n",
        "* `\"PARKS_NM\"` (DROP)\n",
        "    >  Name of a New York City park, playground, or greenspace, if applicable.\n",
        "* `\"STATION_NAME\"` (DROP)\n",
        "    > Name of a Transit Station, if applicable.\n",
        "* `\"TRANSIT_DISTRICT\"` (DROP)\n",
        "    > Name of a Transit District, if applicable.\n",
        "\n",
        "Each of these features probably provides too much resolution or nuance for the purposes of this project. I can check that each of these columns is strongly associated with the corresponding descriptions from the `\"PREM_TYP_DESC\"` column.\n",
        "\n"
      ],
      "metadata": {
        "id": "GIsj08DNiEq4"
      }
    },
    {
      "cell_type": "code",
      "source": [
        "print(\"Greatest Premise Type Description for Each Special Location Type\")\n",
        "for col in [\"HADEVELOPT\",\"PARKS_NM\",\"STATION_NAME\",\"TRANSIT_DISTRICT\"]:\n",
        "    # print the most frequent of the premise types that has a value in the iterated column\n",
        "    print(f\"{col:>16} : {df.loc[ ~df[col].isna(), 'PREM_TYP_DESC'].value_counts().index.to_list()[0]}\")\n",
        "    # print the number of occurences for the mose frequent of the premise types and all premise types that have values in the iterated column\n",
        "    print(f\"{'':>16} : {df.loc[ ~df[col].isna(), 'PREM_TYP_DESC'].value_counts()[0]} out of {df.loc[ ~df[col].isna(), 'PREM_TYP_DESC'].value_counts().sum()} data entries\")\n",
        "    # print the percent of occurences for the most frequent of the premise types that has a value in the iterated column\n",
        "    print(f\"{'':>16} : {df.loc[ ~df[col].isna(), 'PREM_TYP_DESC'].value_counts()[0]/df.loc[ ~df[col].isna(), 'PREM_TYP_DESC'].value_counts().sum()*100:.2f}%\")"
      ],
      "metadata": {
        "colab": {
          "base_uri": "https://localhost:8080/"
        },
        "id": "t3Ms7NalmRYh",
        "outputId": "ec96c7f9-58ae-43ce-e75e-c1d7c20c6e23"
      },
      "execution_count": 401,
      "outputs": [
        {
          "output_type": "stream",
          "name": "stdout",
          "text": [
            "Greatest Premise Type Description for Each Special Location Type\n",
            "      HADEVELOPT : RESIDENCE - PUBLIC HOUSING\n",
            "                 : 1530 out of 1572 data entries\n",
            "                 : 97.33%\n",
            "        PARKS_NM : PARK/PLAYGROUND\n",
            "                 : 2682 out of 3192 data entries\n",
            "                 : 84.02%\n",
            "    STATION_NAME : TRANSIT - NYC SUBWAY\n",
            "                 : 8840 out of 8976 data entries\n",
            "                 : 98.48%\n",
            "TRANSIT_DISTRICT : TRANSIT - NYC SUBWAY\n",
            "                 : 8840 out of 8976 data entries\n",
            "                 : 98.48%\n"
          ]
        }
      ]
    },
    {
      "cell_type": "markdown",
      "source": [
        "The correspondence is overwhelming, so I will drop the special locations from the dataframe."
      ],
      "metadata": {
        "id": "vbIMFtCYsmQz"
      }
    },
    {
      "cell_type": "code",
      "source": [
        "drop_columns(df,[\"HADEVELOPT\",\"PARKS_NM\",\"STATION_NAME\",\"TRANSIT_DISTRICT\"])"
      ],
      "metadata": {
        "colab": {
          "base_uri": "https://localhost:8080/"
        },
        "id": "tayshcDds7L7",
        "outputId": "9862d623-57ce-4b6e-f899-738da5494297"
      },
      "execution_count": 402,
      "outputs": [
        {
          "output_type": "stream",
          "name": "stdout",
          "text": [
            "20 columns before the drop.\n",
            "16 columns after the drop.\n"
          ]
        }
      ]
    },
    {
      "cell_type": "markdown",
      "source": [
        "## 3 . 5 . Jurisdiction"
      ],
      "metadata": {
        "id": "ggHQAuwlrNfj"
      }
    },
    {
      "cell_type": "markdown",
      "source": [
        "The jurisdiction for that is responsible for managing the response to incident can belong to one of 18 different departments. As it is unlikely that a significant number of incidences are carried out based on which authority's jurisdiction it will happen, I will drop these columns.\n",
        "* `\"JURISDICTION_CODE\"` (DROP)\n",
        "    > Numerical designation for a jurisdiction.\n",
        "* `\"JURIS_DESC\"` (DROP)\n",
        "    > Description name for a jurisdiction.\n",
        "\n"
      ],
      "metadata": {
        "id": "ZP_uN1TfteUE"
      }
    },
    {
      "cell_type": "code",
      "source": [
        "drop_columns(df,[\"JURISDICTION_CODE\",\"JURIS_DESC\"])"
      ],
      "metadata": {
        "colab": {
          "base_uri": "https://localhost:8080/"
        },
        "id": "XKDtJ2kVwIFF",
        "outputId": "ad87eb76-dace-47e2-f1c8-098560a3997d"
      },
      "execution_count": 403,
      "outputs": [
        {
          "output_type": "stream",
          "name": "stdout",
          "text": [
            "16 columns before the drop.\n",
            "14 columns after the drop.\n"
          ]
        }
      ]
    },
    {
      "cell_type": "markdown",
      "source": [
        "## 3 . 6 . Offense Codes"
      ],
      "metadata": {
        "id": "4HQ4Vt3Bxbv9"
      }
    },
    {
      "cell_type": "markdown",
      "source": [
        "There are a few additional numerical codes that are used in this data set.\n",
        "\n",
        "* `\"OFNS_DESC\"` (DROP)\n",
        "    >Description of the offense. Types of crimes may be relevant, as differnt types will likely have different distributions throughout the city. This can be used as an alternate target if a more detailed analysis should be required. Otherwise, it should be dropped because each offense belongs only to one of the severity levels of the current target.\n",
        "\n",
        "* `\"PD_DESC\"` (DROP)\n",
        "    >These codes more greatly refine the encoding of the `\"OFNS_DESC\"` column, so would indicate extra information about specific crimes which goes beyond identifying general types of crime.\n",
        "\n",
        "* `\"KY_CD\"` (DROP)\n",
        "    >These are numerical codes corresponding to the descriptive values of the `\"OFNS_DESC\"` column. This is redundent information for this analysis.\n",
        "\n",
        "* `\"PD_CD\"` (DROP)\n",
        "    >These codes more greatly refine the encoding of the `\"KY_CD\"` column, so would indicate extra information about specific crimes which goes beyond identifying general types of crime.\n"
      ],
      "metadata": {
        "id": "rPsq1c2TxftX"
      }
    },
    {
      "cell_type": "code",
      "source": [
        "drop_columns(df,[\"OFNS_DESC\",\"PD_DESC\",\"KY_CD\",\"PD_CD\"])"
      ],
      "metadata": {
        "colab": {
          "base_uri": "https://localhost:8080/"
        },
        "id": "C45CC_v1H36G",
        "outputId": "68f8d128-91be-4da8-cb17-db9ec7db6e48"
      },
      "execution_count": 404,
      "outputs": [
        {
          "output_type": "stream",
          "name": "stdout",
          "text": [
            "14 columns before the drop.\n",
            "10 columns after the drop.\n"
          ]
        }
      ]
    },
    {
      "cell_type": "markdown",
      "source": [
        "## 3 . 7 . Crime Completion"
      ],
      "metadata": {
        "id": "lRPSWtLFfLoK"
      }
    },
    {
      "cell_type": "markdown",
      "source": [
        "* `\"CRM_ATPT_CPTD_CD\"` (DROP)\n",
        "    > Whether or not the crime was successfully completed or not doesn't alter the fact a crime was initiated."
      ],
      "metadata": {
        "id": "TunzWeH3fV7U"
      }
    },
    {
      "cell_type": "code",
      "source": [
        "drop_columns(df,[\"CRM_ATPT_CPTD_CD\"])"
      ],
      "metadata": {
        "colab": {
          "base_uri": "https://localhost:8080/"
        },
        "id": "109xRq7QgLgE",
        "outputId": "5d539807-5f81-455c-8967-370ce4a15df5"
      },
      "execution_count": 405,
      "outputs": [
        {
          "output_type": "stream",
          "name": "stdout",
          "text": [
            "10 columns before the drop.\n",
            "9 columns after the drop.\n"
          ]
        }
      ]
    },
    {
      "cell_type": "markdown",
      "source": [
        "## 3 . 8 . Additional Codes"
      ],
      "metadata": {
        "id": "M3l1T-cEj0Gk"
      }
    },
    {
      "cell_type": "markdown",
      "source": [
        "\n",
        "* `\"HOUSING_PSA\"` (DROP) \n",
        "    >I am assuming this column is related to the Police Service Areas. There are nine Police Service Areas (PSA) in New York City, which patrol housing developments within 31 different precincts. Since this column has 362 unique values, I am not sure what it represents. Since each PSA contains mulitiple precincts, they are individually larger than the resolution I will be examining. I can only guess the many values in this column narrow down the location to a resolution smaller than what I want.\n"
      ],
      "metadata": {
        "id": "5SFxtvcfj0fh"
      }
    },
    {
      "cell_type": "code",
      "source": [
        "drop_columns(df,[\"HOUSING_PSA\"])"
      ],
      "metadata": {
        "colab": {
          "base_uri": "https://localhost:8080/"
        },
        "id": "hudap5_BkHg-",
        "outputId": "1e9964d6-4791-4aad-eda2-cc8c18da3137"
      },
      "execution_count": 406,
      "outputs": [
        {
          "output_type": "stream",
          "name": "stdout",
          "text": [
            "9 columns before the drop.\n",
            "8 columns after the drop.\n"
          ]
        }
      ]
    },
    {
      "cell_type": "markdown",
      "source": [
        "## 3 . 9 . Time and Date\n",
        "\n",
        "* `\"CMPLNT_FR_DT\"` and `\"CMPLNT_FR_TM\"` (KEEP)\n",
        "    >When the event happens or begins is very relevant. All the data rows have these values present.\n",
        "* `\"CMPLNT_TO_DT\"` and `\"CMPLNT_TO_TM\"` (DROP)\n",
        "    >If present, these values indicate a time range when the crime occured. This column has many missing values as many crimes are known to happen at specific times. Since crime data is used to understand and to try to reduce crime, there is more value knowing when crimes are likely to begin rather than when they are likely to end. A crime can't be prevented if it has already happened.\n",
        "* `\"RPT_DT\"` (DROP)\n",
        "    > The date the crime was reported to the police does not alter when the crime actually occured."
      ],
      "metadata": {
        "id": "lLbW5ybYmeBl"
      }
    },
    {
      "cell_type": "code",
      "source": [
        "drop_columns(df,[\"CMPLNT_TO_DT\",\"CMPLNT_TO_TM\",\"RPT_DT\"])"
      ],
      "metadata": {
        "colab": {
          "base_uri": "https://localhost:8080/"
        },
        "id": "3NE8c8sdrcvY",
        "outputId": "cbf8ea9c-fec5-460d-e57a-bb45d0e1217e"
      },
      "execution_count": 407,
      "outputs": [
        {
          "output_type": "stream",
          "name": "stdout",
          "text": [
            "8 columns before the drop.\n",
            "5 columns after the drop.\n"
          ]
        }
      ]
    },
    {
      "cell_type": "markdown",
      "source": [
        "# 4 . Data Types and Consistency\n"
      ],
      "metadata": {
        "id": "18Iq7-8lsI2A"
      }
    },
    {
      "cell_type": "markdown",
      "source": [
        "Of the remaining columns, I will review the dataframe information."
      ],
      "metadata": {
        "id": "USsb6cFFx1cx"
      }
    },
    {
      "cell_type": "code",
      "source": [
        "df.info()"
      ],
      "metadata": {
        "colab": {
          "base_uri": "https://localhost:8080/"
        },
        "id": "uu4gWfujxtNb",
        "outputId": "b485436f-e337-44b6-f75d-63fa84a73fa5"
      },
      "execution_count": 408,
      "outputs": [
        {
          "output_type": "stream",
          "name": "stdout",
          "text": [
            "<class 'pandas.core.frame.DataFrame'>\n",
            "Int64Index: 449506 entries, 903695881 to 806537994\n",
            "Data columns (total 5 columns):\n",
            " #   Column         Non-Null Count   Dtype \n",
            "---  ------         --------------   ----- \n",
            " 0   ADDR_PCT_CD    449506 non-null  int64 \n",
            " 1   CMPLNT_FR_DT   449506 non-null  object\n",
            " 2   CMPLNT_FR_TM   449506 non-null  object\n",
            " 3   LAW_CAT_CD     449506 non-null  object\n",
            " 4   PREM_TYP_DESC  448236 non-null  object\n",
            "dtypes: int64(1), object(4)\n",
            "memory usage: 20.6+ MB\n"
          ]
        }
      ]
    },
    {
      "cell_type": "markdown",
      "source": [
        "## 4 . 1 . Date and Time Values"
      ],
      "metadata": {
        "id": "mvlar5THpZfX"
      }
    },
    {
      "cell_type": "markdown",
      "source": [
        "Here, the date and time columns are the object data type, but would probably be better served as the datetime datatype. However, I have encounted an error in trying to convert the string into datetime values, so I will need to examine the strings more carefully."
      ],
      "metadata": {
        "id": "KPZTuu2yx7Wx"
      }
    },
    {
      "cell_type": "code",
      "source": [
        "# Examine the month values\n",
        "display(df[\"CMPLNT_FR_DT\"].apply(lambda x: x[0:2]).value_counts().sort_index())"
      ],
      "metadata": {
        "colab": {
          "base_uri": "https://localhost:8080/",
          "height": 243
        },
        "id": "istGclaN5iS8",
        "outputId": "7ea1c3cd-c768-418d-b070-a2aef8d47a02"
      },
      "execution_count": 409,
      "outputs": [
        {
          "output_type": "display_data",
          "data": {
            "text/plain": [
              "01    33767\n",
              "02    28572\n",
              "03    34956\n",
              "04    32982\n",
              "05    36990\n",
              "06    37879\n",
              "07    39779\n",
              "08    39383\n",
              "09    40196\n",
              "10    43288\n",
              "11    41615\n",
              "12    40099\n",
              "Name: CMPLNT_FR_DT, dtype: int64"
            ]
          },
          "metadata": {}
        }
      ]
    },
    {
      "cell_type": "markdown",
      "source": [
        "All the month values are individually OK."
      ],
      "metadata": {
        "id": "LOLCELNZ9ft7"
      }
    },
    {
      "cell_type": "code",
      "source": [
        "# Examine the day values\n",
        "display(df[\"CMPLNT_FR_DT\"].apply(lambda x: x[3:5]).value_counts().sort_index())"
      ],
      "metadata": {
        "colab": {
          "base_uri": "https://localhost:8080/",
          "height": 573
        },
        "id": "nm3YlpUC6txk",
        "outputId": "020446fd-7d7f-4927-9355-63212912469e"
      },
      "execution_count": 410,
      "outputs": [
        {
          "output_type": "display_data",
          "data": {
            "text/plain": [
              "01    17941\n",
              "02    14340\n",
              "03    14349\n",
              "04    14589\n",
              "05    14877\n",
              "06    14604\n",
              "07    14440\n",
              "08    14357\n",
              "09    14441\n",
              "10    15047\n",
              "11    14703\n",
              "12    15011\n",
              "13    14925\n",
              "14    14741\n",
              "15    15713\n",
              "16    15145\n",
              "17    14989\n",
              "18    14373\n",
              "19    14618\n",
              "20    15261\n",
              "21    14915\n",
              "22    14592\n",
              "23    14648\n",
              "24    14695\n",
              "25    14483\n",
              "26    14510\n",
              "27    14435\n",
              "28    14207\n",
              "29    12944\n",
              "30    13552\n",
              "31     8061\n",
              "Name: CMPLNT_FR_DT, dtype: int64"
            ]
          },
          "metadata": {}
        }
      ]
    },
    {
      "cell_type": "markdown",
      "source": [
        "All the day values are individually OK. (The days 29, 30, and 31 might not work with some month combinations if those months do not have those days.)"
      ],
      "metadata": {
        "id": "UjfwpMEd9nDV"
      }
    },
    {
      "cell_type": "code",
      "source": [
        "# Examine the year values\n",
        "display(df[\"CMPLNT_FR_DT\"].apply(lambda x: x[6:]).value_counts().sort_index())"
      ],
      "metadata": {
        "colab": {
          "base_uri": "https://localhost:8080/",
          "height": 1000
        },
        "id": "03YYAc7A9Ul0",
        "outputId": "dfdc1407-91ec-4cc6-c8aa-4db9f21b60c2"
      },
      "execution_count": 411,
      "outputs": [
        {
          "output_type": "display_data",
          "data": {
            "text/plain": [
              "1019         1\n",
              "1021         7\n",
              "1920         1\n",
              "1921         8\n",
              "1955         1\n",
              "1958         1\n",
              "1960         1\n",
              "1966         1\n",
              "1967         1\n",
              "1969         1\n",
              "1970         1\n",
              "1971         7\n",
              "1972         1\n",
              "1973         1\n",
              "1976         2\n",
              "1977         1\n",
              "1978         1\n",
              "1979         3\n",
              "1980         1\n",
              "1981         4\n",
              "1982         2\n",
              "1983         3\n",
              "1984         5\n",
              "1985         1\n",
              "1986         3\n",
              "1987         4\n",
              "1988         5\n",
              "1989         5\n",
              "1990         5\n",
              "1991         3\n",
              "1992         1\n",
              "1993         4\n",
              "1994         5\n",
              "1995         8\n",
              "1996         4\n",
              "1997        11\n",
              "1998        10\n",
              "1999        10\n",
              "2000        18\n",
              "2001        29\n",
              "2002        14\n",
              "2003        16\n",
              "2004        13\n",
              "2005        16\n",
              "2006        23\n",
              "2007        32\n",
              "2008        38\n",
              "2009        40\n",
              "2010        46\n",
              "2011        61\n",
              "2012        99\n",
              "2013        94\n",
              "2014       111\n",
              "2015       116\n",
              "2016       175\n",
              "2017       244\n",
              "2018       335\n",
              "2019       898\n",
              "2020      7329\n",
              "2021    439625\n",
              "Name: CMPLNT_FR_DT, dtype: int64"
            ]
          },
          "metadata": {}
        }
      ]
    },
    {
      "cell_type": "markdown",
      "source": [
        "Well, one row has the year 1019 and seven rows have the year 1021. Those are certaintly wrong.\n",
        "\n",
        "Additionally, the number of reports for all years before 2021 are significantly fewer. So I will just drop all the rows with a year that isn't 2021."
      ],
      "metadata": {
        "id": "-9YwTQnK-Rjd"
      }
    },
    {
      "cell_type": "code",
      "source": [
        "display(df.shape)\n",
        "filter_2021 = df[\"CMPLNT_FR_DT\"].apply(lambda x: x[6:])==\"2021\"\n",
        "df = df.loc[filter_2021, :]\n",
        "display(df.shape)"
      ],
      "metadata": {
        "id": "O6o62MwY-0he",
        "colab": {
          "base_uri": "https://localhost:8080/",
          "height": 52
        },
        "outputId": "69dd79cd-e80b-4451-8753-cf57f4ce5ec5"
      },
      "execution_count": 412,
      "outputs": [
        {
          "output_type": "display_data",
          "data": {
            "text/plain": [
              "(449506, 5)"
            ]
          },
          "metadata": {}
        },
        {
          "output_type": "display_data",
          "data": {
            "text/plain": [
              "(439625, 5)"
            ]
          },
          "metadata": {}
        }
      ]
    },
    {
      "cell_type": "markdown",
      "source": [
        "Now that the unnecessary years (and invalid years) are gone, I can convert the strings to the datetime data type. Additionally, I will convert them to the day of the year (1 through 365)."
      ],
      "metadata": {
        "id": "mnaDijQ3_quw"
      }
    },
    {
      "cell_type": "code",
      "source": [
        "from datetime import datetime\n",
        "df[\"CMPLNT_FR_DT\"]=pd.to_datetime(df[\"CMPLNT_FR_DT\"])\n",
        "df[\"CMPLNT_FR_DT\"].apply(lambda x: x.timetuple().tm_yday)"
      ],
      "metadata": {
        "id": "0mw3li6x_Ts1"
      },
      "execution_count": 413,
      "outputs": []
    },
    {
      "cell_type": "markdown",
      "source": [
        "And the time can be converted to a datetime.time data type."
      ],
      "metadata": {
        "id": "wIBpZLcFj6hm"
      }
    },
    {
      "cell_type": "code",
      "source": [
        "# df[\"CMPLNT_FR_TM\"]=pd.to_datetime(df[\"CMPLNT_FR_TM\"]).dt.time"
      ],
      "metadata": {
        "id": "OipdArEih-rd"
      },
      "execution_count": 371,
      "outputs": []
    },
    {
      "cell_type": "markdown",
      "source": [
        "## 4 . 2 . Precinct Values"
      ],
      "metadata": {
        "id": "rTJ1YTm7pRU4"
      }
    },
    {
      "cell_type": "markdown",
      "source": [
        "Although the precinct values are \"numbers\", they are not numeric. Rather the values are nominal, so are going to continue to be treated as strings."
      ],
      "metadata": {
        "id": "EzsZzkHxpeTf"
      }
    },
    {
      "cell_type": "markdown",
      "source": [
        "## 4 . 3 . Law Category Code Value"
      ],
      "metadata": {
        "id": "fXJMHGYuqD2n"
      }
    },
    {
      "cell_type": "markdown",
      "source": [
        "The `\"LAW_CAT_CD\"` values are given as strings. However, they can be treated as ordinal values. This is because they can be ranked by severity, with violation being the lowest severity, and felony being the greatest severity."
      ],
      "metadata": {
        "id": "B-YPZ9W0qRrr"
      }
    },
    {
      "cell_type": "code",
      "source": [
        "df[\"LAW_CAT_CD\"]=df[\"LAW_CAT_CD\"].replace({\"VIOLATION\":0,\"MISDEMEANOR\":1,\"FELONY\":2})"
      ],
      "metadata": {
        "colab": {
          "base_uri": "https://localhost:8080/"
        },
        "id": "xzDP2azNiKXV",
        "outputId": "d4e7a6ff-f188-44be-91ff-8fdddcf1c12c"
      },
      "execution_count": 375,
      "outputs": [
        {
          "output_type": "execute_result",
          "data": {
            "text/plain": [
              "array([2, 1, 0])"
            ]
          },
          "metadata": {},
          "execution_count": 375
        }
      ]
    },
    {
      "cell_type": "markdown",
      "source": [
        "## 4 . 4 . Offense Description Values"
      ],
      "metadata": {
        "id": "eOs-nvp0rp05"
      }
    },
    {
      "cell_type": "markdown",
      "source": [
        "The offense description column is descriptive, thus nominal, so can remain as strings to be later One-Hot Encoded. Reviewing the output earlier, it can be seen that the values are consistently formated and uniquie for their meaning."
      ],
      "metadata": {
        "id": "48mNa_thrtxo"
      }
    },
    {
      "cell_type": "markdown",
      "source": [
        "# 5 . Univariate Visuals"
      ],
      "metadata": {
        "id": "5rLBrOe9tnG4"
      }
    },
    {
      "cell_type": "markdown",
      "source": [
        ""
      ],
      "metadata": {
        "id": "Xx6qAhRVumPR"
      }
    },
    {
      "cell_type": "code",
      "source": [
        "import matplotlib.pyplot as plt\n",
        "import seaborn as sns"
      ],
      "metadata": {
        "id": "uBYETiLB_4pC"
      },
      "execution_count": 376,
      "outputs": []
    },
    {
      "cell_type": "code",
      "source": [
        "df.info()"
      ],
      "metadata": {
        "colab": {
          "base_uri": "https://localhost:8080/"
        },
        "id": "Si1XJh8su_Np",
        "outputId": "ffd5036a-f22b-4bb6-f039-ac4caf217119"
      },
      "execution_count": 377,
      "outputs": [
        {
          "output_type": "stream",
          "name": "stdout",
          "text": [
            "<class 'pandas.core.frame.DataFrame'>\n",
            "Int64Index: 439625 entries, 903695881 to 366756177\n",
            "Data columns (total 5 columns):\n",
            " #   Column         Non-Null Count   Dtype         \n",
            "---  ------         --------------   -----         \n",
            " 0   ADDR_PCT_CD    439625 non-null  int64         \n",
            " 1   CMPLNT_FR_DT   439625 non-null  datetime64[ns]\n",
            " 2   CMPLNT_FR_TM   439625 non-null  object        \n",
            " 3   LAW_CAT_CD     439625 non-null  int64         \n",
            " 4   PREM_TYP_DESC  438418 non-null  object        \n",
            "dtypes: datetime64[ns](1), int64(2), object(2)\n",
            "memory usage: 20.1+ MB\n"
          ]
        }
      ]
    },
    {
      "cell_type": "markdown",
      "source": [
        "## 5 . 1 . Crime and Day"
      ],
      "metadata": {
        "id": "DDadkFVa0qlp"
      }
    },
    {
      "cell_type": "code",
      "source": [
        "# fig, axe = plt.subplots(ncols=1,nrows=1,figsize=(8,6),tight_layout=True)\n",
        "plt.figure(figsize=(8,4),tight_layout=True)\n",
        "axe = sns.histplot( x=df[\"CMPLNT_FR_DT\"],\\\n",
        "             edgecolor=\"black\",alpha=1)\n",
        "axe.set_title(\"Number of Crimes for Each Day of the Year\",fontsize=\"x-large\",pad=20)\n",
        "axe.set_xlabel(\"Day of the Year\",fontsize=\"large\",labelpad=10)\n",
        "axe.set_ylabel(\"Number of Crimes\",fontsize=\"large\",labelpad=10)\n",
        "axe.yaxis.grid(False);\n",
        "axe.tick_params(left=True)\n",
        "axe.tick_params(axis=\"x\",labelrotation=90)\n",
        "plt.show()"
      ],
      "metadata": {
        "colab": {
          "base_uri": "https://localhost:8080/",
          "height": 297
        },
        "id": "1yH4eOTdjHUO",
        "outputId": "30d8857f-db40-4db4-b84f-e3cf5983ee84"
      },
      "execution_count": 439,
      "outputs": [
        {
          "output_type": "display_data",
          "data": {
            "text/plain": [
              "<Figure size 576x288 with 1 Axes>"
            ],
            "image/png": "[encoded data removed]"
          },
          "metadata": {
            "needs_background": "light"
          }
        }
      ]
    },
    {
      "cell_type": "markdown",
      "source": [
        "## 5 . 3 . Heatmap"
      ],
      "metadata": {
        "id": "3MySK1XEzKns"
      }
    },
    {
      "cell_type": "markdown",
      "source": [
        "There is something wrong with my date and time data. I am expecting some information about them in the heatmap. Unfortunately, only the precinct values are being use. This makes a very useless heatmap."
      ],
      "metadata": {
        "id": "o38TjEdKz-8Z"
      }
    },
    {
      "cell_type": "code",
      "source": [
        "plt.figure(figsize=(2,2))\n",
        "corr = df.corr()\n",
        "heat_ax = sns.heatmap(corr,cmap='coolwarm', annot=True,square=True,center=0)\n",
        "\n",
        "heat_ax.set(title=\"Correlation Heatmap \\n \");\n",
        "heat_ax.xaxis.grid(True);"
      ],
      "metadata": {
        "colab": {
          "base_uri": "https://localhost:8080/",
          "height": 169
        },
        "id": "tCrK_hWfwWCp",
        "outputId": "5db08432-1d09-4ebc-d274-7a9163b1934e"
      },
      "execution_count": 441,
      "outputs": [
        {
          "output_type": "display_data",
          "data": {
            "text/plain": [
              "<Figure size 144x144 with 2 Axes>"
            ],
            "image/png": "[encoded data removed]"
          },
          "metadata": {
            "needs_background": "light"
          }
        }
      ]
    },
    {
      "cell_type": "markdown",
      "source": [
        ""
      ],
      "metadata": {
        "id": "bnRuciyU-04F"
      }
    },
    {
      "cell_type": "code",
      "source": [
        "for col in df.columns:\n",
        "    print(f\"{col:>17} : {df[col].nunique():>4} : {df[col].value_counts().index.to_list()}\")"
      ],
      "metadata": {
        "id": "x6WBqXeHeSxu",
        "colab": {
          "base_uri": "https://localhost:8080/"
        },
        "outputId": "1c8c0b10-2ba2-4580-be2c-a7a86ed1944b"
      },
      "execution_count": 374,
      "outputs": [
        {
          "output_type": "stream",
          "name": "stdout",
          "text": [
            "      ADDR_PCT_CD :   77 : [75, 43, 114, 47, 40, 44, 14, 46, 52, 109, 67, 73, 42, 115, 110, 48, 105, 103, 19, 113, 79, 18, 70, 120, 25, 104, 13, 1, 83, 32, 106, 71, 49, 62, 23, 108, 102, 60, 9, 90, 121, 45, 7, 33, 34, 28, 107, 77, 72, 6, 41, 61, 81, 84, 122, 101, 24, 50, 68, 63, 69, 30, 66, 20, 94, 112, 78, 10, 5, 88, 17, 111, 26, 100, 123, 76, 22]\n",
            "     CMPLNT_FR_DT :  365 : [Timestamp('2021-01-01 00:00:00'), Timestamp('2021-10-15 00:00:00'), Timestamp('2021-10-01 00:00:00'), Timestamp('2021-12-01 00:00:00'), Timestamp('2021-10-20 00:00:00'), Timestamp('2021-09-17 00:00:00'), Timestamp('2021-11-15 00:00:00'), Timestamp('2021-10-08 00:00:00'), Timestamp('2021-11-19 00:00:00'), Timestamp('2021-10-21 00:00:00'), Timestamp('2021-06-01 00:00:00'), Timestamp('2021-10-22 00:00:00'), Timestamp('2021-10-13 00:00:00'), Timestamp('2021-11-12 00:00:00'), Timestamp('2021-10-14 00:00:00'), Timestamp('2021-09-23 00:00:00'), Timestamp('2021-09-24 00:00:00'), Timestamp('2021-11-05 00:00:00'), Timestamp('2021-12-02 00:00:00'), Timestamp('2021-12-03 00:00:00'), Timestamp('2021-09-27 00:00:00'), Timestamp('2021-11-18 00:00:00'), Timestamp('2021-10-06 00:00:00'), Timestamp('2021-11-01 00:00:00'), Timestamp('2021-09-15 00:00:00'), Timestamp('2021-09-22 00:00:00'), Timestamp('2021-11-16 00:00:00'), Timestamp('2021-11-10 00:00:00'), Timestamp('2021-11-09 00:00:00'), Timestamp('2021-10-16 00:00:00'), Timestamp('2021-09-25 00:00:00'), Timestamp('2021-10-07 00:00:00'), Timestamp('2021-07-15 00:00:00'), Timestamp('2021-10-12 00:00:00'), Timestamp('2021-11-20 00:00:00'), Timestamp('2021-09-16 00:00:00'), Timestamp('2021-11-30 00:00:00'), Timestamp('2021-11-17 00:00:00'), Timestamp('2021-10-28 00:00:00'), Timestamp('2021-12-10 00:00:00'), Timestamp('2021-12-04 00:00:00'), Timestamp('2021-07-16 00:00:00'), Timestamp('2021-09-28 00:00:00'), Timestamp('2021-07-23 00:00:00'), Timestamp('2021-11-11 00:00:00'), Timestamp('2021-09-18 00:00:00'), Timestamp('2021-10-04 00:00:00'), Timestamp('2021-08-13 00:00:00'), Timestamp('2021-10-02 00:00:00'), Timestamp('2021-10-05 00:00:00'), Timestamp('2021-11-24 00:00:00'), Timestamp('2021-03-01 00:00:00'), Timestamp('2021-09-14 00:00:00'), Timestamp('2021-11-03 00:00:00'), Timestamp('2021-10-31 00:00:00'), Timestamp('2021-09-21 00:00:00'), Timestamp('2021-06-21 00:00:00'), Timestamp('2021-11-04 00:00:00'), Timestamp('2021-12-17 00:00:00'), Timestamp('2021-12-11 00:00:00'), Timestamp('2021-10-23 00:00:00'), Timestamp('2021-06-10 00:00:00'), Timestamp('2021-11-08 00:00:00'), Timestamp('2021-10-11 00:00:00'), Timestamp('2021-08-06 00:00:00'), Timestamp('2021-05-15 00:00:00'), Timestamp('2021-11-26 00:00:00'), Timestamp('2021-09-13 00:00:00'), Timestamp('2021-10-09 00:00:00'), Timestamp('2021-12-06 00:00:00'), Timestamp('2021-11-29 00:00:00'), Timestamp('2021-09-26 00:00:00'), Timestamp('2021-10-19 00:00:00'), Timestamp('2021-10-27 00:00:00'), Timestamp('2021-09-30 00:00:00'), Timestamp('2021-10-29 00:00:00'), Timestamp('2021-10-18 00:00:00'), Timestamp('2021-10-25 00:00:00'), Timestamp('2021-12-16 00:00:00'), Timestamp('2021-03-12 00:00:00'), Timestamp('2021-07-28 00:00:00'), Timestamp('2021-09-29 00:00:00'), Timestamp('2021-10-30 00:00:00'), Timestamp('2021-08-20 00:00:00'), Timestamp('2021-07-24 00:00:00'), Timestamp('2021-07-01 00:00:00'), Timestamp('2021-06-26 00:00:00'), Timestamp('2021-05-19 00:00:00'), Timestamp('2021-10-03 00:00:00'), Timestamp('2021-07-22 00:00:00'), Timestamp('2021-07-13 00:00:00'), Timestamp('2021-12-13 00:00:00'), Timestamp('2021-08-12 00:00:00'), Timestamp('2021-06-25 00:00:00'), Timestamp('2021-12-15 00:00:00'), Timestamp('2021-07-11 00:00:00'), Timestamp('2021-08-30 00:00:00'), Timestamp('2021-09-10 00:00:00'), Timestamp('2021-05-01 00:00:00'), Timestamp('2021-12-14 00:00:00'), Timestamp('2021-08-01 00:00:00'), Timestamp('2021-07-20 00:00:00'), Timestamp('2021-11-02 00:00:00'), Timestamp('2021-09-20 00:00:00'), Timestamp('2021-08-25 00:00:00'), Timestamp('2021-12-12 00:00:00'), Timestamp('2021-07-07 00:00:00'), Timestamp('2021-07-17 00:00:00'), Timestamp('2021-11-21 00:00:00'), Timestamp('2021-05-25 00:00:00'), Timestamp('2021-06-06 00:00:00'), Timestamp('2021-06-02 00:00:00'), Timestamp('2021-05-20 00:00:00'), Timestamp('2021-08-11 00:00:00'), Timestamp('2021-08-04 00:00:00'), Timestamp('2021-09-04 00:00:00'), Timestamp('2021-09-12 00:00:00'), Timestamp('2021-08-18 00:00:00'), Timestamp('2021-11-22 00:00:00'), Timestamp('2021-12-08 00:00:00'), Timestamp('2021-09-11 00:00:00'), Timestamp('2021-07-05 00:00:00'), Timestamp('2021-04-10 00:00:00'), Timestamp('2021-11-06 00:00:00'), Timestamp('2021-05-21 00:00:00'), Timestamp('2021-08-19 00:00:00'), Timestamp('2021-06-17 00:00:00'), Timestamp('2021-06-28 00:00:00'), Timestamp('2021-06-18 00:00:00'), Timestamp('2021-05-24 00:00:00'), Timestamp('2021-12-05 00:00:00'), Timestamp('2021-12-09 00:00:00'), Timestamp('2021-01-15 00:00:00'), Timestamp('2021-07-08 00:00:00'), Timestamp('2021-08-15 00:00:00'), Timestamp('2021-08-27 00:00:00'), Timestamp('2021-08-16 00:00:00'), Timestamp('2021-06-11 00:00:00'), Timestamp('2021-12-07 00:00:00'), Timestamp('2021-06-05 00:00:00'), Timestamp('2021-07-14 00:00:00'), Timestamp('2021-08-05 00:00:00'), Timestamp('2021-08-14 00:00:00'), Timestamp('2021-06-23 00:00:00'), Timestamp('2021-06-09 00:00:00'), Timestamp('2021-07-26 00:00:00'), Timestamp('2021-05-18 00:00:00'), Timestamp('2021-11-07 00:00:00'), Timestamp('2021-11-14 00:00:00'), Timestamp('2021-11-13 00:00:00'), Timestamp('2021-09-19 00:00:00'), Timestamp('2021-07-10 00:00:00'), Timestamp('2021-09-07 00:00:00'), Timestamp('2021-09-01 00:00:00'), Timestamp('2021-08-21 00:00:00'), Timestamp('2021-07-21 00:00:00'), Timestamp('2021-10-26 00:00:00'), Timestamp('2021-07-02 00:00:00'), Timestamp('2021-11-27 00:00:00'), Timestamp('2021-08-28 00:00:00'), Timestamp('2021-08-07 00:00:00'), Timestamp('2021-06-07 00:00:00'), Timestamp('2021-08-09 00:00:00'), Timestamp('2021-09-03 00:00:00'), Timestamp('2021-11-23 00:00:00'), Timestamp('2021-08-03 00:00:00'), Timestamp('2021-10-10 00:00:00'), Timestamp('2021-08-31 00:00:00'), Timestamp('2021-05-17 00:00:00'), Timestamp('2021-06-24 00:00:00'), Timestamp('2021-05-23 00:00:00'), Timestamp('2021-08-10 00:00:00'), Timestamp('2021-10-24 00:00:00'), Timestamp('2021-07-12 00:00:00'), Timestamp('2021-05-27 00:00:00'), Timestamp('2021-07-18 00:00:00'), Timestamp('2021-07-27 00:00:00'), Timestamp('2021-05-22 00:00:00'), Timestamp('2021-04-01 00:00:00'), Timestamp('2021-06-04 00:00:00'), Timestamp('2021-07-30 00:00:00'), Timestamp('2021-08-17 00:00:00'), Timestamp('2021-05-13 00:00:00'), Timestamp('2021-05-12 00:00:00'), Timestamp('2021-08-24 00:00:00'), Timestamp('2021-08-26 00:00:00'), Timestamp('2021-06-30 00:00:00'), Timestamp('2021-10-17 00:00:00'), Timestamp('2021-09-08 00:00:00'), Timestamp('2021-06-03 00:00:00'), Timestamp('2021-06-15 00:00:00'), Timestamp('2021-08-02 00:00:00'), Timestamp('2021-11-28 00:00:00'), Timestamp('2021-07-31 00:00:00'), Timestamp('2021-06-14 00:00:00'), Timestamp('2021-06-20 00:00:00'), Timestamp('2021-06-16 00:00:00'), Timestamp('2021-07-19 00:00:00'), Timestamp('2021-05-14 00:00:00'), Timestamp('2021-06-29 00:00:00'), Timestamp('2021-07-04 00:00:00'), Timestamp('2021-09-05 00:00:00'), Timestamp('2021-07-03 00:00:00'), Timestamp('2021-05-26 00:00:00'), Timestamp('2021-09-09 00:00:00'), Timestamp('2021-07-09 00:00:00'), Timestamp('2021-05-16 00:00:00'), Timestamp('2021-07-29 00:00:00'), Timestamp('2021-03-03 00:00:00'), Timestamp('2021-09-06 00:00:00'), Timestamp('2021-05-06 00:00:00'), Timestamp('2021-03-04 00:00:00'), Timestamp('2021-12-22 00:00:00'), Timestamp('2021-07-25 00:00:00'), Timestamp('2021-05-07 00:00:00'), Timestamp('2021-06-13 00:00:00'), Timestamp('2021-06-08 00:00:00'), Timestamp('2021-07-06 00:00:00'), Timestamp('2021-09-02 00:00:00'), Timestamp('2021-02-25 00:00:00'), Timestamp('2021-06-27 00:00:00'), Timestamp('2021-06-22 00:00:00'), Timestamp('2021-01-21 00:00:00'), Timestamp('2021-11-25 00:00:00'), Timestamp('2021-12-18 00:00:00'), Timestamp('2021-03-09 00:00:00'), Timestamp('2021-03-10 00:00:00'), Timestamp('2021-08-23 00:00:00'), Timestamp('2021-03-05 00:00:00'), Timestamp('2021-03-25 00:00:00'), Timestamp('2021-03-11 00:00:00'), Timestamp('2021-05-11 00:00:00'), Timestamp('2021-02-24 00:00:00'), Timestamp('2021-04-26 00:00:00'), Timestamp('2021-06-12 00:00:00'), Timestamp('2021-03-23 00:00:00'), Timestamp('2021-05-10 00:00:00'), Timestamp('2021-08-08 00:00:00'), Timestamp('2021-05-28 00:00:00'), Timestamp('2021-08-29 00:00:00'), Timestamp('2021-03-17 00:00:00'), Timestamp('2021-02-26 00:00:00'), Timestamp('2021-03-20 00:00:00'), Timestamp('2021-04-30 00:00:00'), Timestamp('2021-01-22 00:00:00'), Timestamp('2021-03-26 00:00:00'), Timestamp('2021-01-19 00:00:00'), Timestamp('2021-04-27 00:00:00'), Timestamp('2021-04-24 00:00:00'), Timestamp('2021-04-07 00:00:00'), Timestamp('2021-12-21 00:00:00'), Timestamp('2021-12-20 00:00:00'), Timestamp('2021-03-30 00:00:00'), Timestamp('2021-06-19 00:00:00'), Timestamp('2021-01-20 00:00:00'), Timestamp('2021-03-24 00:00:00'), Timestamp('2021-05-03 00:00:00'), Timestamp('2021-01-14 00:00:00'), Timestamp('2021-03-21 00:00:00'), Timestamp('2021-05-08 00:00:00'), Timestamp('2021-02-05 00:00:00'), Timestamp('2021-04-13 00:00:00'), Timestamp('2021-04-29 00:00:00'), Timestamp('2021-03-13 00:00:00'), Timestamp('2021-03-19 00:00:00'), Timestamp('2021-03-22 00:00:00'), Timestamp('2021-01-12 00:00:00'), Timestamp('2021-01-07 00:00:00'), Timestamp('2021-05-02 00:00:00'), Timestamp('2021-04-08 00:00:00'), Timestamp('2021-04-19 00:00:00'), Timestamp('2021-04-09 00:00:00'), Timestamp('2021-01-05 00:00:00'), Timestamp('2021-01-16 00:00:00'), Timestamp('2021-04-05 00:00:00'), Timestamp('2021-01-08 00:00:00'), Timestamp('2021-03-16 00:00:00'), Timestamp('2021-02-17 00:00:00'), Timestamp('2021-04-20 00:00:00'), Timestamp('2021-01-13 00:00:00'), Timestamp('2021-04-14 00:00:00'), Timestamp('2021-04-02 00:00:00'), Timestamp('2021-03-02 00:00:00'), Timestamp('2021-04-16 00:00:00'), Timestamp('2021-04-28 00:00:00'), Timestamp('2021-05-31 00:00:00'), Timestamp('2021-12-23 00:00:00'), Timestamp('2021-04-23 00:00:00'), Timestamp('2021-12-19 00:00:00'), Timestamp('2021-04-17 00:00:00'), Timestamp('2021-05-05 00:00:00'), Timestamp('2021-02-20 00:00:00'), Timestamp('2021-04-15 00:00:00'), Timestamp('2021-05-04 00:00:00'), Timestamp('2021-02-16 00:00:00'), Timestamp('2021-02-23 00:00:00'), Timestamp('2021-03-27 00:00:00'), Timestamp('2021-02-04 00:00:00'), Timestamp('2021-04-06 00:00:00'), Timestamp('2021-03-15 00:00:00'), Timestamp('2021-03-29 00:00:00'), Timestamp('2021-02-12 00:00:00'), Timestamp('2021-01-27 00:00:00'), Timestamp('2021-01-09 00:00:00'), Timestamp('2021-02-10 00:00:00'), Timestamp('2021-01-06 00:00:00'), Timestamp('2021-01-04 00:00:00'), Timestamp('2021-04-21 00:00:00'), Timestamp('2021-08-22 00:00:00'), Timestamp('2021-03-31 00:00:00'), Timestamp('2021-01-25 00:00:00'), Timestamp('2021-04-22 00:00:00'), Timestamp('2021-12-24 00:00:00'), Timestamp('2021-03-18 00:00:00'), Timestamp('2021-01-11 00:00:00'), Timestamp('2021-12-29 00:00:00'), Timestamp('2021-02-27 00:00:00'), Timestamp('2021-01-26 00:00:00'), Timestamp('2021-02-14 00:00:00'), Timestamp('2021-04-25 00:00:00'), Timestamp('2021-02-06 00:00:00'), Timestamp('2021-01-17 00:00:00'), Timestamp('2021-05-09 00:00:00'), Timestamp('2021-02-28 00:00:00'), Timestamp('2021-03-06 00:00:00'), Timestamp('2021-02-11 00:00:00'), Timestamp('2021-03-14 00:00:00'), Timestamp('2021-01-30 00:00:00'), Timestamp('2021-12-27 00:00:00'), Timestamp('2021-04-12 00:00:00'), Timestamp('2021-04-11 00:00:00'), Timestamp('2021-01-29 00:00:00'), Timestamp('2021-01-18 00:00:00'), Timestamp('2021-02-19 00:00:00'), Timestamp('2021-01-02 00:00:00'), Timestamp('2021-02-21 00:00:00'), Timestamp('2021-03-08 00:00:00'), Timestamp('2021-02-03 00:00:00'), Timestamp('2021-02-15 00:00:00'), Timestamp('2021-02-13 00:00:00'), Timestamp('2021-04-03 00:00:00'), Timestamp('2021-02-09 00:00:00'), Timestamp('2021-12-28 00:00:00'), Timestamp('2021-04-18 00:00:00'), Timestamp('2021-12-30 00:00:00'), Timestamp('2021-03-07 00:00:00'), Timestamp('2021-02-08 00:00:00'), Timestamp('2021-01-10 00:00:00'), Timestamp('2021-01-28 00:00:00'), Timestamp('2021-02-22 00:00:00'), Timestamp('2021-04-04 00:00:00'), Timestamp('2021-03-28 00:00:00'), Timestamp('2021-05-29 00:00:00'), Timestamp('2021-12-26 00:00:00'), Timestamp('2021-01-23 00:00:00'), Timestamp('2021-05-30 00:00:00'), Timestamp('2021-01-24 00:00:00'), Timestamp('2021-01-03 00:00:00'), Timestamp('2021-02-07 00:00:00'), Timestamp('2021-01-31 00:00:00'), Timestamp('2021-02-18 00:00:00'), Timestamp('2021-12-25 00:00:00'), Timestamp('2021-12-31 00:00:00'), Timestamp('2021-02-02 00:00:00'), Timestamp('2021-02-01 00:00:00')]\n",
            "     CMPLNT_FR_TM : 1440 : [datetime.time(12, 0), datetime.time(15, 0), datetime.time(18, 0), datetime.time(17, 0), datetime.time(16, 0), datetime.time(20, 0), datetime.time(19, 0), datetime.time(14, 0), datetime.time(13, 0), datetime.time(10, 0), datetime.time(22, 0), datetime.time(21, 0), datetime.time(9, 0), datetime.time(8, 0), datetime.time(11, 0), datetime.time(23, 0), datetime.time(0, 0), datetime.time(1, 0), datetime.time(16, 30), datetime.time(17, 30), datetime.time(15, 30), datetime.time(0, 1), datetime.time(18, 30), datetime.time(19, 30), datetime.time(14, 30), datetime.time(7, 0), datetime.time(20, 30), datetime.time(2, 0), datetime.time(21, 30), datetime.time(13, 30), datetime.time(12, 30), datetime.time(22, 30), datetime.time(3, 0), datetime.time(11, 30), datetime.time(10, 30), datetime.time(23, 30), datetime.time(9, 30), datetime.time(4, 0), datetime.time(6, 0), datetime.time(8, 30), datetime.time(0, 30), datetime.time(5, 0), datetime.time(1, 30), datetime.time(7, 30), datetime.time(2, 30), datetime.time(16, 40), datetime.time(16, 20), datetime.time(16, 50), datetime.time(15, 50), datetime.time(14, 20), datetime.time(18, 20), datetime.time(17, 20), datetime.time(19, 50), datetime.time(18, 50), datetime.time(18, 40), datetime.time(15, 40), datetime.time(17, 40), datetime.time(15, 20), datetime.time(19, 20), datetime.time(14, 50), datetime.time(19, 40), datetime.time(17, 50), datetime.time(3, 30), datetime.time(17, 15), datetime.time(16, 45), datetime.time(14, 40), datetime.time(20, 20), datetime.time(18, 15), datetime.time(17, 45), datetime.time(13, 50), datetime.time(16, 15), datetime.time(20, 50), datetime.time(13, 40), datetime.time(15, 45), datetime.time(6, 30), datetime.time(18, 45), datetime.time(12, 50), datetime.time(21, 50), datetime.time(19, 45), datetime.time(13, 20), datetime.time(17, 10), datetime.time(21, 20), datetime.time(19, 15), datetime.time(11, 50), datetime.time(20, 40), datetime.time(14, 15), datetime.time(12, 40), datetime.time(12, 45), datetime.time(15, 15), datetime.time(20, 15), datetime.time(14, 45), datetime.time(21, 40), datetime.time(4, 30), datetime.time(12, 20), datetime.time(20, 45), datetime.time(5, 30), datetime.time(18, 10), datetime.time(13, 15), datetime.time(13, 45), datetime.time(16, 10), datetime.time(19, 10), datetime.time(11, 20), datetime.time(21, 15), datetime.time(11, 40), datetime.time(22, 20), datetime.time(12, 15), datetime.time(22, 50), datetime.time(21, 45), datetime.time(22, 40), datetime.time(20, 10), datetime.time(10, 50), datetime.time(11, 45), datetime.time(11, 15), datetime.time(23, 50), datetime.time(13, 10), datetime.time(10, 45), datetime.time(15, 10), datetime.time(21, 10), datetime.time(14, 10), datetime.time(23, 40), datetime.time(22, 10), datetime.time(10, 20), datetime.time(23, 20), datetime.time(0, 20), datetime.time(10, 40), datetime.time(1, 20), datetime.time(22, 15), datetime.time(9, 50), datetime.time(9, 20), datetime.time(10, 15), datetime.time(0, 15), datetime.time(22, 45), datetime.time(23, 45), datetime.time(9, 40), datetime.time(8, 50), datetime.time(9, 45), datetime.time(23, 15), datetime.time(0, 5), datetime.time(12, 10), datetime.time(16, 25), datetime.time(11, 10), datetime.time(0, 10), datetime.time(9, 15), datetime.time(17, 25), datetime.time(1, 40), datetime.time(0, 50), datetime.time(8, 40), datetime.time(23, 10), datetime.time(18, 25), datetime.time(19, 25), datetime.time(8, 45), datetime.time(8, 20), datetime.time(1, 50), datetime.time(20, 25), datetime.time(17, 35), datetime.time(8, 15), datetime.time(0, 40), datetime.time(16, 55), datetime.time(1, 10), datetime.time(15, 25), datetime.time(0, 45), datetime.time(14, 25), datetime.time(1, 15), datetime.time(2, 20), datetime.time(18, 35), datetime.time(17, 55), datetime.time(15, 55), datetime.time(16, 35), datetime.time(21, 25), datetime.time(20, 35), datetime.time(18, 55), datetime.time(7, 50), datetime.time(13, 25), datetime.time(19, 35), datetime.time(1, 45), datetime.time(15, 35), datetime.time(2, 50), datetime.time(16, 5), datetime.time(11, 25), datetime.time(17, 5), datetime.time(2, 40), datetime.time(8, 10), datetime.time(3, 50), datetime.time(7, 45), datetime.time(14, 55), datetime.time(3, 20), datetime.time(20, 55), datetime.time(9, 10), datetime.time(10, 10), datetime.time(19, 55), datetime.time(19, 5), datetime.time(13, 55), datetime.time(7, 40), datetime.time(2, 15), datetime.time(3, 40), datetime.time(2, 45), datetime.time(18, 5), datetime.time(13, 35), datetime.time(22, 25), datetime.time(12, 55), datetime.time(20, 5), datetime.time(7, 20), datetime.time(15, 5), datetime.time(14, 35), datetime.time(2, 10), datetime.time(12, 25), datetime.time(21, 35), datetime.time(12, 35), datetime.time(10, 25), datetime.time(13, 5), datetime.time(11, 55), datetime.time(12, 5), datetime.time(23, 35), datetime.time(4, 20), datetime.time(21, 5), datetime.time(3, 15), datetime.time(11, 35), datetime.time(7, 15), datetime.time(10, 55), datetime.time(22, 35), datetime.time(14, 5), datetime.time(4, 50), datetime.time(3, 45), datetime.time(23, 55), datetime.time(21, 55), datetime.time(23, 25), datetime.time(3, 10), datetime.time(0, 25), datetime.time(4, 40), datetime.time(22, 5), datetime.time(6, 50), datetime.time(0, 35), datetime.time(6, 20), datetime.time(5, 20), datetime.time(1, 25), datetime.time(11, 5), datetime.time(5, 50), datetime.time(6, 45), datetime.time(10, 35), datetime.time(9, 55), datetime.time(9, 25), datetime.time(4, 45), datetime.time(4, 15), datetime.time(23, 5), datetime.time(22, 55), datetime.time(7, 10), datetime.time(1, 5), datetime.time(5, 40), datetime.time(9, 35), datetime.time(0, 55), datetime.time(4, 10), datetime.time(8, 25), datetime.time(6, 40), datetime.time(6, 15), datetime.time(1, 35), datetime.time(8, 55), datetime.time(8, 35), datetime.time(2, 25), datetime.time(2, 35), datetime.time(9, 5), datetime.time(8, 5), datetime.time(5, 15), datetime.time(1, 55), datetime.time(10, 5), datetime.time(5, 45), datetime.time(2, 5), datetime.time(7, 55), datetime.time(6, 10), datetime.time(3, 25), datetime.time(2, 55), datetime.time(5, 10), datetime.time(3, 5), datetime.time(7, 25), datetime.time(3, 35), datetime.time(3, 55), datetime.time(7, 35), datetime.time(4, 25), datetime.time(7, 5), datetime.time(6, 5), datetime.time(4, 5), datetime.time(4, 35), datetime.time(6, 25), datetime.time(5, 55), datetime.time(5, 25), datetime.time(18, 48), datetime.time(15, 38), datetime.time(4, 55), datetime.time(16, 28), datetime.time(11, 58), datetime.time(6, 55), datetime.time(16, 48), datetime.time(16, 18), datetime.time(6, 35), datetime.time(19, 28), datetime.time(13, 28), datetime.time(17, 18), datetime.time(14, 28), datetime.time(5, 5), datetime.time(19, 8), datetime.time(18, 18), datetime.time(14, 48), datetime.time(16, 22), datetime.time(18, 13), datetime.time(16, 58), datetime.time(13, 58), datetime.time(18, 28), datetime.time(15, 48), datetime.time(16, 38), datetime.time(5, 35), datetime.time(20, 18), datetime.time(23, 59), datetime.time(16, 8), datetime.time(17, 38), datetime.time(17, 43), datetime.time(16, 52), datetime.time(17, 28), datetime.time(18, 23), datetime.time(15, 18), datetime.time(17, 19), datetime.time(15, 57), datetime.time(19, 18), datetime.time(12, 48), datetime.time(13, 23), datetime.time(18, 22), datetime.time(17, 48), datetime.time(14, 43), datetime.time(18, 8), datetime.time(16, 12), datetime.time(18, 58), datetime.time(20, 38), datetime.time(15, 43), datetime.time(15, 28), datetime.time(17, 24), datetime.time(14, 8), datetime.time(14, 18), datetime.time(12, 28), datetime.time(15, 8), datetime.time(17, 58), datetime.time(17, 13), datetime.time(19, 17), datetime.time(14, 38), datetime.time(14, 58), datetime.time(12, 43), datetime.time(11, 47), datetime.time(12, 18), datetime.time(16, 27), datetime.time(17, 8), datetime.time(13, 18), datetime.time(15, 13), datetime.time(20, 8), datetime.time(17, 47), datetime.time(11, 38), datetime.time(16, 46), datetime.time(18, 12), datetime.time(12, 12), datetime.time(20, 23), datetime.time(19, 58), datetime.time(13, 38), datetime.time(16, 4), datetime.time(18, 39), datetime.time(18, 42), datetime.time(19, 14), datetime.time(18, 43), datetime.time(17, 12), datetime.time(16, 53), datetime.time(21, 48), datetime.time(19, 23), datetime.time(13, 39), datetime.time(10, 48), datetime.time(12, 24), datetime.time(13, 48), datetime.time(21, 38), datetime.time(15, 58), datetime.time(21, 18), datetime.time(12, 58), datetime.time(11, 22), datetime.time(13, 8), datetime.time(17, 36), datetime.time(16, 37), datetime.time(18, 57), datetime.time(14, 13), datetime.time(20, 21), datetime.time(16, 56), datetime.time(21, 8), datetime.time(11, 8), datetime.time(20, 53), datetime.time(16, 23), datetime.time(18, 3), datetime.time(18, 38), datetime.time(15, 1), datetime.time(17, 17), datetime.time(16, 32), datetime.time(12, 44), datetime.time(16, 29), datetime.time(19, 48), datetime.time(11, 52), datetime.time(14, 14), datetime.time(17, 23), datetime.time(17, 26), datetime.time(15, 47), datetime.time(20, 12), datetime.time(20, 17), datetime.time(17, 22), datetime.time(12, 37), datetime.time(12, 27), datetime.time(13, 27), datetime.time(17, 4), datetime.time(15, 42), datetime.time(14, 19), datetime.time(13, 47), datetime.time(14, 54), datetime.time(16, 24), datetime.time(11, 53), datetime.time(11, 26), datetime.time(11, 28), datetime.time(13, 19), datetime.time(16, 42), datetime.time(14, 42), datetime.time(11, 48), datetime.time(13, 12), datetime.time(10, 28), datetime.time(14, 12), datetime.time(11, 42), datetime.time(20, 24), datetime.time(12, 38), datetime.time(18, 7), datetime.time(16, 36), datetime.time(15, 37), datetime.time(13, 17), datetime.time(14, 23), datetime.time(18, 24), datetime.time(12, 8), datetime.time(17, 27), datetime.time(13, 44), datetime.time(16, 43), datetime.time(15, 39), datetime.time(18, 26), datetime.time(15, 36), datetime.time(16, 47), datetime.time(13, 13), datetime.time(18, 17), datetime.time(20, 13), datetime.time(18, 21), datetime.time(17, 14), datetime.time(12, 23), datetime.time(18, 53), datetime.time(14, 37), datetime.time(17, 44), datetime.time(11, 7), datetime.time(17, 34), datetime.time(18, 44), datetime.time(21, 22), datetime.time(16, 14), datetime.time(16, 3), datetime.time(12, 14), datetime.time(14, 7), datetime.time(20, 48), datetime.time(17, 9), datetime.time(13, 22), datetime.time(16, 19), datetime.time(17, 42), datetime.time(19, 38), datetime.time(13, 43), datetime.time(20, 54), datetime.time(12, 49), datetime.time(16, 16), datetime.time(14, 52), datetime.time(19, 29), datetime.time(11, 23), datetime.time(13, 36), datetime.time(19, 7), datetime.time(13, 7), datetime.time(19, 16), datetime.time(11, 24), datetime.time(18, 14), datetime.time(20, 58), datetime.time(20, 28), datetime.time(13, 34), datetime.time(12, 53), datetime.time(20, 4), datetime.time(18, 6), datetime.time(11, 18), datetime.time(17, 2), datetime.time(14, 22), datetime.time(14, 24), datetime.time(15, 12), datetime.time(10, 12), datetime.time(13, 9), datetime.time(19, 43), datetime.time(19, 34), datetime.time(19, 42), datetime.time(16, 13), datetime.time(19, 12), datetime.time(19, 21), datetime.time(16, 49), datetime.time(12, 52), datetime.time(20, 14), datetime.time(16, 7), datetime.time(20, 43), datetime.time(17, 3), datetime.time(21, 17), datetime.time(12, 22), datetime.time(12, 57), datetime.time(15, 32), datetime.time(11, 9), datetime.time(17, 52), datetime.time(14, 17), datetime.time(16, 21), datetime.time(10, 8), datetime.time(12, 26), datetime.time(15, 24), datetime.time(15, 49), datetime.time(12, 7), datetime.time(18, 16), datetime.time(14, 56), datetime.time(10, 13), datetime.time(16, 17), datetime.time(15, 56), datetime.time(13, 53), datetime.time(13, 14), datetime.time(12, 17), datetime.time(13, 52), datetime.time(14, 57), datetime.time(17, 37), datetime.time(20, 22), datetime.time(19, 13), datetime.time(14, 46), datetime.time(14, 16), datetime.time(16, 34), datetime.time(19, 54), datetime.time(13, 57), datetime.time(10, 43), datetime.time(19, 27), datetime.time(17, 53), datetime.time(21, 27), datetime.time(10, 38), datetime.time(15, 53), datetime.time(11, 13), datetime.time(16, 57), datetime.time(10, 58), datetime.time(11, 41), datetime.time(15, 29), datetime.time(18, 52), datetime.time(16, 11), datetime.time(21, 9), datetime.time(17, 6), datetime.time(19, 6), datetime.time(19, 36), datetime.time(17, 11), datetime.time(12, 39), datetime.time(17, 54), datetime.time(16, 33), datetime.time(12, 47), datetime.time(17, 46), datetime.time(18, 19), datetime.time(13, 24), datetime.time(18, 47), datetime.time(18, 34), datetime.time(17, 41), datetime.time(10, 44), datetime.time(15, 54), datetime.time(20, 37), datetime.time(10, 53), datetime.time(20, 6), datetime.time(11, 12), datetime.time(11, 6), datetime.time(14, 3), datetime.time(20, 16), datetime.time(14, 53), datetime.time(16, 54), datetime.time(20, 39), datetime.time(17, 49), datetime.time(19, 52), datetime.time(11, 36), datetime.time(11, 27), datetime.time(12, 4), datetime.time(19, 26), datetime.time(19, 9), datetime.time(17, 32), datetime.time(21, 28), datetime.time(13, 41), datetime.time(11, 43), datetime.time(11, 54), datetime.time(12, 1), datetime.time(18, 54), datetime.time(18, 56), datetime.time(16, 26), datetime.time(15, 17), datetime.time(18, 4), datetime.time(19, 32), datetime.time(19, 49), datetime.time(18, 37), datetime.time(15, 34), datetime.time(15, 26), datetime.time(19, 37), datetime.time(21, 7), datetime.time(16, 51), datetime.time(21, 24), datetime.time(12, 41), datetime.time(0, 18), datetime.time(14, 11), datetime.time(18, 49), datetime.time(10, 18), datetime.time(12, 46), datetime.time(15, 46), datetime.time(15, 11), datetime.time(14, 27), datetime.time(12, 36), datetime.time(21, 19), datetime.time(0, 8), datetime.time(16, 39), datetime.time(13, 54), datetime.time(17, 29), datetime.time(20, 33), datetime.time(17, 16), datetime.time(20, 44), datetime.time(13, 33), datetime.time(21, 12), datetime.time(21, 44), datetime.time(21, 36), datetime.time(9, 47), datetime.time(17, 56), datetime.time(20, 2), datetime.time(16, 6), datetime.time(16, 2), datetime.time(19, 22), datetime.time(15, 44), datetime.time(20, 42), datetime.time(20, 52), datetime.time(13, 6), datetime.time(18, 2), datetime.time(15, 33), datetime.time(21, 13), datetime.time(13, 32), datetime.time(16, 44), datetime.time(14, 34), datetime.time(13, 49), datetime.time(11, 14), datetime.time(13, 21), datetime.time(15, 2), datetime.time(13, 4), datetime.time(21, 41), datetime.time(19, 19), datetime.time(11, 29), datetime.time(12, 13), datetime.time(19, 33), datetime.time(14, 29), datetime.time(20, 49), datetime.time(15, 3), datetime.time(17, 21), datetime.time(17, 7), datetime.time(14, 2), datetime.time(21, 14), datetime.time(18, 46), datetime.time(17, 33), datetime.time(18, 27), datetime.time(12, 33), datetime.time(11, 56), datetime.time(0, 2), datetime.time(17, 57), datetime.time(13, 42), datetime.time(11, 32), datetime.time(12, 16), datetime.time(14, 32), datetime.time(10, 22), datetime.time(22, 12), datetime.time(10, 52), datetime.time(18, 9), datetime.time(17, 39), datetime.time(13, 16), datetime.time(14, 26), datetime.time(22, 18), datetime.time(12, 42), datetime.time(14, 44), datetime.time(13, 37), datetime.time(20, 29), datetime.time(14, 21), datetime.time(12, 56), datetime.time(11, 19), datetime.time(10, 17), datetime.time(23, 53), datetime.time(12, 6), datetime.time(20, 3), datetime.time(18, 29), datetime.time(12, 21), datetime.time(18, 32), datetime.time(14, 4), datetime.time(12, 3), datetime.time(12, 19), datetime.time(12, 59), datetime.time(15, 22), datetime.time(19, 2), datetime.time(13, 51), datetime.time(14, 49), datetime.time(14, 36), datetime.time(19, 24), datetime.time(15, 27), datetime.time(19, 39), datetime.time(14, 9), datetime.time(15, 52), datetime.time(15, 14), datetime.time(9, 12), datetime.time(12, 54), datetime.time(10, 56), datetime.time(11, 46), datetime.time(18, 11), datetime.time(20, 56), datetime.time(11, 17), datetime.time(12, 51), datetime.time(18, 36), datetime.time(12, 34), datetime.time(0, 43), datetime.time(9, 48), datetime.time(21, 52), datetime.time(21, 43), datetime.time(20, 32), datetime.time(19, 3), datetime.time(13, 31), datetime.time(14, 47), datetime.time(11, 44), datetime.time(10, 14), datetime.time(13, 11), datetime.time(11, 39), datetime.time(20, 36), datetime.time(10, 27), datetime.time(22, 8), datetime.time(14, 51), datetime.time(21, 34), datetime.time(9, 52), datetime.time(16, 41), datetime.time(0, 38), datetime.time(23, 38), datetime.time(13, 2), datetime.time(14, 33), datetime.time(13, 29), datetime.time(15, 19), datetime.time(15, 21), datetime.time(18, 33), datetime.time(19, 4), datetime.time(19, 47), datetime.time(15, 51), datetime.time(11, 57), datetime.time(11, 37), datetime.time(20, 26), datetime.time(19, 11), datetime.time(9, 18), datetime.time(22, 17), datetime.time(12, 29), datetime.time(10, 57), datetime.time(21, 53), datetime.time(13, 46), datetime.time(22, 28), datetime.time(20, 57), datetime.time(21, 29), datetime.time(10, 36), datetime.time(10, 19), datetime.time(21, 47), datetime.time(22, 23), datetime.time(13, 59), datetime.time(13, 26), datetime.time(20, 11), datetime.time(15, 31), datetime.time(10, 24), datetime.time(9, 58), datetime.time(13, 56), datetime.time(21, 58), datetime.time(12, 11), datetime.time(15, 23), datetime.time(15, 41), datetime.time(22, 58), datetime.time(20, 51), datetime.time(15, 16), datetime.time(19, 56), datetime.time(22, 32), datetime.time(23, 23), datetime.time(21, 23), datetime.time(14, 6), datetime.time(9, 23), datetime.time(10, 7), datetime.time(10, 47), datetime.time(21, 16), datetime.time(12, 2), datetime.time(11, 2), datetime.time(15, 59), datetime.time(14, 39), datetime.time(16, 1), datetime.time(20, 9), datetime.time(19, 44), datetime.time(20, 34), datetime.time(10, 54), datetime.time(18, 1), datetime.time(11, 34), datetime.time(21, 26), datetime.time(12, 9), datetime.time(16, 59), datetime.time(11, 59), datetime.time(10, 32), datetime.time(16, 31), datetime.time(10, 11), datetime.time(19, 1), datetime.time(10, 39), datetime.time(20, 7), datetime.time(11, 51), datetime.time(9, 8), datetime.time(21, 56), datetime.time(19, 46), datetime.time(22, 16), datetime.time(21, 42), datetime.time(22, 19), datetime.time(22, 43), datetime.time(20, 27), datetime.time(11, 4), datetime.time(14, 41), datetime.time(10, 26), datetime.time(18, 51), datetime.time(13, 3), datetime.time(10, 49), datetime.time(11, 49), datetime.time(17, 31), datetime.time(16, 9), datetime.time(19, 57), datetime.time(11, 3), datetime.time(12, 31), datetime.time(15, 7), datetime.time(19, 53), datetime.time(13, 1), datetime.time(21, 32), datetime.time(23, 18), datetime.time(15, 6), datetime.time(1, 18), datetime.time(11, 16), datetime.time(22, 52), datetime.time(10, 34), datetime.time(22, 14), datetime.time(23, 27), datetime.time(10, 6), datetime.time(18, 41), datetime.time(10, 33), datetime.time(20, 46), datetime.time(23, 43), datetime.time(19, 41), datetime.time(9, 28), datetime.time(15, 9), datetime.time(10, 59), datetime.time(12, 32), datetime.time(21, 4), datetime.time(0, 6), datetime.time(20, 59), datetime.time(23, 48), datetime.time(11, 33), datetime.time(10, 42), datetime.time(14, 59), datetime.time(9, 34), datetime.time(22, 13), datetime.time(21, 3), datetime.time(23, 58), datetime.time(1, 48), datetime.time(8, 44), datetime.time(22, 9), datetime.time(17, 51), datetime.time(21, 46), datetime.time(8, 38), datetime.time(22, 22), datetime.time(22, 7), datetime.time(1, 8), datetime.time(10, 37), datetime.time(23, 49), datetime.time(10, 3), datetime.time(9, 42), datetime.time(10, 46), datetime.time(0, 12), datetime.time(23, 47), datetime.time(0, 22), datetime.time(21, 49), datetime.time(0, 4), datetime.time(22, 48), datetime.time(20, 41), datetime.time(23, 17), datetime.time(21, 37), datetime.time(1, 27), datetime.time(21, 2), datetime.time(22, 6), datetime.time(15, 4), datetime.time(9, 24), datetime.time(17, 59), datetime.time(22, 39), datetime.time(0, 48), datetime.time(22, 3), datetime.time(19, 59), datetime.time(22, 38), datetime.time(0, 3), datetime.time(9, 44), datetime.time(8, 53), datetime.time(10, 29), datetime.time(23, 37), datetime.time(20, 19), datetime.time(9, 27), datetime.time(1, 42), datetime.time(0, 14), datetime.time(9, 22), datetime.time(22, 44), datetime.time(8, 47), datetime.time(11, 1), datetime.time(17, 1), datetime.time(23, 14), datetime.time(1, 12), datetime.time(20, 1), datetime.time(10, 16), datetime.time(9, 38), datetime.time(0, 24), datetime.time(22, 26), datetime.time(23, 26), datetime.time(9, 36), datetime.time(10, 51), datetime.time(21, 57), datetime.time(22, 42), datetime.time(21, 6), datetime.time(21, 59), datetime.time(9, 56), datetime.time(0, 17), datetime.time(22, 53), datetime.time(14, 1), datetime.time(23, 33), datetime.time(23, 6), datetime.time(23, 8), datetime.time(21, 33), datetime.time(21, 21), datetime.time(10, 4), datetime.time(0, 58), datetime.time(14, 31), datetime.time(0, 54), datetime.time(22, 47), datetime.time(0, 16), datetime.time(0, 37), datetime.time(10, 23), datetime.time(23, 3), datetime.time(22, 49), datetime.time(21, 11), datetime.time(1, 37), datetime.time(23, 42), datetime.time(23, 36), datetime.time(1, 23), datetime.time(23, 12), datetime.time(10, 9), datetime.time(21, 39), datetime.time(22, 21), datetime.time(0, 53), datetime.time(9, 57), datetime.time(11, 11), datetime.time(9, 54), datetime.time(22, 29), datetime.time(22, 27), datetime.time(22, 37), datetime.time(23, 19), datetime.time(9, 7), datetime.time(9, 3), datetime.time(8, 48), datetime.time(2, 23), datetime.time(9, 43), datetime.time(1, 14), datetime.time(9, 39), datetime.time(8, 17), datetime.time(9, 26), datetime.time(10, 21), datetime.time(9, 6), datetime.time(22, 36), datetime.time(1, 7), datetime.time(8, 27), datetime.time(8, 6), datetime.time(0, 13), datetime.time(23, 28), datetime.time(0, 26), datetime.time(23, 39), datetime.time(8, 59), datetime.time(0, 42), datetime.time(11, 31), datetime.time(1, 24), datetime.time(0, 44), datetime.time(2, 8), datetime.time(22, 4), datetime.time(1, 57), datetime.time(21, 54), datetime.time(11, 21), datetime.time(20, 31), datetime.time(2, 14), datetime.time(23, 54), datetime.time(0, 11), datetime.time(23, 44), datetime.time(20, 47), datetime.time(7, 48), datetime.time(23, 7), datetime.time(8, 26), datetime.time(9, 13), datetime.time(9, 33), datetime.time(9, 16), datetime.time(8, 52), datetime.time(23, 2), datetime.time(0, 56), datetime.time(21, 51), datetime.time(0, 33), datetime.time(8, 58), datetime.time(22, 11), datetime.time(18, 31), datetime.time(8, 43), datetime.time(8, 14), datetime.time(23, 56), datetime.time(9, 19), datetime.time(9, 37), datetime.time(1, 26), datetime.time(2, 28), datetime.time(9, 59), datetime.time(8, 37), datetime.time(8, 23), datetime.time(1, 58), datetime.time(1, 52), datetime.time(0, 52), datetime.time(0, 59), datetime.time(2, 12), datetime.time(22, 33), datetime.time(0, 7), datetime.time(22, 54), datetime.time(9, 4), datetime.time(23, 4), datetime.time(9, 32), datetime.time(9, 29), datetime.time(1, 22), datetime.time(22, 34), datetime.time(23, 24), datetime.time(9, 17), datetime.time(9, 9), datetime.time(2, 58), datetime.time(2, 33), datetime.time(22, 24), datetime.time(10, 2), datetime.time(8, 8), datetime.time(8, 13), datetime.time(10, 41), datetime.time(0, 34), datetime.time(1, 43), datetime.time(9, 51), datetime.time(21, 31), datetime.time(8, 28), datetime.time(8, 18), datetime.time(18, 59), datetime.time(1, 28), datetime.time(23, 13), datetime.time(9, 53), datetime.time(22, 56), datetime.time(1, 32), datetime.time(2, 26), datetime.time(2, 48), datetime.time(23, 51), datetime.time(19, 51), datetime.time(9, 14), datetime.time(1, 54), datetime.time(0, 47), datetime.time(23, 52), datetime.time(0, 21), datetime.time(4, 8), datetime.time(9, 31), datetime.time(23, 57), datetime.time(0, 36), datetime.time(8, 24), datetime.time(8, 21), datetime.time(23, 22), datetime.time(0, 19), datetime.time(0, 9), datetime.time(1, 4), datetime.time(3, 18), datetime.time(2, 22), datetime.time(1, 6), datetime.time(0, 28), datetime.time(22, 2), datetime.time(22, 41), datetime.time(2, 56), datetime.time(8, 36), datetime.time(23, 11), datetime.time(1, 3), datetime.time(9, 49), datetime.time(2, 3), datetime.time(8, 9), datetime.time(3, 28), datetime.time(0, 39), datetime.time(3, 43), datetime.time(0, 57), datetime.time(23, 32), datetime.time(1, 38), datetime.time(19, 31), datetime.time(9, 11), datetime.time(8, 49), datetime.time(8, 42), datetime.time(7, 58), datetime.time(10, 1), datetime.time(1, 34), datetime.time(8, 46), datetime.time(8, 7), datetime.time(1, 49), datetime.time(1, 13), datetime.time(1, 53), datetime.time(9, 41), datetime.time(21, 1), datetime.time(1, 16), datetime.time(1, 2), datetime.time(8, 57), datetime.time(3, 27), datetime.time(8, 32), datetime.time(4, 18), datetime.time(23, 16), datetime.time(2, 6), datetime.time(1, 47), datetime.time(23, 34), datetime.time(4, 58), datetime.time(3, 12), datetime.time(1, 41), datetime.time(9, 46), datetime.time(8, 2), datetime.time(1, 19), datetime.time(23, 46), datetime.time(0, 32), datetime.time(3, 19), datetime.time(9, 21), datetime.time(2, 4), datetime.time(8, 33), datetime.time(8, 4), datetime.time(4, 19), datetime.time(1, 9), datetime.time(8, 39), datetime.time(10, 31), datetime.time(7, 12), datetime.time(2, 36), datetime.time(7, 14), datetime.time(0, 46), datetime.time(2, 42), datetime.time(9, 1), datetime.time(0, 23), datetime.time(22, 57), datetime.time(0, 27), datetime.time(2, 16), datetime.time(4, 7), datetime.time(22, 31), datetime.time(23, 29), datetime.time(8, 12), datetime.time(0, 29), datetime.time(3, 58), datetime.time(8, 16), datetime.time(8, 54), datetime.time(2, 44), datetime.time(1, 56), datetime.time(8, 56), datetime.time(2, 27), datetime.time(2, 13), datetime.time(2, 11), datetime.time(0, 49), datetime.time(1, 1), datetime.time(2, 38), datetime.time(1, 17), datetime.time(2, 18), datetime.time(8, 22), datetime.time(2, 43), datetime.time(3, 22), datetime.time(8, 31), datetime.time(22, 46), datetime.time(0, 41), datetime.time(1, 29), datetime.time(8, 11), datetime.time(3, 24), datetime.time(7, 38), datetime.time(4, 22), datetime.time(1, 44), datetime.time(23, 9), datetime.time(22, 1), datetime.time(2, 53), datetime.time(1, 33), datetime.time(3, 34), datetime.time(9, 2), datetime.time(2, 24), datetime.time(7, 42), datetime.time(4, 38), datetime.time(8, 34), datetime.time(2, 49), datetime.time(8, 3), datetime.time(23, 21), datetime.time(4, 28), datetime.time(2, 17), datetime.time(2, 54), datetime.time(2, 32), datetime.time(2, 9), datetime.time(1, 46), datetime.time(0, 51), datetime.time(4, 6), datetime.time(2, 37), datetime.time(2, 1), datetime.time(3, 44), datetime.time(7, 23), datetime.time(7, 41), datetime.time(6, 12), datetime.time(1, 21), datetime.time(7, 19), datetime.time(1, 11), datetime.time(3, 26), datetime.time(8, 29), datetime.time(22, 51), datetime.time(3, 38), datetime.time(1, 36), datetime.time(2, 47), datetime.time(4, 17), datetime.time(4, 42), datetime.time(3, 32), datetime.time(4, 4), datetime.time(1, 39), datetime.time(4, 12), datetime.time(7, 53), datetime.time(8, 41), datetime.time(7, 22), datetime.time(4, 13), datetime.time(7, 3), datetime.time(7, 34), datetime.time(2, 7), datetime.time(23, 41), datetime.time(3, 16), datetime.time(3, 13), datetime.time(7, 46), datetime.time(4, 14), datetime.time(7, 47), datetime.time(2, 19), datetime.time(8, 1), datetime.time(3, 37), datetime.time(7, 59), datetime.time(4, 57), datetime.time(3, 49), datetime.time(3, 2), datetime.time(2, 2), datetime.time(7, 57), datetime.time(1, 59), datetime.time(22, 59), datetime.time(7, 49), datetime.time(4, 16), datetime.time(23, 31), datetime.time(7, 6), datetime.time(6, 8), datetime.time(0, 31), datetime.time(3, 6), datetime.time(3, 14), datetime.time(3, 4), datetime.time(3, 53), datetime.time(7, 18), datetime.time(4, 56), datetime.time(2, 57), datetime.time(5, 8), datetime.time(8, 51), datetime.time(2, 41), datetime.time(6, 44), datetime.time(3, 42), datetime.time(2, 34), datetime.time(4, 27), datetime.time(1, 51), datetime.time(3, 56), datetime.time(2, 46), datetime.time(23, 1), datetime.time(4, 1), datetime.time(4, 53), datetime.time(4, 9), datetime.time(3, 8), datetime.time(7, 13), datetime.time(6, 17), datetime.time(7, 54), datetime.time(7, 56), datetime.time(3, 23), datetime.time(1, 31), datetime.time(7, 52), datetime.time(6, 13), datetime.time(6, 58), datetime.time(5, 12), datetime.time(4, 23), datetime.time(7, 43), datetime.time(3, 9), datetime.time(5, 58), datetime.time(6, 49), datetime.time(4, 2), datetime.time(6, 18), datetime.time(6, 22), datetime.time(4, 48), datetime.time(3, 54), datetime.time(6, 27), datetime.time(3, 52), datetime.time(2, 39), datetime.time(5, 2), datetime.time(7, 8), datetime.time(7, 21), datetime.time(7, 39), datetime.time(8, 19), datetime.time(3, 46), datetime.time(5, 42), datetime.time(2, 59), datetime.time(4, 46), datetime.time(7, 44), datetime.time(7, 36), datetime.time(5, 24), datetime.time(7, 17), datetime.time(7, 27), datetime.time(3, 59), datetime.time(3, 47), datetime.time(3, 17), datetime.time(5, 14), datetime.time(7, 9), datetime.time(3, 21), datetime.time(6, 28), datetime.time(3, 48), datetime.time(3, 51), datetime.time(2, 51), datetime.time(3, 39), datetime.time(3, 29), datetime.time(3, 7), datetime.time(4, 3), datetime.time(5, 53), datetime.time(7, 26), datetime.time(4, 11), datetime.time(4, 44), datetime.time(2, 21), datetime.time(3, 11), datetime.time(5, 49), datetime.time(7, 11), datetime.time(5, 11), datetime.time(4, 34), datetime.time(7, 33), datetime.time(5, 17), datetime.time(6, 14), datetime.time(5, 26), datetime.time(2, 31), datetime.time(5, 29), datetime.time(4, 49), datetime.time(5, 18), datetime.time(3, 36), datetime.time(6, 19), datetime.time(6, 39), datetime.time(7, 28), datetime.time(4, 26), datetime.time(5, 33), datetime.time(6, 51), datetime.time(5, 37), datetime.time(6, 38), datetime.time(5, 3), datetime.time(7, 24), datetime.time(6, 24), datetime.time(4, 24), datetime.time(3, 57), datetime.time(2, 52), datetime.time(3, 3), datetime.time(4, 37), datetime.time(4, 52), datetime.time(2, 29), datetime.time(4, 36), datetime.time(7, 29), datetime.time(5, 28), datetime.time(7, 51), datetime.time(6, 3), datetime.time(4, 54), datetime.time(7, 7), datetime.time(6, 33), datetime.time(6, 42), datetime.time(4, 21), datetime.time(6, 43), datetime.time(7, 37), datetime.time(6, 1), datetime.time(5, 6), datetime.time(5, 16), datetime.time(5, 19), datetime.time(3, 33), datetime.time(5, 54), datetime.time(5, 13), datetime.time(6, 2), datetime.time(6, 34), datetime.time(5, 47), datetime.time(5, 7), datetime.time(6, 32), datetime.time(6, 46), datetime.time(5, 22), datetime.time(6, 48), datetime.time(6, 59), datetime.time(5, 48), datetime.time(6, 21), datetime.time(5, 27), datetime.time(5, 56), datetime.time(7, 32), datetime.time(6, 11), datetime.time(6, 29), datetime.time(6, 7), datetime.time(5, 4), datetime.time(7, 31), datetime.time(4, 33), datetime.time(6, 23), datetime.time(6, 4), datetime.time(6, 9), datetime.time(5, 23), datetime.time(3, 41), datetime.time(5, 9), datetime.time(7, 4), datetime.time(7, 1), datetime.time(4, 43), datetime.time(5, 43), datetime.time(5, 59), datetime.time(5, 36), datetime.time(7, 16), datetime.time(4, 39), datetime.time(6, 31), datetime.time(5, 38), datetime.time(4, 29), datetime.time(5, 1), datetime.time(6, 26), datetime.time(5, 32), datetime.time(6, 57), datetime.time(5, 41), datetime.time(6, 54), datetime.time(4, 59), datetime.time(6, 16), datetime.time(4, 51), datetime.time(7, 2), datetime.time(5, 51), datetime.time(5, 52), datetime.time(4, 47), datetime.time(6, 52), datetime.time(5, 39), datetime.time(6, 37), datetime.time(5, 34), datetime.time(6, 41), datetime.time(6, 56), datetime.time(6, 6), datetime.time(5, 57), datetime.time(6, 53), datetime.time(3, 31), datetime.time(5, 31), datetime.time(4, 41), datetime.time(6, 47), datetime.time(5, 46), datetime.time(6, 36), datetime.time(5, 44), datetime.time(4, 31), datetime.time(3, 1), datetime.time(4, 32), datetime.time(5, 21)]\n",
            "       LAW_CAT_CD :    3 : [1, 2, 0]\n",
            "    PREM_TYP_DESC :   74 : ['STREET', 'RESIDENCE - APT. HOUSE', 'RESIDENCE-HOUSE', 'RESIDENCE - PUBLIC HOUSING', 'CHAIN STORE', 'DEPARTMENT STORE', 'COMMERCIAL BUILDING', 'DRUG STORE', 'OTHER', 'TRANSIT - NYC SUBWAY', 'GROCERY/BODEGA', 'RESTAURANT/DINER', 'PARK/PLAYGROUND', 'CLOTHING/BOUTIQUE', 'HOTEL/MOTEL', 'HOMELESS SHELTER', 'BAR/NIGHT CLUB', 'FAST FOOD', 'HOSPITAL', 'PARKING LOT/GARAGE (PUBLIC)', 'FOOD SUPERMARKET', 'PUBLIC SCHOOL', 'PARKING LOT/GARAGE (PRIVATE)', 'HIGHWAY/PARKWAY', 'BANK', 'PUBLIC BUILDING', 'SMALL MERCHANT', 'GAS STATION', 'BEAUTY & NAIL SALON', 'STORE UNCLASSIFIED', 'DOCTOR/DENTIST OFFICE', 'CONSTRUCTION SITE', 'DRY CLEANER/LAUNDRY', 'BUS (NYC TRANSIT)', 'GYM/FITNESS FACILITY', 'AIRPORT TERMINAL', 'TELECOMM. STORE', 'MAILBOX OUTSIDE', 'LIQUOR STORE', 'CHURCH', 'CANDY STORE', 'VARIETY STORE', 'STORAGE FACILITY', 'OPEN AREAS (OPEN LOTS)', 'CHECK CASHING BUSINESS', 'FACTORY/WAREHOUSE', 'ATM', 'BRIDGE', 'BUS STOP', 'PRIVATE/PAROCHIAL SCHOOL', 'TRANSIT FACILITY (OTHER)', 'TAXI (LIVERY LICENSED)', 'JEWELRY', 'BUS TERMINAL', 'SHOE', 'SYNAGOGUE', 'ABANDONED BUILDING', 'TUNNEL', 'SOCIAL CLUB/POLICY', 'MAILBOX INSIDE', 'MARINA/PIER', 'BUS (OTHER)', 'TAXI (YELLOW LICENSED)', 'BOOK/CARD', 'FERRY/FERRY TERMINAL', 'MOSQUE', 'OTHER HOUSE OF WORSHIP', 'TAXI/LIVERY (UNLICENSED)', 'VIDEO STORE', 'CEMETERY', 'PHOTO/COPY', 'LOAN COMPANY', 'DAYCARE FACILITY', 'TRAMWAY']\n"
          ]
        }
      ]
    },
    {
      "cell_type": "markdown",
      "source": [
        ""
      ],
      "metadata": {
        "id": "SdXUwRQhuyY6"
      }
    },
    {
      "cell_type": "code",
      "source": [
        "df.info()"
      ],
      "metadata": {
        "id": "77HqbNi6kwac",
        "colab": {
          "base_uri": "https://localhost:8080/"
        },
        "outputId": "778d78e9-2b1f-4b7f-ed99-c3722a2d4029"
      },
      "execution_count": 373,
      "outputs": [
        {
          "output_type": "stream",
          "name": "stdout",
          "text": [
            "<class 'pandas.core.frame.DataFrame'>\n",
            "Int64Index: 439625 entries, 903695881 to 366756177\n",
            "Data columns (total 5 columns):\n",
            " #   Column         Non-Null Count   Dtype         \n",
            "---  ------         --------------   -----         \n",
            " 0   ADDR_PCT_CD    439625 non-null  int64         \n",
            " 1   CMPLNT_FR_DT   439625 non-null  datetime64[ns]\n",
            " 2   CMPLNT_FR_TM   439625 non-null  object        \n",
            " 3   LAW_CAT_CD     439625 non-null  int64         \n",
            " 4   PREM_TYP_DESC  438418 non-null  object        \n",
            "dtypes: datetime64[ns](1), int64(2), object(2)\n",
            "memory usage: 20.1+ MB\n"
          ]
        }
      ]
    },
    {
      "cell_type": "code",
      "source": [
        ""
      ],
      "metadata": {
        "colab": {
          "base_uri": "https://localhost:8080/"
        },
        "id": "JiSflnfWtUDx",
        "outputId": "feb52d71-dbfa-4f84-8050-34d32ed13af5"
      },
      "execution_count": 432,
      "outputs": [
        {
          "output_type": "execute_result",
          "data": {
            "text/plain": [
              "CMPLNT_NUM\n",
              "323747022      1\n",
              "622728639      1\n",
              "644559944      1\n",
              "385027880      1\n",
              "907223114      1\n",
              "            ... \n",
              "271012018    365\n",
              "399957859    365\n",
              "424428573    365\n",
              "301806530    365\n",
              "975726056    365\n",
              "Name: CMPLNT_FR_DT, Length: 439625, dtype: int64"
            ]
          },
          "metadata": {},
          "execution_count": 432
        }
      ]
    },
    {
      "cell_type": "code",
      "source": [
        ""
      ],
      "metadata": {
        "id": "VQEvg3PZwgdb"
      },
      "execution_count": null,
      "outputs": []
    }
  ]
}