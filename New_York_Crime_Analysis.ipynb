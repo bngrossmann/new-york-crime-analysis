{
  "nbformat": 4,
  "nbformat_minor": 0,
  "metadata": {
    "colab": {
      "name": "New_York_Crime_Analysis.ipynb",
      "provenance": [],
      "collapsed_sections": [
        "KeCO38Jjg-_1"
      ],
      "toc_visible": true,
      "include_colab_link": true
    },
    "kernelspec": {
      "name": "python3",
      "display_name": "Python 3"
    },
    "language_info": {
      "name": "python"
    }
  },
  "cells": [
    {
      "cell_type": "markdown",
      "metadata": {
        "id": "view-in-github",
        "colab_type": "text"
      },
      "source": [
        "<a href=\"https://colab.research.google.com/github/bngrossmann/new-york-crime-analysis/blob/main/New_York_Crime_Analysis.ipynb\" target=\"_parent\"><img src=\"https://colab.research.google.com/assets/colab-badge.svg\" alt=\"Open In Colab\"/></a>"
      ]
    },
    {
      "cell_type": "markdown",
      "source": [
        "# Project 2\n",
        "\n",
        "* Benjamin Grossmann"
      ],
      "metadata": {
        "id": "CQZALYVTexUy"
      }
    },
    {
      "cell_type": "markdown",
      "source": [
        "# Part 1\n"
      ],
      "metadata": {
        "id": "ciIVGuswe2WV"
      }
    },
    {
      "cell_type": "markdown",
      "source": [
        "Your second project is going to have a lot more freedom than your first project. This is because we want you to have a project in your portfolio that interests you or relates to the industry you would like to work in.\n",
        "\n",
        "Your task for this week is to propose two possible datasets you would like to work with for Project 2.  \n",
        "\n",
        "You will choose your first choice data set, and a backup data set in case the first proposed data set is not approved.  \n",
        "\n",
        "This data can be from any source and can be on any topic with these limitations:\n",
        "\n",
        "the data must be available for use (it is your responsibility to ensure that the license states that you are able to use it.)\n",
        "the data must be appropriate for a professional environment\n",
        "the data must NOT contain personal information\n",
        "the data must NOT be a dataset used for any assignment, lecture, or task from the course\n",
        "Make sure you select a dataset that will be reasonable to work with in the amount of time we have left. Think about what questions you could reasonably answer with the dataset you select. \n",
        "\n",
        "You must propose two datasets that each have a supervised learning component. You may choose a regression or classification problem for each proposed data set."
      ],
      "metadata": {
        "id": "LvQuBIBEe-vJ"
      }
    },
    {
      "cell_type": "markdown",
      "source": [
        "**For this task:**\n",
        "\n",
        "Create a Colab notebook where you have uploaded and shown the .head() of each of your data sets.  For each of the proposed datasets, answer the following questions:"
      ],
      "metadata": {
        "id": "Qrq_fF47e-i1"
      }
    },
    {
      "cell_type": "markdown",
      "source": [
        "## **Dataset #1**\n"
      ],
      "metadata": {
        "id": "UAJG7sDUgc_4"
      }
    },
    {
      "cell_type": "code",
      "source": [
        "from google.colab import drive\n",
        "drive.mount(\"/content/drive\")"
      ],
      "metadata": {
        "colab": {
          "base_uri": "https://localhost:8080/"
        },
        "id": "f0EtXTScDgQu",
        "outputId": "59f9a1ab-1083-4a25-da7b-32aaaa4cbcb6"
      },
      "execution_count": 1,
      "outputs": [
        {
          "output_type": "stream",
          "name": "stdout",
          "text": [
            "Mounted at /content/drive\n"
          ]
        }
      ]
    },
    {
      "cell_type": "code",
      "source": [
        "# Load your data & imports\n",
        "import numpy as np\n",
        "import pandas as pd"
      ],
      "metadata": {
        "id": "Hx0zuT7zfUtC"
      },
      "execution_count": 2,
      "outputs": []
    },
    {
      "cell_type": "code",
      "execution_count": 4,
      "metadata": {
        "id": "K8_l1F5ZevgV"
      },
      "outputs": [],
      "source": [
        "df = pd.read_csv(\"/content/drive/MyDrive/Coding Dojo/Data Folder/NYPD_Complaint_Data_Current__Year_To_Date_.csv\")"
      ]
    },
    {
      "cell_type": "code",
      "source": [
        "# .head() for your dataframe\n",
        "df.head()"
      ],
      "metadata": {
        "id": "vRIlYFKWfdo8",
        "colab": {
          "base_uri": "https://localhost:8080/",
          "height": 490
        },
        "outputId": "c0639637-c677-4903-fd7d-c72d6ff9487a"
      },
      "execution_count": 5,
      "outputs": [
        {
          "output_type": "execute_result",
          "data": {
            "text/plain": [
              "   CMPLNT_NUM  ADDR_PCT_CD BORO_NM CMPLNT_FR_DT CMPLNT_FR_TM CMPLNT_TO_DT  \\\n",
              "0   903695881           69     NaN   12/17/2021     22:13:00          NaN   \n",
              "1   400462399          113     NaN   12/17/2021     06:21:00          NaN   \n",
              "2   587910690          113     NaN   12/13/2021     20:05:00          NaN   \n",
              "3   186105368           52   BRONX   12/07/2021     22:49:00          NaN   \n",
              "4   185325394          113     NaN   12/06/2021     17:25:00          NaN   \n",
              "\n",
              "  CMPLNT_TO_TM CRM_ATPT_CPTD_CD HADEVELOPT  HOUSING_PSA  ...  \\\n",
              "0          NaN        COMPLETED        NaN          NaN  ...   \n",
              "1          NaN        COMPLETED        NaN          NaN  ...   \n",
              "2          NaN        COMPLETED        NaN          NaN  ...   \n",
              "3          NaN        COMPLETED        NaN          NaN  ...   \n",
              "4          NaN        COMPLETED        NaN          NaN  ...   \n",
              "\n",
              "   TRANSIT_DISTRICT VIC_AGE_GROUP  VIC_RACE VIC_SEX X_COORD_CD Y_COORD_CD  \\\n",
              "0               NaN         25-44     BLACK       M    1011203     174515   \n",
              "1               NaN         25-44     BLACK       F    1043252     187998   \n",
              "2               NaN         25-44     BLACK       M    1042087     190443   \n",
              "3               NaN       UNKNOWN   UNKNOWN       E    1017088     260895   \n",
              "4               NaN         25-44     BLACK       M    1046176     193100   \n",
              "\n",
              "    Latitude  Longitude                                   Lat_Lon  \\\n",
              "0  40.645647 -73.902876   (40.64564719600002, -73.90287588699994)   \n",
              "1  40.682499 -73.787269  (40.682499421000045, -73.78726915499993)   \n",
              "2  40.689218 -73.791449  (40.689218058000044, -73.79144856999993)   \n",
              "3  40.882718 -73.881247   (40.88271780700006, -73.88124724999993)   \n",
              "4  40.696483 -73.776680   (40.69648322200004, -73.77667979199998)   \n",
              "\n",
              "                        New Georeferenced Column  \n",
              "0   POINT (-73.90287588699994 40.64564719600002)  \n",
              "1  POINT (-73.78726915499993 40.682499421000045)  \n",
              "2  POINT (-73.79144856999993 40.689218058000044)  \n",
              "3   POINT (-73.88124724999993 40.88271780700006)  \n",
              "4   POINT (-73.77667979199998 40.69648322200004)  \n",
              "\n",
              "[5 rows x 36 columns]"
            ],
            "text/html": [
              "\n",
              "  <div id=\"df-61df1d41-2298-472f-a269-0c186e6e46dd\">\n",
              "    <div class=\"colab-df-container\">\n",
              "      <div>\n",
              "<style scoped>\n",
              "    .dataframe tbody tr th:only-of-type {\n",
              "        vertical-align: middle;\n",
              "    }\n",
              "\n",
              "    .dataframe tbody tr th {\n",
              "        vertical-align: top;\n",
              "    }\n",
              "\n",
              "    .dataframe thead th {\n",
              "        text-align: right;\n",
              "    }\n",
              "</style>\n",
              "<table border=\"1\" class=\"dataframe\">\n",
              "  <thead>\n",
              "    <tr style=\"text-align: right;\">\n",
              "      <th></th>\n",
              "      <th>CMPLNT_NUM</th>\n",
              "      <th>ADDR_PCT_CD</th>\n",
              "      <th>BORO_NM</th>\n",
              "      <th>CMPLNT_FR_DT</th>\n",
              "      <th>CMPLNT_FR_TM</th>\n",
              "      <th>CMPLNT_TO_DT</th>\n",
              "      <th>CMPLNT_TO_TM</th>\n",
              "      <th>CRM_ATPT_CPTD_CD</th>\n",
              "      <th>HADEVELOPT</th>\n",
              "      <th>HOUSING_PSA</th>\n",
              "      <th>...</th>\n",
              "      <th>TRANSIT_DISTRICT</th>\n",
              "      <th>VIC_AGE_GROUP</th>\n",
              "      <th>VIC_RACE</th>\n",
              "      <th>VIC_SEX</th>\n",
              "      <th>X_COORD_CD</th>\n",
              "      <th>Y_COORD_CD</th>\n",
              "      <th>Latitude</th>\n",
              "      <th>Longitude</th>\n",
              "      <th>Lat_Lon</th>\n",
              "      <th>New Georeferenced Column</th>\n",
              "    </tr>\n",
              "  </thead>\n",
              "  <tbody>\n",
              "    <tr>\n",
              "      <th>0</th>\n",
              "      <td>903695881</td>\n",
              "      <td>69</td>\n",
              "      <td>NaN</td>\n",
              "      <td>12/17/2021</td>\n",
              "      <td>22:13:00</td>\n",
              "      <td>NaN</td>\n",
              "      <td>NaN</td>\n",
              "      <td>COMPLETED</td>\n",
              "      <td>NaN</td>\n",
              "      <td>NaN</td>\n",
              "      <td>...</td>\n",
              "      <td>NaN</td>\n",
              "      <td>25-44</td>\n",
              "      <td>BLACK</td>\n",
              "      <td>M</td>\n",
              "      <td>1011203</td>\n",
              "      <td>174515</td>\n",
              "      <td>40.645647</td>\n",
              "      <td>-73.902876</td>\n",
              "      <td>(40.64564719600002, -73.90287588699994)</td>\n",
              "      <td>POINT (-73.90287588699994 40.64564719600002)</td>\n",
              "    </tr>\n",
              "    <tr>\n",
              "      <th>1</th>\n",
              "      <td>400462399</td>\n",
              "      <td>113</td>\n",
              "      <td>NaN</td>\n",
              "      <td>12/17/2021</td>\n",
              "      <td>06:21:00</td>\n",
              "      <td>NaN</td>\n",
              "      <td>NaN</td>\n",
              "      <td>COMPLETED</td>\n",
              "      <td>NaN</td>\n",
              "      <td>NaN</td>\n",
              "      <td>...</td>\n",
              "      <td>NaN</td>\n",
              "      <td>25-44</td>\n",
              "      <td>BLACK</td>\n",
              "      <td>F</td>\n",
              "      <td>1043252</td>\n",
              "      <td>187998</td>\n",
              "      <td>40.682499</td>\n",
              "      <td>-73.787269</td>\n",
              "      <td>(40.682499421000045, -73.78726915499993)</td>\n",
              "      <td>POINT (-73.78726915499993 40.682499421000045)</td>\n",
              "    </tr>\n",
              "    <tr>\n",
              "      <th>2</th>\n",
              "      <td>587910690</td>\n",
              "      <td>113</td>\n",
              "      <td>NaN</td>\n",
              "      <td>12/13/2021</td>\n",
              "      <td>20:05:00</td>\n",
              "      <td>NaN</td>\n",
              "      <td>NaN</td>\n",
              "      <td>COMPLETED</td>\n",
              "      <td>NaN</td>\n",
              "      <td>NaN</td>\n",
              "      <td>...</td>\n",
              "      <td>NaN</td>\n",
              "      <td>25-44</td>\n",
              "      <td>BLACK</td>\n",
              "      <td>M</td>\n",
              "      <td>1042087</td>\n",
              "      <td>190443</td>\n",
              "      <td>40.689218</td>\n",
              "      <td>-73.791449</td>\n",
              "      <td>(40.689218058000044, -73.79144856999993)</td>\n",
              "      <td>POINT (-73.79144856999993 40.689218058000044)</td>\n",
              "    </tr>\n",
              "    <tr>\n",
              "      <th>3</th>\n",
              "      <td>186105368</td>\n",
              "      <td>52</td>\n",
              "      <td>BRONX</td>\n",
              "      <td>12/07/2021</td>\n",
              "      <td>22:49:00</td>\n",
              "      <td>NaN</td>\n",
              "      <td>NaN</td>\n",
              "      <td>COMPLETED</td>\n",
              "      <td>NaN</td>\n",
              "      <td>NaN</td>\n",
              "      <td>...</td>\n",
              "      <td>NaN</td>\n",
              "      <td>UNKNOWN</td>\n",
              "      <td>UNKNOWN</td>\n",
              "      <td>E</td>\n",
              "      <td>1017088</td>\n",
              "      <td>260895</td>\n",
              "      <td>40.882718</td>\n",
              "      <td>-73.881247</td>\n",
              "      <td>(40.88271780700006, -73.88124724999993)</td>\n",
              "      <td>POINT (-73.88124724999993 40.88271780700006)</td>\n",
              "    </tr>\n",
              "    <tr>\n",
              "      <th>4</th>\n",
              "      <td>185325394</td>\n",
              "      <td>113</td>\n",
              "      <td>NaN</td>\n",
              "      <td>12/06/2021</td>\n",
              "      <td>17:25:00</td>\n",
              "      <td>NaN</td>\n",
              "      <td>NaN</td>\n",
              "      <td>COMPLETED</td>\n",
              "      <td>NaN</td>\n",
              "      <td>NaN</td>\n",
              "      <td>...</td>\n",
              "      <td>NaN</td>\n",
              "      <td>25-44</td>\n",
              "      <td>BLACK</td>\n",
              "      <td>M</td>\n",
              "      <td>1046176</td>\n",
              "      <td>193100</td>\n",
              "      <td>40.696483</td>\n",
              "      <td>-73.776680</td>\n",
              "      <td>(40.69648322200004, -73.77667979199998)</td>\n",
              "      <td>POINT (-73.77667979199998 40.69648322200004)</td>\n",
              "    </tr>\n",
              "  </tbody>\n",
              "</table>\n",
              "<p>5 rows × 36 columns</p>\n",
              "</div>\n",
              "      <button class=\"colab-df-convert\" onclick=\"convertToInteractive('df-61df1d41-2298-472f-a269-0c186e6e46dd')\"\n",
              "              title=\"Convert this dataframe to an interactive table.\"\n",
              "              style=\"display:none;\">\n",
              "        \n",
              "  <svg xmlns=\"http://www.w3.org/2000/svg\" height=\"24px\"viewBox=\"0 0 24 24\"\n",
              "       width=\"24px\">\n",
              "    <path d=\"M0 0h24v24H0V0z\" fill=\"none\"/>\n",
              "    <path d=\"M18.56 5.44l.94 2.06.94-2.06 2.06-.94-2.06-.94-.94-2.06-.94 2.06-2.06.94zm-11 1L8.5 8.5l.94-2.06 2.06-.94-2.06-.94L8.5 2.5l-.94 2.06-2.06.94zm10 10l.94 2.06.94-2.06 2.06-.94-2.06-.94-.94-2.06-.94 2.06-2.06.94z\"/><path d=\"M17.41 7.96l-1.37-1.37c-.4-.4-.92-.59-1.43-.59-.52 0-1.04.2-1.43.59L10.3 9.45l-7.72 7.72c-.78.78-.78 2.05 0 2.83L4 21.41c.39.39.9.59 1.41.59.51 0 1.02-.2 1.41-.59l7.78-7.78 2.81-2.81c.8-.78.8-2.07 0-2.86zM5.41 20L4 18.59l7.72-7.72 1.47 1.35L5.41 20z\"/>\n",
              "  </svg>\n",
              "      </button>\n",
              "      \n",
              "  <style>\n",
              "    .colab-df-container {\n",
              "      display:flex;\n",
              "      flex-wrap:wrap;\n",
              "      gap: 12px;\n",
              "    }\n",
              "\n",
              "    .colab-df-convert {\n",
              "      background-color: #E8F0FE;\n",
              "      border: none;\n",
              "      border-radius: 50%;\n",
              "      cursor: pointer;\n",
              "      display: none;\n",
              "      fill: #1967D2;\n",
              "      height: 32px;\n",
              "      padding: 0 0 0 0;\n",
              "      width: 32px;\n",
              "    }\n",
              "\n",
              "    .colab-df-convert:hover {\n",
              "      background-color: #E2EBFA;\n",
              "      box-shadow: 0px 1px 2px rgba(60, 64, 67, 0.3), 0px 1px 3px 1px rgba(60, 64, 67, 0.15);\n",
              "      fill: #174EA6;\n",
              "    }\n",
              "\n",
              "    [theme=dark] .colab-df-convert {\n",
              "      background-color: #3B4455;\n",
              "      fill: #D2E3FC;\n",
              "    }\n",
              "\n",
              "    [theme=dark] .colab-df-convert:hover {\n",
              "      background-color: #434B5C;\n",
              "      box-shadow: 0px 1px 3px 1px rgba(0, 0, 0, 0.15);\n",
              "      filter: drop-shadow(0px 1px 2px rgba(0, 0, 0, 0.3));\n",
              "      fill: #FFFFFF;\n",
              "    }\n",
              "  </style>\n",
              "\n",
              "      <script>\n",
              "        const buttonEl =\n",
              "          document.querySelector('#df-61df1d41-2298-472f-a269-0c186e6e46dd button.colab-df-convert');\n",
              "        buttonEl.style.display =\n",
              "          google.colab.kernel.accessAllowed ? 'block' : 'none';\n",
              "\n",
              "        async function convertToInteractive(key) {\n",
              "          const element = document.querySelector('#df-61df1d41-2298-472f-a269-0c186e6e46dd');\n",
              "          const dataTable =\n",
              "            await google.colab.kernel.invokeFunction('convertToInteractive',\n",
              "                                                     [key], {});\n",
              "          if (!dataTable) return;\n",
              "\n",
              "          const docLinkHtml = 'Like what you see? Visit the ' +\n",
              "            '<a target=\"_blank\" href=https://colab.research.google.com/notebooks/data_table.ipynb>data table notebook</a>'\n",
              "            + ' to learn more about interactive tables.';\n",
              "          element.innerHTML = '';\n",
              "          dataTable['output_type'] = 'display_data';\n",
              "          await google.colab.output.renderOutput(dataTable, element);\n",
              "          const docLink = document.createElement('div');\n",
              "          docLink.innerHTML = docLinkHtml;\n",
              "          element.appendChild(docLink);\n",
              "        }\n",
              "      </script>\n",
              "    </div>\n",
              "  </div>\n",
              "  "
            ]
          },
          "metadata": {},
          "execution_count": 5
        }
      ]
    },
    {
      "cell_type": "code",
      "source": [
        "df.shape"
      ],
      "metadata": {
        "colab": {
          "base_uri": "https://localhost:8080/"
        },
        "id": "P3n3B0cFGHoH",
        "outputId": "4db1f0c9-5203-4a51-9710-ea23c44f76ef"
      },
      "execution_count": 6,
      "outputs": [
        {
          "output_type": "execute_result",
          "data": {
            "text/plain": [
              "(449506, 36)"
            ]
          },
          "metadata": {},
          "execution_count": 6
        }
      ]
    },
    {
      "cell_type": "markdown",
      "source": [
        "## Questions"
      ],
      "metadata": {
        "id": "RUP00hADfs1N"
      }
    },
    {
      "cell_type": "markdown",
      "source": [
        "### 1) source of your data\n",
        "\n",
        "The data comes from the New York City Police Department.\n",
        "\n",
        "https://data.cityofnewyork.us/Public-Safety/NYPD-Complaint-Data-Current-Year-To-Date-/5uac-w243\n"
      ],
      "metadata": {
        "id": "q9twhacHf_bd"
      }
    },
    {
      "cell_type": "markdown",
      "source": [
        "### 2) Brief description of data\n",
        "\n",
        "The data includes report information about crimes reported to the NYPD. (Location: Coordinates and Descriptive; Day and Time; Suspect Profile Information; Victim Profile Information; Weather; and several others)"
      ],
      "metadata": {
        "id": "s68fUeMogD_g"
      }
    },
    {
      "cell_type": "markdown",
      "source": [
        "### 3) What is the target?\n",
        "\n",
        "The target is `\"LAW_CAT_CD\"`, which is the level of offense (felony, misdemeanor, violation)."
      ],
      "metadata": {
        "id": "rsKJOX6PgKZV"
      }
    },
    {
      "cell_type": "markdown",
      "source": [
        "###  4) Is this a classification or regression problem?\n",
        "\n",
        "This will be a classification problem."
      ],
      "metadata": {
        "id": "QXfpkTOOgNlh"
      }
    },
    {
      "cell_type": "markdown",
      "source": [
        "### 5) How many features?\n",
        "Although the dataset has 35 features after being separated from the target, many of them are unnecessary and should be removed before any modeling is done.\n",
        "\n",
        "For example, there are multiple location features. Two pair of which express the same coordinate information in two different coordiante systems.\n",
        "\n",
        "There are also several features that are codes which ways of encoding report information and should not be used. They do not predict the target. They were explictly created by the reporting system after the crime was reported and cannot be used to predict future events (they postdict).\n",
        "\n",
        "A thourough examination of the data will be required to determine all the features that should be removed before modeling.\n"
      ],
      "metadata": {
        "id": "P_GxKXwmgRkL"
      }
    },
    {
      "cell_type": "markdown",
      "source": [
        "### 6) How many rows of data.\n",
        "\n",
        "The dataset has 449,506 rows of data"
      ],
      "metadata": {
        "id": "XKFujSFJgU0T"
      }
    },
    {
      "cell_type": "markdown",
      "source": [
        "### 7) What, if any, challenges do your foresee in cleaning, exploring, or modeling with this dataset?\n",
        "\n",
        "There are several columns which have a lot of missing values. Some missing values may be acceptable (`\"PARKS_NM\"` has no value if the occurance did not happen in a park), and can be accomadated.\n",
        "\n",
        "And as mentioned above in question 5, several of the columns should not be used because they may have values that are determined by the target values. Determining which ones may take some research.\n",
        "\n",
        "Some columns (such as some of the description columns) have multiple values within a single cell. It may be necessary to break them apart into their component values."
      ],
      "metadata": {
        "id": "BWc7tBFagXQz"
      }
    },
    {
      "cell_type": "markdown",
      "source": [
        "## **Dataset #2**"
      ],
      "metadata": {
        "id": "KeCO38Jjg-_1"
      }
    },
    {
      "cell_type": "code",
      "source": [
        "# Load your data & imports\n",
        "\n",
        "\n"
      ],
      "metadata": {
        "id": "KxgXrJqtj06_"
      },
      "execution_count": null,
      "outputs": []
    },
    {
      "cell_type": "code",
      "source": [
        "# .head() for your dataframe"
      ],
      "metadata": {
        "id": "eXz411zHj4pb"
      },
      "execution_count": null,
      "outputs": []
    },
    {
      "cell_type": "markdown",
      "source": [
        "### Questions"
      ],
      "metadata": {
        "id": "R8aLfY7Vj_g_"
      }
    },
    {
      "cell_type": "markdown",
      "source": [
        "1) # source of your data"
      ],
      "metadata": {
        "id": "AN-ppKnRin6O"
      }
    },
    {
      "cell_type": "markdown",
      "source": [
        "2) Brief description of data"
      ],
      "metadata": {
        "id": "lM9p1vzPin0J"
      }
    },
    {
      "cell_type": "markdown",
      "source": [
        "3) What is the target?"
      ],
      "metadata": {
        "id": "VLqB-6b-inun"
      }
    },
    {
      "cell_type": "markdown",
      "source": [
        "4) Is this a classification or regression problem?"
      ],
      "metadata": {
        "id": "Vv6Tid03inkY"
      }
    },
    {
      "cell_type": "markdown",
      "source": [
        "5) How many features?"
      ],
      "metadata": {
        "id": "CNXgfbQ3ine7"
      }
    },
    {
      "cell_type": "markdown",
      "source": [
        "6) How many rows of data."
      ],
      "metadata": {
        "id": "vPSDAM-Iinbn"
      }
    },
    {
      "cell_type": "markdown",
      "source": [
        "7) What, if any, challenges do your foresee in cleaning, exploring, or modeling with this dataset?"
      ],
      "metadata": {
        "id": "vAlkvKl8inU1"
      }
    }
  ]
}