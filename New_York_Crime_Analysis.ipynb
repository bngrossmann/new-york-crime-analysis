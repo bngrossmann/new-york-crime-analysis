{
  "nbformat": 4,
  "nbformat_minor": 0,
  "metadata": {
    "colab": {
      "name": "New_York_Crime_Analysis.ipynb",
      "provenance": [],
      "collapsed_sections": [],
      "toc_visible": true,
      "include_colab_link": true
    },
    "kernelspec": {
      "name": "python3",
      "display_name": "Python 3"
    },
    "language_info": {
      "name": "python"
    }
  },
  "cells": [
    {
      "cell_type": "markdown",
      "metadata": {
        "id": "view-in-github",
        "colab_type": "text"
      },
      "source": [
        "<a href=\"https://colab.research.google.com/github/bngrossmann/new-york-crime-analysis/blob/main/New_York_Crime_Analysis.ipynb\" target=\"_parent\"><img src=\"https://colab.research.google.com/assets/colab-badge.svg\" alt=\"Open In Colab\"/></a>"
      ]
    },
    {
      "cell_type": "markdown",
      "source": [
        "# Project 2\n",
        "\n",
        "* Benjamin Grossmann"
      ],
      "metadata": {
        "id": "CQZALYVTexUy"
      }
    },
    {
      "cell_type": "markdown",
      "source": [
        "# Part 1\n"
      ],
      "metadata": {
        "id": "ciIVGuswe2WV"
      }
    },
    {
      "cell_type": "markdown",
      "source": [
        "Your second project is going to have a lot more freedom than your first project. This is because we want you to have a project in your portfolio that interests you or relates to the industry you would like to work in.\n",
        "\n",
        "Your task for this week is to propose two possible datasets you would like to work with for Project 2.  \n",
        "\n",
        "You will choose your first choice data set, and a backup data set in case the first proposed data set is not approved.  \n",
        "\n",
        "This data can be from any source and can be on any topic with these limitations:\n",
        "\n",
        "the data must be available for use (it is your responsibility to ensure that the license states that you are able to use it.)\n",
        "the data must be appropriate for a professional environment\n",
        "the data must NOT contain personal information\n",
        "the data must NOT be a dataset used for any assignment, lecture, or task from the course\n",
        "Make sure you select a dataset that will be reasonable to work with in the amount of time we have left. Think about what questions you could reasonably answer with the dataset you select. \n",
        "\n",
        "You must propose two datasets that each have a supervised learning component. You may choose a regression or classification problem for each proposed data set."
      ],
      "metadata": {
        "id": "LvQuBIBEe-vJ"
      }
    },
    {
      "cell_type": "markdown",
      "source": [
        "**For this task:**\n",
        "\n",
        "Create a Colab notebook where you have uploaded and shown the .head() of each of your data sets.  For each of the proposed datasets, answer the following questions:"
      ],
      "metadata": {
        "id": "Qrq_fF47e-i1"
      }
    },
    {
      "cell_type": "markdown",
      "source": [
        "## **Dataset #1**\n"
      ],
      "metadata": {
        "id": "UAJG7sDUgc_4"
      }
    },
    {
      "cell_type": "code",
      "source": [
        "from google.colab import drive\n",
        "drive.mount(\"/content/drive\")"
      ],
      "metadata": {
        "colab": {
          "base_uri": "https://localhost:8080/"
        },
        "id": "f0EtXTScDgQu",
        "outputId": "e59af9eb-ea05-4dad-ca84-5ffb9e929d49"
      },
      "execution_count": 159,
      "outputs": [
        {
          "output_type": "stream",
          "name": "stdout",
          "text": [
            "Drive already mounted at /content/drive; to attempt to forcibly remount, call drive.mount(\"/content/drive\", force_remount=True).\n"
          ]
        }
      ]
    },
    {
      "cell_type": "code",
      "source": [
        "# Load your data & imports\n",
        "import numpy as np\n",
        "import pandas as pd"
      ],
      "metadata": {
        "id": "Hx0zuT7zfUtC"
      },
      "execution_count": 160,
      "outputs": []
    },
    {
      "cell_type": "code",
      "execution_count": 161,
      "metadata": {
        "id": "K8_l1F5ZevgV"
      },
      "outputs": [],
      "source": [
        "df = pd.read_csv(\"/content/drive/MyDrive/Coding Dojo/Data Folder/NYPD_Complaint_Data_Current__Year_To_Date_.csv\")"
      ]
    },
    {
      "cell_type": "code",
      "source": [
        "# .head() for your dataframe\n",
        "df.head()"
      ],
      "metadata": {
        "id": "vRIlYFKWfdo8",
        "colab": {
          "base_uri": "https://localhost:8080/",
          "height": 490
        },
        "outputId": "fe8f5b0e-a610-4469-e1b4-c1cfa03597c6"
      },
      "execution_count": 162,
      "outputs": [
        {
          "output_type": "execute_result",
          "data": {
            "text/plain": [
              "   CMPLNT_NUM  ADDR_PCT_CD BORO_NM CMPLNT_FR_DT CMPLNT_FR_TM CMPLNT_TO_DT  \\\n",
              "0   903695881           69     NaN   12/17/2021     22:13:00          NaN   \n",
              "1   400462399          113     NaN   12/17/2021     06:21:00          NaN   \n",
              "2   587910690          113     NaN   12/13/2021     20:05:00          NaN   \n",
              "3   186105368           52   BRONX   12/07/2021     22:49:00          NaN   \n",
              "4   185325394          113     NaN   12/06/2021     17:25:00          NaN   \n",
              "\n",
              "  CMPLNT_TO_TM CRM_ATPT_CPTD_CD HADEVELOPT  HOUSING_PSA  ...  \\\n",
              "0          NaN        COMPLETED        NaN          NaN  ...   \n",
              "1          NaN        COMPLETED        NaN          NaN  ...   \n",
              "2          NaN        COMPLETED        NaN          NaN  ...   \n",
              "3          NaN        COMPLETED        NaN          NaN  ...   \n",
              "4          NaN        COMPLETED        NaN          NaN  ...   \n",
              "\n",
              "   TRANSIT_DISTRICT VIC_AGE_GROUP  VIC_RACE VIC_SEX X_COORD_CD Y_COORD_CD  \\\n",
              "0               NaN         25-44     BLACK       M    1011203     174515   \n",
              "1               NaN         25-44     BLACK       F    1043252     187998   \n",
              "2               NaN         25-44     BLACK       M    1042087     190443   \n",
              "3               NaN       UNKNOWN   UNKNOWN       E    1017088     260895   \n",
              "4               NaN         25-44     BLACK       M    1046176     193100   \n",
              "\n",
              "    Latitude  Longitude                                   Lat_Lon  \\\n",
              "0  40.645647 -73.902876   (40.64564719600002, -73.90287588699994)   \n",
              "1  40.682499 -73.787269  (40.682499421000045, -73.78726915499993)   \n",
              "2  40.689218 -73.791449  (40.689218058000044, -73.79144856999993)   \n",
              "3  40.882718 -73.881247   (40.88271780700006, -73.88124724999993)   \n",
              "4  40.696483 -73.776680   (40.69648322200004, -73.77667979199998)   \n",
              "\n",
              "                        New Georeferenced Column  \n",
              "0   POINT (-73.90287588699994 40.64564719600002)  \n",
              "1  POINT (-73.78726915499993 40.682499421000045)  \n",
              "2  POINT (-73.79144856999993 40.689218058000044)  \n",
              "3   POINT (-73.88124724999993 40.88271780700006)  \n",
              "4   POINT (-73.77667979199998 40.69648322200004)  \n",
              "\n",
              "[5 rows x 36 columns]"
            ],
            "text/html": [
              "\n",
              "  <div id=\"df-56791c14-d664-4d96-aa53-2d9e7248b0dd\">\n",
              "    <div class=\"colab-df-container\">\n",
              "      <div>\n",
              "<style scoped>\n",
              "    .dataframe tbody tr th:only-of-type {\n",
              "        vertical-align: middle;\n",
              "    }\n",
              "\n",
              "    .dataframe tbody tr th {\n",
              "        vertical-align: top;\n",
              "    }\n",
              "\n",
              "    .dataframe thead th {\n",
              "        text-align: right;\n",
              "    }\n",
              "</style>\n",
              "<table border=\"1\" class=\"dataframe\">\n",
              "  <thead>\n",
              "    <tr style=\"text-align: right;\">\n",
              "      <th></th>\n",
              "      <th>CMPLNT_NUM</th>\n",
              "      <th>ADDR_PCT_CD</th>\n",
              "      <th>BORO_NM</th>\n",
              "      <th>CMPLNT_FR_DT</th>\n",
              "      <th>CMPLNT_FR_TM</th>\n",
              "      <th>CMPLNT_TO_DT</th>\n",
              "      <th>CMPLNT_TO_TM</th>\n",
              "      <th>CRM_ATPT_CPTD_CD</th>\n",
              "      <th>HADEVELOPT</th>\n",
              "      <th>HOUSING_PSA</th>\n",
              "      <th>...</th>\n",
              "      <th>TRANSIT_DISTRICT</th>\n",
              "      <th>VIC_AGE_GROUP</th>\n",
              "      <th>VIC_RACE</th>\n",
              "      <th>VIC_SEX</th>\n",
              "      <th>X_COORD_CD</th>\n",
              "      <th>Y_COORD_CD</th>\n",
              "      <th>Latitude</th>\n",
              "      <th>Longitude</th>\n",
              "      <th>Lat_Lon</th>\n",
              "      <th>New Georeferenced Column</th>\n",
              "    </tr>\n",
              "  </thead>\n",
              "  <tbody>\n",
              "    <tr>\n",
              "      <th>0</th>\n",
              "      <td>903695881</td>\n",
              "      <td>69</td>\n",
              "      <td>NaN</td>\n",
              "      <td>12/17/2021</td>\n",
              "      <td>22:13:00</td>\n",
              "      <td>NaN</td>\n",
              "      <td>NaN</td>\n",
              "      <td>COMPLETED</td>\n",
              "      <td>NaN</td>\n",
              "      <td>NaN</td>\n",
              "      <td>...</td>\n",
              "      <td>NaN</td>\n",
              "      <td>25-44</td>\n",
              "      <td>BLACK</td>\n",
              "      <td>M</td>\n",
              "      <td>1011203</td>\n",
              "      <td>174515</td>\n",
              "      <td>40.645647</td>\n",
              "      <td>-73.902876</td>\n",
              "      <td>(40.64564719600002, -73.90287588699994)</td>\n",
              "      <td>POINT (-73.90287588699994 40.64564719600002)</td>\n",
              "    </tr>\n",
              "    <tr>\n",
              "      <th>1</th>\n",
              "      <td>400462399</td>\n",
              "      <td>113</td>\n",
              "      <td>NaN</td>\n",
              "      <td>12/17/2021</td>\n",
              "      <td>06:21:00</td>\n",
              "      <td>NaN</td>\n",
              "      <td>NaN</td>\n",
              "      <td>COMPLETED</td>\n",
              "      <td>NaN</td>\n",
              "      <td>NaN</td>\n",
              "      <td>...</td>\n",
              "      <td>NaN</td>\n",
              "      <td>25-44</td>\n",
              "      <td>BLACK</td>\n",
              "      <td>F</td>\n",
              "      <td>1043252</td>\n",
              "      <td>187998</td>\n",
              "      <td>40.682499</td>\n",
              "      <td>-73.787269</td>\n",
              "      <td>(40.682499421000045, -73.78726915499993)</td>\n",
              "      <td>POINT (-73.78726915499993 40.682499421000045)</td>\n",
              "    </tr>\n",
              "    <tr>\n",
              "      <th>2</th>\n",
              "      <td>587910690</td>\n",
              "      <td>113</td>\n",
              "      <td>NaN</td>\n",
              "      <td>12/13/2021</td>\n",
              "      <td>20:05:00</td>\n",
              "      <td>NaN</td>\n",
              "      <td>NaN</td>\n",
              "      <td>COMPLETED</td>\n",
              "      <td>NaN</td>\n",
              "      <td>NaN</td>\n",
              "      <td>...</td>\n",
              "      <td>NaN</td>\n",
              "      <td>25-44</td>\n",
              "      <td>BLACK</td>\n",
              "      <td>M</td>\n",
              "      <td>1042087</td>\n",
              "      <td>190443</td>\n",
              "      <td>40.689218</td>\n",
              "      <td>-73.791449</td>\n",
              "      <td>(40.689218058000044, -73.79144856999993)</td>\n",
              "      <td>POINT (-73.79144856999993 40.689218058000044)</td>\n",
              "    </tr>\n",
              "    <tr>\n",
              "      <th>3</th>\n",
              "      <td>186105368</td>\n",
              "      <td>52</td>\n",
              "      <td>BRONX</td>\n",
              "      <td>12/07/2021</td>\n",
              "      <td>22:49:00</td>\n",
              "      <td>NaN</td>\n",
              "      <td>NaN</td>\n",
              "      <td>COMPLETED</td>\n",
              "      <td>NaN</td>\n",
              "      <td>NaN</td>\n",
              "      <td>...</td>\n",
              "      <td>NaN</td>\n",
              "      <td>UNKNOWN</td>\n",
              "      <td>UNKNOWN</td>\n",
              "      <td>E</td>\n",
              "      <td>1017088</td>\n",
              "      <td>260895</td>\n",
              "      <td>40.882718</td>\n",
              "      <td>-73.881247</td>\n",
              "      <td>(40.88271780700006, -73.88124724999993)</td>\n",
              "      <td>POINT (-73.88124724999993 40.88271780700006)</td>\n",
              "    </tr>\n",
              "    <tr>\n",
              "      <th>4</th>\n",
              "      <td>185325394</td>\n",
              "      <td>113</td>\n",
              "      <td>NaN</td>\n",
              "      <td>12/06/2021</td>\n",
              "      <td>17:25:00</td>\n",
              "      <td>NaN</td>\n",
              "      <td>NaN</td>\n",
              "      <td>COMPLETED</td>\n",
              "      <td>NaN</td>\n",
              "      <td>NaN</td>\n",
              "      <td>...</td>\n",
              "      <td>NaN</td>\n",
              "      <td>25-44</td>\n",
              "      <td>BLACK</td>\n",
              "      <td>M</td>\n",
              "      <td>1046176</td>\n",
              "      <td>193100</td>\n",
              "      <td>40.696483</td>\n",
              "      <td>-73.776680</td>\n",
              "      <td>(40.69648322200004, -73.77667979199998)</td>\n",
              "      <td>POINT (-73.77667979199998 40.69648322200004)</td>\n",
              "    </tr>\n",
              "  </tbody>\n",
              "</table>\n",
              "<p>5 rows × 36 columns</p>\n",
              "</div>\n",
              "      <button class=\"colab-df-convert\" onclick=\"convertToInteractive('df-56791c14-d664-4d96-aa53-2d9e7248b0dd')\"\n",
              "              title=\"Convert this dataframe to an interactive table.\"\n",
              "              style=\"display:none;\">\n",
              "        \n",
              "  <svg xmlns=\"http://www.w3.org/2000/svg\" height=\"24px\"viewBox=\"0 0 24 24\"\n",
              "       width=\"24px\">\n",
              "    <path d=\"M0 0h24v24H0V0z\" fill=\"none\"/>\n",
              "    <path d=\"M18.56 5.44l.94 2.06.94-2.06 2.06-.94-2.06-.94-.94-2.06-.94 2.06-2.06.94zm-11 1L8.5 8.5l.94-2.06 2.06-.94-2.06-.94L8.5 2.5l-.94 2.06-2.06.94zm10 10l.94 2.06.94-2.06 2.06-.94-2.06-.94-.94-2.06-.94 2.06-2.06.94z\"/><path d=\"M17.41 7.96l-1.37-1.37c-.4-.4-.92-.59-1.43-.59-.52 0-1.04.2-1.43.59L10.3 9.45l-7.72 7.72c-.78.78-.78 2.05 0 2.83L4 21.41c.39.39.9.59 1.41.59.51 0 1.02-.2 1.41-.59l7.78-7.78 2.81-2.81c.8-.78.8-2.07 0-2.86zM5.41 20L4 18.59l7.72-7.72 1.47 1.35L5.41 20z\"/>\n",
              "  </svg>\n",
              "      </button>\n",
              "      \n",
              "  <style>\n",
              "    .colab-df-container {\n",
              "      display:flex;\n",
              "      flex-wrap:wrap;\n",
              "      gap: 12px;\n",
              "    }\n",
              "\n",
              "    .colab-df-convert {\n",
              "      background-color: #E8F0FE;\n",
              "      border: none;\n",
              "      border-radius: 50%;\n",
              "      cursor: pointer;\n",
              "      display: none;\n",
              "      fill: #1967D2;\n",
              "      height: 32px;\n",
              "      padding: 0 0 0 0;\n",
              "      width: 32px;\n",
              "    }\n",
              "\n",
              "    .colab-df-convert:hover {\n",
              "      background-color: #E2EBFA;\n",
              "      box-shadow: 0px 1px 2px rgba(60, 64, 67, 0.3), 0px 1px 3px 1px rgba(60, 64, 67, 0.15);\n",
              "      fill: #174EA6;\n",
              "    }\n",
              "\n",
              "    [theme=dark] .colab-df-convert {\n",
              "      background-color: #3B4455;\n",
              "      fill: #D2E3FC;\n",
              "    }\n",
              "\n",
              "    [theme=dark] .colab-df-convert:hover {\n",
              "      background-color: #434B5C;\n",
              "      box-shadow: 0px 1px 3px 1px rgba(0, 0, 0, 0.15);\n",
              "      filter: drop-shadow(0px 1px 2px rgba(0, 0, 0, 0.3));\n",
              "      fill: #FFFFFF;\n",
              "    }\n",
              "  </style>\n",
              "\n",
              "      <script>\n",
              "        const buttonEl =\n",
              "          document.querySelector('#df-56791c14-d664-4d96-aa53-2d9e7248b0dd button.colab-df-convert');\n",
              "        buttonEl.style.display =\n",
              "          google.colab.kernel.accessAllowed ? 'block' : 'none';\n",
              "\n",
              "        async function convertToInteractive(key) {\n",
              "          const element = document.querySelector('#df-56791c14-d664-4d96-aa53-2d9e7248b0dd');\n",
              "          const dataTable =\n",
              "            await google.colab.kernel.invokeFunction('convertToInteractive',\n",
              "                                                     [key], {});\n",
              "          if (!dataTable) return;\n",
              "\n",
              "          const docLinkHtml = 'Like what you see? Visit the ' +\n",
              "            '<a target=\"_blank\" href=https://colab.research.google.com/notebooks/data_table.ipynb>data table notebook</a>'\n",
              "            + ' to learn more about interactive tables.';\n",
              "          element.innerHTML = '';\n",
              "          dataTable['output_type'] = 'display_data';\n",
              "          await google.colab.output.renderOutput(dataTable, element);\n",
              "          const docLink = document.createElement('div');\n",
              "          docLink.innerHTML = docLinkHtml;\n",
              "          element.appendChild(docLink);\n",
              "        }\n",
              "      </script>\n",
              "    </div>\n",
              "  </div>\n",
              "  "
            ]
          },
          "metadata": {},
          "execution_count": 162
        }
      ]
    },
    {
      "cell_type": "code",
      "source": [
        "df.shape"
      ],
      "metadata": {
        "colab": {
          "base_uri": "https://localhost:8080/"
        },
        "id": "P3n3B0cFGHoH",
        "outputId": "7a4b07a2-dbf3-4795-a02d-f38eb45835c5"
      },
      "execution_count": 163,
      "outputs": [
        {
          "output_type": "execute_result",
          "data": {
            "text/plain": [
              "(449506, 36)"
            ]
          },
          "metadata": {},
          "execution_count": 163
        }
      ]
    },
    {
      "cell_type": "markdown",
      "source": [
        "## Questions"
      ],
      "metadata": {
        "id": "RUP00hADfs1N"
      }
    },
    {
      "cell_type": "markdown",
      "source": [
        "### 1) source of your data\n",
        "\n",
        "The data comes from the New York City Police Department.\n",
        "\n",
        "https://data.cityofnewyork.us/Public-Safety/NYPD-Complaint-Data-Current-Year-To-Date-/5uac-w243\n"
      ],
      "metadata": {
        "id": "q9twhacHf_bd"
      }
    },
    {
      "cell_type": "markdown",
      "source": [
        "### 2) Brief description of data\n",
        "\n",
        "The data includes report information about crimes reported to the NYPD. (Location: Coordinates and Descriptive; Day and Time; Suspect Profile Information; Victim Profile Information; Weather; and several others)"
      ],
      "metadata": {
        "id": "s68fUeMogD_g"
      }
    },
    {
      "cell_type": "markdown",
      "source": [
        "### 3) What is the target?\n",
        "\n",
        "The target is `\"LAW_CAT_CD\"`, which is the level of offense (felony, misdemeanor, violation)."
      ],
      "metadata": {
        "id": "rsKJOX6PgKZV"
      }
    },
    {
      "cell_type": "markdown",
      "source": [
        "###  4) Is this a classification or regression problem?\n",
        "\n",
        "This will be a classification problem."
      ],
      "metadata": {
        "id": "QXfpkTOOgNlh"
      }
    },
    {
      "cell_type": "markdown",
      "source": [
        "### 5) How many features?\n",
        "Although the dataset has 35 features after being separated from the target, many of them are unnecessary and should be removed before any modeling is done.\n",
        "\n",
        "For example, there are multiple location features. Two pair of which express the same coordinate information in two different coordiante systems.\n",
        "\n",
        "There are also several features that are codes which ways of encoding report information and should not be used. They do not predict the target. They were explictly created by the reporting system after the crime was reported and cannot be used to predict future events (they postdict).\n",
        "\n",
        "A thourough examination of the data will be required to determine all the features that should be removed before modeling.\n"
      ],
      "metadata": {
        "id": "P_GxKXwmgRkL"
      }
    },
    {
      "cell_type": "markdown",
      "source": [
        "### 6) How many rows of data.\n",
        "\n",
        "The dataset has 449,506 rows of data"
      ],
      "metadata": {
        "id": "XKFujSFJgU0T"
      }
    },
    {
      "cell_type": "markdown",
      "source": [
        "### 7) What, if any, challenges do your foresee in cleaning, exploring, or modeling with this dataset?\n",
        "\n",
        "There are several columns which have a lot of missing values. Some missing values may be acceptable (`\"PARKS_NM\"` has no value if the occurance did not happen in a park), and can be accomadated.\n",
        "\n",
        "And as mentioned above in question 5, several of the columns should not be used because they may have values that are determined by the target values. Determining which ones may take some research.\n",
        "\n",
        "Some columns (such as some of the description columns) have multiple values within a single cell. It may be necessary to break them apart into their component values."
      ],
      "metadata": {
        "id": "BWc7tBFagXQz"
      }
    },
    {
      "cell_type": "markdown",
      "source": [
        ""
      ],
      "metadata": {
        "id": "7QfE9Qwf4roi"
      }
    },
    {
      "cell_type": "markdown",
      "source": [
        "#Data Dictionary\n",
        "\n",
        "Column Name|Description|Type\n",
        "-|-|-\n",
        "CMPLNT_NUM|Randomly generated persistent ID for each complaint|Number\n",
        "ADDR_PCT_CD|The precinct in which the incident occurred|Number\n",
        "BORO_NM|The name of the borough in which the incident occurred|Plain Text\n",
        "CMPLNT_FR_DT|Exact date of occurrence for the reported event (or starting date of occurrence, if CMPLNT_TO_DT exists)|Date & Time\n",
        "CMPLNT_FR_TM|Exact time of occurrence for the reported event (or starting time of occurrence, if CMPLNT_TO_TM exists)|Plain Text\n",
        "CMPLNT_TO_DT|Ending date of occurrence for the reported event, if exact time of occurrence is unknown|Date & Time\n",
        "CMPLNT_TO_TM|Ending time of occurrence for the reported event, if exact time of occurrence is unknown|Plain Text\n",
        "CRM_ATPT_CPTD_CD|Indicator of whether crime was successfully completed or attempted, but failed or was interrupted prematurely|Plain Text\n",
        "HADEVELOPT|Name of NYCHA housing development of occurrence, if applicable|Plain Text\n",
        "HOUSING_PSA|Development Level Code|Number\n",
        "JURISDICTION_CODE|Jurisdiction responsible for incident. Either internal, like Police(0), Transit(1), and Housing(2); or external(3), like Correction, Port Authority, etc.|Number\n",
        "JURIS_DESC|Description of the jurisdiction code|Plain Text\n",
        "KY_CD|Three digit offense classification code|Number\n",
        "LAW_CAT_CD|Level of offense: felony, misdemeanor, violation|Plain Text\n",
        "LOC_OF_OCCUR_DESC|Specific location of occurrence in or around the premises; inside, opposite of, front of, rear of|Plain Text\n",
        "OFNS_DESC|Description of offense corresponding with key code|Plain Text\n",
        "PARKS_NM|Name of NYC park, playground or greenspace of occurrence, if applicable (state parks are not included)|Plain Text\n",
        "PATROL_BORO|The name of the patrol borough in which the incident occurred|Plain Text\n",
        "PD_CD|Three digit internal classification code (more granular than Key Code)|Number\t\n",
        "PD_DESC|Description of internal classification corresponding with PD code (more granular than Offense Description)|Plain Text\n",
        "PREM_TYP_DESC|Specific description of premises; grocery store, residence, street, etc.|Plain Text\n",
        "RPT_DT|Date event was reported to police|Date & Time\n",
        "STATION_NAME|Transit station name|Plain Text\n",
        "SUSP_AGE_GROUP|Suspect’s Age Group|Plain Text\n",
        "SUSP_RACE|Suspect’s Race Description|Plain Text\n",
        "SUSP_SEX|Suspect’s Sex Description|Plain Text\n",
        "TRANSIT_DISTRICT|Transit district in which the offense occurred.|Number\t\n",
        "VIC_AGE_GROUP|Victim’s Age Group|Plain Text\n",
        "VIC_RACE|Victim’s Race Description|Plain Text\n",
        "VIC_SEX|Victim’s Sex Description|Plain Text\n",
        "X_COORD_CD|X-coordinate for New York State Plane Coordinate System, Long Island Zone, NAD 83, units feet (FIPS 3104)|Number\n",
        "Y_COORD_CD|Y-coordinate for New York State Plane Coordinate System, Long Island Zone, NAD 83, units feet (FIPS 3104)|Number\n",
        "Latitude|Midblock Latitude coordinate for Global Coordinate System, WGS 1984, decimal degrees (EPSG 4326)|Number\n",
        "Longitude|Midblock Longitude coordinate for Global Coordinate System, WGS 1984, decimal degrees (EPSG 4326)|Number\n",
        "Lat_Lon||Location\n",
        "New Georeferenced Column||Point"
      ],
      "metadata": {
        "id": "CjvWc9lH-DPT"
      }
    },
    {
      "cell_type": "markdown",
      "source": [
        "# 1 . Load Data"
      ],
      "metadata": {
        "id": "svM_yJyf4s95"
      }
    },
    {
      "cell_type": "code",
      "source": [
        "# from google.colab import drive\n",
        "# drive.mount(\"/content/drive\")"
      ],
      "metadata": {
        "id": "-5mAG4iC4xIh"
      },
      "execution_count": 164,
      "outputs": []
    },
    {
      "cell_type": "code",
      "source": [
        "# import numpy as np\n",
        "# import pandas as pd"
      ],
      "metadata": {
        "id": "pl75WLjI44OW"
      },
      "execution_count": 165,
      "outputs": []
    },
    {
      "cell_type": "code",
      "source": [
        "# df = pd.read_csv(\"/content/drive/MyDrive/Coding Dojo/Data Folder/NYPD_Complaint_Data_Current__Year_To_Date_.csv\")"
      ],
      "metadata": {
        "id": "CjYdd5nk8QOB"
      },
      "execution_count": 166,
      "outputs": []
    },
    {
      "cell_type": "code",
      "source": [
        "df.info()"
      ],
      "metadata": {
        "colab": {
          "base_uri": "https://localhost:8080/"
        },
        "id": "cglB3oDK8Xav",
        "outputId": "5a650cf2-c37c-4208-f2b9-d9a94b0d39dc"
      },
      "execution_count": 167,
      "outputs": [
        {
          "output_type": "stream",
          "name": "stdout",
          "text": [
            "<class 'pandas.core.frame.DataFrame'>\n",
            "RangeIndex: 449506 entries, 0 to 449505\n",
            "Data columns (total 36 columns):\n",
            " #   Column                    Non-Null Count   Dtype  \n",
            "---  ------                    --------------   -----  \n",
            " 0   CMPLNT_NUM                449506 non-null  int64  \n",
            " 1   ADDR_PCT_CD               449506 non-null  int64  \n",
            " 2   BORO_NM                   448355 non-null  object \n",
            " 3   CMPLNT_FR_DT              449506 non-null  object \n",
            " 4   CMPLNT_FR_TM              449506 non-null  object \n",
            " 5   CMPLNT_TO_DT              409416 non-null  object \n",
            " 6   CMPLNT_TO_TM              409568 non-null  object \n",
            " 7   CRM_ATPT_CPTD_CD          449345 non-null  object \n",
            " 8   HADEVELOPT                1577 non-null    object \n",
            " 9   HOUSING_PSA               32583 non-null   float64\n",
            " 10  JURISDICTION_CODE         449023 non-null  float64\n",
            " 11  JURIS_DESC                449506 non-null  object \n",
            " 12  KY_CD                     449506 non-null  int64  \n",
            " 13  LAW_CAT_CD                449506 non-null  object \n",
            " 14  LOC_OF_OCCUR_DESC         375243 non-null  object \n",
            " 15  OFNS_DESC                 449497 non-null  object \n",
            " 16  PARKS_NM                  3192 non-null    object \n",
            " 17  PATROL_BORO               449023 non-null  object \n",
            " 18  PD_CD                     449023 non-null  float64\n",
            " 19  PD_DESC                   449023 non-null  object \n",
            " 20  PREM_TYP_DESC             448236 non-null  object \n",
            " 21  RPT_DT                    449506 non-null  object \n",
            " 22  STATION_NAME              8976 non-null    object \n",
            " 23  SUSP_AGE_GROUP            361372 non-null  object \n",
            " 24  SUSP_RACE                 361372 non-null  object \n",
            " 25  SUSP_SEX                  361372 non-null  object \n",
            " 26  TRANSIT_DISTRICT          8976 non-null    float64\n",
            " 27  VIC_AGE_GROUP             449506 non-null  object \n",
            " 28  VIC_RACE                  449425 non-null  object \n",
            " 29  VIC_SEX                   449506 non-null  object \n",
            " 30  X_COORD_CD                449506 non-null  int64  \n",
            " 31  Y_COORD_CD                449506 non-null  int64  \n",
            " 32  Latitude                  449506 non-null  float64\n",
            " 33  Longitude                 449506 non-null  float64\n",
            " 34  Lat_Lon                   449506 non-null  object \n",
            " 35  New Georeferenced Column  449506 non-null  object \n",
            "dtypes: float64(6), int64(5), object(25)\n",
            "memory usage: 123.5+ MB\n"
          ]
        }
      ]
    },
    {
      "cell_type": "markdown",
      "source": [
        "Given that there are 36 rows, I will construct a function that will let me examine the kind of data within the row and how much data is missing."
      ],
      "metadata": {
        "id": "e-xzZ7RSu-uz"
      }
    },
    {
      "cell_type": "code",
      "source": [
        "# Function for showing unique values and missing rows from columns of a dataframe\n",
        "def show_column_values(dataframe,column_list=[]):\n",
        "    for col in column_list:\n",
        "        print(f\"{col:>18} : {dataframe[col].nunique():>5} : {dataframe[col].value_counts().sort_index().index.to_list()}\")\n",
        "        print(f\"{':':>20} {dataframe.loc[ df[col].isna() , col].duplicated().sum():>5} : Rows Missing Data\\n\")"
      ],
      "metadata": {
        "id": "7V_pjgsYvDKY"
      },
      "execution_count": 168,
      "outputs": []
    },
    {
      "cell_type": "markdown",
      "source": [
        "## 1 . 2 . Identify the Target"
      ],
      "metadata": {
        "id": "G0CGIphEsa1A"
      }
    },
    {
      "cell_type": "markdown",
      "source": [
        "The target value for this analysis is the level of the offense.\n",
        "* `\"LAW_CAT_CD\"`\n",
        "    > The level of the offense: felony, misdemeanor, or violation."
      ],
      "metadata": {
        "id": "sRcup3zPtM4J"
      }
    },
    {
      "cell_type": "code",
      "source": [
        "show_column_values(df,[\"LAW_CAT_CD\"])"
      ],
      "metadata": {
        "colab": {
          "base_uri": "https://localhost:8080/"
        },
        "id": "3YKX8D6Wt_qS",
        "outputId": "20c409d2-3a5a-4302-caa2-6f38bc40b379"
      },
      "execution_count": 169,
      "outputs": [
        {
          "output_type": "stream",
          "name": "stdout",
          "text": [
            "        LAW_CAT_CD :     3 : ['FELONY', 'MISDEMEANOR', 'VIOLATION']\n",
            "                   :     0 : Rows Missing Data\n",
            "\n"
          ]
        }
      ]
    },
    {
      "cell_type": "markdown",
      "source": [
        "If a greater distinction amoung the crimes is required, then an alternate target can be `\"OFNS_DESC\"`."
      ],
      "metadata": {
        "id": "Ux6fx75QrzP3"
      }
    },
    {
      "cell_type": "markdown",
      "source": [
        "# 2 . Uniqueness and Duplication"
      ],
      "metadata": {
        "id": "Eeg5idykSK2s"
      }
    },
    {
      "cell_type": "markdown",
      "source": [
        "Each data row is suppose to represent a single unique complaint identified in the `\"CMPLNT__NUM\"` column. So there should be no duplicates."
      ],
      "metadata": {
        "id": "XC0NCWMQFpbf"
      }
    },
    {
      "cell_type": "code",
      "source": [
        "print(f\"{df.shape[0]} Rows in the data table\")\n",
        "print(f\"{df['CMPLNT_NUM'].nunique()} Unique Entries in the complaint number column\")\n",
        "print(f\"{df.duplicated().sum():>6} Duplicated table rows\")"
      ],
      "metadata": {
        "colab": {
          "base_uri": "https://localhost:8080/"
        },
        "id": "BztrCtuv9hxD",
        "outputId": "3839d580-9159-452b-f26b-60e3c090a059"
      },
      "execution_count": 170,
      "outputs": [
        {
          "output_type": "stream",
          "name": "stdout",
          "text": [
            "449506 Rows in the data table\n",
            "449506 Unique Entries in the complaint number column\n",
            "     0 Duplicated table rows\n"
          ]
        }
      ]
    },
    {
      "cell_type": "markdown",
      "source": [
        "Verified that no rows are duplicated.\n",
        "\n",
        "Since the values for `\"CMPLNT_NUM\"` are unique integers for each row, they can be used as the row index."
      ],
      "metadata": {
        "id": "ehPhU4YnnsS-"
      }
    },
    {
      "cell_type": "code",
      "source": [
        "df.set_index(\"CMPLNT_NUM\",inplace=True);"
      ],
      "metadata": {
        "id": "6MMWFqSKB91K"
      },
      "execution_count": 171,
      "outputs": []
    },
    {
      "cell_type": "markdown",
      "source": [
        "Now that the unique complaint number has been changed to the index, I can check again for duplicate rows. These new duplicates will indicate that there were probably mulitple suspects or mutiple victims at each incident, with each addtional suspect or victim contributing to new rows in the data table."
      ],
      "metadata": {
        "id": "eWUNvSx5qJUN"
      }
    },
    {
      "cell_type": "code",
      "source": [
        "print(f\"{df.duplicated().sum()} Duplicated table rows\")"
      ],
      "metadata": {
        "colab": {
          "base_uri": "https://localhost:8080/"
        },
        "id": "kIFcupY2vVUH",
        "outputId": "dafec23a-9a10-4dad-9580-ade60deb337f"
      },
      "execution_count": 172,
      "outputs": [
        {
          "output_type": "stream",
          "name": "stdout",
          "text": [
            "1576 Duplicated table rows\n"
          ]
        }
      ]
    },
    {
      "cell_type": "markdown",
      "source": [
        "Now I must make a choice of whether I will drop these new duplicates. I can either drop them and only consider each group of new duplicates as a single event. Or I can keep them and consider each new duplicate a separate event.\n",
        "\n",
        "From a resource perspective, I will consider each new duplicate a separate event. Although these new duplicates happen in groups, it may require more resources to respond to a single group of events.\n",
        "\n",
        "This choice may effect the results based on how often these groups of event occur."
      ],
      "metadata": {
        "id": "uhvELV_nvb9_"
      }
    },
    {
      "cell_type": "code",
      "source": [
        "print(f\"New duplicates account for {df.duplicated().sum() / df.shape[0]*100:.2f}% of all complaints.\")"
      ],
      "metadata": {
        "colab": {
          "base_uri": "https://localhost:8080/"
        },
        "id": "0eqmVix5vaf_",
        "outputId": "355a0526-d302-4914-f528-a9a235a3a69f"
      },
      "execution_count": 173,
      "outputs": [
        {
          "output_type": "stream",
          "name": "stdout",
          "text": [
            "New duplicates account for 0.35% of all complaints.\n"
          ]
        }
      ]
    },
    {
      "cell_type": "markdown",
      "source": [
        "Since the new duplicates only account for just over a third of one percent, they are not very common (less than four out of every thousand).\n",
        "\n",
        "Further justification for keeping these new duplicate can be found by considering who may be invovled. These duplicates are those where the suspects and victims necessarily share demographic characteristics. If a single group of events had suspects and victims with different demographic characteristics, then data rows conresponding the these different individuals would not be duplicates.\n",
        "\n",
        "At this stage in the analysis, I am not yet prepared to determine any group events that have non-duplicated rows of data. After I do so, it will be possible to do comparative analysis to see if grouping simultaneous events as a single occurance has any detectable consequences. There may be some applications where such grouping is a better measure than having them treated as separate these events."
      ],
      "metadata": {
        "id": "RTESTYy5yEag"
      }
    },
    {
      "cell_type": "markdown",
      "source": [
        "# 3 . Eliminating Unnecessary Columns"
      ],
      "metadata": {
        "id": "_CEUmEpnSFwB"
      }
    },
    {
      "cell_type": "markdown",
      "source": [
        "In building a model that can help me understand where different kinds of crimes are happening, I need to separate the information that can be used to help allocate resources from the information that which cannot.\n",
        "\n",
        "Time and location are quantities that must occur for any complaint, and exist even if there is no complaint. These are also important criteria to use when allocating resorces. Without these pieces of information there is no framework for understanding the layout of the city.\n",
        "\n",
        "Since I will be dropping columns several times, I will make a function to assist me and report how many columns remain.\n"
      ],
      "metadata": {
        "id": "RRHhaHNl6yLb"
      }
    },
    {
      "cell_type": "code",
      "source": [
        "# Function for dropping a list of columns from a dataframe and reporting it\n",
        "def drop_columns(dataframe, column_list=[]):\n",
        "    print(f\"{dataframe.shape[1]} columns before the drop.\")\n",
        "    dataframe.drop(columns=column_list, inplace=True)\n",
        "    print(f\"{dataframe.shape[1]} columns after the drop.\")"
      ],
      "metadata": {
        "id": "piPPWZYuJl1O"
      },
      "execution_count": 174,
      "outputs": []
    },
    {
      "cell_type": "markdown",
      "source": [
        "## 3 . 1 . Suspect and Victim Demographics"
      ],
      "metadata": {
        "id": "a2amr1r-6hhL"
      }
    },
    {
      "cell_type": "markdown",
      "source": [
        "There are only three characteristics in the data set given for suspect and victim demographics: sex, age, and race.\n",
        "* `\"SUSP_SEX\"`, `\"VIC_SEX\"`\n",
        "> Sex of the suspect or victim\n",
        "* `\"SUSP_RACE\"`, `\"VIC_RACE\"`\n",
        "> Race of the suspect or victim\n",
        "* `\"SUSP_AGE_GROUP\"`, `\"VIC_AGE_GROUP\"`\n",
        "> Age group of the suspect or victim\n",
        "\n",
        "I can look at how these values are recorded. I will display the values in ascending order (alphabetically and increasing numerically) and how much data is missing."
      ],
      "metadata": {
        "id": "TklH_9My6mh9"
      }
    },
    {
      "cell_type": "code",
      "source": [
        "show_column_values(df,[\"SUSP_SEX\",\"SUSP_RACE\",\"SUSP_AGE_GROUP\",\"VIC_SEX\",\"VIC_RACE\",\"VIC_AGE_GROUP\"])"
      ],
      "metadata": {
        "colab": {
          "base_uri": "https://localhost:8080/"
        },
        "id": "RuL1velwA5uu",
        "outputId": "2963dcee-ae16-490d-d20d-bd264981f4fd"
      },
      "execution_count": 175,
      "outputs": [
        {
          "output_type": "stream",
          "name": "stdout",
          "text": [
            "          SUSP_SEX :     3 : ['F', 'M', 'U']\n",
            "                   : 88133 : Rows Missing Data\n",
            "\n",
            "         SUSP_RACE :     7 : ['AMERICAN INDIAN/ALASKAN NATIVE', 'ASIAN / PACIFIC ISLANDER', 'BLACK', 'BLACK HISPANIC', 'UNKNOWN', 'WHITE', 'WHITE HISPANIC']\n",
            "                   : 88133 : Rows Missing Data\n",
            "\n",
            "    SUSP_AGE_GROUP :    26 : ['-33', '-60', '-69', '-941', '-946', '-947', '-955', '-966', '-969', '-971', '-973', '-975', '1017', '1032', '1056', '18-24', '2021', '25-44', '45-64', '65+', '938', '940', '942', '953', '<18', 'UNKNOWN']\n",
            "                   : 88133 : Rows Missing Data\n",
            "\n",
            "           VIC_SEX :     4 : ['D', 'E', 'F', 'M']\n",
            "                   :     0 : Rows Missing Data\n",
            "\n",
            "          VIC_RACE :     7 : ['AMERICAN INDIAN/ALASKAN NATIVE', 'ASIAN / PACIFIC ISLANDER', 'BLACK', 'BLACK HISPANIC', 'UNKNOWN', 'WHITE', 'WHITE HISPANIC']\n",
            "                   :    80 : Rows Missing Data\n",
            "\n",
            "     VIC_AGE_GROUP :    21 : ['-1', '-3', '-4', '-48', '-51', '-61', '-62', '-921', '-935', '-943', '-960', '18-24', '25-44', '45-64', '65+', '936', '945', '963', '970', '<18', 'UNKNOWN']\n",
            "                   :     0 : Rows Missing Data\n",
            "\n"
          ]
        }
      ]
    },
    {
      "cell_type": "markdown",
      "source": [
        "These won't be very helpful to understand how crime is distributed as people matching these descriptions can be found throughout the city. Further, many complaints have no information about the suspect. And victims can include businesses and organizations (sex `\"D\"`) and the People of the State of New York  (sex `\"E\"`)\n",
        "\n",
        "A quick calculation can even show how much suspect information is unavailable. (As per the NYPD Complaints Incident Level Data Footnotes, item number 2, null values should be considered as either \"Unknown/Not Available/Not Reported\")."
      ],
      "metadata": {
        "id": "RiU-0Ip-MXUh"
      }
    },
    {
      "cell_type": "code",
      "source": [
        "for col,val in zip((\"SUSP_SEX\",\"SUSP_RACE\",\"SUSP_AGE_GROUP\"),(\"U\",\"UNKNOWN\",\"UNKNOWN\")):\n",
        "    print(f\"{df.loc[ df[col]==val , col].count() /  df[col].shape[0] * 100:.2f}% Rows with {col} {val}\")\n",
        "    print(f\"{df[col].isna().sum() /  df[col].shape[0] * 100:.2f}% Rows with {col} null\")\n",
        "    print(f\"{(df[col].isna().sum()+df.loc[ df[col]==val , col].count()) /  df[col].shape[0] * 100:.2f}% Total Rows\\n\")"
      ],
      "metadata": {
        "colab": {
          "base_uri": "https://localhost:8080/"
        },
        "id": "Abmfn3fzGyeY",
        "outputId": "60ad9c21-c228-4c75-e4ad-2a7e2acd7cff"
      },
      "execution_count": 176,
      "outputs": [
        {
          "output_type": "stream",
          "name": "stdout",
          "text": [
            "21.14% Rows with SUSP_SEX U\n",
            "19.61% Rows with SUSP_SEX null\n",
            "40.75% Total Rows\n",
            "\n",
            "24.82% Rows with SUSP_RACE UNKNOWN\n",
            "19.61% Rows with SUSP_RACE null\n",
            "44.42% Total Rows\n",
            "\n",
            "37.32% Rows with SUSP_AGE_GROUP UNKNOWN\n",
            "19.61% Rows with SUSP_AGE_GROUP null\n",
            "56.92% Total Rows\n",
            "\n"
          ]
        }
      ]
    },
    {
      "cell_type": "markdown",
      "source": [
        "With this much information unavailable (over 40%), these columns would be problamatic if they were kept. So I will drop these from the working dataframe. (This is even without considering all the additional age values that don't represent real ages.)"
      ],
      "metadata": {
        "id": "oCcyJcFwXTb9"
      }
    },
    {
      "cell_type": "code",
      "source": [
        "drop_columns(df,[\"SUSP_SEX\",\"SUSP_RACE\",\"SUSP_AGE_GROUP\",\"VIC_SEX\",\"VIC_RACE\",\"VIC_AGE_GROUP\"])"
      ],
      "metadata": {
        "colab": {
          "base_uri": "https://localhost:8080/"
        },
        "id": "oJ9lVE5DYLEW",
        "outputId": "bfc8217f-f3e5-43bc-86f3-958bb5f99630"
      },
      "execution_count": 177,
      "outputs": [
        {
          "output_type": "stream",
          "name": "stdout",
          "text": [
            "35 columns before the drop.\n",
            "29 columns after the drop.\n"
          ]
        }
      ]
    },
    {
      "cell_type": "markdown",
      "source": [
        "## 3 . 2 . Location Data"
      ],
      "metadata": {
        "id": "qF7UJiMcRBGx"
      }
    },
    {
      "cell_type": "markdown",
      "source": [
        "There are several columns that descibe the location of the complaint. Some of them are too general, others are too specific, and some are redudant.\n",
        "\n",
        "\n",
        "\n",
        "Primary Location Information\n",
        "* `\"ADDR_PCT_CD\"` (Precinct) (KEEP)\n",
        ">New York is divided into 77 precincts. This is the level that neighborhood communities and law enforcement will typically interact. Additionally, some offenses are assigned alternate locations than where they actually occured. (NYPD Complaints Incident Level Data Footnotes, items number 10 through 13, 15). This makes location resolution smaller than the precinct level less accurate.\n",
        "\n",
        "Too General\n",
        "*  `\"BORO_NM\"` (Borough) (DROP)\n",
        ">New York City has five boroughs. Each has a significantly large population density (four of which are greater than any other city in the country). Locating where events occur by borough is too broad, so I will drop the column. If for some reason the boroughs should become an important feature to include, then it can be added back in as each precinct is within a specific borough (there is the exception of Marble Hill).\n",
        "\n",
        "* `\"PATROL_BORO\"` (Patrol Borough) (DROP)\n",
        ">The patrol borough value  divides three of the boroughs into a north and south region. But otherwise, the size of these patrol boroughs are still too broad.\n",
        "\n",
        "Too Specific and Redundant\n",
        "\n",
        "* `\"Latitude\"` and `\"Longitude\"` (DROP)\n",
        "    > Geographical location given in the Global Coordinate System. If a smaller resolution than precinct should be needed, these coordinates can be used to help reconstruct the necessary information information. If doing so, it must be kept in mind that coordinates which are not relocated will be approximations to the nearest mid-block or street intersection. This falls in line with the NYPD Complaints Incident Level Data Footnotes, item 9, which states that trying to match locations to an exact address is not recommended.\n",
        "* `\"Lat_Lon\"` and `\"New Georeferenced Column\"` (DROP)\n",
        "    > The latitude and longitude coordinates given as an ordered pair. The new georeferenced column reverses the order of the latitude-longitude ordered pair. Because these ordered pairs contain the same information as the latitude and longitude, they provide no new information.\n",
        "* `\"X_COORD_CD\"` and `\"Y_COORD_CD\"` (DROP)\n",
        "    >  Geographical location given in the New York State Plane Coordinate System. These coordinates can be determined by transforming the latitude and longitude, so provide no new information."
      ],
      "metadata": {
        "id": "FEoOrvI8Oi94"
      }
    },
    {
      "cell_type": "code",
      "source": [
        "drop_columns(df,[\"BORO_NM\", \"PATROL_BORO\", \"X_COORD_CD\",\"Y_COORD_CD\",\"Latitude\",\"Longitude\",\"Lat_Lon\",\"New Georeferenced Column\"])"
      ],
      "metadata": {
        "colab": {
          "base_uri": "https://localhost:8080/"
        },
        "id": "fjasq6rxN2Rg",
        "outputId": "ecfabd99-a672-4e3b-ec46-23c394cf439c"
      },
      "execution_count": 178,
      "outputs": [
        {
          "output_type": "stream",
          "name": "stdout",
          "text": [
            "29 columns before the drop.\n",
            "21 columns after the drop.\n"
          ]
        }
      ]
    },
    {
      "cell_type": "markdown",
      "source": [
        "## 3 . 3 . Location Descriptions"
      ],
      "metadata": {
        "id": "moajxmImcszd"
      }
    },
    {
      "cell_type": "markdown",
      "source": [
        "These columns describe attributes about the locations where the complaint occurred.\n",
        "\n",
        "* `\"PREM_TYP_DESC\"` (Premise Type Description) (KEEP)\n",
        ">This describe the type of premise where the complaint occurred. The distribution of location types may be a factor in identifying areas more susceptible to crimes as there may be an association between the type of crime and the type of location.\n",
        ">\n",
        ">This is not a smaller resolution than the precinct, as for most values it doesn't identify where within a precinct an event occurs. (Some exceptions can be identified, but are not common. For example, if the value is `\"CEMETARY\"` and there is only one cemetary in the precinct if won't be difficult to geo-locate the crime.)\n",
        "\n",
        "* `\"LOC_OF_OCCUR_DESC\"` (DROP)\n",
        ">This describes the specific location on the premises the crime occured. Although important for an investigation, I don't believe this is particularly helpful for understanding the distribution of crime throughout the city.\n",
        " \n",
        "The values in each column are listed below.\n",
        "\n",
        "\n",
        "\n",
        "\n"
      ],
      "metadata": {
        "id": "XWUn1NogWCL_"
      }
    },
    {
      "cell_type": "code",
      "source": [
        "show_column_values(df,[\"PREM_TYP_DESC\",\"LOC_OF_OCCUR_DESC\"])"
      ],
      "metadata": {
        "colab": {
          "base_uri": "https://localhost:8080/"
        },
        "id": "mFlDn6rVcWLr",
        "outputId": "2276ad9d-5e20-40d2-f91d-40749361e492"
      },
      "execution_count": 179,
      "outputs": [
        {
          "output_type": "stream",
          "name": "stdout",
          "text": [
            "     PREM_TYP_DESC :    74 : ['ABANDONED BUILDING', 'AIRPORT TERMINAL', 'ATM', 'BANK', 'BAR/NIGHT CLUB', 'BEAUTY & NAIL SALON', 'BOOK/CARD', 'BRIDGE', 'BUS (NYC TRANSIT)', 'BUS (OTHER)', 'BUS STOP', 'BUS TERMINAL', 'CANDY STORE', 'CEMETERY', 'CHAIN STORE', 'CHECK CASHING BUSINESS', 'CHURCH', 'CLOTHING/BOUTIQUE', 'COMMERCIAL BUILDING', 'CONSTRUCTION SITE', 'DAYCARE FACILITY', 'DEPARTMENT STORE', 'DOCTOR/DENTIST OFFICE', 'DRUG STORE', 'DRY CLEANER/LAUNDRY', 'FACTORY/WAREHOUSE', 'FAST FOOD', 'FERRY/FERRY TERMINAL', 'FOOD SUPERMARKET', 'GAS STATION', 'GROCERY/BODEGA', 'GYM/FITNESS FACILITY', 'HIGHWAY/PARKWAY', 'HOMELESS SHELTER', 'HOSPITAL', 'HOTEL/MOTEL', 'JEWELRY', 'LIQUOR STORE', 'LOAN COMPANY', 'MAILBOX INSIDE', 'MAILBOX OUTSIDE', 'MARINA/PIER', 'MOSQUE', 'OPEN AREAS (OPEN LOTS)', 'OTHER', 'OTHER HOUSE OF WORSHIP', 'PARK/PLAYGROUND', 'PARKING LOT/GARAGE (PRIVATE)', 'PARKING LOT/GARAGE (PUBLIC)', 'PHOTO/COPY', 'PRIVATE/PAROCHIAL SCHOOL', 'PUBLIC BUILDING', 'PUBLIC SCHOOL', 'RESIDENCE - APT. HOUSE', 'RESIDENCE - PUBLIC HOUSING', 'RESIDENCE-HOUSE', 'RESTAURANT/DINER', 'SHOE', 'SMALL MERCHANT', 'SOCIAL CLUB/POLICY', 'STORAGE FACILITY', 'STORE UNCLASSIFIED', 'STREET', 'SYNAGOGUE', 'TAXI (LIVERY LICENSED)', 'TAXI (YELLOW LICENSED)', 'TAXI/LIVERY (UNLICENSED)', 'TELECOMM. STORE', 'TRAMWAY', 'TRANSIT - NYC SUBWAY', 'TRANSIT FACILITY (OTHER)', 'TUNNEL', 'VARIETY STORE', 'VIDEO STORE']\n",
            "                   :  1269 : Rows Missing Data\n",
            "\n",
            " LOC_OF_OCCUR_DESC :     5 : ['FRONT OF', 'INSIDE', 'OPPOSITE OF', 'OUTSIDE', 'REAR OF']\n",
            "                   : 74262 : Rows Missing Data\n",
            "\n"
          ]
        }
      ]
    },
    {
      "cell_type": "markdown",
      "source": [
        "The values in `\"PREM_TYP_DESC\"` are clearly meant to distinguish different type of locations. Some are similar, and can potentially be merged into common categories if the need should arise (such as the mulitple types of residences).\n"
      ],
      "metadata": {
        "id": "LGw6xzOBco-D"
      }
    },
    {
      "cell_type": "code",
      "source": [
        "drop_columns(df,[\"LOC_OF_OCCUR_DESC\"])"
      ],
      "metadata": {
        "colab": {
          "base_uri": "https://localhost:8080/"
        },
        "id": "B2K58h1KhPP4",
        "outputId": "cc95dd01-b7f7-4615-bf8f-73e711430788"
      },
      "execution_count": 180,
      "outputs": [
        {
          "output_type": "stream",
          "name": "stdout",
          "text": [
            "21 columns before the drop.\n",
            "20 columns after the drop.\n"
          ]
        }
      ]
    },
    {
      "cell_type": "markdown",
      "source": [
        "## 3 . 4 . Special Locations"
      ],
      "metadata": {
        "id": "54AFILIVh8VH"
      }
    },
    {
      "cell_type": "markdown",
      "source": [
        "There are a few columns that provide special location information.\n",
        "* `\"HADEVELOPT\"` (DROP)\n",
        "    > Name of a New York City Housing Authority Development, if applicable.\n",
        "* `\"PARKS_NM\"` (DROP)\n",
        "    >  Name of a New York City park, playground, or greenspace, if applicable.\n",
        "* `\"STATION_NAME\"` (DROP)\n",
        "    > Name of a Transit Station, if applicable.\n",
        "* `\"TRANSIT_DISTRICT\"` (DROP)\n",
        "    > Name of a Transit District, if applicable.\n",
        "\n",
        "Each of these features probably provides too much resolution or nuance for the purposes of this project. I can check that each of these columns is strongly associated with the corresponding descriptions from the `\"PREM_TYP_DESC\"` column.\n",
        "\n"
      ],
      "metadata": {
        "id": "GIsj08DNiEq4"
      }
    },
    {
      "cell_type": "code",
      "source": [
        "print(\"Greatest Premise Type Description for Each Special Location Type\")\n",
        "for col in [\"HADEVELOPT\",\"PARKS_NM\",\"STATION_NAME\",\"TRANSIT_DISTRICT\"]:\n",
        "    # print the most frequent of the premise types that has a value in the iterated column\n",
        "    print(f\"{col:>16} : {df.loc[ ~df[col].isna(), 'PREM_TYP_DESC'].value_counts().index.to_list()[0]}\")\n",
        "    # print the number of occurences for the mose frequent of the premise types and all premise types that have values in the iterated column\n",
        "    print(f\"{'':>16} : {df.loc[ ~df[col].isna(), 'PREM_TYP_DESC'].value_counts()[0]} out of {df.loc[ ~df[col].isna(), 'PREM_TYP_DESC'].value_counts().sum()} data entries\")\n",
        "    # print the percent of occurences for the most frequent of the premise types that has a value in the iterated column\n",
        "    print(f\"{'':>16} : {df.loc[ ~df[col].isna(), 'PREM_TYP_DESC'].value_counts()[0]/df.loc[ ~df[col].isna(), 'PREM_TYP_DESC'].value_counts().sum()*100:.2f}%\")"
      ],
      "metadata": {
        "colab": {
          "base_uri": "https://localhost:8080/"
        },
        "id": "t3Ms7NalmRYh",
        "outputId": "411fec1b-798b-4442-e5d1-137545da1891"
      },
      "execution_count": 181,
      "outputs": [
        {
          "output_type": "stream",
          "name": "stdout",
          "text": [
            "Greatest Premise Type Description for Each Special Location Type\n",
            "      HADEVELOPT : RESIDENCE - PUBLIC HOUSING\n",
            "                 : 1530 out of 1572 data entries\n",
            "                 : 97.33%\n",
            "        PARKS_NM : PARK/PLAYGROUND\n",
            "                 : 2682 out of 3192 data entries\n",
            "                 : 84.02%\n",
            "    STATION_NAME : TRANSIT - NYC SUBWAY\n",
            "                 : 8840 out of 8976 data entries\n",
            "                 : 98.48%\n",
            "TRANSIT_DISTRICT : TRANSIT - NYC SUBWAY\n",
            "                 : 8840 out of 8976 data entries\n",
            "                 : 98.48%\n"
          ]
        }
      ]
    },
    {
      "cell_type": "markdown",
      "source": [
        "The correspondence is overwhelming, so I will drop the special locations from the dataframe."
      ],
      "metadata": {
        "id": "vbIMFtCYsmQz"
      }
    },
    {
      "cell_type": "code",
      "source": [
        "drop_columns(df,[\"HADEVELOPT\",\"PARKS_NM\",\"STATION_NAME\",\"TRANSIT_DISTRICT\"])"
      ],
      "metadata": {
        "colab": {
          "base_uri": "https://localhost:8080/"
        },
        "id": "tayshcDds7L7",
        "outputId": "681979be-6720-4a20-d32b-c0bf9dc7e40d"
      },
      "execution_count": 182,
      "outputs": [
        {
          "output_type": "stream",
          "name": "stdout",
          "text": [
            "20 columns before the drop.\n",
            "16 columns after the drop.\n"
          ]
        }
      ]
    },
    {
      "cell_type": "markdown",
      "source": [
        "## 3 . 5 . Jurisdiction"
      ],
      "metadata": {
        "id": "ggHQAuwlrNfj"
      }
    },
    {
      "cell_type": "markdown",
      "source": [
        "The jurisdiction for that is responsible for managing the response to incident can belong to one of 18 different departments. As it is unlikely that a significant number of incidences are carried out based on which authority's jurisdiction it will happen, I will drop these columns.\n",
        "* `\"JURISDICTION_CODE\"` (DROP)\n",
        "    > Numerical designation for a jurisdiction.\n",
        "* `\"JURIS_DESC\"` (DROP)\n",
        "    > Description name for a jurisdiction.\n",
        "\n"
      ],
      "metadata": {
        "id": "ZP_uN1TfteUE"
      }
    },
    {
      "cell_type": "code",
      "source": [
        "drop_columns(df,[\"JURISDICTION_CODE\",\"JURIS_DESC\"])"
      ],
      "metadata": {
        "colab": {
          "base_uri": "https://localhost:8080/"
        },
        "id": "XKDtJ2kVwIFF",
        "outputId": "eabd4ed6-9717-41fe-fa7c-897f042b928f"
      },
      "execution_count": 183,
      "outputs": [
        {
          "output_type": "stream",
          "name": "stdout",
          "text": [
            "16 columns before the drop.\n",
            "14 columns after the drop.\n"
          ]
        }
      ]
    },
    {
      "cell_type": "markdown",
      "source": [
        "## 3 . 6 . Offense Codes"
      ],
      "metadata": {
        "id": "4HQ4Vt3Bxbv9"
      }
    },
    {
      "cell_type": "markdown",
      "source": [
        "There are a few additional numerical codes that are used in this data set.\n",
        "\n",
        "* `\"OFNS_DESC\"` (DROP)\n",
        "    >Description of the offense. Types of crimes may be relevant, as differnt types will likely have different distributions throughout the city. This can be used as an alternate target if a more detailed analysis should be required. Otherwise, it should be dropped because each offense belongs only to one of the severity levels of the current target.\n",
        "\n",
        "* `\"PD_DESC\"` (DROP)\n",
        "    >These codes more greatly refine the encoding of the `\"OFNS_DESC\"` column, so would indicate extra information about specific crimes which goes beyond identifying general types of crime.\n",
        "\n",
        "* `\"KY_CD\"` (DROP)\n",
        "    >These are numerical codes corresponding to the descriptive values of the `\"OFNS_DESC\"` column. This is redundent information for this analysis.\n",
        "\n",
        "* `\"PD_CD\"` (DROP)\n",
        "    >These codes more greatly refine the encoding of the `\"KY_CD\"` column, so would indicate extra information about specific crimes which goes beyond identifying general types of crime.\n"
      ],
      "metadata": {
        "id": "rPsq1c2TxftX"
      }
    },
    {
      "cell_type": "code",
      "source": [
        "drop_columns(df,[\"OFNS_DESC\",\"PD_DESC\",\"KY_CD\",\"PD_CD\"])"
      ],
      "metadata": {
        "colab": {
          "base_uri": "https://localhost:8080/"
        },
        "id": "C45CC_v1H36G",
        "outputId": "f605452c-105c-47e9-9aeb-a13158c15f54"
      },
      "execution_count": 184,
      "outputs": [
        {
          "output_type": "stream",
          "name": "stdout",
          "text": [
            "14 columns before the drop.\n",
            "10 columns after the drop.\n"
          ]
        }
      ]
    },
    {
      "cell_type": "markdown",
      "source": [
        "## 3 . 7 . Crime Completion"
      ],
      "metadata": {
        "id": "lRPSWtLFfLoK"
      }
    },
    {
      "cell_type": "markdown",
      "source": [
        "* `\"CRM_ATPT_CPTD_CD\"` (DROP)\n",
        "    > Whether or not the crime was successfully completed or not doesn't alter the fact a crime was initiated."
      ],
      "metadata": {
        "id": "TunzWeH3fV7U"
      }
    },
    {
      "cell_type": "code",
      "source": [
        "drop_columns(df,[\"CRM_ATPT_CPTD_CD\"])"
      ],
      "metadata": {
        "colab": {
          "base_uri": "https://localhost:8080/"
        },
        "id": "109xRq7QgLgE",
        "outputId": "0ec7f9ad-b605-4596-eccd-aba8f194e74f"
      },
      "execution_count": 185,
      "outputs": [
        {
          "output_type": "stream",
          "name": "stdout",
          "text": [
            "10 columns before the drop.\n",
            "9 columns after the drop.\n"
          ]
        }
      ]
    },
    {
      "cell_type": "markdown",
      "source": [
        "## 3 . 8 . Additional Codes"
      ],
      "metadata": {
        "id": "M3l1T-cEj0Gk"
      }
    },
    {
      "cell_type": "markdown",
      "source": [
        "\n",
        "* `\"HOUSING_PSA\"` (DROP) \n",
        "    >I am assuming this column is related to the Police Service Areas. There are nine Police Service Areas (PSA) in New York City, which patrol housing developments within 31 different precincts. Since this column has 362 unique values, I am not sure what it represents. Since each PSA contains mulitiple precincts, they are individually larger than the resolution I will be examining. I can only guess the many values in this column narrow down the location to a resolution smaller than what I want.\n"
      ],
      "metadata": {
        "id": "5SFxtvcfj0fh"
      }
    },
    {
      "cell_type": "code",
      "source": [
        "drop_columns(df,[\"HOUSING_PSA\"])"
      ],
      "metadata": {
        "colab": {
          "base_uri": "https://localhost:8080/"
        },
        "id": "hudap5_BkHg-",
        "outputId": "a5e5b3ec-f572-48a8-d4f0-a58f1dd5d4e4"
      },
      "execution_count": 186,
      "outputs": [
        {
          "output_type": "stream",
          "name": "stdout",
          "text": [
            "9 columns before the drop.\n",
            "8 columns after the drop.\n"
          ]
        }
      ]
    },
    {
      "cell_type": "markdown",
      "source": [
        "## 3 . 9 . Time and Date\n",
        "\n",
        "* `\"CMPLNT_FR_DT\"` and `\"CMPLNT_FR_TM\"` (KEEP)\n",
        "    >When the event happens or begins is very relevant. All the data rows have these values present.\n",
        "* `\"CMPLNT_TO_DT\"` and `\"CMPLNT_TO_TM\"` (DROP)\n",
        "    >If present, these values indicate a time range when the crime occured. This column has many missing values as many crimes are known to happen at specific times. Since crime data is used to understand and to try to reduce crime, there is more value knowing when crimes are likely to begin rather than when they are likely to end. A crime can't be prevented if it has already happened.\n",
        "* `\"RPT_DT\"` (DROP)\n",
        "    > The date the crime was reported to the police does not alter when the crime actually occured."
      ],
      "metadata": {
        "id": "lLbW5ybYmeBl"
      }
    },
    {
      "cell_type": "code",
      "source": [
        "drop_columns(df,[\"CMPLNT_TO_DT\",\"CMPLNT_TO_TM\",\"RPT_DT\"])"
      ],
      "metadata": {
        "colab": {
          "base_uri": "https://localhost:8080/"
        },
        "id": "3NE8c8sdrcvY",
        "outputId": "271c544f-3a0f-42ce-ce72-0189bd879a09"
      },
      "execution_count": 187,
      "outputs": [
        {
          "output_type": "stream",
          "name": "stdout",
          "text": [
            "8 columns before the drop.\n",
            "5 columns after the drop.\n"
          ]
        }
      ]
    },
    {
      "cell_type": "markdown",
      "source": [
        "# 4 . Data Types and Consistency\n"
      ],
      "metadata": {
        "id": "18Iq7-8lsI2A"
      }
    },
    {
      "cell_type": "markdown",
      "source": [
        "Of the remaining columns, I will review the dataframe information."
      ],
      "metadata": {
        "id": "USsb6cFFx1cx"
      }
    },
    {
      "cell_type": "code",
      "source": [
        "df.info()"
      ],
      "metadata": {
        "colab": {
          "base_uri": "https://localhost:8080/"
        },
        "id": "uu4gWfujxtNb",
        "outputId": "ed540743-102f-4dbb-93fe-7863a8cbf2cf"
      },
      "execution_count": 188,
      "outputs": [
        {
          "output_type": "stream",
          "name": "stdout",
          "text": [
            "<class 'pandas.core.frame.DataFrame'>\n",
            "Int64Index: 449506 entries, 903695881 to 806537994\n",
            "Data columns (total 5 columns):\n",
            " #   Column         Non-Null Count   Dtype \n",
            "---  ------         --------------   ----- \n",
            " 0   ADDR_PCT_CD    449506 non-null  int64 \n",
            " 1   CMPLNT_FR_DT   449506 non-null  object\n",
            " 2   CMPLNT_FR_TM   449506 non-null  object\n",
            " 3   LAW_CAT_CD     449506 non-null  object\n",
            " 4   PREM_TYP_DESC  448236 non-null  object\n",
            "dtypes: int64(1), object(4)\n",
            "memory usage: 20.6+ MB\n"
          ]
        }
      ]
    },
    {
      "cell_type": "markdown",
      "source": [
        "## 4 . 1 . Date and Time Values"
      ],
      "metadata": {
        "id": "mvlar5THpZfX"
      }
    },
    {
      "cell_type": "markdown",
      "source": [
        "Here, the date and time columns are the object data type, but would probably be better served as the datetime datatype. However, I have encounted an error in trying to convert the strings into datetime values, so I will need to examine the strings more carefully."
      ],
      "metadata": {
        "id": "KPZTuu2yx7Wx"
      }
    },
    {
      "cell_type": "markdown",
      "source": [
        "### 4 . 1 . 1 . Date"
      ],
      "metadata": {
        "id": "shTGnwb_EMs3"
      }
    },
    {
      "cell_type": "markdown",
      "source": [
        "First I will examine the date values by looking at their format.\n",
        "\n"
      ],
      "metadata": {
        "id": "tkzrW3laEd5d"
      }
    },
    {
      "cell_type": "code",
      "source": [
        "display(df[\"CMPLNT_FR_DT\"])\n",
        "display(df[\"CMPLNT_FR_DT\"].apply(type).head())"
      ],
      "metadata": {
        "colab": {
          "base_uri": "https://localhost:8080/",
          "height": 364
        },
        "id": "5rTSg-XWEwSG",
        "outputId": "63a3147f-e2e3-4a8f-a602-fde8f51c6aa5"
      },
      "execution_count": 189,
      "outputs": [
        {
          "output_type": "display_data",
          "data": {
            "text/plain": [
              "CMPLNT_NUM\n",
              "903695881    12/17/2021\n",
              "400462399    12/17/2021\n",
              "587910690    12/13/2021\n",
              "186105368    12/07/2021\n",
              "185325394    12/06/2021\n",
              "                ...    \n",
              "798000815    01/08/2021\n",
              "900510890    01/02/2021\n",
              "244132985    01/02/2021\n",
              "366756177    01/06/2021\n",
              "806537994    08/01/2019\n",
              "Name: CMPLNT_FR_DT, Length: 449506, dtype: object"
            ]
          },
          "metadata": {}
        },
        {
          "output_type": "display_data",
          "data": {
            "text/plain": [
              "CMPLNT_NUM\n",
              "903695881    <class 'str'>\n",
              "400462399    <class 'str'>\n",
              "587910690    <class 'str'>\n",
              "186105368    <class 'str'>\n",
              "185325394    <class 'str'>\n",
              "Name: CMPLNT_FR_DT, dtype: object"
            ]
          },
          "metadata": {}
        }
      ]
    },
    {
      "cell_type": "markdown",
      "source": [
        "Since they are string in the format 00/00/0000, I can take slices of the strings and examine day, month, and year separately."
      ],
      "metadata": {
        "id": "eZ-JypzzE7sO"
      }
    },
    {
      "cell_type": "code",
      "source": [
        "# Examine the month values with slice [0:2]\n",
        "display(df[\"CMPLNT_FR_DT\"].apply(lambda x: x[0:2]).value_counts().sort_index())"
      ],
      "metadata": {
        "colab": {
          "base_uri": "https://localhost:8080/",
          "height": 243
        },
        "id": "istGclaN5iS8",
        "outputId": "098a76f5-2595-44aa-a0eb-69e41d47773f"
      },
      "execution_count": 190,
      "outputs": [
        {
          "output_type": "display_data",
          "data": {
            "text/plain": [
              "01    33767\n",
              "02    28572\n",
              "03    34956\n",
              "04    32982\n",
              "05    36990\n",
              "06    37879\n",
              "07    39779\n",
              "08    39383\n",
              "09    40196\n",
              "10    43288\n",
              "11    41615\n",
              "12    40099\n",
              "Name: CMPLNT_FR_DT, dtype: int64"
            ]
          },
          "metadata": {}
        }
      ]
    },
    {
      "cell_type": "markdown",
      "source": [
        "All the month values are individually OK."
      ],
      "metadata": {
        "id": "LOLCELNZ9ft7"
      }
    },
    {
      "cell_type": "code",
      "source": [
        "# Examine the day values with slice [3:5]\n",
        "display(df[\"CMPLNT_FR_DT\"].apply(lambda x: x[3:5]).value_counts().sort_index())"
      ],
      "metadata": {
        "colab": {
          "base_uri": "https://localhost:8080/",
          "height": 573
        },
        "id": "nm3YlpUC6txk",
        "outputId": "46ae01df-7a97-4b7c-afd0-91c0ee081988"
      },
      "execution_count": 191,
      "outputs": [
        {
          "output_type": "display_data",
          "data": {
            "text/plain": [
              "01    17941\n",
              "02    14340\n",
              "03    14349\n",
              "04    14589\n",
              "05    14877\n",
              "06    14604\n",
              "07    14440\n",
              "08    14357\n",
              "09    14441\n",
              "10    15047\n",
              "11    14703\n",
              "12    15011\n",
              "13    14925\n",
              "14    14741\n",
              "15    15713\n",
              "16    15145\n",
              "17    14989\n",
              "18    14373\n",
              "19    14618\n",
              "20    15261\n",
              "21    14915\n",
              "22    14592\n",
              "23    14648\n",
              "24    14695\n",
              "25    14483\n",
              "26    14510\n",
              "27    14435\n",
              "28    14207\n",
              "29    12944\n",
              "30    13552\n",
              "31     8061\n",
              "Name: CMPLNT_FR_DT, dtype: int64"
            ]
          },
          "metadata": {}
        }
      ]
    },
    {
      "cell_type": "markdown",
      "source": [
        "All the day values are individually OK. (The days 29, 30, and 31 might not work with some month combinations if those months do not have those days.)"
      ],
      "metadata": {
        "id": "UjfwpMEd9nDV"
      }
    },
    {
      "cell_type": "code",
      "source": [
        "# Examine the year values with slice [:6]\n",
        "display(df[\"CMPLNT_FR_DT\"].apply(lambda x: x[6:]).value_counts().sort_index())"
      ],
      "metadata": {
        "colab": {
          "base_uri": "https://localhost:8080/",
          "height": 1000
        },
        "id": "03YYAc7A9Ul0",
        "outputId": "b8a21409-4d9e-4c0a-a1ec-0f41884f50f6"
      },
      "execution_count": 192,
      "outputs": [
        {
          "output_type": "display_data",
          "data": {
            "text/plain": [
              "1019         1\n",
              "1021         7\n",
              "1920         1\n",
              "1921         8\n",
              "1955         1\n",
              "1958         1\n",
              "1960         1\n",
              "1966         1\n",
              "1967         1\n",
              "1969         1\n",
              "1970         1\n",
              "1971         7\n",
              "1972         1\n",
              "1973         1\n",
              "1976         2\n",
              "1977         1\n",
              "1978         1\n",
              "1979         3\n",
              "1980         1\n",
              "1981         4\n",
              "1982         2\n",
              "1983         3\n",
              "1984         5\n",
              "1985         1\n",
              "1986         3\n",
              "1987         4\n",
              "1988         5\n",
              "1989         5\n",
              "1990         5\n",
              "1991         3\n",
              "1992         1\n",
              "1993         4\n",
              "1994         5\n",
              "1995         8\n",
              "1996         4\n",
              "1997        11\n",
              "1998        10\n",
              "1999        10\n",
              "2000        18\n",
              "2001        29\n",
              "2002        14\n",
              "2003        16\n",
              "2004        13\n",
              "2005        16\n",
              "2006        23\n",
              "2007        32\n",
              "2008        38\n",
              "2009        40\n",
              "2010        46\n",
              "2011        61\n",
              "2012        99\n",
              "2013        94\n",
              "2014       111\n",
              "2015       116\n",
              "2016       175\n",
              "2017       244\n",
              "2018       335\n",
              "2019       898\n",
              "2020      7329\n",
              "2021    439625\n",
              "Name: CMPLNT_FR_DT, dtype: int64"
            ]
          },
          "metadata": {}
        }
      ]
    },
    {
      "cell_type": "markdown",
      "source": [
        "Well, one row has the year 1019 and seven rows have the year 1021. Those are certaintly wrong.\n",
        "\n",
        "Additionally, the number of reports for all years before 2021 are almost two orders of magnitude fewer. So I will just drop all the rows with a year that isn't 2021. This means that the current analysis is restricted to the year 2021. A comparison between years will would require another dataset."
      ],
      "metadata": {
        "id": "-9YwTQnK-Rjd"
      }
    },
    {
      "cell_type": "code",
      "source": [
        "display(df.shape)\n",
        "filter_2021 = df[\"CMPLNT_FR_DT\"].apply(lambda x: x[6:])==\"2021\"\n",
        "df = df.loc[filter_2021, :]\n",
        "display(df.shape)"
      ],
      "metadata": {
        "id": "O6o62MwY-0he",
        "colab": {
          "base_uri": "https://localhost:8080/",
          "height": 52
        },
        "outputId": "d4003f88-896b-448c-f079-703329368362"
      },
      "execution_count": 193,
      "outputs": [
        {
          "output_type": "display_data",
          "data": {
            "text/plain": [
              "(449506, 5)"
            ]
          },
          "metadata": {}
        },
        {
          "output_type": "display_data",
          "data": {
            "text/plain": [
              "(439625, 5)"
            ]
          },
          "metadata": {}
        }
      ]
    },
    {
      "cell_type": "markdown",
      "source": [
        "Now that the unnecessary years (and invalid years) are gone, I can convert the strings to the datetime data type. However, I will further convert them to the day of the year (1 through 365) as an integer. This is because I have encountered some issues when trying to use the date mathematically (such as with a corrolation heatmap)."
      ],
      "metadata": {
        "id": "mnaDijQ3_quw"
      }
    },
    {
      "cell_type": "code",
      "source": [
        "from datetime import datetime\n",
        "df[\"CMPLNT_FR_DT\"] = pd.to_datetime(df[\"CMPLNT_FR_DT\"])\n",
        "df[\"CMPLNT_FR_DT\"] = df[\"CMPLNT_FR_DT\"].apply(lambda x: x.timetuple().tm_yday)\n",
        "df[\"CMPLNT_FR_DT\"].nunique()"
      ],
      "metadata": {
        "id": "0mw3li6x_Ts1",
        "colab": {
          "base_uri": "https://localhost:8080/"
        },
        "outputId": "2ace6d52-25a2-4398-ecb5-c91946e5ebc8"
      },
      "execution_count": 194,
      "outputs": [
        {
          "output_type": "execute_result",
          "data": {
            "text/plain": [
              "365"
            ]
          },
          "metadata": {},
          "execution_count": 194
        }
      ]
    },
    {
      "cell_type": "markdown",
      "source": [
        "There are 365 unique values as expected."
      ],
      "metadata": {
        "id": "SlTE2iyqIIau"
      }
    },
    {
      "cell_type": "markdown",
      "source": [
        "### 4 . 1  . 2 . Time"
      ],
      "metadata": {
        "id": "p9M30ALYEE1S"
      }
    },
    {
      "cell_type": "markdown",
      "source": [
        "A quick look at the format and data type of the time values."
      ],
      "metadata": {
        "id": "Ga_O1-X0JlCX"
      }
    },
    {
      "cell_type": "code",
      "source": [
        "display(df[\"CMPLNT_FR_TM\"])\n",
        "display(df[\"CMPLNT_FR_TM\"].apply(type).head())"
      ],
      "metadata": {
        "colab": {
          "base_uri": "https://localhost:8080/",
          "height": 364
        },
        "id": "cFNB_ZJAJkYg",
        "outputId": "8a088ffb-732d-4f9b-a8e1-553bae975172"
      },
      "execution_count": 195,
      "outputs": [
        {
          "output_type": "display_data",
          "data": {
            "text/plain": [
              "CMPLNT_NUM\n",
              "903695881    22:13:00\n",
              "400462399    06:21:00\n",
              "587910690    20:05:00\n",
              "186105368    22:49:00\n",
              "185325394    17:25:00\n",
              "               ...   \n",
              "702183776    15:40:00\n",
              "798000815    07:00:00\n",
              "900510890    04:50:00\n",
              "244132985    09:35:00\n",
              "366756177    19:40:00\n",
              "Name: CMPLNT_FR_TM, Length: 439625, dtype: object"
            ]
          },
          "metadata": {}
        },
        {
          "output_type": "display_data",
          "data": {
            "text/plain": [
              "CMPLNT_NUM\n",
              "903695881    <class 'str'>\n",
              "400462399    <class 'str'>\n",
              "587910690    <class 'str'>\n",
              "186105368    <class 'str'>\n",
              "185325394    <class 'str'>\n",
              "Name: CMPLNT_FR_TM, dtype: object"
            ]
          },
          "metadata": {}
        }
      ]
    },
    {
      "cell_type": "markdown",
      "source": [
        "And the time can also be converted from a string to a more useful format. Additionally, I will also bin times into 15 minute intervals. A resolution of 1 minute doesn't seem at this time to be particularly helpful when examining crime as a whole.\n",
        "\n",
        "I'm going to represent time values in decimal format with each quarter hour as 0.00, 0.25, 0.50, and 0.75."
      ],
      "metadata": {
        "id": "wIBpZLcFj6hm"
      }
    },
    {
      "cell_type": "code",
      "source": [
        "# For times in the format 00:00:00, slice [:2] is the hour, slice [3:5] is the minute\n",
        "\n",
        "# function to bin minutes into 15 minute intervals\n",
        "# np.floor(x * 1 / 60 * 4 ) * 0.25\n",
        "# * 1/60 to normalize down to a scale of 1\n",
        "# * 4 because there are 4 intervals of 15 minutes per hour\n",
        "# floor() to round down to the begining minute of the interval\n",
        "# * 0.25 to scale the 15 minute interval to a fraction of 1 hour\n",
        "\n",
        "df[\"CMPLNT_FR_TM\"] = df[\"CMPLNT_FR_TM\"].apply(lambda x: int(x[:2]) + np.floor(int(x[3:5]) * 1 / 60 * 4 ) * 0.25)"
      ],
      "metadata": {
        "id": "FkIPM4xX-rqL"
      },
      "execution_count": null,
      "outputs": []
    },
    {
      "cell_type": "markdown",
      "source": [
        "And a quick review of the results."
      ],
      "metadata": {
        "id": "g7MULf14KU7K"
      }
    },
    {
      "cell_type": "code",
      "source": [
        "display(df[\"CMPLNT_FR_TM\"])\n",
        "display(df[\"CMPLNT_FR_TM\"].apply(type).head())"
      ],
      "metadata": {
        "colab": {
          "base_uri": "https://localhost:8080/",
          "height": 364
        },
        "id": "LJgONhzFKTEA",
        "outputId": "f19a6d18-0680-4f8c-c24c-25bc8513620f"
      },
      "execution_count": 200,
      "outputs": [
        {
          "output_type": "display_data",
          "data": {
            "text/plain": [
              "CMPLNT_NUM\n",
              "903695881    22.00\n",
              "400462399     6.25\n",
              "587910690    20.00\n",
              "186105368    22.75\n",
              "185325394    17.25\n",
              "             ...  \n",
              "702183776    15.50\n",
              "798000815     7.00\n",
              "900510890     4.75\n",
              "244132985     9.50\n",
              "366756177    19.50\n",
              "Name: CMPLNT_FR_TM, Length: 439625, dtype: float64"
            ]
          },
          "metadata": {}
        },
        {
          "output_type": "display_data",
          "data": {
            "text/plain": [
              "CMPLNT_NUM\n",
              "903695881    <class 'float'>\n",
              "400462399    <class 'float'>\n",
              "587910690    <class 'float'>\n",
              "186105368    <class 'float'>\n",
              "185325394    <class 'float'>\n",
              "Name: CMPLNT_FR_TM, dtype: object"
            ]
          },
          "metadata": {}
        }
      ]
    },
    {
      "cell_type": "markdown",
      "source": [
        "Comparing these to the brief display before conversion shows that these results are what is wanted."
      ],
      "metadata": {
        "id": "4H7YxtQRKZeo"
      }
    },
    {
      "cell_type": "markdown",
      "source": [
        "## 4 . 2 . Precinct Values"
      ],
      "metadata": {
        "id": "rTJ1YTm7pRU4"
      }
    },
    {
      "cell_type": "markdown",
      "source": [
        "Although the precinct values are \"numbers\", they are not numeric. Rather the values are nominal, so are going to continue to be treated as strings."
      ],
      "metadata": {
        "id": "EzsZzkHxpeTf"
      }
    },
    {
      "cell_type": "markdown",
      "source": [
        "## 4 . 3 . Law Category Code Value"
      ],
      "metadata": {
        "id": "fXJMHGYuqD2n"
      }
    },
    {
      "cell_type": "markdown",
      "source": [
        "The `\"LAW_CAT_CD\"` values are given as strings. However, they can be treated as ordinal values. This is because they can be ranked by severity, with violation being the lowest severity, and felony being the greatest severity."
      ],
      "metadata": {
        "id": "B-YPZ9W0qRrr"
      }
    },
    {
      "cell_type": "code",
      "source": [
        "df[\"LAW_CAT_CD\"]=df[\"LAW_CAT_CD\"].replace({\"VIOLATION\":0,\"MISDEMEANOR\":1,\"FELONY\":2})"
      ],
      "metadata": {
        "id": "xzDP2azNiKXV"
      },
      "execution_count": 201,
      "outputs": []
    },
    {
      "cell_type": "markdown",
      "source": [
        "## 4 . 4 . Offense Description Values"
      ],
      "metadata": {
        "id": "eOs-nvp0rp05"
      }
    },
    {
      "cell_type": "markdown",
      "source": [
        "The offense description column is descriptive, thus nominal, so can remain as strings to be later One-Hot Encoded. Reviewing the output earlier, it can be seen that the values are consistently formated and uniquie for their meaning."
      ],
      "metadata": {
        "id": "48mNa_thrtxo"
      }
    },
    {
      "cell_type": "markdown",
      "source": [
        "# 5 . Univariate Visuals"
      ],
      "metadata": {
        "id": "5rLBrOe9tnG4"
      }
    },
    {
      "cell_type": "markdown",
      "source": [
        "After viewing the visuals below, it is apparent that some modifications to the data format and classification will be necessary,"
      ],
      "metadata": {
        "id": "Xx6qAhRVumPR"
      }
    },
    {
      "cell_type": "code",
      "source": [
        "import matplotlib.pyplot as plt\n",
        "import seaborn as sns"
      ],
      "metadata": {
        "id": "uBYETiLB_4pC"
      },
      "execution_count": 202,
      "outputs": []
    },
    {
      "cell_type": "code",
      "source": [
        "df.info()"
      ],
      "metadata": {
        "colab": {
          "base_uri": "https://localhost:8080/"
        },
        "id": "Si1XJh8su_Np",
        "outputId": "3ad91ae0-56fd-40b8-a88b-c51ae65963de"
      },
      "execution_count": 203,
      "outputs": [
        {
          "output_type": "stream",
          "name": "stdout",
          "text": [
            "<class 'pandas.core.frame.DataFrame'>\n",
            "Int64Index: 439625 entries, 903695881 to 366756177\n",
            "Data columns (total 5 columns):\n",
            " #   Column         Non-Null Count   Dtype  \n",
            "---  ------         --------------   -----  \n",
            " 0   ADDR_PCT_CD    439625 non-null  int64  \n",
            " 1   CMPLNT_FR_DT   439625 non-null  int64  \n",
            " 2   CMPLNT_FR_TM   439625 non-null  float64\n",
            " 3   LAW_CAT_CD     439625 non-null  int64  \n",
            " 4   PREM_TYP_DESC  438418 non-null  object \n",
            "dtypes: float64(1), int64(3), object(1)\n",
            "memory usage: 20.1+ MB\n"
          ]
        }
      ]
    },
    {
      "cell_type": "markdown",
      "source": [
        "## 5 . 1 . Crime, Day,  and Time"
      ],
      "metadata": {
        "id": "DDadkFVa0qlp"
      }
    },
    {
      "cell_type": "code",
      "source": [
        "# fig, axe = plt.subplots(ncols=1,nrows=1,figsize=(8,6),tight_layout=True)\n",
        "plt.figure(figsize=(15,4),tight_layout=True)\n",
        "# from matplotlib.pyplot import cm\n",
        "# color = cm.rainbow(np.linspace(0, 1, df[\"LAW_CAT_CD\"].nunique()+1))\n",
        "plt.xlim(0,365)\n",
        "axe = sns.histplot(data=df, x=\"CMPLNT_FR_DT\",hue=\"LAW_CAT_CD\",\\\n",
        "             edgecolor=\"black\",alpha=1,binwidth=1,multiple=\"dodge\",palette=\"tab10\",zorder=3)\n",
        "axe.set_title(\"Number of Crimes for Each Day of the Year\",fontsize=\"x-large\",pad=20)\n",
        "axe.set_xlabel(\"Day of the Year\",labelpad=10,fontsize=\"large\")\n",
        "axe.set_ylabel(\"Number of Crimes\",labelpad=10,fontsize=\"large\")\n",
        "axe.tick_params(left=True)\n",
        "axe.tick_params(axis=\"x\",labelrotation=90,labelsize=\"small\")\n",
        "axe.legend(title=\"Severity of Crime\",labels=[\"Violation\",\"Misdemeanor\",\"Felony\"],bbox_to_anchor=(1.04,1), loc=\"upper left\")\n",
        "plt.xticks(range(0,365,10))\n",
        "axe.yaxis.grid(True,zorder=0);\n",
        "plt.show()"
      ],
      "metadata": {
        "colab": {
          "base_uri": "https://localhost:8080/",
          "height": 297
        },
        "id": "1yH4eOTdjHUO",
        "outputId": "864b4c5c-67bf-4be6-9d5a-7517991997a1"
      },
      "execution_count": 237,
      "outputs": [
        {
          "output_type": "display_data",
          "data": {
            "text/plain": [
              "<Figure size 1080x288 with 1 Axes>"
            ],
            "image/png": "[encoded data removed]"
          },
          "metadata": {
            "needs_background": "light"
          }
        }
      ]
    },
    {
      "cell_type": "code",
      "source": [
        "# fig, axe = plt.subplots(ncols=1,nrows=1,figsize=(8,6),tight_layout=True)\n",
        "from matplotlib.ticker import AutoMinorLocator\n",
        "plt.figure(figsize=(15,4),tight_layout=True)\n",
        "color = cm.rainbow(np.linspace(0, 1, df[\"LAW_CAT_CD\"].nunique()+1))\n",
        "plt.xlim(0,24)\n",
        "# zorder is the drawing order, higher numbers are on top, lower on bottom.\n",
        "axe = sns.histplot(data = df, x=\"CMPLNT_FR_TM\",hue=\"LAW_CAT_CD\",\\\n",
        "             edgecolor=\"black\",alpha=1,multiple=\"dodge\",palette=\"tab10\", shrink=0.9,zorder=3)\n",
        "axe.set_title(\"Number of Crimes by Time of Day \\n Cummulative over the Year 2021\",fontsize=\"x-large\",pad=20)\n",
        "axe.set_xlabel(\"Time of Day\",fontsize=\"large\",labelpad=10)\n",
        "axe.set_ylabel(\"Number of Crimes\",fontsize=\"large\",labelpad=10)\n",
        "axe.yaxis.grid(True,zorder=0);\n",
        "axe.tick_params(left=True)\n",
        "axe.tick_params(axis=\"x\")\n",
        "axe.set_xticks(range(0,25,1))\n",
        "axe.xaxis.set_minor_locator(AutoMinorLocator(n=4))\n",
        "axe.legend(title=\"Severity of Crime\",labels=[\"Violation\",\"Misdemeanor\",\"Felony\"],bbox_to_anchor=(1.04,1), loc=\"upper left\")\n",
        "plt.show()"
      ],
      "metadata": {
        "colab": {
          "base_uri": "https://localhost:8080/",
          "height": 297
        },
        "id": "Gumz8zeS1F57",
        "outputId": "a36e7d1b-3035-4c61-90e9-733981ee1891"
      },
      "execution_count": 238,
      "outputs": [
        {
          "output_type": "display_data",
          "data": {
            "text/plain": [
              "<Figure size 1080x288 with 1 Axes>"
            ],
            "image/png": "[encoded data removed]"
          },
          "metadata": {
            "needs_background": "light"
          }
        }
      ]
    },
    {
      "cell_type": "markdown",
      "source": [
        "## 5 . 2 . Crime and Premise Type"
      ],
      "metadata": {
        "id": "FrNCzgFB3SlN"
      }
    },
    {
      "cell_type": "markdown",
      "source": [
        "As seen in the plot, the comment I made earlier about merging some of the category values may be prudent."
      ],
      "metadata": {
        "id": "9CUZ8S6p6xT1"
      }
    },
    {
      "cell_type": "code",
      "source": [
        "# fig, axe = plt.subplots(ncols=1,nrows=1,figsize=(8,6),tight_layout=True)\n",
        "import matplotlib.ticker\n",
        "plt.figure(figsize=(15,5),tight_layout=True)\n",
        "axe = sns.histplot(data=df, x=\"PREM_TYP_DESC\",hue=\"LAW_CAT_CD\",palette=\"tab10\",\\\n",
        "             edgecolor=\"black\",alpha=1,zorder=3)\n",
        "axe.set_title(\"Number of Crimes for Each Premise Type\",fontsize=\"x-large\",pad=20)\n",
        "axe.set_xlabel(\"Premise Type\",fontsize=\"x-large\",labelpad=10)\n",
        "axe.set_ylabel(\"Number of Crimes\",fontsize=\"x-large\",labelpad=10)\n",
        "axe.yaxis.set_major_formatter(ticker.FunctionFormatter(lambda x, p\n",
        "axe.yaxis.grid(True,zorder=0);\n",
        "axe.set_yscale(\"linear\")\n",
        "axe.set_yticks(range(0,80000,10000))\n",
        "axe.tick_params(left=True,axis=\"y\",labelsize=\"large\")\n",
        "axe.tick_params(axis=\"x\",labelrotation=90,labelsize=\"small\")\n",
        "plt.xlim(df[\"PREM_TYP_DESC\"].nunique(),-1)\n",
        "axe.legend(title=\"Severity of Crime\",labels=[\"Violation\",\"Misdemeanor\",\"Felony\"],loc=0)\n",
        "plt.show()"
      ],
      "metadata": {
        "colab": {
          "base_uri": "https://localhost:8080/",
          "height": 369
        },
        "id": "ZV72saDf5LKV",
        "outputId": "7858dbe5-ddc5-496d-a7e9-d6442ddc3658"
      },
      "execution_count": 275,
      "outputs": [
        {
          "output_type": "display_data",
          "data": {
            "text/plain": [
              "<Figure size 1080x360 with 1 Axes>"
            ],
            "image/png": "[encoded data removed]"
          },
          "metadata": {
            "needs_background": "light"
          }
        }
      ]
    },
    {
      "cell_type": "markdown",
      "source": [
        "## 5 . 3 . Crime and Precinct"
      ],
      "metadata": {
        "id": "iv8TgU_87Jx8"
      }
    },
    {
      "cell_type": "code",
      "source": [
        "# fig, axe = plt.subplots(ncols=1,nrows=1,figsize=(8,6),tight_layout=True)\n",
        "plt.figure(figsize=(10,10),tight_layout=True)\n",
        "axe = sns.histplot(data=df, y=\"ADDR_PCT_CD\",hue=\"LAW_CAT_CD\",hue_order=[0,1,2],\\\n",
        "             edgecolor=\"black\",alpha=1,multiple=\"fill\")\n",
        "axe.set_title(\"Fraction of Crimes By Severity Type within Each Precinct\",fontsize=\"x-large\",pad=20)\n",
        "axe.set_ylabel(\"Precinct\",labelpad=10)\n",
        "axe.set_xlabel(\"Fraction of Crimes\",fontsize=\"large\",labelpad=10)\n",
        "axe.yaxis.grid(False);\n",
        "axe.tick_params(left=True)\n",
        "axe.tick_params(axis=\"x\",labelrotation=90)\n",
        "axe.legend(title=\"Severity of Crime\",labels=[\"Violation\",\"Misdemeanor\",\"Felony\"])\n",
        "plt.show()"
      ],
      "metadata": {
        "colab": {
          "base_uri": "https://localhost:8080/",
          "height": 729
        },
        "id": "jyTLXAPG7KLF",
        "outputId": "5fea51ba-58b9-4f0f-e17d-268c8e7e086a"
      },
      "execution_count": 240,
      "outputs": [
        {
          "output_type": "display_data",
          "data": {
            "text/plain": [
              "<Figure size 720x720 with 1 Axes>"
            ],
            "image/png": "[encoded data removed]"
          },
          "metadata": {
            "needs_background": "light"
          }
        }
      ]
    },
    {
      "cell_type": "markdown",
      "source": [
        "# 6 . Correlation"
      ],
      "metadata": {
        "id": "3MySK1XEzKns"
      }
    },
    {
      "cell_type": "markdown",
      "source": [
        ""
      ],
      "metadata": {
        "id": "o38TjEdKz-8Z"
      }
    },
    {
      "cell_type": "code",
      "source": [
        "plt.figure(figsize=(8,8))\n",
        "corr = df.corr()\n",
        "heat_ax = sns.heatmap(corr,cmap='coolwarm',annot=True,square=True,center=0,annot_kws={\"fontsize\":\"large\"})\n",
        "heat_ax.set(title=\"Correlation Heatmap \\n \");\n",
        "heat_ax.xaxis.grid(False);\n",
        "heat_ax.tick_params(axis=\"x\",labelrotation=90,labelsize=\"large\")\n",
        "heat_ax.tick_params(axis=\"y\",labelrotation=0,labelsize=\"large\")"
      ],
      "metadata": {
        "colab": {
          "base_uri": "https://localhost:8080/",
          "height": 531
        },
        "id": "tCrK_hWfwWCp",
        "outputId": "47806b61-63a9-42e3-aab9-5eac6eca001c"
      },
      "execution_count": 248,
      "outputs": [
        {
          "output_type": "display_data",
          "data": {
            "text/plain": [
              "<Figure size 576x576 with 2 Axes>"
            ],
            "image/png": "[encoded data removed]"
          },
          "metadata": {
            "needs_background": "light"
          }
        }
      ]
    },
    {
      "cell_type": "markdown",
      "source": [
        "It would appear that I can determine there is almost no correlation between the severity of the crime and the precinct the crime occurs in. However,the precinct values should be nominal although they are being treated as numeric. This means the related heatmap cells don't really mean much."
      ],
      "metadata": {
        "id": "oMVCEN2RFklH"
      }
    },
    {
      "cell_type": "code",
      "source": [
        "import shapefile"
      ],
      "metadata": {
        "id": "zhW4_U4s6vba"
      },
      "execution_count": null,
      "outputs": []
    },
    {
      "cell_type": "code",
      "source": [
        "sf = shapefile.Reader(\"/content/drive/MyDrive/Coding Dojo/Data Folder/geo_export_e6e3735e-fbbb-490b-b42a-a10aaa454020.shp\")"
      ],
      "metadata": {
        "id": "_q5NAY8Y6xjR"
      },
      "execution_count": null,
      "outputs": []
    },
    {
      "cell_type": "code",
      "source": [
        "len(sf.shapes())\n",
        "sf.fields"
      ],
      "metadata": {
        "id": "Wam3mGFh69TQ"
      },
      "execution_count": null,
      "outputs": []
    },
    {
      "cell_type": "code",
      "source": [
        "!pip install geopandas\n",
        "# !pip install descartes \n",
        "import geopandas as gpd"
      ],
      "metadata": {
        "id": "YBhz0C1k3fPs"
      },
      "execution_count": null,
      "outputs": []
    },
    {
      "cell_type": "code",
      "source": [
        "shapefile = gpd.read_file(\"/content/drive/MyDrive/Coding Dojo/Data Folder/geo_export_e6e3735e-fbbb-490b-b42a-a10aaa454020.shp\")\n",
        "print(shapefile)"
      ],
      "metadata": {
        "id": "yo7xfOYG1isH"
      },
      "execution_count": null,
      "outputs": []
    },
    {
      "cell_type": "code",
      "source": [
        "shapefile.head()"
      ],
      "metadata": {
        "id": "Zueimaoa4Doo"
      },
      "execution_count": null,
      "outputs": []
    },
    {
      "cell_type": "code",
      "source": [
        "shapefile.plot(figsize=(10,10))"
      ],
      "metadata": {
        "id": "py7j_mzg25ET"
      },
      "execution_count": null,
      "outputs": []
    },
    {
      "cell_type": "code",
      "source": [
        "# !pip install pyshp\n",
        "# !pip install shapefile#pyshp\n",
        "# # import pyshp\n",
        "# import shapefile as shp  # Requires the pyshp package\n",
        "plt.figure()\n",
        "for shape in shapefile.shapeRecords():\n",
        "    x = [i[0] for i in shape.shape.points[:]]\n",
        "    y = [i[1] for i in shape.shape.points[:]]\n",
        "    plt.plot(x,y)\n",
        "plt.show()"
      ],
      "metadata": {
        "id": "kOdIrxaD4Hus"
      },
      "execution_count": null,
      "outputs": []
    },
    {
      "cell_type": "code",
      "source": [
        ""
      ],
      "metadata": {
        "id": "JvIfgxK245J2"
      },
      "execution_count": null,
      "outputs": []
    }
  ]
}