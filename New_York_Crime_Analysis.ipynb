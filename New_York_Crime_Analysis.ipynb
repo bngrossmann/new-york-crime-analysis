{
  "nbformat": 4,
  "nbformat_minor": 0,
  "metadata": {
    "colab": {
      "name": "New_York_Crime_Analysis.ipynb",
      "provenance": [],
      "collapsed_sections": [],
      "toc_visible": true,
      "include_colab_link": true
    },
    "kernelspec": {
      "name": "python3",
      "display_name": "Python 3"
    },
    "language_info": {
      "name": "python"
    }
  },
  "cells": [
    {
      "cell_type": "markdown",
      "metadata": {
        "id": "view-in-github",
        "colab_type": "text"
      },
      "source": [
        "<a href=\"https://colab.research.google.com/github/bngrossmann/new-york-crime-analysis/blob/main/New_York_Crime_Analysis.ipynb\" target=\"_parent\"><img src=\"https://colab.research.google.com/assets/colab-badge.svg\" alt=\"Open In Colab\"/></a>"
      ]
    },
    {
      "cell_type": "markdown",
      "source": [
        "# Project 2\n",
        "\n",
        "* Benjamin Grossmann"
      ],
      "metadata": {
        "id": "CQZALYVTexUy"
      }
    },
    {
      "cell_type": "markdown",
      "source": [
        "# Part 1\n"
      ],
      "metadata": {
        "id": "ciIVGuswe2WV"
      }
    },
    {
      "cell_type": "markdown",
      "source": [
        "Your second project is going to have a lot more freedom than your first project. This is because we want you to have a project in your portfolio that interests you or relates to the industry you would like to work in.\n",
        "\n",
        "Your task for this week is to propose two possible datasets you would like to work with for Project 2.  \n",
        "\n",
        "You will choose your first choice data set, and a backup data set in case the first proposed data set is not approved.  \n",
        "\n",
        "This data can be from any source and can be on any topic with these limitations:\n",
        "\n",
        "the data must be available for use (it is your responsibility to ensure that the license states that you are able to use it.)\n",
        "the data must be appropriate for a professional environment\n",
        "the data must NOT contain personal information\n",
        "the data must NOT be a dataset used for any assignment, lecture, or task from the course\n",
        "Make sure you select a dataset that will be reasonable to work with in the amount of time we have left. Think about what questions you could reasonably answer with the dataset you select. \n",
        "\n",
        "You must propose two datasets that each have a supervised learning component. You may choose a regression or classification problem for each proposed data set."
      ],
      "metadata": {
        "id": "LvQuBIBEe-vJ"
      }
    },
    {
      "cell_type": "markdown",
      "source": [
        "**For this task:**\n",
        "\n",
        "Create a Colab notebook where you have uploaded and shown the .head() of each of your data sets.  For each of the proposed datasets, answer the following questions:"
      ],
      "metadata": {
        "id": "Qrq_fF47e-i1"
      }
    },
    {
      "cell_type": "markdown",
      "source": [
        "## **Dataset #1**\n"
      ],
      "metadata": {
        "id": "UAJG7sDUgc_4"
      }
    },
    {
      "cell_type": "code",
      "source": [
        "from google.colab import drive\n",
        "drive.mount(\"/content/drive\")"
      ],
      "metadata": {
        "colab": {
          "base_uri": "https://localhost:8080/"
        },
        "id": "f0EtXTScDgQu",
        "outputId": "c2b5dd42-1ba5-4dba-93db-2f974aacec6d"
      },
      "execution_count": 390,
      "outputs": [
        {
          "output_type": "stream",
          "name": "stdout",
          "text": [
            "Drive already mounted at /content/drive; to attempt to forcibly remount, call drive.mount(\"/content/drive\", force_remount=True).\n"
          ]
        }
      ]
    },
    {
      "cell_type": "code",
      "source": [
        "# Load your data & imports\n",
        "import numpy as np\n",
        "import pandas as pd"
      ],
      "metadata": {
        "id": "Hx0zuT7zfUtC"
      },
      "execution_count": 391,
      "outputs": []
    },
    {
      "cell_type": "code",
      "execution_count": 392,
      "metadata": {
        "id": "K8_l1F5ZevgV"
      },
      "outputs": [],
      "source": [
        "df = pd.read_csv(\"/content/drive/MyDrive/Coding Dojo/Data Folder/NYPD_Complaint_Data_Current__Year_To_Date_.csv\")"
      ]
    },
    {
      "cell_type": "code",
      "source": [
        "# .head() for your dataframe\n",
        "df.head()"
      ],
      "metadata": {
        "id": "vRIlYFKWfdo8",
        "colab": {
          "base_uri": "https://localhost:8080/",
          "height": 490
        },
        "outputId": "2464e197-c65f-474f-ab9f-5abc68ed3ec3"
      },
      "execution_count": 393,
      "outputs": [
        {
          "output_type": "execute_result",
          "data": {
            "text/plain": [
              "   CMPLNT_NUM  ADDR_PCT_CD BORO_NM CMPLNT_FR_DT CMPLNT_FR_TM CMPLNT_TO_DT  \\\n",
              "0   903695881           69     NaN   12/17/2021     22:13:00          NaN   \n",
              "1   400462399          113     NaN   12/17/2021     06:21:00          NaN   \n",
              "2   587910690          113     NaN   12/13/2021     20:05:00          NaN   \n",
              "3   186105368           52   BRONX   12/07/2021     22:49:00          NaN   \n",
              "4   185325394          113     NaN   12/06/2021     17:25:00          NaN   \n",
              "\n",
              "  CMPLNT_TO_TM CRM_ATPT_CPTD_CD HADEVELOPT  HOUSING_PSA  ...  \\\n",
              "0          NaN        COMPLETED        NaN          NaN  ...   \n",
              "1          NaN        COMPLETED        NaN          NaN  ...   \n",
              "2          NaN        COMPLETED        NaN          NaN  ...   \n",
              "3          NaN        COMPLETED        NaN          NaN  ...   \n",
              "4          NaN        COMPLETED        NaN          NaN  ...   \n",
              "\n",
              "   TRANSIT_DISTRICT VIC_AGE_GROUP  VIC_RACE VIC_SEX X_COORD_CD Y_COORD_CD  \\\n",
              "0               NaN         25-44     BLACK       M    1011203     174515   \n",
              "1               NaN         25-44     BLACK       F    1043252     187998   \n",
              "2               NaN         25-44     BLACK       M    1042087     190443   \n",
              "3               NaN       UNKNOWN   UNKNOWN       E    1017088     260895   \n",
              "4               NaN         25-44     BLACK       M    1046176     193100   \n",
              "\n",
              "    Latitude  Longitude                                   Lat_Lon  \\\n",
              "0  40.645647 -73.902876   (40.64564719600002, -73.90287588699994)   \n",
              "1  40.682499 -73.787269  (40.682499421000045, -73.78726915499993)   \n",
              "2  40.689218 -73.791449  (40.689218058000044, -73.79144856999993)   \n",
              "3  40.882718 -73.881247   (40.88271780700006, -73.88124724999993)   \n",
              "4  40.696483 -73.776680   (40.69648322200004, -73.77667979199998)   \n",
              "\n",
              "                        New Georeferenced Column  \n",
              "0   POINT (-73.90287588699994 40.64564719600002)  \n",
              "1  POINT (-73.78726915499993 40.682499421000045)  \n",
              "2  POINT (-73.79144856999993 40.689218058000044)  \n",
              "3   POINT (-73.88124724999993 40.88271780700006)  \n",
              "4   POINT (-73.77667979199998 40.69648322200004)  \n",
              "\n",
              "[5 rows x 36 columns]"
            ],
            "text/html": [
              "\n",
              "  <div id=\"df-1ecdb944-35a4-4dd0-8558-e595bf262deb\">\n",
              "    <div class=\"colab-df-container\">\n",
              "      <div>\n",
              "<style scoped>\n",
              "    .dataframe tbody tr th:only-of-type {\n",
              "        vertical-align: middle;\n",
              "    }\n",
              "\n",
              "    .dataframe tbody tr th {\n",
              "        vertical-align: top;\n",
              "    }\n",
              "\n",
              "    .dataframe thead th {\n",
              "        text-align: right;\n",
              "    }\n",
              "</style>\n",
              "<table border=\"1\" class=\"dataframe\">\n",
              "  <thead>\n",
              "    <tr style=\"text-align: right;\">\n",
              "      <th></th>\n",
              "      <th>CMPLNT_NUM</th>\n",
              "      <th>ADDR_PCT_CD</th>\n",
              "      <th>BORO_NM</th>\n",
              "      <th>CMPLNT_FR_DT</th>\n",
              "      <th>CMPLNT_FR_TM</th>\n",
              "      <th>CMPLNT_TO_DT</th>\n",
              "      <th>CMPLNT_TO_TM</th>\n",
              "      <th>CRM_ATPT_CPTD_CD</th>\n",
              "      <th>HADEVELOPT</th>\n",
              "      <th>HOUSING_PSA</th>\n",
              "      <th>...</th>\n",
              "      <th>TRANSIT_DISTRICT</th>\n",
              "      <th>VIC_AGE_GROUP</th>\n",
              "      <th>VIC_RACE</th>\n",
              "      <th>VIC_SEX</th>\n",
              "      <th>X_COORD_CD</th>\n",
              "      <th>Y_COORD_CD</th>\n",
              "      <th>Latitude</th>\n",
              "      <th>Longitude</th>\n",
              "      <th>Lat_Lon</th>\n",
              "      <th>New Georeferenced Column</th>\n",
              "    </tr>\n",
              "  </thead>\n",
              "  <tbody>\n",
              "    <tr>\n",
              "      <th>0</th>\n",
              "      <td>903695881</td>\n",
              "      <td>69</td>\n",
              "      <td>NaN</td>\n",
              "      <td>12/17/2021</td>\n",
              "      <td>22:13:00</td>\n",
              "      <td>NaN</td>\n",
              "      <td>NaN</td>\n",
              "      <td>COMPLETED</td>\n",
              "      <td>NaN</td>\n",
              "      <td>NaN</td>\n",
              "      <td>...</td>\n",
              "      <td>NaN</td>\n",
              "      <td>25-44</td>\n",
              "      <td>BLACK</td>\n",
              "      <td>M</td>\n",
              "      <td>1011203</td>\n",
              "      <td>174515</td>\n",
              "      <td>40.645647</td>\n",
              "      <td>-73.902876</td>\n",
              "      <td>(40.64564719600002, -73.90287588699994)</td>\n",
              "      <td>POINT (-73.90287588699994 40.64564719600002)</td>\n",
              "    </tr>\n",
              "    <tr>\n",
              "      <th>1</th>\n",
              "      <td>400462399</td>\n",
              "      <td>113</td>\n",
              "      <td>NaN</td>\n",
              "      <td>12/17/2021</td>\n",
              "      <td>06:21:00</td>\n",
              "      <td>NaN</td>\n",
              "      <td>NaN</td>\n",
              "      <td>COMPLETED</td>\n",
              "      <td>NaN</td>\n",
              "      <td>NaN</td>\n",
              "      <td>...</td>\n",
              "      <td>NaN</td>\n",
              "      <td>25-44</td>\n",
              "      <td>BLACK</td>\n",
              "      <td>F</td>\n",
              "      <td>1043252</td>\n",
              "      <td>187998</td>\n",
              "      <td>40.682499</td>\n",
              "      <td>-73.787269</td>\n",
              "      <td>(40.682499421000045, -73.78726915499993)</td>\n",
              "      <td>POINT (-73.78726915499993 40.682499421000045)</td>\n",
              "    </tr>\n",
              "    <tr>\n",
              "      <th>2</th>\n",
              "      <td>587910690</td>\n",
              "      <td>113</td>\n",
              "      <td>NaN</td>\n",
              "      <td>12/13/2021</td>\n",
              "      <td>20:05:00</td>\n",
              "      <td>NaN</td>\n",
              "      <td>NaN</td>\n",
              "      <td>COMPLETED</td>\n",
              "      <td>NaN</td>\n",
              "      <td>NaN</td>\n",
              "      <td>...</td>\n",
              "      <td>NaN</td>\n",
              "      <td>25-44</td>\n",
              "      <td>BLACK</td>\n",
              "      <td>M</td>\n",
              "      <td>1042087</td>\n",
              "      <td>190443</td>\n",
              "      <td>40.689218</td>\n",
              "      <td>-73.791449</td>\n",
              "      <td>(40.689218058000044, -73.79144856999993)</td>\n",
              "      <td>POINT (-73.79144856999993 40.689218058000044)</td>\n",
              "    </tr>\n",
              "    <tr>\n",
              "      <th>3</th>\n",
              "      <td>186105368</td>\n",
              "      <td>52</td>\n",
              "      <td>BRONX</td>\n",
              "      <td>12/07/2021</td>\n",
              "      <td>22:49:00</td>\n",
              "      <td>NaN</td>\n",
              "      <td>NaN</td>\n",
              "      <td>COMPLETED</td>\n",
              "      <td>NaN</td>\n",
              "      <td>NaN</td>\n",
              "      <td>...</td>\n",
              "      <td>NaN</td>\n",
              "      <td>UNKNOWN</td>\n",
              "      <td>UNKNOWN</td>\n",
              "      <td>E</td>\n",
              "      <td>1017088</td>\n",
              "      <td>260895</td>\n",
              "      <td>40.882718</td>\n",
              "      <td>-73.881247</td>\n",
              "      <td>(40.88271780700006, -73.88124724999993)</td>\n",
              "      <td>POINT (-73.88124724999993 40.88271780700006)</td>\n",
              "    </tr>\n",
              "    <tr>\n",
              "      <th>4</th>\n",
              "      <td>185325394</td>\n",
              "      <td>113</td>\n",
              "      <td>NaN</td>\n",
              "      <td>12/06/2021</td>\n",
              "      <td>17:25:00</td>\n",
              "      <td>NaN</td>\n",
              "      <td>NaN</td>\n",
              "      <td>COMPLETED</td>\n",
              "      <td>NaN</td>\n",
              "      <td>NaN</td>\n",
              "      <td>...</td>\n",
              "      <td>NaN</td>\n",
              "      <td>25-44</td>\n",
              "      <td>BLACK</td>\n",
              "      <td>M</td>\n",
              "      <td>1046176</td>\n",
              "      <td>193100</td>\n",
              "      <td>40.696483</td>\n",
              "      <td>-73.776680</td>\n",
              "      <td>(40.69648322200004, -73.77667979199998)</td>\n",
              "      <td>POINT (-73.77667979199998 40.69648322200004)</td>\n",
              "    </tr>\n",
              "  </tbody>\n",
              "</table>\n",
              "<p>5 rows × 36 columns</p>\n",
              "</div>\n",
              "      <button class=\"colab-df-convert\" onclick=\"convertToInteractive('df-1ecdb944-35a4-4dd0-8558-e595bf262deb')\"\n",
              "              title=\"Convert this dataframe to an interactive table.\"\n",
              "              style=\"display:none;\">\n",
              "        \n",
              "  <svg xmlns=\"http://www.w3.org/2000/svg\" height=\"24px\"viewBox=\"0 0 24 24\"\n",
              "       width=\"24px\">\n",
              "    <path d=\"M0 0h24v24H0V0z\" fill=\"none\"/>\n",
              "    <path d=\"M18.56 5.44l.94 2.06.94-2.06 2.06-.94-2.06-.94-.94-2.06-.94 2.06-2.06.94zm-11 1L8.5 8.5l.94-2.06 2.06-.94-2.06-.94L8.5 2.5l-.94 2.06-2.06.94zm10 10l.94 2.06.94-2.06 2.06-.94-2.06-.94-.94-2.06-.94 2.06-2.06.94z\"/><path d=\"M17.41 7.96l-1.37-1.37c-.4-.4-.92-.59-1.43-.59-.52 0-1.04.2-1.43.59L10.3 9.45l-7.72 7.72c-.78.78-.78 2.05 0 2.83L4 21.41c.39.39.9.59 1.41.59.51 0 1.02-.2 1.41-.59l7.78-7.78 2.81-2.81c.8-.78.8-2.07 0-2.86zM5.41 20L4 18.59l7.72-7.72 1.47 1.35L5.41 20z\"/>\n",
              "  </svg>\n",
              "      </button>\n",
              "      \n",
              "  <style>\n",
              "    .colab-df-container {\n",
              "      display:flex;\n",
              "      flex-wrap:wrap;\n",
              "      gap: 12px;\n",
              "    }\n",
              "\n",
              "    .colab-df-convert {\n",
              "      background-color: #E8F0FE;\n",
              "      border: none;\n",
              "      border-radius: 50%;\n",
              "      cursor: pointer;\n",
              "      display: none;\n",
              "      fill: #1967D2;\n",
              "      height: 32px;\n",
              "      padding: 0 0 0 0;\n",
              "      width: 32px;\n",
              "    }\n",
              "\n",
              "    .colab-df-convert:hover {\n",
              "      background-color: #E2EBFA;\n",
              "      box-shadow: 0px 1px 2px rgba(60, 64, 67, 0.3), 0px 1px 3px 1px rgba(60, 64, 67, 0.15);\n",
              "      fill: #174EA6;\n",
              "    }\n",
              "\n",
              "    [theme=dark] .colab-df-convert {\n",
              "      background-color: #3B4455;\n",
              "      fill: #D2E3FC;\n",
              "    }\n",
              "\n",
              "    [theme=dark] .colab-df-convert:hover {\n",
              "      background-color: #434B5C;\n",
              "      box-shadow: 0px 1px 3px 1px rgba(0, 0, 0, 0.15);\n",
              "      filter: drop-shadow(0px 1px 2px rgba(0, 0, 0, 0.3));\n",
              "      fill: #FFFFFF;\n",
              "    }\n",
              "  </style>\n",
              "\n",
              "      <script>\n",
              "        const buttonEl =\n",
              "          document.querySelector('#df-1ecdb944-35a4-4dd0-8558-e595bf262deb button.colab-df-convert');\n",
              "        buttonEl.style.display =\n",
              "          google.colab.kernel.accessAllowed ? 'block' : 'none';\n",
              "\n",
              "        async function convertToInteractive(key) {\n",
              "          const element = document.querySelector('#df-1ecdb944-35a4-4dd0-8558-e595bf262deb');\n",
              "          const dataTable =\n",
              "            await google.colab.kernel.invokeFunction('convertToInteractive',\n",
              "                                                     [key], {});\n",
              "          if (!dataTable) return;\n",
              "\n",
              "          const docLinkHtml = 'Like what you see? Visit the ' +\n",
              "            '<a target=\"_blank\" href=https://colab.research.google.com/notebooks/data_table.ipynb>data table notebook</a>'\n",
              "            + ' to learn more about interactive tables.';\n",
              "          element.innerHTML = '';\n",
              "          dataTable['output_type'] = 'display_data';\n",
              "          await google.colab.output.renderOutput(dataTable, element);\n",
              "          const docLink = document.createElement('div');\n",
              "          docLink.innerHTML = docLinkHtml;\n",
              "          element.appendChild(docLink);\n",
              "        }\n",
              "      </script>\n",
              "    </div>\n",
              "  </div>\n",
              "  "
            ]
          },
          "metadata": {},
          "execution_count": 393
        }
      ]
    },
    {
      "cell_type": "code",
      "source": [
        "df.shape"
      ],
      "metadata": {
        "colab": {
          "base_uri": "https://localhost:8080/"
        },
        "id": "P3n3B0cFGHoH",
        "outputId": "7997be26-1c48-41e7-cba8-0d95c8cf4bb4"
      },
      "execution_count": 394,
      "outputs": [
        {
          "output_type": "execute_result",
          "data": {
            "text/plain": [
              "(449506, 36)"
            ]
          },
          "metadata": {},
          "execution_count": 394
        }
      ]
    },
    {
      "cell_type": "markdown",
      "source": [
        "## Questions"
      ],
      "metadata": {
        "id": "RUP00hADfs1N"
      }
    },
    {
      "cell_type": "markdown",
      "source": [
        "### 1) source of your data\n",
        "\n",
        "The data comes from the New York City Police Department.\n",
        "\n",
        "https://data.cityofnewyork.us/Public-Safety/NYPD-Complaint-Data-Current-Year-To-Date-/5uac-w243\n"
      ],
      "metadata": {
        "id": "q9twhacHf_bd"
      }
    },
    {
      "cell_type": "markdown",
      "source": [
        "### 2) Brief description of data\n",
        "\n",
        "The data includes report information about crimes reported to the NYPD. (Location: Coordinates and Descriptive; Day and Time; Suspect Profile Information; Victim Profile Information; Weather; and several others)"
      ],
      "metadata": {
        "id": "s68fUeMogD_g"
      }
    },
    {
      "cell_type": "markdown",
      "source": [
        "### 3) What is the target?\n",
        "\n",
        "The target is `\"LAW_CAT_CD\"`, which is the level of offense (felony, misdemeanor, violation)."
      ],
      "metadata": {
        "id": "rsKJOX6PgKZV"
      }
    },
    {
      "cell_type": "markdown",
      "source": [
        "###  4) Is this a classification or regression problem?\n",
        "\n",
        "This will be a classification problem."
      ],
      "metadata": {
        "id": "QXfpkTOOgNlh"
      }
    },
    {
      "cell_type": "markdown",
      "source": [
        "### 5) How many features?\n",
        "Although the dataset has 35 features after being separated from the target, many of them are unnecessary and should be removed before any modeling is done.\n",
        "\n",
        "For example, there are multiple location features. Two pair of which express the same coordinate information in two different coordiante systems.\n",
        "\n",
        "There are also several features that are codes which ways of encoding report information and should not be used. They do not predict the target. They were explictly created by the reporting system after the crime was reported and cannot be used to predict future events (they postdict).\n",
        "\n",
        "A thourough examination of the data will be required to determine all the features that should be removed before modeling.\n"
      ],
      "metadata": {
        "id": "P_GxKXwmgRkL"
      }
    },
    {
      "cell_type": "markdown",
      "source": [
        "### 6) How many rows of data.\n",
        "\n",
        "The dataset has 449,506 rows of data"
      ],
      "metadata": {
        "id": "XKFujSFJgU0T"
      }
    },
    {
      "cell_type": "markdown",
      "source": [
        "### 7) What, if any, challenges do your foresee in cleaning, exploring, or modeling with this dataset?\n",
        "\n",
        "There are several columns which have a lot of missing values. Some missing values may be acceptable (`\"PARKS_NM\"` has no value if the occurance did not happen in a park), and can be accomadated.\n",
        "\n",
        "And as mentioned above in question 5, several of the columns should not be used because they may have values that are determined by the target values. Determining which ones may take some research.\n",
        "\n",
        "Some columns (such as some of the description columns) have multiple values within a single cell. It may be necessary to break them apart into their component values."
      ],
      "metadata": {
        "id": "BWc7tBFagXQz"
      }
    },
    {
      "cell_type": "markdown",
      "source": [
        ""
      ],
      "metadata": {
        "id": "7QfE9Qwf4roi"
      }
    },
    {
      "cell_type": "markdown",
      "source": [
        "#Data Dictionary\n",
        "\n",
        "Column Name|Description|Type\n",
        "-|-|-\n",
        "CMPLNT_NUM|Randomly generated persistent ID for each complaint|Number\n",
        "ADDR_PCT_CD|The precinct in which the incident occurred|Number\n",
        "BORO_NM|The name of the borough in which the incident occurred|Plain Text\n",
        "CMPLNT_FR_DT|Exact date of occurrence for the reported event (or starting date of occurrence, if CMPLNT_TO_DT exists)|Date & Time\n",
        "CMPLNT_FR_TM|Exact time of occurrence for the reported event (or starting time of occurrence, if CMPLNT_TO_TM exists)|Plain Text\n",
        "CMPLNT_TO_DT|Ending date of occurrence for the reported event, if exact time of occurrence is unknown|Date & Time\n",
        "CMPLNT_TO_TM|Ending time of occurrence for the reported event, if exact time of occurrence is unknown|Plain Text\n",
        "CRM_ATPT_CPTD_CD|Indicator of whether crime was successfully completed or attempted, but failed or was interrupted prematurely|Plain Text\n",
        "HADEVELOPT|Name of NYCHA housing development of occurrence, if applicable|Plain Text\n",
        "HOUSING_PSA|Development Level Code|Number\n",
        "JURISDICTION_CODE|Jurisdiction responsible for incident. Either internal, like Police(0), Transit(1), and Housing(2); or external(3), like Correction, Port Authority, etc.|Number\n",
        "JURIS_DESC|Description of the jurisdiction code|Plain Text\n",
        "KY_CD|Three digit offense classification code|Number\n",
        "LAW_CAT_CD|Level of offense: felony, misdemeanor, violation|Plain Text\n",
        "LOC_OF_OCCUR_DESC|Specific location of occurrence in or around the premises; inside, opposite of, front of, rear of|Plain Text\n",
        "OFNS_DESC|Description of offense corresponding with key code|Plain Text\n",
        "PARKS_NM|Name of NYC park, playground or greenspace of occurrence, if applicable (state parks are not included)|Plain Text\n",
        "PATROL_BORO|The name of the patrol borough in which the incident occurred|Plain Text\n",
        "PD_CD|Three digit internal classification code (more granular than Key Code)|Number\t\n",
        "PD_DESC|Description of internal classification corresponding with PD code (more granular than Offense Description)|Plain Text\n",
        "PREM_TYP_DESC|Specific description of premises; grocery store, residence, street, etc.|Plain Text\n",
        "RPT_DT|Date event was reported to police|Date & Time\n",
        "STATION_NAME|Transit station name|Plain Text\n",
        "SUSP_AGE_GROUP|Suspect’s Age Group|Plain Text\n",
        "SUSP_RACE|Suspect’s Race Description|Plain Text\n",
        "SUSP_SEX|Suspect’s Sex Description|Plain Text\n",
        "TRANSIT_DISTRICT|Transit district in which the offense occurred.|Number\t\n",
        "VIC_AGE_GROUP|Victim’s Age Group|Plain Text\n",
        "VIC_RACE|Victim’s Race Description|Plain Text\n",
        "VIC_SEX|Victim’s Sex Description|Plain Text\n",
        "X_COORD_CD|X-coordinate for New York State Plane Coordinate System, Long Island Zone, NAD 83, units feet (FIPS 3104)|Number\n",
        "Y_COORD_CD|Y-coordinate for New York State Plane Coordinate System, Long Island Zone, NAD 83, units feet (FIPS 3104)|Number\n",
        "Latitude|Midblock Latitude coordinate for Global Coordinate System, WGS 1984, decimal degrees (EPSG 4326)|Number\n",
        "Longitude|Midblock Longitude coordinate for Global Coordinate System, WGS 1984, decimal degrees (EPSG 4326)|Number\n",
        "Lat_Lon||Location\n",
        "New Georeferenced Column||Point"
      ],
      "metadata": {
        "id": "CjvWc9lH-DPT"
      }
    },
    {
      "cell_type": "markdown",
      "source": [
        "# 1 . Load Data"
      ],
      "metadata": {
        "id": "svM_yJyf4s95"
      }
    },
    {
      "cell_type": "code",
      "source": [
        "# from google.colab import drive\n",
        "# drive.mount(\"/content/drive\")"
      ],
      "metadata": {
        "id": "-5mAG4iC4xIh"
      },
      "execution_count": 395,
      "outputs": []
    },
    {
      "cell_type": "code",
      "source": [
        "# import numpy as np\n",
        "# import pandas as pd"
      ],
      "metadata": {
        "id": "pl75WLjI44OW"
      },
      "execution_count": 396,
      "outputs": []
    },
    {
      "cell_type": "code",
      "source": [
        "# df = pd.read_csv(\"/content/drive/MyDrive/Coding Dojo/Data Folder/NYPD_Complaint_Data_Current__Year_To_Date_.csv\")"
      ],
      "metadata": {
        "id": "CjYdd5nk8QOB"
      },
      "execution_count": 397,
      "outputs": []
    },
    {
      "cell_type": "code",
      "source": [
        "df.info()"
      ],
      "metadata": {
        "colab": {
          "base_uri": "https://localhost:8080/"
        },
        "id": "cglB3oDK8Xav",
        "outputId": "fe676457-bc96-44f8-fc39-109fe88f3cab"
      },
      "execution_count": 398,
      "outputs": [
        {
          "output_type": "stream",
          "name": "stdout",
          "text": [
            "<class 'pandas.core.frame.DataFrame'>\n",
            "RangeIndex: 449506 entries, 0 to 449505\n",
            "Data columns (total 36 columns):\n",
            " #   Column                    Non-Null Count   Dtype  \n",
            "---  ------                    --------------   -----  \n",
            " 0   CMPLNT_NUM                449506 non-null  int64  \n",
            " 1   ADDR_PCT_CD               449506 non-null  int64  \n",
            " 2   BORO_NM                   448355 non-null  object \n",
            " 3   CMPLNT_FR_DT              449506 non-null  object \n",
            " 4   CMPLNT_FR_TM              449506 non-null  object \n",
            " 5   CMPLNT_TO_DT              409416 non-null  object \n",
            " 6   CMPLNT_TO_TM              409568 non-null  object \n",
            " 7   CRM_ATPT_CPTD_CD          449345 non-null  object \n",
            " 8   HADEVELOPT                1577 non-null    object \n",
            " 9   HOUSING_PSA               32583 non-null   float64\n",
            " 10  JURISDICTION_CODE         449023 non-null  float64\n",
            " 11  JURIS_DESC                449506 non-null  object \n",
            " 12  KY_CD                     449506 non-null  int64  \n",
            " 13  LAW_CAT_CD                449506 non-null  object \n",
            " 14  LOC_OF_OCCUR_DESC         375243 non-null  object \n",
            " 15  OFNS_DESC                 449497 non-null  object \n",
            " 16  PARKS_NM                  3192 non-null    object \n",
            " 17  PATROL_BORO               449023 non-null  object \n",
            " 18  PD_CD                     449023 non-null  float64\n",
            " 19  PD_DESC                   449023 non-null  object \n",
            " 20  PREM_TYP_DESC             448236 non-null  object \n",
            " 21  RPT_DT                    449506 non-null  object \n",
            " 22  STATION_NAME              8976 non-null    object \n",
            " 23  SUSP_AGE_GROUP            361372 non-null  object \n",
            " 24  SUSP_RACE                 361372 non-null  object \n",
            " 25  SUSP_SEX                  361372 non-null  object \n",
            " 26  TRANSIT_DISTRICT          8976 non-null    float64\n",
            " 27  VIC_AGE_GROUP             449506 non-null  object \n",
            " 28  VIC_RACE                  449425 non-null  object \n",
            " 29  VIC_SEX                   449506 non-null  object \n",
            " 30  X_COORD_CD                449506 non-null  int64  \n",
            " 31  Y_COORD_CD                449506 non-null  int64  \n",
            " 32  Latitude                  449506 non-null  float64\n",
            " 33  Longitude                 449506 non-null  float64\n",
            " 34  Lat_Lon                   449506 non-null  object \n",
            " 35  New Georeferenced Column  449506 non-null  object \n",
            "dtypes: float64(6), int64(5), object(25)\n",
            "memory usage: 123.5+ MB\n"
          ]
        }
      ]
    },
    {
      "cell_type": "code",
      "source": [
        "# Function for showing unique values and missing rows from columns of a dataframe\n",
        "def show_column_values(dataframe,column_list=[]):\n",
        "    for col in column_list:\n",
        "        print(f\"{col:>18} : {dataframe[col].nunique():>5} : {dataframe[col].value_counts().sort_index().index.to_list()}\")\n",
        "        print(f\"{':':>20} {dataframe.loc[ df[col].isna() , col].duplicated().sum():>5} : Rows Missing Data\\n\")"
      ],
      "metadata": {
        "id": "7V_pjgsYvDKY"
      },
      "execution_count": 399,
      "outputs": []
    },
    {
      "cell_type": "markdown",
      "source": [
        "## 1 . 2 . Identify the Target"
      ],
      "metadata": {
        "id": "G0CGIphEsa1A"
      }
    },
    {
      "cell_type": "markdown",
      "source": [
        "The target value for this analysis is the level of the offense.\n",
        "* `\"LAW_CAT_CD\"`\n",
        "    > The level of the offense: felony, misdemeanor, or violation."
      ],
      "metadata": {
        "id": "sRcup3zPtM4J"
      }
    },
    {
      "cell_type": "code",
      "source": [
        "# for col in [\"LAW_CAT_CD\"]:\n",
        "#     print(f\"{col:>14} : {df[col].nunique():>5} : {df[col].value_counts().sort_index().index.to_list()}\")\n",
        "#     print(f\"{':':>16} {df.loc[ df[col].isna() , col].duplicated().sum():>5} : Rows Missing Data\\n\")\n",
        "show_column_values(df,[\"LAW_CAT_CD\"])"
      ],
      "metadata": {
        "colab": {
          "base_uri": "https://localhost:8080/"
        },
        "id": "3YKX8D6Wt_qS",
        "outputId": "fdc59178-8ba5-4a36-f807-e190cf9987c3"
      },
      "execution_count": 400,
      "outputs": [
        {
          "output_type": "stream",
          "name": "stdout",
          "text": [
            "        LAW_CAT_CD :     3 : ['FELONY', 'MISDEMEANOR', 'VIOLATION']\n",
            "                   :     0 : Rows Missing Data\n",
            "\n"
          ]
        }
      ]
    },
    {
      "cell_type": "markdown",
      "source": [
        "# 2 . Uniqueness and Duplication"
      ],
      "metadata": {
        "id": "Eeg5idykSK2s"
      }
    },
    {
      "cell_type": "markdown",
      "source": [
        "Each data row is suppose to represent a single unique complaint identified in the `\"CMPLNT__NUM\"` column. So there should be no duplicates."
      ],
      "metadata": {
        "id": "XC0NCWMQFpbf"
      }
    },
    {
      "cell_type": "code",
      "source": [
        "print(f\"{df.shape[0]} Rows in the data table\")\n",
        "print(f\"{df['CMPLNT_NUM'].nunique()} Unique Entries in the complaint number column\")\n",
        "print(f\"{df.duplicated().sum():>6} Duplicated table rows\")"
      ],
      "metadata": {
        "colab": {
          "base_uri": "https://localhost:8080/"
        },
        "id": "BztrCtuv9hxD",
        "outputId": "7587ebf4-8dd8-422b-f7e5-5c9f65dfee64"
      },
      "execution_count": 401,
      "outputs": [
        {
          "output_type": "stream",
          "name": "stdout",
          "text": [
            "449506 Rows in the data table\n",
            "449506 Unique Entries in the complaint number column\n",
            "     0 Duplicated table rows\n"
          ]
        }
      ]
    },
    {
      "cell_type": "markdown",
      "source": [
        "Verified that no rows are duplicated.\n",
        "\n",
        "Since the values for `\"CMPLNT_NUM\"` are unique integers for each row, they can be used as the row index."
      ],
      "metadata": {
        "id": "ehPhU4YnnsS-"
      }
    },
    {
      "cell_type": "code",
      "source": [
        "df.set_index(\"CMPLNT_NUM\",inplace=True);"
      ],
      "metadata": {
        "id": "6MMWFqSKB91K"
      },
      "execution_count": 402,
      "outputs": []
    },
    {
      "cell_type": "markdown",
      "source": [
        "Now that the unique complaint number has been changed to the index, I can check again for duplicate rows. These new duplicates will indicate that there were probably mulitple suspects or mutiple victims at each incident, with each addtional suspect or victim contributing to new rows in the data table."
      ],
      "metadata": {
        "id": "eWUNvSx5qJUN"
      }
    },
    {
      "cell_type": "code",
      "source": [
        "print(f\"{df.duplicated().sum()} Duplicated table rows\")"
      ],
      "metadata": {
        "colab": {
          "base_uri": "https://localhost:8080/"
        },
        "id": "kIFcupY2vVUH",
        "outputId": "ab47ccce-b479-496f-f13f-a6d95573058b"
      },
      "execution_count": 403,
      "outputs": [
        {
          "output_type": "stream",
          "name": "stdout",
          "text": [
            "1576 Duplicated table rows\n"
          ]
        }
      ]
    },
    {
      "cell_type": "markdown",
      "source": [
        "Now I must make a choice of whether I will drop these new duplicates. I can either drop them and only consider each group of new duplicates as a single event. Or I can keep them and consider each new duplicate a separate event.\n",
        "\n",
        "From a resource perspective, I will consider each new duplicate a separate event. Although these new duplicates happen in groups, it may require more resources to respond to a single group of events.\n",
        "\n",
        "This choice may effect the results based on how often these groups of event occur."
      ],
      "metadata": {
        "id": "uhvELV_nvb9_"
      }
    },
    {
      "cell_type": "code",
      "source": [
        "print(f\"New duplicates account for {df.duplicated().sum() / df.shape[0]*100:.2f}% of all complaints.\")"
      ],
      "metadata": {
        "colab": {
          "base_uri": "https://localhost:8080/"
        },
        "id": "0eqmVix5vaf_",
        "outputId": "cf48b788-35f0-40c1-dcf8-17e5c7b5685b"
      },
      "execution_count": 404,
      "outputs": [
        {
          "output_type": "stream",
          "name": "stdout",
          "text": [
            "New duplicates account for 0.35% of all complaints.\n"
          ]
        }
      ]
    },
    {
      "cell_type": "markdown",
      "source": [
        "Since the new duplicates only account for just over a third of one percent, they are not very common (less than four out of every thousand).\n",
        "\n",
        "Further justification for keeping these new duplicate can be found by considering who may be invovled. These duplicates are those where the suspects and victims necessarily share demographic characteristics. If a single group of events had suspects and victims with different demographic characteristics, then data rows conresponding the these different individuals would not be duplicates.\n",
        "\n",
        "At this stage in the analysis, I am not yet prepared to determine any group events that have non-duplicated rows of data. After I do so, it will be possible to do comparative analysis to see if grouping simultaneous events as a single occurance has any detectable consequences. There may be some applications where such grouping is a better measure than haveing them treated as separate these events."
      ],
      "metadata": {
        "id": "RTESTYy5yEag"
      }
    },
    {
      "cell_type": "markdown",
      "source": [
        "# 3 . Eliminating Unnecessary Columns"
      ],
      "metadata": {
        "id": "_CEUmEpnSFwB"
      }
    },
    {
      "cell_type": "markdown",
      "source": [
        "In building a model that can help me understand where different kinds of crimes are happening, I need to separate the information that can be used to help allocate resources from the information that which cannot.\n",
        "\n",
        "Time and location are quantities that must occur for any complaint, and exist even if there is no complaint. These are also important criteria to use when allocating resorces. Without these pieces of information there is no framework for understanding the layout of the city.\n",
        "\n",
        "Since I will be dropping columns several times, I will make a function to assist me and report how many columns remain.\n"
      ],
      "metadata": {
        "id": "RRHhaHNl6yLb"
      }
    },
    {
      "cell_type": "code",
      "source": [
        "# Function for dropping a list of columns from a dataframe and reporting it\n",
        "def drop_columns(dataframe, column_list=[]):\n",
        "    print(f\"{dataframe.shape[1]} columns before the drop.\")\n",
        "    dataframe.drop(columns=column_list, inplace=True)\n",
        "    print(f\"{dataframe.shape[1]} columns after the drop.\")"
      ],
      "metadata": {
        "id": "piPPWZYuJl1O"
      },
      "execution_count": 405,
      "outputs": []
    },
    {
      "cell_type": "markdown",
      "source": [
        "## 3 . 1 . Suspect and Victim Demographics"
      ],
      "metadata": {
        "id": "a2amr1r-6hhL"
      }
    },
    {
      "cell_type": "markdown",
      "source": [
        "There are only three characteristics in the data set given for suspect and victim demographics: sex, age, and race.\n",
        "* `\"SUSP_SEX\"`, `\"VIC_SEX\"`\n",
        "> Sex of the suspect or victim\n",
        "* `\"SUSP_RACE\"`, `\"VIC_RACE\"`\n",
        "> Race of the suspect or victim\n",
        "* `\"SUSP_AGE_GROUP\"`, `\"VIC_AGE_GROUP\"`\n",
        "> Age group of the suspect or victim\n",
        "\n",
        "I can look at how these values are recorded. I will display the values in ascending order (alphabetically and increasing numerically) and how much data is missing."
      ],
      "metadata": {
        "id": "TklH_9My6mh9"
      }
    },
    {
      "cell_type": "code",
      "source": [
        "# for col in [\"SUSP_SEX\",\"SUSP_RACE\",\"SUSP_AGE_GROUP\",\"VIC_SEX\",\"VIC_RACE\",\"VIC_AGE_GROUP\"]:\n",
        "#     print(f\"{col:>14} : {df[col].nunique():>5} : {df[col].value_counts().sort_index().index.to_list()}\")\n",
        "#     print(f\"{':':>16} {df.loc[ df[col].isna() , col].duplicated().sum():>5} : Rows Missing Data\\n\")\n",
        "\n",
        "show_column_values(df,[\"SUSP_SEX\",\"SUSP_RACE\",\"SUSP_AGE_GROUP\",\"VIC_SEX\",\"VIC_RACE\",\"VIC_AGE_GROUP\"])"
      ],
      "metadata": {
        "colab": {
          "base_uri": "https://localhost:8080/"
        },
        "id": "RuL1velwA5uu",
        "outputId": "53210911-abb7-4622-e522-2c93f1517da4"
      },
      "execution_count": 406,
      "outputs": [
        {
          "output_type": "stream",
          "name": "stdout",
          "text": [
            "          SUSP_SEX :     3 : ['F', 'M', 'U']\n",
            "                   : 88133 : Rows Missing Data\n",
            "\n",
            "         SUSP_RACE :     7 : ['AMERICAN INDIAN/ALASKAN NATIVE', 'ASIAN / PACIFIC ISLANDER', 'BLACK', 'BLACK HISPANIC', 'UNKNOWN', 'WHITE', 'WHITE HISPANIC']\n",
            "                   : 88133 : Rows Missing Data\n",
            "\n",
            "    SUSP_AGE_GROUP :    26 : ['-33', '-60', '-69', '-941', '-946', '-947', '-955', '-966', '-969', '-971', '-973', '-975', '1017', '1032', '1056', '18-24', '2021', '25-44', '45-64', '65+', '938', '940', '942', '953', '<18', 'UNKNOWN']\n",
            "                   : 88133 : Rows Missing Data\n",
            "\n",
            "           VIC_SEX :     4 : ['D', 'E', 'F', 'M']\n",
            "                   :     0 : Rows Missing Data\n",
            "\n",
            "          VIC_RACE :     7 : ['AMERICAN INDIAN/ALASKAN NATIVE', 'ASIAN / PACIFIC ISLANDER', 'BLACK', 'BLACK HISPANIC', 'UNKNOWN', 'WHITE', 'WHITE HISPANIC']\n",
            "                   :    80 : Rows Missing Data\n",
            "\n",
            "     VIC_AGE_GROUP :    21 : ['-1', '-3', '-4', '-48', '-51', '-61', '-62', '-921', '-935', '-943', '-960', '18-24', '25-44', '45-64', '65+', '936', '945', '963', '970', '<18', 'UNKNOWN']\n",
            "                   :     0 : Rows Missing Data\n",
            "\n"
          ]
        }
      ]
    },
    {
      "cell_type": "markdown",
      "source": [
        "These won't be very helpful to understand how crime is distributed as people matching these descriptions can be found throughout the city. Further, many complaints have no information about the suspect. And victims can include businesses and organizations (sex `\"D\"`) and the People of the State of New York  (sex `\"E\"`)\n",
        "\n",
        "A quick calculation can even show how much suspect information is unavailable. (As per the NYPD Complaints Incident Level Data Footnotes, item number 2, null values should be considered as either \"Unknown/Not Available/Not Reported\")."
      ],
      "metadata": {
        "id": "RiU-0Ip-MXUh"
      }
    },
    {
      "cell_type": "code",
      "source": [
        "for col,val in zip((\"SUSP_SEX\",\"SUSP_RACE\",\"SUSP_AGE_GROUP\"),(\"U\",\"UNKNOWN\",\"UNKNOWN\")):\n",
        "    print(f\"{df.loc[ df[col]==val , col].count() /  df[col].shape[0] * 100:.2f}% Rows with {col} {val}\")\n",
        "    print(f\"{df[col].isna().sum() /  df[col].shape[0] * 100:.2f}% Rows with {col} null\")\n",
        "    print(f\"{(df[col].isna().sum()+df.loc[ df[col]==val , col].count()) /  df[col].shape[0] * 100:.2f}% Total Rows\\n\")"
      ],
      "metadata": {
        "colab": {
          "base_uri": "https://localhost:8080/"
        },
        "id": "Abmfn3fzGyeY",
        "outputId": "201481a4-496b-46a6-8208-d5be0cc111d6"
      },
      "execution_count": 407,
      "outputs": [
        {
          "output_type": "stream",
          "name": "stdout",
          "text": [
            "21.14% Rows with SUSP_SEX U\n",
            "19.61% Rows with SUSP_SEX null\n",
            "40.75% Total Rows\n",
            "\n",
            "24.82% Rows with SUSP_RACE UNKNOWN\n",
            "19.61% Rows with SUSP_RACE null\n",
            "44.42% Total Rows\n",
            "\n",
            "37.32% Rows with SUSP_AGE_GROUP UNKNOWN\n",
            "19.61% Rows with SUSP_AGE_GROUP null\n",
            "56.92% Total Rows\n",
            "\n"
          ]
        }
      ]
    },
    {
      "cell_type": "markdown",
      "source": [
        "With this much information unavailable (over 40%), these columns would be problamatic if they were kept. So I will drop these from the working dataframe. (This is even without considering all the additional age values that don't represent real ages.)"
      ],
      "metadata": {
        "id": "oCcyJcFwXTb9"
      }
    },
    {
      "cell_type": "code",
      "source": [
        "drop_columns(df,[\"SUSP_SEX\",\"SUSP_RACE\",\"SUSP_AGE_GROUP\",\"VIC_SEX\",\"VIC_RACE\",\"VIC_AGE_GROUP\"])"
      ],
      "metadata": {
        "colab": {
          "base_uri": "https://localhost:8080/"
        },
        "id": "oJ9lVE5DYLEW",
        "outputId": "b49d8279-ae60-482a-de2b-8440890d22c9"
      },
      "execution_count": 408,
      "outputs": [
        {
          "output_type": "stream",
          "name": "stdout",
          "text": [
            "35 columns before the drop.\n",
            "29 columns after the drop.\n"
          ]
        }
      ]
    },
    {
      "cell_type": "markdown",
      "source": [
        "## 3 . 2 . Location Data"
      ],
      "metadata": {
        "id": "qF7UJiMcRBGx"
      }
    },
    {
      "cell_type": "markdown",
      "source": [
        "There are several columns that descibe the location of the complaint. Some of them are too general, others are too specific, and some are redudant.\n",
        "\n",
        "\n",
        "\n",
        "Primary Location Information\n",
        "* `\"ADDR_PCT_CD\"` (Precinct) (KEEP)\n",
        ">New York is divided into 77 precincts. This is the level that neighborhood communities and law enforcement will typically interact. Additionally, some offenses are assigned alternate locations than where they actually occured. (NYPD Complaints Incident Level Data Footnotes, items number 10 through 13, 15). This makes location resolution smaller than the precinct level less accurate.\n",
        "\n",
        "Too General\n",
        "*  `\"BORO_NM\"` (Borough) (DROP)\n",
        ">New York City has five boroughs. Each has a significantly large population density (four of which are greater than any other city in the country). Locating where events occur by borough is too broad, so I will drop the column. If for some reason the boroughs should become an important feature to include, then it can be added back in as each precinct is within a specific borough (there is the exception of Marble Hill).\n",
        "\n",
        "* `\"PATROL_BORO\"` (Patrol Borough) (DROP)\n",
        ">The patrol borough value  divides three of the boroughs into a north and south region. But otherwise, the size of these patrol boroughs are still too broad.\n",
        "\n",
        "Too Specific and Redundant\n",
        "\n",
        "* `\"Latitude\"` and `\"Longitude\"` (DROP)\n",
        "    > Geographical location given in the Global Coordinate System. If a smaller resolution than precinct should be needed, these coordinates can be used to help reconstruct the necessary information information. If doing so, it must be kept in mind that coordinates which are not relocated will be approximations to the nearest mid-block or street intersection. This falls in line with the NYPD Complaints Incident Level Data Footnotes, item 9, which states that trying to match locations to an exact address is not recommended.\n",
        "* `\"Lat_Lon\"` and `\"New Georeferenced Column\"` (DROP)\n",
        "    > The latitude and longitude coordinates given as an ordered pair. The new georeferenced column reverses the order of the latitude-longitude ordered pair. Because these ordered pairs contain the same information as the latitude and longitude, they provide no new information.\n",
        "* `\"X_COORD_CD\"` and `\"Y_COORD_CD\"` (DROP)\n",
        "    >  Geographical location given in the New York State Plane Coordinate System. These coordinates can be determined by transforming the latitude and longitude, so provide no new information."
      ],
      "metadata": {
        "id": "FEoOrvI8Oi94"
      }
    },
    {
      "cell_type": "code",
      "source": [
        "drop_columns(df,[\"BORO_NM\", \"PATROL_BORO\", \"X_COORD_CD\",\"Y_COORD_CD\",\"Latitude\",\"Longitude\",\"Lat_Lon\",\"New Georeferenced Column\"])"
      ],
      "metadata": {
        "colab": {
          "base_uri": "https://localhost:8080/"
        },
        "id": "fjasq6rxN2Rg",
        "outputId": "3892a46f-0d77-4e2f-8339-fbc7d91d9a7c"
      },
      "execution_count": 409,
      "outputs": [
        {
          "output_type": "stream",
          "name": "stdout",
          "text": [
            "29 columns before the drop.\n",
            "21 columns after the drop.\n"
          ]
        }
      ]
    },
    {
      "cell_type": "markdown",
      "source": [
        "## 3 . 3 . Location Descriptions"
      ],
      "metadata": {
        "id": "moajxmImcszd"
      }
    },
    {
      "cell_type": "markdown",
      "source": [
        "These columns describe attributes about the locations where the complaint occurred.\n",
        "\n",
        "* `\"PREM_TYP_DESC\"` (Premise Type Description) (KEEP)\n",
        ">This describe the type of premise where the complaint occurred. The distribution of location types may be a factor in identifying areas more susceptible to crimes as there may be an association between the type of crime and the type of location.\n",
        ">\n",
        ">This is not a smaller resolution than the precinct, as for most values it doesn't identify where within a precinct an event occurs. (Some exceptions can be identified, but are not common. For example, if the value is `\"CEMETARY\"` and there is only one cemetary in the precinct if won't be difficult to geo-locate the crime.)\n",
        "\n",
        "* `\"LOC_OF_OCCUR_DESC\"` (DROP)\n",
        ">This describes the specific location on the premises the crime occured. Although important for an investigation, I don't believe this is particularly helpful for understanding the distribution of crime throughout the city.\n",
        " \n",
        "The values in each column are listed below.\n",
        "\n",
        "\n",
        "\n",
        "\n"
      ],
      "metadata": {
        "id": "XWUn1NogWCL_"
      }
    },
    {
      "cell_type": "code",
      "source": [
        "# for col in [\"PREM_TYP_DESC\",\"LOC_OF_OCCUR_DESC\"]:\n",
        "#     print(f\"{col:>17} : {df[col].nunique():>4} : {df[col].value_counts().index.to_list()}\\n\")\n",
        "\n",
        "show_column_values(df,[\"PREM_TYP_DESC\",\"LOC_OF_OCCUR_DESC\"])"
      ],
      "metadata": {
        "colab": {
          "base_uri": "https://localhost:8080/"
        },
        "id": "mFlDn6rVcWLr",
        "outputId": "90555d65-d3cf-41c1-9174-4f7650012e66"
      },
      "execution_count": 410,
      "outputs": [
        {
          "output_type": "stream",
          "name": "stdout",
          "text": [
            "     PREM_TYP_DESC :    74 : ['ABANDONED BUILDING', 'AIRPORT TERMINAL', 'ATM', 'BANK', 'BAR/NIGHT CLUB', 'BEAUTY & NAIL SALON', 'BOOK/CARD', 'BRIDGE', 'BUS (NYC TRANSIT)', 'BUS (OTHER)', 'BUS STOP', 'BUS TERMINAL', 'CANDY STORE', 'CEMETERY', 'CHAIN STORE', 'CHECK CASHING BUSINESS', 'CHURCH', 'CLOTHING/BOUTIQUE', 'COMMERCIAL BUILDING', 'CONSTRUCTION SITE', 'DAYCARE FACILITY', 'DEPARTMENT STORE', 'DOCTOR/DENTIST OFFICE', 'DRUG STORE', 'DRY CLEANER/LAUNDRY', 'FACTORY/WAREHOUSE', 'FAST FOOD', 'FERRY/FERRY TERMINAL', 'FOOD SUPERMARKET', 'GAS STATION', 'GROCERY/BODEGA', 'GYM/FITNESS FACILITY', 'HIGHWAY/PARKWAY', 'HOMELESS SHELTER', 'HOSPITAL', 'HOTEL/MOTEL', 'JEWELRY', 'LIQUOR STORE', 'LOAN COMPANY', 'MAILBOX INSIDE', 'MAILBOX OUTSIDE', 'MARINA/PIER', 'MOSQUE', 'OPEN AREAS (OPEN LOTS)', 'OTHER', 'OTHER HOUSE OF WORSHIP', 'PARK/PLAYGROUND', 'PARKING LOT/GARAGE (PRIVATE)', 'PARKING LOT/GARAGE (PUBLIC)', 'PHOTO/COPY', 'PRIVATE/PAROCHIAL SCHOOL', 'PUBLIC BUILDING', 'PUBLIC SCHOOL', 'RESIDENCE - APT. HOUSE', 'RESIDENCE - PUBLIC HOUSING', 'RESIDENCE-HOUSE', 'RESTAURANT/DINER', 'SHOE', 'SMALL MERCHANT', 'SOCIAL CLUB/POLICY', 'STORAGE FACILITY', 'STORE UNCLASSIFIED', 'STREET', 'SYNAGOGUE', 'TAXI (LIVERY LICENSED)', 'TAXI (YELLOW LICENSED)', 'TAXI/LIVERY (UNLICENSED)', 'TELECOMM. STORE', 'TRAMWAY', 'TRANSIT - NYC SUBWAY', 'TRANSIT FACILITY (OTHER)', 'TUNNEL', 'VARIETY STORE', 'VIDEO STORE']\n",
            "                   :  1269 : Rows Missing Data\n",
            "\n",
            " LOC_OF_OCCUR_DESC :     5 : ['FRONT OF', 'INSIDE', 'OPPOSITE OF', 'OUTSIDE', 'REAR OF']\n",
            "                   : 74262 : Rows Missing Data\n",
            "\n"
          ]
        }
      ]
    },
    {
      "cell_type": "markdown",
      "source": [
        "The values in `\"PREM_TYP_DESC\"` are clearly meant to distinguish different type of locations. Some are similar, and can potentially be merged into common categories if the need should arise (such as the mulitple type of residences).\n"
      ],
      "metadata": {
        "id": "LGw6xzOBco-D"
      }
    },
    {
      "cell_type": "code",
      "source": [
        "drop_columns(df,[\"LOC_OF_OCCUR_DESC\"])"
      ],
      "metadata": {
        "colab": {
          "base_uri": "https://localhost:8080/"
        },
        "id": "B2K58h1KhPP4",
        "outputId": "cb212e4d-847b-4b01-d467-b9240f87792b"
      },
      "execution_count": 411,
      "outputs": [
        {
          "output_type": "stream",
          "name": "stdout",
          "text": [
            "21 columns before the drop.\n",
            "20 columns after the drop.\n"
          ]
        }
      ]
    },
    {
      "cell_type": "markdown",
      "source": [
        "## 3 . 4 . Special Locations"
      ],
      "metadata": {
        "id": "54AFILIVh8VH"
      }
    },
    {
      "cell_type": "markdown",
      "source": [
        "There are a few columns that provide special location information.\n",
        "* `\"HADEVELOPT\"` (DROP)\n",
        "    > Name of a New York City Housing Authority Development, if applicable.\n",
        "* `\"PARKS_NM\"` (DROP)\n",
        "    >  Name of a New York City park, playground, or greenspace, if applicable.\n",
        "* `\"STATION_NAME\"` (DROP)\n",
        "    > Name of a Transit Station, if applicable.\n",
        "* `\"TRANSIT_DISTRICT\"` (DROP)\n",
        "    > Name of a Transit District, if applicable.\n",
        "\n",
        "Each of these features probably provides too much resolution or nuance for the purposes of this project. I can check that each of these columns is strongly associated with the corresponding descriptions from the `\"PREM_TYP_DESC\"` column.\n",
        "\n"
      ],
      "metadata": {
        "id": "GIsj08DNiEq4"
      }
    },
    {
      "cell_type": "code",
      "source": [
        "print(\"Greatest Premise Type Description for Each Special Location Type\")\n",
        "for col in [\"HADEVELOPT\",\"PARKS_NM\",\"STATION_NAME\",\"TRANSIT_DISTRICT\"]:\n",
        "    # print the most frequent of the premise types that has a value in the iterated column\n",
        "    print(f\"{col:>16} : {df.loc[ ~df[col].isna(), 'PREM_TYP_DESC'].value_counts().index.to_list()[0]}\")\n",
        "    # print the number of occurences for the mose frequent of the premise types and all premise types that have values in the iterated column\n",
        "    print(f\"{'':>16} : {df.loc[ ~df[col].isna(), 'PREM_TYP_DESC'].value_counts()[0]} out of {df.loc[ ~df[col].isna(), 'PREM_TYP_DESC'].value_counts().sum()} data entries\")\n",
        "    # print the percent of occurences for the most frequent of the premise types that has a value in the iterated column\n",
        "    print(f\"{'':>16} : {df.loc[ ~df[col].isna(), 'PREM_TYP_DESC'].value_counts()[0]/df.loc[ ~df[col].isna(), 'PREM_TYP_DESC'].value_counts().sum()*100:.2f}%\")"
      ],
      "metadata": {
        "colab": {
          "base_uri": "https://localhost:8080/"
        },
        "id": "t3Ms7NalmRYh",
        "outputId": "a5b2ed55-163b-40cc-ae3d-8600b3eba826"
      },
      "execution_count": 412,
      "outputs": [
        {
          "output_type": "stream",
          "name": "stdout",
          "text": [
            "Greatest Premise Type Description for Each Special Location Type\n",
            "      HADEVELOPT : RESIDENCE - PUBLIC HOUSING\n",
            "                 : 1530 out of 1572 data entries\n",
            "                 : 97.33%\n",
            "        PARKS_NM : PARK/PLAYGROUND\n",
            "                 : 2682 out of 3192 data entries\n",
            "                 : 84.02%\n",
            "    STATION_NAME : TRANSIT - NYC SUBWAY\n",
            "                 : 8840 out of 8976 data entries\n",
            "                 : 98.48%\n",
            "TRANSIT_DISTRICT : TRANSIT - NYC SUBWAY\n",
            "                 : 8840 out of 8976 data entries\n",
            "                 : 98.48%\n"
          ]
        }
      ]
    },
    {
      "cell_type": "markdown",
      "source": [
        "The correspondence is overwhelming, so I will drop the special locations from the dataframe."
      ],
      "metadata": {
        "id": "vbIMFtCYsmQz"
      }
    },
    {
      "cell_type": "code",
      "source": [
        "drop_columns(df,[\"HADEVELOPT\",\"PARKS_NM\",\"STATION_NAME\",\"TRANSIT_DISTRICT\"])"
      ],
      "metadata": {
        "colab": {
          "base_uri": "https://localhost:8080/"
        },
        "id": "tayshcDds7L7",
        "outputId": "82143d83-b31e-4da0-ca6e-2eaa85ef35f7"
      },
      "execution_count": 413,
      "outputs": [
        {
          "output_type": "stream",
          "name": "stdout",
          "text": [
            "20 columns before the drop.\n",
            "16 columns after the drop.\n"
          ]
        }
      ]
    },
    {
      "cell_type": "markdown",
      "source": [
        "## 3 . 5 . Jurisdiction"
      ],
      "metadata": {
        "id": "ggHQAuwlrNfj"
      }
    },
    {
      "cell_type": "markdown",
      "source": [
        "The jurisdiction for that is responsible for managing the response to incident can belong to one of 18 different departments. As it is unlikely that a significant number of incidences are carried out based on which authority's jurisdiction it will happen, I will drop these columns.\n",
        "* `\"JURISDICTION_CODE\"` (DROP)\n",
        "    > Numerical designation for a jurisdiction.\n",
        "* `\"JURIS_DESC\"` (DROP)\n",
        "    > Description name for a jurisdiction.\n",
        "\n"
      ],
      "metadata": {
        "id": "ZP_uN1TfteUE"
      }
    },
    {
      "cell_type": "code",
      "source": [
        "drop_columns(df,[\"JURISDICTION_CODE\",\"JURIS_DESC\"])"
      ],
      "metadata": {
        "colab": {
          "base_uri": "https://localhost:8080/"
        },
        "id": "XKDtJ2kVwIFF",
        "outputId": "b01bcc38-d7c8-4410-a38f-5a9561300517"
      },
      "execution_count": 414,
      "outputs": [
        {
          "output_type": "stream",
          "name": "stdout",
          "text": [
            "16 columns before the drop.\n",
            "14 columns after the drop.\n"
          ]
        }
      ]
    },
    {
      "cell_type": "markdown",
      "source": [
        "## 3 . 6 . Offense Codes"
      ],
      "metadata": {
        "id": "4HQ4Vt3Bxbv9"
      }
    },
    {
      "cell_type": "markdown",
      "source": [
        "There are a few additional numerical codes that are used in this data set.\n",
        "\n",
        "* `\"OFNS_DESC\"` (KEEP)\n",
        "    >Description of the offense. Types of crimes may be relevant, as differnt types will likely have different distributions throughout the city.\n",
        "\n",
        "* `\"PD_DESC\"` (DROP)\n",
        "    >These codes more greatly refine the encoding of the `\"OFNS_DESC\"` column, so would indicate extra information about specific crimes which goes beyond identifying general types of crime.\n",
        "\n",
        "* `\"KY_CD\"` (DROP)\n",
        "    >These are numerical codes corresponding to the descriptive values of the `\"OFNS_DESC\"` column. This is redundent information for this analysis.\n",
        "\n",
        "* `\"PD_CD\"` (DROP)\n",
        "    >These codes more greatly refine the encoding of the `\"KY_CD\"` column, so would indicate extra information about specific crimes which goes beyond identifying general types of crime.\n"
      ],
      "metadata": {
        "id": "rPsq1c2TxftX"
      }
    },
    {
      "cell_type": "code",
      "source": [
        "drop_columns(df,[\"PD_DESC\",\"KY_CD\",\"PD_CD\"])"
      ],
      "metadata": {
        "colab": {
          "base_uri": "https://localhost:8080/"
        },
        "id": "C45CC_v1H36G",
        "outputId": "4d884938-7d0a-478b-ab37-683b3c0b26a3"
      },
      "execution_count": 415,
      "outputs": [
        {
          "output_type": "stream",
          "name": "stdout",
          "text": [
            "14 columns before the drop.\n",
            "11 columns after the drop.\n"
          ]
        }
      ]
    },
    {
      "cell_type": "markdown",
      "source": [
        "## 3 . 7 . Crime Completion"
      ],
      "metadata": {
        "id": "lRPSWtLFfLoK"
      }
    },
    {
      "cell_type": "markdown",
      "source": [
        "* `\"CRM_ATPT_CPTD_CD\"` (DROP)\n",
        "    > Whether or not the crime was successfully completed or not doesn't alter the fact a crime was initiated."
      ],
      "metadata": {
        "id": "TunzWeH3fV7U"
      }
    },
    {
      "cell_type": "code",
      "source": [
        "drop_columns(df,[\"CRM_ATPT_CPTD_CD\"])"
      ],
      "metadata": {
        "colab": {
          "base_uri": "https://localhost:8080/"
        },
        "id": "109xRq7QgLgE",
        "outputId": "a9badcc0-801f-48e3-80ba-1a4fa984d1a8"
      },
      "execution_count": 416,
      "outputs": [
        {
          "output_type": "stream",
          "name": "stdout",
          "text": [
            "11 columns before the drop.\n",
            "10 columns after the drop.\n"
          ]
        }
      ]
    },
    {
      "cell_type": "markdown",
      "source": [
        "## 3 . 8 . Additional Codes"
      ],
      "metadata": {
        "id": "M3l1T-cEj0Gk"
      }
    },
    {
      "cell_type": "markdown",
      "source": [
        "\n",
        "* `\"HOUSING_PSA\"` (DROP) \n",
        "    >I am assuming this column is related to the Police Service Areas. There are nine Police Service Areas (PSA) in New York City, which patrol housing developments within 31 different precincts. Since this column has 362 unique values, I am not sure what it represents. Since each PSA contains mulitiple precincts, they are individually larger than the resolution I will be examining. I can only guess the many values in this column narrow down the location to a resolution smaller than what I want.\n"
      ],
      "metadata": {
        "id": "5SFxtvcfj0fh"
      }
    },
    {
      "cell_type": "code",
      "source": [
        "drop_columns(df,[\"HOUSING_PSA\"])"
      ],
      "metadata": {
        "colab": {
          "base_uri": "https://localhost:8080/"
        },
        "id": "hudap5_BkHg-",
        "outputId": "f527fc08-2291-49e0-b13d-b6e269dc181e"
      },
      "execution_count": 417,
      "outputs": [
        {
          "output_type": "stream",
          "name": "stdout",
          "text": [
            "10 columns before the drop.\n",
            "9 columns after the drop.\n"
          ]
        }
      ]
    },
    {
      "cell_type": "markdown",
      "source": [
        "## 3 . 9 . Time and Date\n",
        "\n",
        "* `\"CMPLNT_FR_DT\"` and `\"CMPLNT_FR_TM\"` (KEEP)\n",
        "    >When the event happens or begins is very relevant. All the data rows have these values present.\n",
        "* `\"CMPLNT_TO_DT\"` and `\"CMPLNT_TO_TM\"` (DROP)\n",
        "    >If present, these values indicate a time range when the crime occured. This column has many missing values as many crimes are known to happen at specific times. Since crime data is used to understand and to try to reduce crime, there is more value knowing when crimes are likely to begin rather than when they are likely to end. A crime can't be prevented if it has already happened.\n",
        "* `\"RPT_DT\"` (DROP)\n",
        "    > The date the crime was reported to the police does not alter when the crime actually occured."
      ],
      "metadata": {
        "id": "lLbW5ybYmeBl"
      }
    },
    {
      "cell_type": "code",
      "source": [
        "drop_columns(df,[\"CMPLNT_TO_DT\",\"CMPLNT_TO_TM\",\"RPT_DT\"])"
      ],
      "metadata": {
        "colab": {
          "base_uri": "https://localhost:8080/"
        },
        "id": "3NE8c8sdrcvY",
        "outputId": "146d1082-1c3b-419e-8826-d2471071ac2e"
      },
      "execution_count": 418,
      "outputs": [
        {
          "output_type": "stream",
          "name": "stdout",
          "text": [
            "9 columns before the drop.\n",
            "6 columns after the drop.\n"
          ]
        }
      ]
    },
    {
      "cell_type": "markdown",
      "source": [
        "# 4 . Data Types\n"
      ],
      "metadata": {
        "id": "18Iq7-8lsI2A"
      }
    },
    {
      "cell_type": "markdown",
      "source": [
        "Of the remaining columns, I will review the dataframe information."
      ],
      "metadata": {
        "id": "USsb6cFFx1cx"
      }
    },
    {
      "cell_type": "code",
      "source": [
        "df.info()"
      ],
      "metadata": {
        "colab": {
          "base_uri": "https://localhost:8080/"
        },
        "id": "uu4gWfujxtNb",
        "outputId": "8961fa0b-5bf8-4551-b814-59227cd1194f"
      },
      "execution_count": 419,
      "outputs": [
        {
          "output_type": "stream",
          "name": "stdout",
          "text": [
            "<class 'pandas.core.frame.DataFrame'>\n",
            "Int64Index: 449506 entries, 903695881 to 806537994\n",
            "Data columns (total 6 columns):\n",
            " #   Column         Non-Null Count   Dtype \n",
            "---  ------         --------------   ----- \n",
            " 0   ADDR_PCT_CD    449506 non-null  int64 \n",
            " 1   CMPLNT_FR_DT   449506 non-null  object\n",
            " 2   CMPLNT_FR_TM   449506 non-null  object\n",
            " 3   LAW_CAT_CD     449506 non-null  object\n",
            " 4   OFNS_DESC      449497 non-null  object\n",
            " 5   PREM_TYP_DESC  448236 non-null  object\n",
            "dtypes: int64(1), object(5)\n",
            "memory usage: 24.0+ MB\n"
          ]
        }
      ]
    },
    {
      "cell_type": "markdown",
      "source": [
        "Here, the date and time columns are the object data type, but would probably be better served as the datetime datatype. However, I have encounted an error in trying to convert the string into datetime values, so I will need to examine the strings more carefully."
      ],
      "metadata": {
        "id": "KPZTuu2yx7Wx"
      }
    },
    {
      "cell_type": "code",
      "source": [
        "# Examine the month values\n",
        "display(df[\"CMPLNT_FR_DT\"].apply(lambda x: x[0:2]).value_counts().sort_index())"
      ],
      "metadata": {
        "colab": {
          "base_uri": "https://localhost:8080/",
          "height": 243
        },
        "id": "istGclaN5iS8",
        "outputId": "43185562-37b6-4798-8b6f-982328baeb85"
      },
      "execution_count": 448,
      "outputs": [
        {
          "output_type": "display_data",
          "data": {
            "text/plain": [
              "01    33767\n",
              "02    28572\n",
              "03    34956\n",
              "04    32982\n",
              "05    36990\n",
              "06    37879\n",
              "07    39779\n",
              "08    39383\n",
              "09    40196\n",
              "10    43288\n",
              "11    41615\n",
              "12    40099\n",
              "Name: CMPLNT_FR_DT, dtype: int64"
            ]
          },
          "metadata": {}
        }
      ]
    },
    {
      "cell_type": "markdown",
      "source": [
        "All the month values are individually OK."
      ],
      "metadata": {
        "id": "LOLCELNZ9ft7"
      }
    },
    {
      "cell_type": "code",
      "source": [
        "# Examine the day values\n",
        "display(df[\"CMPLNT_FR_DT\"].apply(lambda x: x[3:5]).value_counts().sort_index())"
      ],
      "metadata": {
        "colab": {
          "base_uri": "https://localhost:8080/",
          "height": 573
        },
        "id": "nm3YlpUC6txk",
        "outputId": "c515fd31-2a6e-4b34-c850-187a78ea7f17"
      },
      "execution_count": 449,
      "outputs": [
        {
          "output_type": "display_data",
          "data": {
            "text/plain": [
              "01    17941\n",
              "02    14340\n",
              "03    14349\n",
              "04    14589\n",
              "05    14877\n",
              "06    14604\n",
              "07    14440\n",
              "08    14357\n",
              "09    14441\n",
              "10    15047\n",
              "11    14703\n",
              "12    15011\n",
              "13    14925\n",
              "14    14741\n",
              "15    15713\n",
              "16    15145\n",
              "17    14989\n",
              "18    14373\n",
              "19    14618\n",
              "20    15261\n",
              "21    14915\n",
              "22    14592\n",
              "23    14648\n",
              "24    14695\n",
              "25    14483\n",
              "26    14510\n",
              "27    14435\n",
              "28    14207\n",
              "29    12944\n",
              "30    13552\n",
              "31     8061\n",
              "Name: CMPLNT_FR_DT, dtype: int64"
            ]
          },
          "metadata": {}
        }
      ]
    },
    {
      "cell_type": "markdown",
      "source": [
        "All the day values are individually OK. (The days 29, 30, and 31 might not work with some month combinations if those months do not have those days.)"
      ],
      "metadata": {
        "id": "UjfwpMEd9nDV"
      }
    },
    {
      "cell_type": "code",
      "source": [
        "# Examine the year values\n",
        "display(df[\"CMPLNT_FR_DT\"].apply(lambda x: x[6:]).value_counts().sort_index())"
      ],
      "metadata": {
        "colab": {
          "base_uri": "https://localhost:8080/",
          "height": 1000
        },
        "id": "03YYAc7A9Ul0",
        "outputId": "1ecd2dc9-2f4c-46b1-c55a-6030b8949b0a"
      },
      "execution_count": 451,
      "outputs": [
        {
          "output_type": "display_data",
          "data": {
            "text/plain": [
              "1019         1\n",
              "1021         7\n",
              "1920         1\n",
              "1921         8\n",
              "1955         1\n",
              "1958         1\n",
              "1960         1\n",
              "1966         1\n",
              "1967         1\n",
              "1969         1\n",
              "1970         1\n",
              "1971         7\n",
              "1972         1\n",
              "1973         1\n",
              "1976         2\n",
              "1977         1\n",
              "1978         1\n",
              "1979         3\n",
              "1980         1\n",
              "1981         4\n",
              "1982         2\n",
              "1983         3\n",
              "1984         5\n",
              "1985         1\n",
              "1986         3\n",
              "1987         4\n",
              "1988         5\n",
              "1989         5\n",
              "1990         5\n",
              "1991         3\n",
              "1992         1\n",
              "1993         4\n",
              "1994         5\n",
              "1995         8\n",
              "1996         4\n",
              "1997        11\n",
              "1998        10\n",
              "1999        10\n",
              "2000        18\n",
              "2001        29\n",
              "2002        14\n",
              "2003        16\n",
              "2004        13\n",
              "2005        16\n",
              "2006        23\n",
              "2007        32\n",
              "2008        38\n",
              "2009        40\n",
              "2010        46\n",
              "2011        61\n",
              "2012        99\n",
              "2013        94\n",
              "2014       111\n",
              "2015       116\n",
              "2016       175\n",
              "2017       244\n",
              "2018       335\n",
              "2019       898\n",
              "2020      7329\n",
              "2021    439625\n",
              "Name: CMPLNT_FR_DT, dtype: int64"
            ]
          },
          "metadata": {}
        }
      ]
    },
    {
      "cell_type": "markdown",
      "source": [
        "Well, one row has the year 1019 and seven rows have the year 1021. Those are certaintly wrong.\n",
        "\n",
        "Additionally, the number of reports for all years before 2021 are significantly fewer. So I will just drop all the rows with a year that isn't 2021."
      ],
      "metadata": {
        "id": "-9YwTQnK-Rjd"
      }
    },
    {
      "cell_type": "code",
      "source": [
        "filter_2021 = df[\"CMPLNT_FR_DT\"].apply(lambda x: x[6:])==\"2021\"\n",
        "df = df.loc[filter_2021, :]"
      ],
      "metadata": {
        "id": "O6o62MwY-0he"
      },
      "execution_count": 456,
      "outputs": []
    },
    {
      "cell_type": "markdown",
      "source": [
        "Now the unnecessary year (and invalid years) are gone, I can convert the strings to the datetime data type."
      ],
      "metadata": {
        "id": "mnaDijQ3_quw"
      }
    },
    {
      "cell_type": "code",
      "source": [
        "df[\"CMPLNT_FR_DT\"] = pd.to_datetime(df[\"CMPLNT_FR_DT\"])"
      ],
      "metadata": {
        "id": "0mw3li6x_Ts1"
      },
      "execution_count": 459,
      "outputs": []
    },
    {
      "cell_type": "code",
      "source": [
        "df[\"CMPLNT_FR_TM\"] = pd.to_datetime(df[\"CMPLNT_FR_TM\"])"
      ],
      "metadata": {
        "id": "uBYETiLB_4pC"
      },
      "execution_count": 462,
      "outputs": []
    },
    {
      "cell_type": "code",
      "source": [
        "df[\"CMPLNT_FR_TM\"]"
      ],
      "metadata": {
        "colab": {
          "base_uri": "https://localhost:8080/"
        },
        "id": "FwEW5R6Y_8NN",
        "outputId": "5fd02031-2951-420f-be2a-a0d3151ffd9c"
      },
      "execution_count": 463,
      "outputs": [
        {
          "output_type": "execute_result",
          "data": {
            "text/plain": [
              "CMPLNT_NUM\n",
              "903695881   2022-04-15 22:13:00\n",
              "400462399   2022-04-15 06:21:00\n",
              "587910690   2022-04-15 20:05:00\n",
              "186105368   2022-04-15 22:49:00\n",
              "185325394   2022-04-15 17:25:00\n",
              "                    ...        \n",
              "702183776   2022-04-15 15:40:00\n",
              "798000815   2022-04-15 07:00:00\n",
              "900510890   2022-04-15 04:50:00\n",
              "244132985   2022-04-15 09:35:00\n",
              "366756177   2022-04-15 19:40:00\n",
              "Name: CMPLNT_FR_TM, Length: 439625, dtype: datetime64[ns]"
            ]
          },
          "metadata": {},
          "execution_count": 463
        }
      ]
    },
    {
      "cell_type": "code",
      "source": [
        "df.info()"
      ],
      "metadata": {
        "colab": {
          "base_uri": "https://localhost:8080/"
        },
        "id": "b_9lwMBo_l6k",
        "outputId": "fab4b094-1e18-46c0-d40e-515c4d6b03f8"
      },
      "execution_count": 464,
      "outputs": [
        {
          "output_type": "stream",
          "name": "stdout",
          "text": [
            "<class 'pandas.core.frame.DataFrame'>\n",
            "Int64Index: 439625 entries, 903695881 to 366756177\n",
            "Data columns (total 6 columns):\n",
            " #   Column         Non-Null Count   Dtype         \n",
            "---  ------         --------------   -----         \n",
            " 0   ADDR_PCT_CD    439625 non-null  int64         \n",
            " 1   CMPLNT_FR_DT   439625 non-null  datetime64[ns]\n",
            " 2   CMPLNT_FR_TM   439625 non-null  datetime64[ns]\n",
            " 3   LAW_CAT_CD     439625 non-null  object        \n",
            " 4   OFNS_DESC      439617 non-null  object        \n",
            " 5   PREM_TYP_DESC  438418 non-null  object        \n",
            "dtypes: datetime64[ns](2), int64(1), object(3)\n",
            "memory usage: 23.5+ MB\n"
          ]
        }
      ]
    },
    {
      "cell_type": "markdown",
      "source": [
        ""
      ],
      "metadata": {
        "id": "X18N83Y6-069"
      }
    },
    {
      "cell_type": "markdown",
      "source": [
        ""
      ],
      "metadata": {
        "id": "bnRuciyU-04F"
      }
    },
    {
      "cell_type": "code",
      "source": [
        "for col in df.columns:\n",
        "    print(f\"{col:>17} : {df[col].nunique():>4} : {df[col].value_counts().index.to_list()}\")"
      ],
      "metadata": {
        "colab": {
          "base_uri": "https://localhost:8080/"
        },
        "id": "x6WBqXeHeSxu",
        "outputId": "a573cc1a-4970-497c-c552-1cb51099d024"
      },
      "execution_count": 423,
      "outputs": [
        {
          "output_type": "stream",
          "name": "stdout",
          "text": [
            "      ADDR_PCT_CD :   77 : [75, 43, 114, 47, 44, 40, 14, 46, 52, 109, 67, 73, 42, 115, 110, 48, 105, 103, 19, 113, 79, 18, 70, 120, 104, 25, 13, 83, 1, 32, 106, 71, 49, 62, 108, 23, 102, 121, 90, 60, 9, 45, 34, 7, 33, 107, 28, 77, 72, 41, 6, 61, 81, 84, 122, 50, 101, 24, 68, 63, 69, 30, 66, 20, 94, 112, 78, 10, 88, 5, 17, 111, 26, 100, 123, 76, 22]\n",
            "     CMPLNT_FR_DT : 1979 : ['01/01/2021', '10/15/2021', '10/01/2021', '12/01/2021', '10/20/2021', '09/17/2021', '11/15/2021', '10/08/2021', '11/19/2021', '10/21/2021', '06/01/2021', '10/22/2021', '10/13/2021', '11/12/2021', '10/14/2021', '09/23/2021', '09/24/2021', '11/05/2021', '12/02/2021', '12/03/2021', '09/27/2021', '10/06/2021', '11/18/2021', '11/01/2021', '09/15/2021', '09/22/2021', '11/16/2021', '11/10/2021', '11/09/2021', '10/16/2021', '09/25/2021', '10/07/2021', '07/15/2021', '11/20/2021', '10/12/2021', '09/16/2021', '11/30/2021', '11/17/2021', '10/28/2021', '12/10/2021', '12/04/2021', '07/16/2021', '09/28/2021', '07/23/2021', '11/11/2021', '09/18/2021', '10/04/2021', '08/13/2021', '10/02/2021', '10/05/2021', '11/24/2021', '03/01/2021', '11/03/2021', '09/14/2021', '10/31/2021', '09/21/2021', '06/21/2021', '11/04/2021', '12/17/2021', '12/11/2021', '10/23/2021', '06/10/2021', '10/11/2021', '11/08/2021', '08/06/2021', '05/15/2021', '11/26/2021', '09/13/2021', '12/06/2021', '10/09/2021', '11/29/2021', '10/27/2021', '10/19/2021', '09/26/2021', '10/29/2021', '09/30/2021', '10/18/2021', '12/16/2021', '10/25/2021', '03/12/2021', '07/28/2021', '09/29/2021', '08/20/2021', '07/24/2021', '10/30/2021', '07/01/2021', '07/13/2021', '10/03/2021', '05/19/2021', '06/26/2021', '07/22/2021', '12/13/2021', '08/12/2021', '07/11/2021', '06/25/2021', '12/15/2021', '08/30/2021', '12/14/2021', '09/10/2021', '08/01/2021', '05/01/2021', '07/20/2021', '11/02/2021', '09/20/2021', '08/25/2021', '07/07/2021', '12/12/2021', '07/17/2021', '11/21/2021', '05/25/2021', '06/06/2021', '06/02/2021', '05/20/2021', '08/11/2021', '08/04/2021', '09/12/2021', '09/04/2021', '08/18/2021', '11/22/2021', '12/08/2021', '09/11/2021', '07/05/2021', '04/10/2021', '11/06/2021', '05/21/2021', '08/19/2021', '06/17/2021', '05/24/2021', '06/28/2021', '12/09/2021', '06/18/2021', '12/05/2021', '01/15/2021', '07/08/2021', '08/15/2021', '08/27/2021', '06/11/2021', '08/16/2021', '12/07/2021', '07/14/2021', '06/05/2021', '06/23/2021', '08/05/2021', '08/14/2021', '06/09/2021', '05/18/2021', '07/26/2021', '11/07/2021', '11/14/2021', '11/13/2021', '09/19/2021', '07/10/2021', '09/07/2021', '09/01/2021', '08/21/2021', '07/21/2021', '10/26/2021', '07/02/2021', '11/27/2021', '08/28/2021', '08/09/2021', '08/07/2021', '06/07/2021', '11/23/2021', '09/03/2021', '08/03/2021', '10/10/2021', '08/31/2021', '05/17/2021', '06/24/2021', '08/10/2021', '05/23/2021', '10/24/2021', '07/12/2021', '07/18/2021', '05/27/2021', '07/27/2021', '05/22/2021', '04/01/2021', '06/04/2021', '08/17/2021', '07/30/2021', '05/13/2021', '05/12/2021', '08/24/2021', '08/26/2021', '10/17/2021', '06/30/2021', '09/08/2021', '06/03/2021', '06/15/2021', '08/02/2021', '07/31/2021', '11/28/2021', '06/14/2021', '06/20/2021', '07/19/2021', '06/16/2021', '05/14/2021', '06/29/2021', '07/04/2021', '09/05/2021', '07/03/2021', '05/26/2021', '09/09/2021', '07/09/2021', '05/16/2021', '07/29/2021', '09/06/2021', '03/03/2021', '05/06/2021', '12/22/2021', '03/04/2021', '07/25/2021', '05/07/2021', '06/08/2021', '06/13/2021', '07/06/2021', '09/02/2021', '02/25/2021', '06/27/2021', '06/22/2021', '01/21/2021', '11/25/2021', '03/09/2021', '12/18/2021', '03/10/2021', '08/23/2021', '03/05/2021', '03/25/2021', '03/11/2021', '05/11/2021', '02/24/2021', '04/26/2021', '06/12/2021', '03/23/2021', '05/10/2021', '08/08/2021', '05/28/2021', '08/29/2021', '03/17/2021', '02/26/2021', '04/30/2021', '03/20/2021', '01/22/2021', '03/26/2021', '04/27/2021', '01/19/2021', '04/24/2021', '04/07/2021', '12/21/2021', '12/20/2021', '03/30/2021', '01/20/2021', '06/19/2021', '03/24/2021', '05/03/2021', '01/14/2021', '03/21/2021', '05/08/2021', '02/05/2021', '04/29/2021', '04/13/2021', '03/13/2021', '03/19/2021', '03/22/2021', '01/12/2021', '01/07/2021', '05/02/2021', '04/08/2021', '01/05/2021', '04/09/2021', '04/19/2021', '01/16/2021', '04/05/2021', '03/16/2021', '01/08/2021', '02/17/2021', '04/20/2021', '01/13/2021', '04/14/2021', '04/02/2021', '04/16/2021', '03/02/2021', '04/28/2021', '05/31/2021', '12/23/2021', '04/23/2021', '12/19/2021', '04/17/2021', '05/05/2021', '02/20/2021', '05/04/2021', '04/15/2021', '02/16/2021', '02/23/2021', '03/27/2021', '02/04/2021', '04/06/2021', '03/15/2021', '03/29/2021', '02/12/2021', '01/27/2021', '01/09/2021', '02/10/2021', '01/06/2021', '01/04/2021', '04/21/2021', '08/22/2021', '03/31/2021', '04/22/2021', '01/25/2021', '12/24/2021', '03/18/2021', '01/11/2021', '12/29/2021', '02/27/2021', '01/26/2021', '02/14/2021', '04/25/2021', '02/06/2021', '01/17/2021', '05/09/2021', '02/28/2021', '03/06/2021', '02/11/2021', '03/14/2021', '12/27/2021', '01/30/2021', '04/12/2021', '04/11/2021', '01/29/2021', '01/18/2021', '02/19/2021', '01/02/2021', '03/08/2021', '02/21/2021', '02/03/2021', '02/15/2021', '02/13/2021', '04/03/2021', '02/09/2021', '04/18/2021', '12/28/2021', '12/30/2021', '03/07/2021', '02/08/2021', '01/10/2021', '01/28/2021', '02/22/2021', '04/04/2021', '03/28/2021', '05/29/2021', '12/26/2021', '01/23/2021', '05/30/2021', '01/24/2021', '01/03/2021', '02/07/2021', '01/31/2021', '02/18/2021', '12/25/2021', '12/31/2021', '02/02/2021', '02/01/2021', '12/31/2020', '11/30/2020', '12/30/2020', '12/01/2020', '12/28/2020', '12/29/2020', '11/01/2020', '12/24/2020', '10/01/2020', '12/20/2020', '12/22/2020', '12/23/2020', '12/21/2020', '08/01/2020', '12/18/2020', '12/15/2020', '12/25/2020', '01/01/2020', '12/26/2020', '12/07/2020', '12/10/2020', '12/19/2020', '12/27/2020', '09/01/2020', '12/14/2020', '12/12/2020', '12/05/2020', '12/17/2020', '11/20/2020', '12/11/2020', '06/01/2020', '12/16/2020', '12/09/2020', '03/01/2020', '12/13/2020', '07/01/2020', '12/08/2020', '01/01/2019', '04/01/2020', '12/02/2020', '12/01/2019', '12/06/2020', '07/01/2019', '11/15/2020', '11/27/2020', '11/25/2020', '10/20/2020', '01/01/2016', '11/23/2020', '01/01/2017', '01/01/2015', '12/04/2020', '05/01/2020', '11/16/2020', '12/03/2020', '10/15/2020', '11/28/2020', '11/19/2020', '01/01/2018', '11/24/2020', '10/21/2020', '02/01/2020', '11/10/2020', '10/31/2020', '01/01/2014', '11/13/2020', '11/02/2020', '01/01/2013', '10/22/2020', '11/06/2020', '10/01/2019', '10/02/2020', '11/29/2020', '11/26/2020', '10/06/2020', '11/04/2020', '10/13/2020', '11/18/2020', '11/14/2020', '11/12/2020', '09/30/2020', '11/05/2020', '11/11/2020', '11/07/2020', '11/03/2020', '10/23/2020', '10/27/2020', '10/05/2020', '08/10/2020', '10/29/2020', '10/10/2020', '11/01/2019', '07/15/2020', '08/20/2020', '11/09/2020', '10/16/2020', '08/15/2020', '08/25/2020', '09/01/2019', '11/17/2020', '03/15/2020', '09/08/2020', '10/19/2020', '11/22/2020', '02/01/2019', '09/15/2020', '09/10/2020', '10/14/2020', '10/03/2020', '10/30/2020', '03/13/2020', '09/25/2020', '01/01/2012', '10/09/2020', '08/05/2020', '08/07/2020', '10/26/2020', '09/11/2020', '01/06/2020', '07/02/2020', '09/16/2020', '10/24/2020', '06/20/2020', '10/25/2020', '01/01/2009', '08/22/2020', '09/24/2020', '09/22/2020', '09/07/2020', '03/05/2020', '01/01/2011', '11/08/2020', '10/08/2020', '09/29/2020', '01/01/2008', '08/03/2020', '09/23/2020', '06/01/2018', '09/02/2020', '05/01/2019', '10/28/2020', '06/01/2019', '04/01/2019', '10/07/2020', '08/31/2020', '07/20/2020', '07/31/2020', '09/12/2020', '08/28/2020', '01/09/2020', '01/01/2007', '11/21/2020', '10/12/2020', '01/20/2020', '07/21/2020', '01/01/2010', '08/02/2020', '09/04/2020', '06/02/2020', '04/23/2020', '08/17/2020', '09/20/2020', '03/01/2019', '09/03/2020', '07/05/2020', '08/01/2018', '09/06/2020', '09/19/2020', '08/18/2020', '04/20/2020', '04/07/2020', '01/28/2020', '01/07/2020', '06/15/2020', '08/27/2020', '06/25/2020', '01/01/2006', '08/11/2020', '01/02/2020', '10/17/2020', '01/05/2020', '08/19/2020', '03/16/2020', '09/21/2020', '04/02/2020', '01/03/2020', '08/21/2020', '09/18/2020', '07/14/2020', '09/28/2020', '07/09/2020', '02/15/2020', '07/16/2020', '08/01/2019', '04/05/2020', '07/01/2018', '01/27/2020', '10/04/2020', '06/22/2020', '09/05/2020', '08/23/2020', '06/30/2020', '03/09/2020', '06/19/2020', '05/06/2020', '08/12/2020', '09/01/2017', '07/01/2017', '09/13/2020', '11/01/2018', '10/11/2020', '12/31/2019', '06/18/2020', '10/18/2020', '07/13/2020', '09/14/2020', '01/11/2020', '10/03/2019', '01/10/2020', '02/06/2020', '09/01/2018', '07/08/2020', '01/17/2020', '12/01/2017', '07/03/2020', '07/28/2020', '06/08/2020', '05/24/2020', '05/28/2020', '08/16/2020', '07/26/2020', '09/09/2020', '07/27/2020', '03/17/2020', '01/15/2020', '06/06/2020', '03/20/2020', '01/29/2020', '03/22/2020', '07/30/2020', '03/11/2020', '03/23/2020', '04/21/2020', '04/24/2020', '04/17/2020', '08/04/2020', '07/19/2020', '02/25/2020', '03/10/2020', '07/10/2020', '08/06/2020', '02/17/2020', '09/26/2020', '06/16/2020', '10/01/2017', '02/14/2020', '02/23/2020', '05/01/2018', '02/11/2020', '06/28/2020', '07/01/2016', '08/14/2020', '02/19/2020', '01/04/2020', '07/22/2020', '01/24/2020', '03/18/2020', '08/24/2020', '03/12/2020', '12/20/2019', '12/01/2018', '10/01/2016', '06/24/2020', '06/17/2020', '04/13/2020', '02/12/2020', '03/19/2020', '10/15/2019', '02/05/2020', '07/04/2020', '08/29/2020', '11/19/2019', '06/12/2020', '03/02/2020', '01/14/2020', '08/09/2020', '08/26/2020', '09/27/2020', '02/20/2020', '03/15/2019', '03/30/2020', '02/18/2020', '06/01/2017', '03/04/2020', '08/01/2017', '06/01/2016', '01/23/2020', '05/04/2020', '09/17/2020', '05/02/2020', '04/10/2020', '08/30/2020', '04/14/2020', '11/10/2019', '05/13/2020', '07/12/2020', '07/18/2020', '08/08/2020', '02/10/2020', '07/07/2020', '03/06/2020', '02/13/2020', '06/09/2020', '03/08/2020', '01/08/2020', '08/01/2016', '01/01/1997', '07/25/2020', '06/05/2020', '03/03/2020', '04/18/2020', '07/01/2014', '03/14/2020', '01/26/2020', '11/01/2017', '05/07/2020', '04/28/2020', '01/30/2020', '04/09/2020', '05/10/2020', '12/18/2019', '08/13/2020', '11/27/2019', '06/25/2019', '03/28/2020', '09/01/2012', '02/28/2020', '11/11/2019', '05/14/2020', '12/11/2019', '12/23/2019', '10/30/2019', '05/03/2020', '05/26/2020', '06/26/2020', '06/03/2020', '04/01/2017', '12/15/2019', '01/01/2005', '12/10/2019', '05/16/2020', '01/01/1995', '05/21/2020', '05/20/2019', '12/19/2019', '04/16/2020', '05/22/2020', '01/19/2020', '07/24/2020', '02/24/2020', '02/22/2020', '06/10/2020', '04/25/2020', '09/30/2019', '05/05/2020', '05/12/2020', '09/15/2019', '03/31/2020', '05/11/2020', '01/12/2020', '04/29/2020', '11/20/2019', '08/15/2017', '09/01/2015', '11/23/2019', '02/02/2020', '09/12/2019', '02/03/2020', '12/25/2019', '01/28/2019', '03/07/2020', '04/29/2018', '06/27/2020', '01/18/2020', '12/30/2019', '01/01/1994', '02/21/2020', '01/21/2020', '08/12/2019', '12/10/2018', '06/04/2020', '10/07/2019', '09/19/2019', '06/01/2013', '02/26/2020', '02/28/2019', '07/01/2015', '09/10/2019', '11/04/2019', '08/14/2019', '05/20/2020', '08/20/2019', '02/01/2017', '05/30/2020', '04/19/2020', '02/01/2018', '01/16/2020', '11/28/2019', '10/11/2019', '01/01/1998', '05/23/2020', '09/20/2019', '05/19/2020', '08/05/2019', '01/31/2020', '07/02/2019', '06/01/2015', '11/13/2019', '06/29/2020', '04/08/2020', '04/22/2020', '01/01/1984', '10/10/2019', '06/23/2020', '05/18/2020', '06/01/2012', '02/16/2020', '12/03/2019', '07/19/2019', '04/06/2020', '07/06/2020', '07/17/2020', '04/26/2020', '01/01/2003', '12/04/2019', '12/18/2018', '02/07/2020', '03/24/2020', '10/16/2019', '06/01/2007', '04/01/2016', '09/25/2019', '07/01/2003', '03/01/2015', '01/03/2019', '07/15/2017', '11/18/2019', '03/10/2019', '08/01/2012', '10/30/2018', '04/30/2019', '04/04/2020', '09/06/2019', '12/05/2019', '11/15/2019', '07/23/2020', '01/01/2002', '02/20/2019', '09/01/2011', '02/10/2019', '08/01/2014', '01/01/1989', '01/01/2004', '02/17/2019', '07/29/2020', '12/24/2018', '09/01/2009', '11/30/2019', '05/25/2019', '01/17/2017', '01/30/2019', '02/27/2020', '09/01/2013', '07/04/2016', '05/20/2018', '11/22/2019', '10/24/2019', '07/21/2019', '01/15/2019', '02/04/2020', '07/30/2017', '06/11/2019', '11/22/2018', '05/06/2019', '03/11/2019', '09/01/2014', '06/27/2019', '06/28/2019', '05/29/2020', '05/01/2016', '11/15/2017', '07/11/2020', '09/22/2019', '05/01/2015', '08/23/2019', '11/29/2018', '08/13/2019', '01/22/2020', '09/15/2018', '06/01/2014', '04/01/2018', '03/27/2020', '07/20/2019', '05/17/2020', '09/01/2016', '04/12/2020', '06/09/2018', '12/08/2019', '07/15/2015', '06/14/2020', '05/18/2018', '07/01/2013', '07/26/2018', '08/19/2019', '04/15/2020', '10/14/2019', '01/25/2020', '04/11/2020', '02/08/2020', '07/12/2012', '02/29/2020', '10/20/2019', '10/18/2019', '05/14/2019', '10/25/2012', '03/25/2020', '03/25/2019', '06/21/2020', '08/29/2019', '09/23/2017', '06/19/2019', '11/19/2018', '04/21/2017', '05/23/2019', '10/01/2018', '09/18/2019', '12/29/2019', '11/01/2014', '07/31/2019', '06/20/2012', '08/27/2019', '06/15/2018', '11/25/2019', '02/01/2014', '08/30/2019', '07/01/2011', '01/02/2019', '08/07/2018', '03/15/2017', '08/11/2019', '08/10/2019', '08/25/2018', '01/28/2018', '01/01/2001', '08/11/2011', '01/13/2020', '11/07/2018', '03/21/2012', '12/14/2010', '03/19/2019', '07/10/2019', '11/01/2016', '11/24/2019', '05/11/2019', '05/05/2018', '06/18/2019', '05/13/2019', '08/15/2018', '10/25/2019', '11/30/2016', '03/01/2012', '12/29/2018', '05/18/2019', '04/06/2017', '02/22/2019', '10/09/2019', '09/05/2019', '06/09/2011', '06/01/1988', '03/05/2019', '04/16/2019', '02/04/2019', '01/01/1983', '12/31/2017', '09/10/2016', '12/22/2017', '10/14/2018', '05/07/2019', '05/15/2020', '07/01/1997', '07/11/2019', '01/09/2019', '10/26/2017', '04/25/2014', '12/02/2016', '01/01/1976', '06/21/2019', '11/28/2017', '05/31/2019', '07/03/2019', '07/11/2012', '01/22/2018', '05/31/2016', '03/26/2020', '04/15/2019', '03/01/2018', '05/24/2019', '01/24/2018', '05/17/2017', '08/18/2018', '03/21/2010', '01/10/2019', '01/01/1999', '06/02/2019', '07/20/2011', '05/09/2020', '02/05/2018', '11/17/2017', '03/01/2016', '04/01/2006', '03/01/2007', '01/24/2013', '06/09/2015', '02/09/2020', '12/12/2019', '05/15/2018', '06/01/2000', '06/29/2019', '07/17/2019', '07/02/2016', '02/13/2019', '07/06/2018', '08/01/2015', '10/08/2019', '05/08/2020', '06/05/2019', '07/17/2018', '04/26/2019', '09/24/2018', '05/15/2019', '04/27/2020', '05/12/2017', '04/14/2019', '06/20/2016', '11/07/2014', '01/12/2019', '02/23/2019', '06/25/2018', '06/01/2001', '07/01/2009', '05/25/2020', '05/27/2017', '04/29/2019', '04/30/2020', '06/26/2001', '04/20/2019', '07/27/2018', '07/07/2019', '12/09/2019', '01/27/2019', '10/18/2018', '05/12/2019', '05/20/2014', '09/29/2019', '04/19/2019', '12/01/2009', '04/02/2018', '11/14/2018', '07/01/2008', '09/09/2019', '07/22/2019', '12/27/2017', '10/17/2019', '10/01/2012', '11/12/2019', '06/29/2018', '02/01/1996', '11/03/2019', '07/26/2019', '10/29/2019', '09/01/1999', '02/25/2019', '12/17/2018', '05/19/2018', '09/15/2010', '01/11/2019', '08/31/2018', '04/13/2019', '03/21/2020', '10/04/2019', '12/27/2019', '03/15/2014', '09/02/2018', '11/06/2019', '05/16/2016', '08/10/2017', '08/03/2019', '10/09/2008', '10/15/2018', '03/03/2019', '11/20/2014', '02/19/2019', '10/19/2019', '12/26/2019', '02/13/2018', '01/01/1990', '11/18/2018', '01/14/2019', '08/25/2016', '03/07/2019', '12/06/2019', '01/01/2000', '04/03/2020', '03/30/2018', '06/02/2014', '11/06/2012', '10/20/2018', '08/28/2019', '06/01/2006', '12/29/2015', '01/03/2011', '02/15/2015', '10/22/2018', '02/20/2018', '09/17/2017', '01/07/2013', '12/27/2018', '06/20/2019', '05/01/2017', '06/11/2020', '12/14/2019', '10/30/2017', '09/26/2019', '09/09/2009', '12/21/2019', '07/04/2019', '03/05/2018', '09/14/2018', '12/01/2016', '06/14/2017', '01/19/2019', '09/07/2017', '04/22/2018', '04/15/2017', '01/01/1987', '09/17/2018', '10/29/2018', '06/26/2013', '02/07/2019', '10/15/2014', '11/08/2019', '08/15/2016', '01/01/1979', '04/08/2019', '09/08/2019', '03/16/2018', '05/08/2017', '10/26/2013', '12/05/2018', '04/26/2018', '10/26/2018', '09/04/2018', '11/07/2019', '10/05/2019', '04/28/2010', '10/30/2015', '01/28/2013', '02/16/2014', '07/09/2019', '01/21/2012', '10/01/2010', '04/27/2017', '05/23/2016', '01/22/2017', '05/16/2019', '08/20/2014', '09/01/2005', '06/19/2010', '07/05/2019', '08/01/2010', '12/27/2015', '10/13/2017', '07/27/2019', '02/01/2015', '10/19/1998', '09/15/2002', '04/15/2015', '04/17/2011', '11/29/2016', '07/15/1993', '11/29/2008', '05/15/2017', '09/13/2008', '10/06/1991', '07/29/2000', '09/12/2000', '06/20/2018', '01/21/2017', '02/02/2012', '01/28/2016', '02/13/2012', '06/04/2019', '09/26/2018', '04/10/2019', '03/23/2015', '09/25/2015', '04/15/2005', '04/27/2016', '12/05/2015', '06/21/2002', '02/05/2017', '04/25/2008', '05/01/2001', '01/15/2011', '02/10/2011', '01/20/2016', '04/21/2014', '03/09/2018', '08/26/2016', '06/08/2019', '02/10/2008', '07/13/2019', '07/04/2018', '11/16/2019', '04/19/2007', '05/01/2009', '02/25/2005', '02/01/2012', '01/23/2001', '07/28/2019', '05/28/2018', '03/19/2013', '09/02/2017', '11/23/2016', '05/27/2019', '09/14/1984', '05/05/2012', '03/01/2010', '11/01/2006', '05/07/2011', '10/31/2004', '07/01/2012', '02/12/2018', '04/23/2019', '03/27/2016', '10/12/2019', '01/09/2016', '06/16/2017', '05/02/2018', '09/08/2017', '01/02/2014', '07/15/2019', '04/10/2018', '05/13/2013', '01/08/2010', '01/06/1921', '03/02/2017', '12/31/2002', '03/22/2019', '01/01/1972', '02/27/2018', '07/01/2007', '10/31/2019', '05/10/2012', '02/26/2017', '06/01/2009', '10/06/2015', '05/25/2018', '04/01/2007', '05/11/1021', '11/01/2008', '02/16/2007', '05/11/2003', '12/22/2001', '05/01/2004', '03/15/2018', '02/24/2018', '05/29/2019', '01/02/1921', '08/04/2007', '06/16/2018', '01/11/2010', '12/25/2016', '04/10/2013', '05/01/1999', '01/11/2016', '01/23/2014', '12/14/2014', '01/13/2019', '11/01/2012', '05/13/2008', '10/21/2001', '09/23/2019', '01/13/2014', '01/14/2017', '11/26/2019', '02/14/2019', '08/29/2016', '11/27/2015', '05/04/2019', '01/27/1990', '04/23/2016', '04/24/2015', '06/21/2017', '10/20/2000', '05/13/2018', '12/13/2019', '12/27/2016', '05/10/1966', '01/26/2019', '01/12/2012', '06/23/2010', '06/15/2015', '10/29/2016', '03/02/2018', '02/11/2019', '01/16/2019', '03/26/1989', '02/10/1994', '04/20/2016', '08/18/2014', '12/06/2017', '02/22/2017', '07/05/2017', '05/20/2016', '05/04/2017', '07/05/2014', '11/13/2018', '07/02/2018', '10/13/2018', '04/01/2010', '01/13/2011', '09/09/2014', '08/31/2019', '02/01/2003', '12/21/2017', '09/06/2006', '10/21/2019', '06/04/2018', '09/03/2009', '05/17/2004', '01/01/1986', '07/24/2018', '07/14/2018', '11/02/2019', '03/18/2019', '01/20/2019', '11/21/2008', '05/10/2016', '08/18/2019', '09/02/2014', '07/13/2015', '05/30/2017', '05/17/2019', '03/06/2001', '09/14/2019', '01/01/1980', '08/05/2013', '07/12/2008', '11/09/2017', '04/03/2011', '07/25/2018', '09/04/2019', '02/01/2011', '10/01/2014', '03/01/2001', '01/02/2011', '01/13/2015', '02/11/2005', '12/04/2016', '08/23/2014', '11/02/2016', '11/04/2017', '08/21/2016', '09/01/2010', '01/30/2016', '02/23/2015', '03/31/2017', '03/25/2012', '01/26/2008', '04/24/2016', '07/20/2015', '05/06/2018', '03/07/2018', '05/24/2018', '03/10/1971', '02/26/2019', '05/18/2009', '05/30/2016', '06/03/2012', '09/21/2015', '01/08/2009', '06/01/2010', '03/09/2012', '10/31/2016', '04/25/2019', '06/26/2019', '06/30/2019', '11/14/2016', '02/08/2018', '03/02/1921', '07/11/1989', '02/08/2016', '09/14/2011', '08/31/2015', '07/09/2017', '12/01/2010', '01/09/2010', '11/30/2011', '03/22/2009', '10/08/2013', '03/25/2016', '06/30/2009', '03/24/2019', '05/01/2014', '12/03/2016', '09/23/2012', '06/09/2012', '04/09/2019', '08/25/2014', '01/01/1967', '07/22/2009', '08/22/2007', '09/28/2018', '03/17/2019', '03/02/1981', '07/08/2019', '10/27/2019', '10/04/1981', '08/21/2019', '08/26/2017', '12/15/2016', '05/27/2020', '05/05/2002', '10/01/2008', '11/13/2012', '08/12/2016', '03/21/2019', '06/30/2012', '12/17/2019', '02/28/1921', '06/06/2015', '02/24/2016', '12/13/2012', '10/12/2018', '03/01/2009', '02/12/2012', '03/30/2016', '06/13/2020', '06/26/2012', '01/19/2008', '01/01/1988', '02/18/2013', '06/15/2008', '05/26/2017', '02/12/2016', '10/27/1998', '10/04/2018', '09/16/2016', '06/01/2004', '01/24/2019', '08/11/2013', '01/24/2014', '01/29/2019', '01/06/2019', '03/18/2014', '11/18/2017', '01/20/2018', '10/06/2016', '04/17/2012', '09/13/2013', '10/16/2017', '05/25/2013', '04/15/2014', '07/31/2018', '11/27/2000', '09/17/2011', '05/05/2001', '06/30/2016', '03/24/2007', '02/12/2011', '08/17/2014', '02/06/2018', '07/14/2019', '04/22/2019', '09/09/2015', '12/31/2018', '10/10/2014', '02/11/1971', '03/10/2015', '01/01/1955', '06/30/1998', '12/01/2014', '10/16/2016', '08/04/2019', '06/28/2010', '04/05/2019', '09/30/2018', '06/16/2012', '02/02/2013', '08/07/2011', '12/13/2016', '03/26/2017', '08/01/2013', '01/18/2018', '02/21/2016', '03/01/1987', '01/10/2011', '02/13/2017', '09/07/2011', '03/21/2011', '01/10/2017', '07/07/2014', '05/08/2018', '02/28/2015', '10/07/2017', '10/25/2017', '04/06/2016', '07/15/2018', '04/05/2017', '05/16/2018', '09/15/2016', '07/10/1993', '06/23/2019', '07/28/2017', '05/14/2014', '01/26/2018', '04/06/2019', '09/29/2016', '03/03/2014', '09/24/2019', '05/19/2019', '11/09/2019', '12/31/2015', '07/04/2017', '03/20/2011', '03/25/2015', '12/15/2003', '06/30/2015', '09/02/2012', '01/22/2019', '07/01/2000', '05/18/2016', '08/16/2015', '05/21/2014', '04/19/2013', '10/13/1021', '10/10/2012', '10/07/2001', '10/11/1971', '10/10/1958', '04/29/2016', '10/10/2010', '05/29/2000', '05/14/2018', '12/10/2013', '10/15/1921', '10/11/2012', '10/15/2010', '10/11/2016', '09/08/2018', '10/03/2016', '01/23/2018', '04/23/2017', '08/10/2011', '11/03/2017', '11/02/2013', '10/07/2016', '12/31/2003', '10/04/2015', '06/27/2018', '01/01/1981', '06/20/2017', '05/01/1998', '08/01/2005', '01/21/2018', '08/26/2018', '06/26/2018', '04/09/1920', '10/27/2010', '09/14/2015', '01/02/2012', '07/11/2013', '07/14/1969', '10/22/2001', '10/14/2005', '10/26/2012', '09/16/2019', '09/17/2001', '10/09/2011', '05/11/2014', '08/22/2013', '08/13/2017', '03/24/2017', '01/01/1996', '10/01/2009', '10/10/2007', '08/29/2007', '12/24/1971', '11/07/1979', '06/17/2013', '10/03/2002', '10/02/2012', '07/02/2009', '01/31/2012', '09/21/1921', '02/09/2016', '04/14/2018', '11/11/2008', '12/04/1996', '09/27/2017', '04/11/2019', '08/15/2015', '07/12/2010', '05/30/2015', '01/08/2018', '09/16/2018', '06/06/2018', '10/08/2008', '11/06/2016', '09/10/2012', '04/14/2017', '09/01/2007', '08/09/1990', '09/11/2013', '09/09/1971', '01/26/2013', '02/01/2013', '09/27/2019', '09/02/2015', '01/05/2013', '01/11/2013', '04/01/2013', '09/17/2012', '08/28/2001', '10/07/2018', '02/16/2018', '10/06/2009', '08/23/2012', '04/22/2013', '10/07/2007', '09/30/2016', '04/01/2014', '07/01/1995', '08/29/2011', '07/06/2016', '12/12/2015', '01/03/2015', '09/21/2009', '06/14/2018', '09/29/2011', '10/08/2017', '05/22/1992', '11/01/2011', '10/28/2018', '09/27/2001', '05/25/2017', '09/26/2012', '05/06/2014', '01/25/2017', '10/27/2018', '10/01/2013', '04/10/2017', '10/25/2016', '03/26/2019', '12/17/2017', '12/22/2010', '06/05/2016', '07/15/2003', '02/21/2007', '12/10/1971', '10/10/2018', '07/23/2017', '09/20/2016', '06/20/2010', '04/29/2002', '02/29/2016', '08/31/2011', '10/23/2018', '07/01/1986', '05/30/2014', '12/08/2018', '02/27/2019', '10/07/2015', '12/03/2014', '03/29/2019', '09/25/1021', '11/29/2014', '11/01/2010', '10/15/2004', '02/01/2008', '12/14/2012', '09/04/1999', '11/03/2018', '12/19/2015', '02/15/2018', '12/13/2001', '10/04/2014', '04/02/2019', '03/04/2016', '10/29/2017', '07/01/2002', '09/10/2015', '04/13/2012', '05/01/2003', '03/13/2019', '12/01/2006', '02/15/2017', '04/01/2009', '12/08/1021', '11/27/2014', '08/24/2017', '09/17/2019', '03/03/2017', '12/15/2017', '12/11/2012', '03/12/2019', '12/01/2012', '12/21/1921', '12/02/2018', '04/12/2012', '11/05/2019', '08/22/2018', '08/25/2012', '05/22/2013', '12/11/2016', '11/18/2013', '02/24/2019', '11/14/2008', '12/14/2013', '06/17/2019', '11/04/1021', '11/07/2012', '11/02/2015', '12/24/2016', '09/20/2013', '02/17/2018', '06/03/2008', '11/05/2015', '11/04/2010', '05/01/2013', '05/31/2018', '11/02/2009', '03/13/2013', '11/11/2011', '06/22/2017', '11/04/2011', '06/01/1986', '04/10/2006', '10/13/2019', '01/30/2017', '11/10/2013', '11/17/2019', '12/01/2013', '12/03/2002', '07/07/2000', '11/18/2012', '05/20/2017', '07/09/2001', '11/21/2017', '07/29/2019', '11/27/1995', '08/22/2017', '03/07/2005', '02/28/2001', '09/26/2016', '09/20/2010', '04/05/2008', '08/18/2017', '05/22/2012', '11/27/2018', '03/11/2017', '07/31/2013', '12/01/2015', '06/07/2020', '05/03/2016', '11/29/2004', '11/19/2016', '08/01/1993', '11/25/2016', '09/12/2013', '05/17/2018', '06/24/2019', '05/15/2001', '11/20/2013', '05/29/2014', '09/20/2003', '11/24/2015', '06/05/2017', '01/03/2012', '06/24/2013', '06/10/2019', '11/09/2015', '10/09/2010', '07/31/2012', '02/15/2019', '09/29/2001', '01/01/1985', '01/18/2013', '06/15/1021', '05/30/1999', '10/05/2016', '11/26/2007', '06/09/2017', '06/25/2012', '09/10/2018', '11/28/2005', '11/21/2018', '06/29/2013', '10/23/2019', '01/27/2001', '08/06/2018', '04/14/2014', '07/10/2011', '04/19/2011', '01/01/1978', '02/11/2016', '08/28/2018', '12/20/2018', '06/14/2019', '02/18/2018', '07/12/2013', '03/15/2013', '10/07/2013', '07/09/2011', '09/09/2016', '07/11/1921', '03/22/2017', '01/02/1995', '07/13/2014', '07/07/2012', '11/01/2004', '06/16/1983', '07/03/1999', '06/27/2001', '12/15/2015', '08/27/2000', '01/01/1993', '09/12/1019', '03/29/1988', '05/26/2019', '01/27/1999', '04/26/1970', '06/09/2004', '06/08/2017', '02/06/2017', '01/17/2015', '12/14/2009', '12/06/2010', '04/01/1997', '01/31/2019', '09/20/2018', '03/25/2018', '10/28/2019', '09/17/2013', '05/21/2019', '03/11/2008', '05/15/2011', '01/02/2016', '09/21/2018', '03/28/2019', '09/21/2019', '02/06/2019', '07/31/2014', '04/01/1990', '03/01/1982', '06/19/2018', '03/01/2008', '01/18/2019', '11/16/2017', '05/31/2020', '10/13/2013', '06/10/2002', '12/18/2016', '06/13/2014', '05/01/2012', '11/21/2019', '11/10/2017', '06/14/2014', '05/01/2000', '09/10/2013', '10/27/2017', '05/04/2018', '06/01/2011', '03/14/2019', '06/10/2018', '06/22/2019', '01/13/2000', '09/01/1998', '06/06/2012', '11/30/2018', '11/29/2017', '08/30/2015', '01/20/2014', '01/08/1973', '10/31/2018', '07/30/2019', '07/30/2018', '05/25/2001', '09/13/2018', '08/24/2018', '08/08/1981', '03/07/2017', '04/06/2015', '08/14/2012', '08/03/2014', '09/26/2017', '09/02/2002', '06/01/2002', '07/08/2006', '07/21/2015', '09/01/1987', '07/01/1977', '06/01/2005', '08/10/2018', '08/14/1997', '06/23/2016', '03/10/2001', '08/06/2019', '12/20/2005', '03/20/2019', '04/13/2018', '12/01/1997', '08/10/2004', '07/21/2018', '10/06/2019', '06/22/2018', '08/02/2019', '02/24/2008', '08/24/2019', '08/30/2018', '01/01/1991', '01/04/2017', '08/15/2006', '12/03/2018', '09/04/2011', '08/10/2006', '04/15/2016', '05/16/2017', '08/19/2012', '05/12/2014', '09/01/1991', '11/29/2019', '06/18/2015', '04/17/2019', '12/09/2016', '08/22/2019', '11/21/1982', '04/01/2004', '08/20/2012', '07/04/2003', '10/01/2015', '08/26/2000', '08/12/2018', '07/05/2016', '08/06/2015', '08/03/2005', '07/11/2017', '07/29/2012', '08/01/2003', '06/15/2016', '12/27/1960', '01/27/2018', '07/21/2014', '02/04/2013', '04/24/2018', '04/05/1999', '06/10/2000', '04/18/2019', '01/13/2017', '08/03/2016', '12/28/2019', '01/05/2007', '07/05/2018', '07/20/2017', '12/02/2017', '11/01/2015', '06/09/2019', '07/03/1021', '09/02/1988', '11/27/2017', '08/01/2000', '10/08/2014', '06/15/2017', '06/15/2019', '09/06/2009', '08/06/2010', '07/05/2011', '06/04/2010', '03/18/2017', '06/02/1998', '03/12/2017', '05/28/2010', '03/24/2018', '07/30/2011', '04/20/2006', '09/13/2019', '04/03/2019', '12/09/1971', '12/16/2019', '05/22/2019', '09/06/2018', '05/25/2014', '07/06/2014', '09/22/2017', '01/11/2017', '04/07/2019', '05/01/2011', '07/31/2001', '07/12/2016', '01/02/2018', '10/25/2013', '06/29/2000', '10/03/2001']\n",
            "     CMPLNT_FR_TM : 1440 : ['12:00:00', '15:00:00', '18:00:00', '17:00:00', '16:00:00', '20:00:00', '19:00:00', '14:00:00', '10:00:00', '13:00:00', '09:00:00', '22:00:00', '21:00:00', '08:00:00', '11:00:00', '00:00:00', '23:00:00', '00:01:00', '01:00:00', '16:30:00', '17:30:00', '15:30:00', '18:30:00', '19:30:00', '07:00:00', '14:30:00', '20:30:00', '02:00:00', '21:30:00', '13:30:00', '12:30:00', '22:30:00', '03:00:00', '11:30:00', '10:30:00', '23:30:00', '09:30:00', '04:00:00', '06:00:00', '08:30:00', '00:30:00', '05:00:00', '01:30:00', '07:30:00', '02:30:00', '16:40:00', '16:20:00', '16:50:00', '15:50:00', '14:20:00', '18:20:00', '17:20:00', '19:50:00', '18:50:00', '15:40:00', '15:20:00', '18:40:00', '17:40:00', '19:20:00', '14:50:00', '19:40:00', '03:30:00', '17:50:00', '17:15:00', '16:45:00', '14:40:00', '20:20:00', '13:50:00', '17:45:00', '18:15:00', '16:15:00', '20:50:00', '13:40:00', '15:45:00', '06:30:00', '12:50:00', '18:45:00', '19:45:00', '21:50:00', '17:10:00', '13:20:00', '21:20:00', '19:15:00', '20:40:00', '11:50:00', '14:15:00', '12:40:00', '12:45:00', '15:15:00', '20:15:00', '14:45:00', '04:30:00', '21:40:00', '12:20:00', '05:30:00', '20:45:00', '13:45:00', '13:15:00', '18:10:00', '16:10:00', '19:10:00', '11:20:00', '11:40:00', '21:15:00', '22:20:00', '12:15:00', '21:45:00', '22:50:00', '22:40:00', '20:10:00', '10:50:00', '11:45:00', '11:15:00', '23:50:00', '10:45:00', '13:10:00', '15:10:00', '14:10:00', '23:40:00', '21:10:00', '22:10:00', '10:20:00', '23:20:00', '00:20:00', '10:40:00', '01:20:00', '22:15:00', '09:50:00', '09:20:00', '10:15:00', '00:15:00', '22:45:00', '23:45:00', '09:40:00', '09:45:00', '08:50:00', '00:05:00', '23:15:00', '12:10:00', '16:25:00', '00:10:00', '09:15:00', '11:10:00', '17:25:00', '01:40:00', '00:50:00', '08:40:00', '23:10:00', '18:25:00', '19:25:00', '08:45:00', '08:20:00', '01:50:00', '20:25:00', '08:15:00', '01:10:00', '17:35:00', '00:40:00', '16:55:00', '15:25:00', '00:45:00', '14:25:00', '01:15:00', '02:20:00', '17:55:00', '18:35:00', '15:55:00', '16:35:00', '21:25:00', '18:55:00', '20:35:00', '07:50:00', '13:25:00', '19:35:00', '15:35:00', '01:45:00', '11:25:00', '02:50:00', '16:05:00', '17:05:00', '08:10:00', '02:40:00', '03:50:00', '07:45:00', '14:55:00', '03:20:00', '19:55:00', '20:55:00', '09:10:00', '10:10:00', '19:05:00', '07:40:00', '13:55:00', '03:40:00', '02:15:00', '02:45:00', '18:05:00', '13:35:00', '22:25:00', '07:20:00', '12:55:00', '20:05:00', '15:05:00', '14:35:00', '21:35:00', '12:25:00', '12:35:00', '02:10:00', '10:25:00', '13:05:00', '12:05:00', '11:55:00', '04:20:00', '21:05:00', '23:35:00', '03:15:00', '11:35:00', '07:15:00', '10:55:00', '22:35:00', '14:05:00', '04:50:00', '03:45:00', '21:55:00', '23:55:00', '23:25:00', '03:10:00', '00:25:00', '04:40:00', '06:50:00', '22:05:00', '00:35:00', '06:20:00', '11:05:00', '05:20:00', '01:25:00', '05:50:00', '10:35:00', '09:55:00', '06:45:00', '09:25:00', '23:05:00', '04:45:00', '04:15:00', '22:55:00', '07:10:00', '01:05:00', '05:40:00', '09:35:00', '04:10:00', '00:55:00', '08:25:00', '06:15:00', '06:40:00', '01:35:00', '08:55:00', '08:35:00', '02:25:00', '02:35:00', '09:05:00', '08:05:00', '05:15:00', '10:05:00', '01:55:00', '05:45:00', '02:05:00', '07:55:00', '06:10:00', '03:25:00', '02:55:00', '05:10:00', '03:05:00', '07:25:00', '03:35:00', '03:55:00', '07:35:00', '04:25:00', '07:05:00', '06:05:00', '04:05:00', '04:35:00', '06:25:00', '05:55:00', '05:25:00', '18:48:00', '15:38:00', '04:55:00', '11:58:00', '16:28:00', '13:28:00', '06:55:00', '23:59:00', '16:18:00', '16:48:00', '19:28:00', '17:18:00', '06:35:00', '14:28:00', '14:48:00', '16:22:00', '05:05:00', '18:18:00', '19:08:00', '05:35:00', '18:28:00', '13:58:00', '15:48:00', '16:38:00', '16:08:00', '16:58:00', '18:13:00', '20:18:00', '17:38:00', '17:43:00', '16:52:00', '18:23:00', '17:19:00', '15:57:00', '13:23:00', '17:28:00', '14:43:00', '15:43:00', '15:18:00', '19:18:00', '17:48:00', '16:12:00', '12:48:00', '18:22:00', '17:24:00', '12:28:00', '20:38:00', '17:13:00', '18:08:00', '17:58:00', '15:28:00', '18:58:00', '15:08:00', '11:47:00', '14:08:00', '14:18:00', '14:58:00', '14:38:00', '19:17:00', '19:58:00', '15:01:00', '16:27:00', '12:18:00', '15:13:00', '17:47:00', '12:43:00', '19:23:00', '20:23:00', '13:18:00', '20:08:00', '12:12:00', '16:04:00', '17:08:00', '18:12:00', '16:46:00', '12:58:00', '11:38:00', '13:38:00', '10:48:00', '13:08:00', '12:37:00', '14:13:00', '19:14:00', '18:39:00', '18:43:00', '12:24:00', '18:42:00', '18:03:00', '21:48:00', '21:38:00', '16:53:00', '17:12:00', '19:48:00', '15:58:00', '13:39:00', '16:32:00', '11:22:00', '21:18:00', '16:37:00', '18:38:00', '14:14:00', '17:26:00', '13:48:00', '18:57:00', '17:23:00', '20:12:00', '17:36:00', '16:56:00', '20:21:00', '11:08:00', '15:39:00', '13:12:00', '16:29:00', '15:47:00', '14:54:00', '16:23:00', '21:08:00', '11:28:00', '20:17:00', '20:53:00', '14:42:00', '15:36:00', '12:44:00', '12:08:00', '14:19:00', '16:42:00', '16:47:00', '14:23:00', '17:17:00', '13:47:00', '11:52:00', '17:04:00', '11:42:00', '13:27:00', '15:37:00', '16:24:00', '11:48:00', '12:38:00', '15:42:00', '17:22:00', '12:27:00', '13:19:00', '11:53:00', '14:12:00', '16:36:00', '13:44:00', '16:43:00', '11:26:00', '10:28:00', '13:17:00', '18:24:00', '20:24:00', '17:14:00', '18:26:00', '17:27:00', '18:07:00', '12:23:00', '14:07:00', '18:21:00', '14:37:00', '17:44:00', '13:34:00', '13:22:00', '18:17:00', '19:29:00', '17:34:00', '13:13:00', '18:44:00', '20:13:00', '16:03:00', '11:07:00', '14:52:00', '17:09:00', '11:24:00', '18:53:00', '12:14:00', '16:14:00', '11:23:00', '19:07:00', '19:38:00', '19:34:00', '16:16:00', '18:14:00', '12:57:00', '18:06:00', '12:53:00', '21:22:00', '16:19:00', '12:49:00', '11:18:00', '17:42:00', '20:28:00', '13:43:00', '20:58:00', '20:48:00', '13:07:00', '20:54:00', '19:16:00', '17:02:00', '15:56:00', '19:43:00', '18:16:00', '13:52:00', '12:26:00', '12:07:00', '20:04:00', '14:24:00', '19:12:00', '13:09:00', '13:36:00', '15:12:00', '16:07:00', '16:13:00', '17:52:00', '10:12:00', '14:22:00', '14:57:00', '12:52:00', '14:16:00', '20:14:00', '19:21:00', '11:09:00', '20:43:00', '19:42:00', '15:49:00', '13:14:00', '10:58:00', '16:21:00', '15:32:00', '16:49:00', '17:03:00', '20:22:00', '13:57:00', '13:53:00', '21:17:00', '15:24:00', '14:17:00', '14:46:00', '12:22:00', '15:53:00', '16:17:00', '12:17:00', '10:08:00', '17:53:00', '10:13:00', '13:24:00', '18:52:00', '11:13:00', '21:27:00', '16:34:00', '14:56:00', '17:37:00', '11:12:00', '16:54:00', '19:13:00', '19:27:00', '19:06:00', '16:33:00', '11:06:00', '10:43:00', '19:54:00', '10:44:00', '12:01:00', '16:11:00', '21:09:00', '11:41:00', '13:41:00', '17:11:00', '10:38:00', '18:19:00', '17:06:00', '18:47:00', '18:56:00', '15:29:00', '12:47:00', '12:46:00', '19:26:00', '19:52:00', '19:36:00', '20:37:00', '11:27:00', '19:09:00', '16:57:00', '17:46:00', '20:06:00', '12:39:00', '15:54:00', '11:43:00', '11:36:00', '17:41:00', '11:54:00', '17:32:00', '15:26:00', '17:54:00', '14:53:00', '14:27:00', '20:16:00', '18:04:00', '19:49:00', '10:53:00', '17:49:00', '18:34:00', '18:54:00', '12:04:00', '21:19:00', '14:11:00', '12:41:00', '15:17:00', '21:28:00', '13:54:00', '20:44:00', '14:03:00', '19:32:00', '20:39:00', '13:06:00', '21:07:00', '16:26:00', '15:34:00', '15:11:00', '16:39:00', '18:37:00', '15:44:00', '10:18:00', '21:36:00', '11:14:00', '17:29:00', '16:06:00', '12:36:00', '18:49:00', '15:02:00', '00:18:00', '19:37:00', '17:21:00', '21:13:00', '15:46:00', '13:32:00', '15:03:00', '16:51:00', '20:42:00', '00:08:00', '13:21:00', '09:47:00', '00:02:00', '21:24:00', '17:56:00', '20:02:00', '20:52:00', '11:29:00', '13:49:00', '21:12:00', '15:33:00', '12:03:00', '20:33:00', '21:44:00', '16:44:00', '14:32:00', '17:33:00', '13:04:00', '19:22:00', '17:16:00', '16:02:00', '13:33:00', '14:34:00', '14:21:00', '11:56:00', '18:27:00', '17:57:00', '13:42:00', '17:07:00', '14:29:00', '12:33:00', '20:49:00', '18:02:00', '21:41:00', '14:44:00', '11:19:00', '10:22:00', '12:13:00', '13:16:00', '14:09:00', '19:19:00', '12:06:00', '19:33:00', '18:46:00', '12:16:00', '21:14:00', '11:46:00', '12:19:00', '13:51:00', '10:52:00', '18:09:00', '15:22:00', '11:32:00', '20:29:00', '22:12:00', '14:49:00', '12:42:00', '14:02:00', '13:37:00', '12:59:00', '23:53:00', '15:27:00', '10:17:00', '14:26:00', '14:47:00', '18:29:00', '21:43:00', '17:39:00', '22:18:00', '20:03:00', '19:02:00', '14:04:00', '10:56:00', '12:56:00', '15:51:00', '13:11:00', '14:51:00', '11:39:00', '15:52:00', '12:34:00', '12:21:00', '09:12:00', '12:54:00', '18:32:00', '14:36:00', '14:33:00', '13:02:00', '15:14:00', '19:39:00', '15:21:00', '19:24:00', '20:32:00', '13:29:00', '20:56:00', '00:43:00', '09:48:00', '11:17:00', '10:27:00', '18:11:00', '19:47:00', '12:29:00', '20:36:00', '00:38:00', '21:52:00', '13:56:00', '18:36:00', '22:08:00', '12:51:00', '11:44:00', '13:31:00', '19:04:00', '10:14:00', '11:57:00', '20:11:00', '23:38:00', '11:37:00', '21:58:00', '19:11:00', '16:41:00', '09:52:00', '19:03:00', '21:34:00', '22:17:00', '22:28:00', '10:19:00', '21:47:00', '18:33:00', '15:23:00', '10:24:00', '09:18:00', '15:19:00', '12:11:00', '13:46:00', '15:16:00', '19:56:00', '18:01:00', '09:58:00', '11:34:00', '20:26:00', '10:47:00', '16:31:00', '20:57:00', '09:23:00', '21:29:00', '22:23:00', '16:01:00', '21:53:00', '13:01:00', '13:26:00', '19:44:00', '13:59:00', '22:32:00', '10:57:00', '15:41:00', '10:36:00', '23:23:00', '12:02:00', '10:32:00', '14:06:00', '10:26:00', '20:51:00', '15:31:00', '22:58:00', '14:39:00', '15:59:00', '21:23:00', '12:09:00', '13:03:00', '17:31:00', '20:07:00', '10:07:00', '10:54:00', '21:26:00', '22:43:00', '20:09:00', '10:49:00', '11:02:00', '11:59:00', '11:51:00', '15:06:00', '21:16:00', '20:34:00', '19:46:00', '10:11:00', '10:39:00', '21:56:00', '16:59:00', '19:01:00', '20:27:00', '18:51:00', '11:49:00', '22:16:00', '09:08:00', '14:41:00', '09:28:00', '21:42:00', '19:53:00', '11:03:00', '11:16:00', '22:19:00', '12:31:00', '21:32:00', '11:04:00', '23:18:00', '19:57:00', '10:59:00', '23:43:00', '15:07:00', '16:09:00', '22:14:00', '15:09:00', '11:33:00', '22:52:00', '23:27:00', '23:47:00', '18:41:00', '10:34:00', '01:18:00', '20:46:00', '23:48:00', '19:41:00', '10:06:00', '21:03:00', '23:58:00', '10:33:00', '21:49:00', '00:06:00', '17:59:00', '09:24:00', '20:59:00', '23:49:00', '21:04:00', '00:12:00', '08:44:00', '12:32:00', '10:42:00', '09:34:00', '17:51:00', '14:59:00', '09:42:00', '08:38:00', '10:46:00', '22:13:00', '10:03:00', '01:48:00', '21:46:00', '10:37:00', '23:17:00', '15:04:00', '00:22:00', '22:09:00', '21:37:00', '01:08:00', '21:02:00', '22:22:00', '22:07:00', '17:01:00', '20:41:00', '19:59:00', '22:39:00', '00:14:00', '10:51:00', '22:48:00', '22:06:00', '21:57:00', '01:27:00', '00:04:00', '22:38:00', '10:29:00', '00:24:00', '22:03:00', '00:48:00', '09:44:00', '22:42:00', '00:03:00', '23:37:00', '01:12:00', '08:53:00', '20:01:00', '09:22:00', '14:01:00', '11:01:00', '20:19:00', '23:08:00', '22:26:00', '22:53:00', '23:14:00', '08:47:00', '22:44:00', '01:42:00', '09:27:00', '00:37:00', '21:33:00', '09:36:00', '00:16:00', '14:31:00', '22:47:00', '09:38:00', '23:26:00', '22:21:00', '10:16:00', '10:23:00', '10:04:00', '09:56:00', '21:06:00', '23:33:00', '23:36:00', '23:06:00', '01:37:00', '00:58:00', '00:17:00', '00:54:00', '21:59:00', '21:21:00', '22:37:00', '10:09:00', '01:23:00', '21:39:00', '23:12:00', '22:49:00', '23:03:00', '23:19:00', '11:31:00', '21:11:00', '09:26:00', '22:27:00', '23:42:00', '11:11:00', '09:43:00', '09:54:00', '09:57:00', '00:53:00', '01:14:00', '09:07:00', '23:54:00', '02:23:00', '08:48:00', '08:06:00', '23:39:00', '22:29:00', '10:21:00', '22:36:00', '09:39:00', '00:42:00', '00:26:00', '00:44:00', '00:13:00', '08:59:00', '08:27:00', '23:44:00', '09:03:00', '08:17:00', '08:14:00', '23:07:00', '01:07:00', '11:21:00', '07:48:00', '01:24:00', '09:06:00', '23:28:00', '20:47:00', '20:31:00', '23:56:00', '08:52:00', '22:04:00', '02:14:00', '01:57:00', '18:31:00', '09:33:00', '02:08:00', '22:11:00', '21:54:00', '09:16:00', '09:59:00', '00:11:00', '23:02:00', '08:26:00', '08:08:00', '09:19:00', '00:33:00', '08:37:00', '00:56:00', '08:23:00', '22:33:00', '08:58:00', '21:51:00', '09:13:00', '02:12:00', '01:52:00', '09:17:00', '00:52:00', '23:04:00', '22:54:00', '08:13:00', '09:37:00', '01:58:00', '01:22:00', '02:28:00', '10:41:00', '08:43:00', '22:34:00', '01:26:00', '00:59:00', '23:24:00', '01:32:00', '22:56:00', '09:32:00', '23:13:00', '09:09:00', '09:04:00', '00:07:00', '09:53:00', '23:51:00', '09:29:00', '10:02:00', '09:31:00', '21:31:00', '02:58:00', '01:43:00', '23:57:00', '22:24:00', '00:21:00', '09:51:00', '08:28:00', '08:24:00', '00:36:00', '02:33:00', '00:34:00', '08:18:00', '09:14:00', '23:52:00', '02:26:00', '01:28:00', '08:57:00', '19:51:00', '04:08:00', '08:21:00', '02:48:00', '18:59:00', '01:54:00', '22:02:00', '23:11:00', '09:49:00', '03:28:00', '00:19:00', '23:22:00', '00:47:00', '08:36:00', '10:01:00', '03:18:00', '22:41:00', '02:56:00', '02:22:00', '09:11:00', '01:03:00', '01:04:00', '01:53:00', '01:06:00', '00:09:00', '00:28:00', '08:32:00', '23:32:00', '19:31:00', '00:57:00', '02:03:00', '08:46:00', '00:39:00', '08:09:00', '03:43:00', '08:07:00', '08:49:00', '01:13:00', '01:38:00', '07:58:00', '01:47:00', '21:01:00', '08:42:00', '01:34:00', '01:49:00', '03:27:00', '23:16:00', '02:06:00', '23:34:00', '01:41:00', '09:41:00', '01:16:00', '01:02:00', '04:18:00', '08:02:00', '03:12:00', '01:19:00', '09:21:00', '23:46:00', '08:04:00', '04:58:00', '01:09:00', '00:32:00', '09:46:00', '03:19:00', '10:31:00', '09:01:00', '00:23:00', '02:04:00', '08:39:00', '08:33:00', '00:46:00', '04:19:00', '02:16:00', '02:36:00', '22:57:00', '02:42:00', '02:27:00', '04:07:00', '00:29:00', '02:53:00', '00:27:00', '07:12:00', '08:16:00', '07:14:00', '23:29:00', '22:31:00', '08:54:00', '22:46:00', '00:49:00', '09:02:00', '08:12:00', '03:58:00', '02:11:00', '02:44:00', '02:18:00', '01:01:00', '01:17:00', '03:22:00', '01:56:00', '02:38:00', '08:56:00', '01:29:00', '08:22:00', '02:13:00', '04:22:00', '08:31:00', '02:43:00', '00:41:00', '02:32:00', '08:11:00', '03:34:00', '02:24:00', '01:44:00', '23:09:00', '04:28:00', '07:38:00', '22:01:00', '03:24:00', '07:42:00', '01:33:00', '06:12:00', '04:38:00', '03:44:00', '23:21:00', '02:17:00', '02:49:00', '08:03:00', '00:51:00', '02:09:00', '02:54:00', '08:34:00', '02:37:00', '01:46:00', '04:04:00', '02:01:00', '04:06:00', '03:26:00', '01:39:00', '22:51:00', '02:47:00', '07:23:00', '04:17:00', '01:11:00', '01:21:00', '03:38:00', '04:12:00', '07:53:00', '07:41:00', '01:36:00', '07:19:00', '08:29:00', '03:49:00', '04:13:00', '07:03:00', '03:32:00', '04:42:00', '07:47:00', '07:22:00', '08:41:00', '07:46:00', '06:08:00', '08:01:00', '03:16:00', '23:41:00', '02:19:00', '07:18:00', '03:13:00', '02:07:00', '07:59:00', '07:34:00', '04:14:00', '07:57:00', '22:59:00', '03:37:00', '03:02:00', '01:59:00', '04:57:00', '02:02:00', '04:56:00', '07:49:00', '03:06:00', '03:04:00', '07:06:00', '23:31:00', '00:31:00', '03:14:00', '01:51:00', '03:53:00', '04:16:00', '02:57:00', '05:08:00', '06:44:00', '03:42:00', '07:13:00', '02:34:00', '02:41:00', '04:27:00', '03:56:00', '08:51:00', '02:46:00', '07:43:00', '04:53:00', '23:01:00', '03:08:00', '04:01:00', '06:58:00', '04:09:00', '06:17:00', '06:27:00', '03:09:00', '04:23:00', '05:58:00', '05:12:00', '06:13:00', '07:56:00', '01:31:00', '03:23:00', '07:52:00', '07:54:00', '06:22:00', '04:48:00', '03:54:00', '06:18:00', '07:27:00', '03:52:00', '07:17:00', '04:02:00', '07:36:00', '05:24:00', '06:49:00', '07:39:00', '02:39:00', '05:42:00', '03:46:00', '03:47:00', '02:59:00', '05:14:00', '04:46:00', '07:44:00', '03:21:00', '07:08:00', '07:21:00', '03:17:00', '08:19:00', '03:59:00', '05:02:00', '03:07:00', '03:48:00', '03:29:00', '07:09:00', '02:51:00', '03:39:00', '03:51:00', '06:28:00', '03:11:00', '07:11:00', '02:21:00', '04:44:00', '07:26:00', '04:11:00', '06:14:00', '05:17:00', '05:53:00', '05:49:00', '04:03:00', '05:29:00', '04:34:00', '06:24:00', '05:11:00', '02:31:00', '05:26:00', '07:33:00', '07:28:00', '04:26:00', '05:03:00', '05:18:00', '07:24:00', '05:37:00', '03:36:00', '06:19:00', '05:33:00', '02:52:00', '06:51:00', '06:39:00', '04:49:00', '06:38:00', '03:03:00', '04:24:00', '03:57:00', '02:29:00', '07:29:00', '04:37:00', '04:36:00', '04:52:00', '06:32:00', '06:01:00', '06:33:00', '07:51:00', '04:54:00', '05:06:00', '04:21:00', '05:07:00', '06:42:00', '06:46:00', '06:03:00', '07:37:00', '07:07:00', '05:54:00', '06:02:00', '05:28:00', '06:34:00', '05:19:00', '05:13:00', '05:47:00', '06:43:00', '05:16:00', '06:59:00', '03:33:00', '05:27:00', '06:21:00', '05:56:00', '06:48:00', '06:07:00', '05:48:00', '05:22:00', '04:33:00', '06:11:00', '06:04:00', '05:59:00', '05:38:00', '06:23:00', '06:29:00', '07:16:00', '06:09:00', '07:32:00', '05:04:00', '07:31:00', '05:36:00', '07:04:00', '03:41:00', '05:09:00', '04:39:00', '06:57:00', '06:26:00', '05:23:00', '06:31:00', '04:43:00', '07:01:00', '05:32:00', '07:02:00', '05:43:00', '05:01:00', '04:29:00', '06:54:00', '04:59:00', '04:51:00', '06:16:00', '05:41:00', '04:47:00', '06:41:00', '05:52:00', '06:52:00', '05:51:00', '05:34:00', '06:06:00', '06:37:00', '05:39:00', '06:56:00', '06:53:00', '05:31:00', '03:31:00', '05:57:00', '05:46:00', '04:41:00', '06:47:00', '06:36:00', '05:44:00', '03:01:00', '04:31:00', '04:32:00', '05:21:00']\n",
            "       LAW_CAT_CD :    3 : ['MISDEMEANOR', 'FELONY', 'VIOLATION']\n",
            "        OFNS_DESC :   62 : ['PETIT LARCENY', 'HARRASSMENT 2', 'ASSAULT 3 & RELATED OFFENSES', 'CRIMINAL MISCHIEF & RELATED OF', 'GRAND LARCENY', 'FELONY ASSAULT', 'OFF. AGNST PUB ORD SENSBLTY &', 'MISCELLANEOUS PENAL LAW', 'ROBBERY', 'BURGLARY', 'GRAND LARCENY OF MOTOR VEHICLE', 'VEHICLE AND TRAFFIC LAWS', 'DANGEROUS DRUGS', 'SEX CRIMES', 'OFFENSES AGAINST PUBLIC ADMINI', 'DANGEROUS WEAPONS', 'FORGERY', 'THEFT-FRAUD', 'FRAUDS', 'OFFENSES INVOLVING FRAUD', 'INTOXICATED & IMPAIRED DRIVING', 'CRIMINAL TRESPASS', 'RAPE', 'UNAUTHORIZED USE OF A VEHICLE', 'POSSESSION OF STOLEN PROPERTY', 'OFFENSES AGAINST THE PERSON', 'ADMINISTRATIVE CODE', 'ARSON', 'OTHER OFFENSES RELATED TO THEF', 'MURDER & NON-NEGL. MANSLAUGHTER', 'NYS LAWS-UNCLASSIFIED FELONY', 'OTHER STATE LAWS (NON PENAL LA', \"BURGLAR'S TOOLS\", 'PETIT LARCENY OF MOTOR VEHICLE', 'KIDNAPPING & RELATED OFFENSES', 'THEFT OF SERVICES', 'GAMBLING', 'AGRICULTURE & MRKTS LAW-UNCLASSIFIED', 'OFFENSES AGAINST PUBLIC SAFETY', 'ALCOHOLIC BEVERAGE CONTROL LAW', 'FRAUDULENT ACCOSTING', 'PROSTITUTION & RELATED OFFENSES', 'ENDAN WELFARE INCOMP', 'DISORDERLY CONDUCT', 'ANTICIPATORY OFFENSES', 'FELONY SEX CRIMES', 'CHILD ABANDONMENT/NON SUPPORT', 'NYS LAWS-UNCLASSIFIED VIOLATION', 'OTHER STATE LAWS', 'HOMICIDE-NEGLIGENT,UNCLASSIFIE', 'JOSTLING', 'KIDNAPPING', 'ESCAPE 3', 'HOMICIDE-NEGLIGENT-VEHICLE', 'OFFENSES RELATED TO CHILDREN', 'LOITERING/GAMBLING (CARDS, DIC', 'INTOXICATED/IMPAIRED DRIVING', 'NEW YORK CITY HEALTH CODE', 'OTHER STATE LAWS (NON PENAL LAW)', 'UNLAWFUL POSS. WEAP. ON SCHOOL', 'DISRUPTION OF A RELIGIOUS SERV', 'OFFENSES AGAINST MARRIAGE UNCL']\n",
            "    PREM_TYP_DESC :   74 : ['STREET', 'RESIDENCE - APT. HOUSE', 'RESIDENCE-HOUSE', 'RESIDENCE - PUBLIC HOUSING', 'CHAIN STORE', 'DEPARTMENT STORE', 'COMMERCIAL BUILDING', 'DRUG STORE', 'OTHER', 'TRANSIT - NYC SUBWAY', 'GROCERY/BODEGA', 'RESTAURANT/DINER', 'PARK/PLAYGROUND', 'CLOTHING/BOUTIQUE', 'HOTEL/MOTEL', 'HOMELESS SHELTER', 'BAR/NIGHT CLUB', 'FAST FOOD', 'HOSPITAL', 'PARKING LOT/GARAGE (PUBLIC)', 'FOOD SUPERMARKET', 'PUBLIC SCHOOL', 'PARKING LOT/GARAGE (PRIVATE)', 'BANK', 'HIGHWAY/PARKWAY', 'PUBLIC BUILDING', 'SMALL MERCHANT', 'GAS STATION', 'BEAUTY & NAIL SALON', 'STORE UNCLASSIFIED', 'DOCTOR/DENTIST OFFICE', 'CONSTRUCTION SITE', 'DRY CLEANER/LAUNDRY', 'BUS (NYC TRANSIT)', 'MAILBOX OUTSIDE', 'GYM/FITNESS FACILITY', 'AIRPORT TERMINAL', 'TELECOMM. STORE', 'LIQUOR STORE', 'CHURCH', 'CANDY STORE', 'VARIETY STORE', 'STORAGE FACILITY', 'OPEN AREAS (OPEN LOTS)', 'CHECK CASHING BUSINESS', 'ATM', 'FACTORY/WAREHOUSE', 'BRIDGE', 'BUS STOP', 'PRIVATE/PAROCHIAL SCHOOL', 'TRANSIT FACILITY (OTHER)', 'TAXI (LIVERY LICENSED)', 'JEWELRY', 'BUS TERMINAL', 'SHOE', 'SYNAGOGUE', 'ABANDONED BUILDING', 'TUNNEL', 'MAILBOX INSIDE', 'SOCIAL CLUB/POLICY', 'MARINA/PIER', 'BUS (OTHER)', 'TAXI (YELLOW LICENSED)', 'BOOK/CARD', 'FERRY/FERRY TERMINAL', 'MOSQUE', 'OTHER HOUSE OF WORSHIP', 'TAXI/LIVERY (UNLICENSED)', 'VIDEO STORE', 'CEMETERY', 'PHOTO/COPY', 'LOAN COMPANY', 'DAYCARE FACILITY', 'TRAMWAY']\n"
          ]
        }
      ]
    },
    {
      "cell_type": "markdown",
      "source": [
        ""
      ],
      "metadata": {
        "id": "SdXUwRQhuyY6"
      }
    },
    {
      "cell_type": "code",
      "source": [
        "show_column_values(df,df.columns)"
      ],
      "metadata": {
        "colab": {
          "base_uri": "https://localhost:8080/"
        },
        "id": "77HqbNi6kwac",
        "outputId": "3c1b784c-ca76-4084-8622-5956af1fb087"
      },
      "execution_count": 424,
      "outputs": [
        {
          "output_type": "stream",
          "name": "stdout",
          "text": [
            "       ADDR_PCT_CD :    77 : [1, 5, 6, 7, 9, 10, 13, 14, 17, 18, 19, 20, 22, 23, 24, 25, 26, 28, 30, 32, 33, 34, 40, 41, 42, 43, 44, 45, 46, 47, 48, 49, 50, 52, 60, 61, 62, 63, 66, 67, 68, 69, 70, 71, 72, 73, 75, 76, 77, 78, 79, 81, 83, 84, 88, 90, 94, 100, 101, 102, 103, 104, 105, 106, 107, 108, 109, 110, 111, 112, 113, 114, 115, 120, 121, 122, 123]\n",
            "                   :     0 : Rows Missing Data\n",
            "\n",
            "      CMPLNT_FR_DT :  1979 : ['01/01/1955', '01/01/1967', '01/01/1972', '01/01/1976', '01/01/1978', '01/01/1979', '01/01/1980', '01/01/1981', '01/01/1983', '01/01/1984', '01/01/1985', '01/01/1986', '01/01/1987', '01/01/1988', '01/01/1989', '01/01/1990', '01/01/1991', '01/01/1993', '01/01/1994', '01/01/1995', '01/01/1996', '01/01/1997', '01/01/1998', '01/01/1999', '01/01/2000', '01/01/2001', '01/01/2002', '01/01/2003', '01/01/2004', '01/01/2005', '01/01/2006', '01/01/2007', '01/01/2008', '01/01/2009', '01/01/2010', '01/01/2011', '01/01/2012', '01/01/2013', '01/01/2014', '01/01/2015', '01/01/2016', '01/01/2017', '01/01/2018', '01/01/2019', '01/01/2020', '01/01/2021', '01/02/1921', '01/02/1995', '01/02/2011', '01/02/2012', '01/02/2014', '01/02/2016', '01/02/2018', '01/02/2019', '01/02/2020', '01/02/2021', '01/03/2011', '01/03/2012', '01/03/2015', '01/03/2019', '01/03/2020', '01/03/2021', '01/04/2017', '01/04/2020', '01/04/2021', '01/05/2007', '01/05/2013', '01/05/2020', '01/05/2021', '01/06/1921', '01/06/2019', '01/06/2020', '01/06/2021', '01/07/2013', '01/07/2020', '01/07/2021', '01/08/1973', '01/08/2009', '01/08/2010', '01/08/2018', '01/08/2020', '01/08/2021', '01/09/2010', '01/09/2016', '01/09/2019', '01/09/2020', '01/09/2021', '01/10/2011', '01/10/2017', '01/10/2019', '01/10/2020', '01/10/2021', '01/11/2010', '01/11/2013', '01/11/2016', '01/11/2017', '01/11/2019', '01/11/2020', '01/11/2021', '01/12/2012', '01/12/2019', '01/12/2020', '01/12/2021', '01/13/2000', '01/13/2011', '01/13/2014', '01/13/2015', '01/13/2017', '01/13/2019', '01/13/2020', '01/13/2021', '01/14/2017', '01/14/2019', '01/14/2020', '01/14/2021', '01/15/2011', '01/15/2019', '01/15/2020', '01/15/2021', '01/16/2019', '01/16/2020', '01/16/2021', '01/17/2015', '01/17/2017', '01/17/2020', '01/17/2021', '01/18/2013', '01/18/2018', '01/18/2019', '01/18/2020', '01/18/2021', '01/19/2008', '01/19/2019', '01/19/2020', '01/19/2021', '01/20/2014', '01/20/2016', '01/20/2018', '01/20/2019', '01/20/2020', '01/20/2021', '01/21/2012', '01/21/2017', '01/21/2018', '01/21/2020', '01/21/2021', '01/22/2017', '01/22/2018', '01/22/2019', '01/22/2020', '01/22/2021', '01/23/2001', '01/23/2014', '01/23/2018', '01/23/2020', '01/23/2021', '01/24/2013', '01/24/2014', '01/24/2018', '01/24/2019', '01/24/2020', '01/24/2021', '01/25/2017', '01/25/2020', '01/25/2021', '01/26/2008', '01/26/2013', '01/26/2018', '01/26/2019', '01/26/2020', '01/26/2021', '01/27/1990', '01/27/1999', '01/27/2001', '01/27/2018', '01/27/2019', '01/27/2020', '01/27/2021', '01/28/2013', '01/28/2016', '01/28/2018', '01/28/2019', '01/28/2020', '01/28/2021', '01/29/2019', '01/29/2020', '01/29/2021', '01/30/2016', '01/30/2017', '01/30/2019', '01/30/2020', '01/30/2021', '01/31/2012', '01/31/2019', '01/31/2020', '01/31/2021', '02/01/1996', '02/01/2003', '02/01/2008', '02/01/2011', '02/01/2012', '02/01/2013', '02/01/2014', '02/01/2015', '02/01/2017', '02/01/2018', '02/01/2019', '02/01/2020', '02/01/2021', '02/02/2012', '02/02/2013', '02/02/2020', '02/02/2021', '02/03/2020', '02/03/2021', '02/04/2013', '02/04/2019', '02/04/2020', '02/04/2021', '02/05/2017', '02/05/2018', '02/05/2020', '02/05/2021', '02/06/2017', '02/06/2018', '02/06/2019', '02/06/2020', '02/06/2021', '02/07/2019', '02/07/2020', '02/07/2021', '02/08/2016', '02/08/2018', '02/08/2020', '02/08/2021', '02/09/2016', '02/09/2020', '02/09/2021', '02/10/1994', '02/10/2008', '02/10/2011', '02/10/2019', '02/10/2020', '02/10/2021', '02/11/1971', '02/11/2005', '02/11/2016', '02/11/2019', '02/11/2020', '02/11/2021', '02/12/2011', '02/12/2012', '02/12/2016', '02/12/2018', '02/12/2020', '02/12/2021', '02/13/2012', '02/13/2017', '02/13/2018', '02/13/2019', '02/13/2020', '02/13/2021', '02/14/2019', '02/14/2020', '02/14/2021', '02/15/2015', '02/15/2017', '02/15/2018', '02/15/2019', '02/15/2020', '02/15/2021', '02/16/2007', '02/16/2014', '02/16/2018', '02/16/2020', '02/16/2021', '02/17/2018', '02/17/2019', '02/17/2020', '02/17/2021', '02/18/2013', '02/18/2018', '02/18/2020', '02/18/2021', '02/19/2019', '02/19/2020', '02/19/2021', '02/20/2018', '02/20/2019', '02/20/2020', '02/20/2021', '02/21/2007', '02/21/2016', '02/21/2020', '02/21/2021', '02/22/2017', '02/22/2019', '02/22/2020', '02/22/2021', '02/23/2015', '02/23/2019', '02/23/2020', '02/23/2021', '02/24/2008', '02/24/2016', '02/24/2018', '02/24/2019', '02/24/2020', '02/24/2021', '02/25/2005', '02/25/2019', '02/25/2020', '02/25/2021', '02/26/2017', '02/26/2019', '02/26/2020', '02/26/2021', '02/27/2018', '02/27/2019', '02/27/2020', '02/27/2021', '02/28/1921', '02/28/2001', '02/28/2015', '02/28/2019', '02/28/2020', '02/28/2021', '02/29/2016', '02/29/2020', '03/01/1982', '03/01/1987', '03/01/2001', '03/01/2007', '03/01/2008', '03/01/2009', '03/01/2010', '03/01/2012', '03/01/2015', '03/01/2016', '03/01/2018', '03/01/2019', '03/01/2020', '03/01/2021', '03/02/1921', '03/02/1981', '03/02/2017', '03/02/2018', '03/02/2020', '03/02/2021', '03/03/2014', '03/03/2017', '03/03/2019', '03/03/2020', '03/03/2021', '03/04/2016', '03/04/2020', '03/04/2021', '03/05/2018', '03/05/2019', '03/05/2020', '03/05/2021', '03/06/2001', '03/06/2020', '03/06/2021', '03/07/2005', '03/07/2017', '03/07/2018', '03/07/2019', '03/07/2020', '03/07/2021', '03/08/2020', '03/08/2021', '03/09/2012', '03/09/2018', '03/09/2020', '03/09/2021', '03/10/1971', '03/10/2001', '03/10/2015', '03/10/2019', '03/10/2020', '03/10/2021', '03/11/2008', '03/11/2017', '03/11/2019', '03/11/2020', '03/11/2021', '03/12/2017', '03/12/2019', '03/12/2020', '03/12/2021', '03/13/2013', '03/13/2019', '03/13/2020', '03/13/2021', '03/14/2019', '03/14/2020', '03/14/2021', '03/15/2013', '03/15/2014', '03/15/2017', '03/15/2018', '03/15/2019', '03/15/2020', '03/15/2021', '03/16/2018', '03/16/2020', '03/16/2021', '03/17/2019', '03/17/2020', '03/17/2021', '03/18/2014', '03/18/2017', '03/18/2019', '03/18/2020', '03/18/2021', '03/19/2013', '03/19/2019', '03/19/2020', '03/19/2021', '03/20/2011', '03/20/2019', '03/20/2020', '03/20/2021', '03/21/2010', '03/21/2011', '03/21/2012', '03/21/2019', '03/21/2020', '03/21/2021', '03/22/2009', '03/22/2017', '03/22/2019', '03/22/2020', '03/22/2021', '03/23/2015', '03/23/2020', '03/23/2021', '03/24/2007', '03/24/2017', '03/24/2018', '03/24/2019', '03/24/2020', '03/24/2021', '03/25/2012', '03/25/2015', '03/25/2016', '03/25/2018', '03/25/2019', '03/25/2020', '03/25/2021', '03/26/1989', '03/26/2017', '03/26/2019', '03/26/2020', '03/26/2021', '03/27/2016', '03/27/2020', '03/27/2021', '03/28/2019', '03/28/2020', '03/28/2021', '03/29/1988', '03/29/2019', '03/29/2021', '03/30/2016', '03/30/2018', '03/30/2020', '03/30/2021', '03/31/2017', '03/31/2020', '03/31/2021', '04/01/1990', '04/01/1997', '04/01/2004', '04/01/2006', '04/01/2007', '04/01/2009', '04/01/2010', '04/01/2013', '04/01/2014', '04/01/2016', '04/01/2017', '04/01/2018', '04/01/2019', '04/01/2020', '04/01/2021', '04/02/2018', '04/02/2019', '04/02/2020', '04/02/2021', '04/03/2011', '04/03/2019', '04/03/2020', '04/03/2021', '04/04/2020', '04/04/2021', '04/05/1999', '04/05/2008', '04/05/2017', '04/05/2019', '04/05/2020', '04/05/2021', '04/06/2015', '04/06/2016', '04/06/2017', '04/06/2019', '04/06/2020', '04/06/2021', '04/07/2019', '04/07/2020', '04/07/2021', '04/08/2019', '04/08/2020', '04/08/2021', '04/09/1920', '04/09/2019', '04/09/2020', '04/09/2021', '04/10/2006', '04/10/2013', '04/10/2017', '04/10/2018', '04/10/2019', '04/10/2020', '04/10/2021', '04/11/2019', '04/11/2020', '04/11/2021', '04/12/2012', '04/12/2020', '04/12/2021', '04/13/2012', '04/13/2018', '04/13/2019', '04/13/2020', '04/13/2021', '04/14/2014', '04/14/2017', '04/14/2018', '04/14/2019', '04/14/2020', '04/14/2021', '04/15/2005', '04/15/2014', '04/15/2015', '04/15/2016', '04/15/2017', '04/15/2019', '04/15/2020', '04/15/2021', '04/16/2019', '04/16/2020', '04/16/2021', '04/17/2011', '04/17/2012', '04/17/2019', '04/17/2020', '04/17/2021', '04/18/2019', '04/18/2020', '04/18/2021', '04/19/2007', '04/19/2011', '04/19/2013', '04/19/2019', '04/19/2020', '04/19/2021', '04/20/2006', '04/20/2016', '04/20/2019', '04/20/2020', '04/20/2021', '04/21/2014', '04/21/2017', '04/21/2020', '04/21/2021', '04/22/2013', '04/22/2018', '04/22/2019', '04/22/2020', '04/22/2021', '04/23/2016', '04/23/2017', '04/23/2019', '04/23/2020', '04/23/2021', '04/24/2015', '04/24/2016', '04/24/2018', '04/24/2020', '04/24/2021', '04/25/2008', '04/25/2014', '04/25/2019', '04/25/2020', '04/25/2021', '04/26/1970', '04/26/2018', '04/26/2019', '04/26/2020', '04/26/2021', '04/27/2016', '04/27/2017', '04/27/2020', '04/27/2021', '04/28/2010', '04/28/2020', '04/28/2021', '04/29/2002', '04/29/2016', '04/29/2018', '04/29/2019', '04/29/2020', '04/29/2021', '04/30/2019', '04/30/2020', '04/30/2021', '05/01/1998', '05/01/1999', '05/01/2000', '05/01/2001', '05/01/2003', '05/01/2004', '05/01/2009', '05/01/2011', '05/01/2012', '05/01/2013', '05/01/2014', '05/01/2015', '05/01/2016', '05/01/2017', '05/01/2018', '05/01/2019', '05/01/2020', '05/01/2021', '05/02/2018', '05/02/2020', '05/02/2021', '05/03/2016', '05/03/2020', '05/03/2021', '05/04/2017', '05/04/2018', '05/04/2019', '05/04/2020', '05/04/2021', '05/05/2001', '05/05/2002', '05/05/2012', '05/05/2018', '05/05/2020', '05/05/2021', '05/06/2014', '05/06/2018', '05/06/2019', '05/06/2020', '05/06/2021', '05/07/2011', '05/07/2019', '05/07/2020', '05/07/2021', '05/08/2017', '05/08/2018', '05/08/2020', '05/08/2021', '05/09/2020', '05/09/2021', '05/10/1966', '05/10/2012', '05/10/2016', '05/10/2020', '05/10/2021', '05/11/1021', '05/11/2003', '05/11/2014', '05/11/2019', '05/11/2020', '05/11/2021', '05/12/2014', '05/12/2017', '05/12/2019', '05/12/2020', '05/12/2021', '05/13/2008', '05/13/2013', '05/13/2018', '05/13/2019', '05/13/2020', '05/13/2021', '05/14/2014', '05/14/2018', '05/14/2019', '05/14/2020', '05/14/2021', '05/15/2001', '05/15/2011', '05/15/2017', '05/15/2018', '05/15/2019', '05/15/2020', '05/15/2021', '05/16/2016', '05/16/2017', '05/16/2018', '05/16/2019', '05/16/2020', '05/16/2021', '05/17/2004', '05/17/2017', '05/17/2018', '05/17/2019', '05/17/2020', '05/17/2021', '05/18/2009', '05/18/2016', '05/18/2018', '05/18/2019', '05/18/2020', '05/18/2021', '05/19/2018', '05/19/2019', '05/19/2020', '05/19/2021', '05/20/2014', '05/20/2016', '05/20/2017', '05/20/2018', '05/20/2019', '05/20/2020', '05/20/2021', '05/21/2014', '05/21/2019', '05/21/2020', '05/21/2021', '05/22/1992', '05/22/2012', '05/22/2013', '05/22/2019', '05/22/2020', '05/22/2021', '05/23/2016', '05/23/2019', '05/23/2020', '05/23/2021', '05/24/2018', '05/24/2019', '05/24/2020', '05/24/2021', '05/25/2001', '05/25/2013', '05/25/2014', '05/25/2017', '05/25/2018', '05/25/2019', '05/25/2020', '05/25/2021', '05/26/2017', '05/26/2019', '05/26/2020', '05/26/2021', '05/27/2017', '05/27/2019', '05/27/2020', '05/27/2021', '05/28/2010', '05/28/2018', '05/28/2020', '05/28/2021', '05/29/2000', '05/29/2014', '05/29/2019', '05/29/2020', '05/29/2021', '05/30/1999', '05/30/2014', '05/30/2015', '05/30/2016', '05/30/2017', '05/30/2020', '05/30/2021', '05/31/2016', '05/31/2018', '05/31/2019', '05/31/2020', '05/31/2021', '06/01/1986', '06/01/1988', '06/01/2000', '06/01/2001', '06/01/2002', '06/01/2004', '06/01/2005', '06/01/2006', '06/01/2007', '06/01/2009', '06/01/2010', '06/01/2011', '06/01/2012', '06/01/2013', '06/01/2014', '06/01/2015', '06/01/2016', '06/01/2017', '06/01/2018', '06/01/2019', '06/01/2020', '06/01/2021', '06/02/1998', '06/02/2014', '06/02/2019', '06/02/2020', '06/02/2021', '06/03/2008', '06/03/2012', '06/03/2020', '06/03/2021', '06/04/2010', '06/04/2018', '06/04/2019', '06/04/2020', '06/04/2021', '06/05/2016', '06/05/2017', '06/05/2019', '06/05/2020', '06/05/2021', '06/06/2012', '06/06/2015', '06/06/2018', '06/06/2020', '06/06/2021', '06/07/2020', '06/07/2021', '06/08/2017', '06/08/2019', '06/08/2020', '06/08/2021', '06/09/2004', '06/09/2011', '06/09/2012', '06/09/2015', '06/09/2017', '06/09/2018', '06/09/2019', '06/09/2020', '06/09/2021', '06/10/2000', '06/10/2002', '06/10/2018', '06/10/2019', '06/10/2020', '06/10/2021', '06/11/2019', '06/11/2020', '06/11/2021', '06/12/2020', '06/12/2021', '06/13/2014', '06/13/2020', '06/13/2021', '06/14/2014', '06/14/2017', '06/14/2018', '06/14/2019', '06/14/2020', '06/14/2021', '06/15/1021', '06/15/2008', '06/15/2015', '06/15/2016', '06/15/2017', '06/15/2018', '06/15/2019', '06/15/2020', '06/15/2021', '06/16/1983', '06/16/2012', '06/16/2017', '06/16/2018', '06/16/2020', '06/16/2021', '06/17/2013', '06/17/2019', '06/17/2020', '06/17/2021', '06/18/2015', '06/18/2019', '06/18/2020', '06/18/2021', '06/19/2010', '06/19/2018', '06/19/2019', '06/19/2020', '06/19/2021', '06/20/2010', '06/20/2012', '06/20/2016', '06/20/2017', '06/20/2018', '06/20/2019', '06/20/2020', '06/20/2021', '06/21/2002', '06/21/2017', '06/21/2019', '06/21/2020', '06/21/2021', '06/22/2017', '06/22/2018', '06/22/2019', '06/22/2020', '06/22/2021', '06/23/2010', '06/23/2016', '06/23/2019', '06/23/2020', '06/23/2021', '06/24/2013', '06/24/2019', '06/24/2020', '06/24/2021', '06/25/2012', '06/25/2018', '06/25/2019', '06/25/2020', '06/25/2021', '06/26/2001', '06/26/2012', '06/26/2013', '06/26/2018', '06/26/2019', '06/26/2020', '06/26/2021', '06/27/2001', '06/27/2018', '06/27/2019', '06/27/2020', '06/27/2021', '06/28/2010', '06/28/2019', '06/28/2020', '06/28/2021', '06/29/2000', '06/29/2013', '06/29/2018', '06/29/2019', '06/29/2020', '06/29/2021', '06/30/1998', '06/30/2009', '06/30/2012', '06/30/2015', '06/30/2016', '06/30/2019', '06/30/2020', '06/30/2021', '07/01/1977', '07/01/1986', '07/01/1995', '07/01/1997', '07/01/2000', '07/01/2002', '07/01/2003', '07/01/2007', '07/01/2008', '07/01/2009', '07/01/2011', '07/01/2012', '07/01/2013', '07/01/2014', '07/01/2015', '07/01/2016', '07/01/2017', '07/01/2018', '07/01/2019', '07/01/2020', '07/01/2021', '07/02/2009', '07/02/2016', '07/02/2018', '07/02/2019', '07/02/2020', '07/02/2021', '07/03/1021', '07/03/1999', '07/03/2019', '07/03/2020', '07/03/2021', '07/04/2003', '07/04/2016', '07/04/2017', '07/04/2018', '07/04/2019', '07/04/2020', '07/04/2021', '07/05/2011', '07/05/2014', '07/05/2016', '07/05/2017', '07/05/2018', '07/05/2019', '07/05/2020', '07/05/2021', '07/06/2014', '07/06/2016', '07/06/2018', '07/06/2020', '07/06/2021', '07/07/2000', '07/07/2012', '07/07/2014', '07/07/2019', '07/07/2020', '07/07/2021', '07/08/2006', '07/08/2019', '07/08/2020', '07/08/2021', '07/09/2001', '07/09/2011', '07/09/2017', '07/09/2019', '07/09/2020', '07/09/2021', '07/10/1993', '07/10/2011', '07/10/2019', '07/10/2020', '07/10/2021', '07/11/1921', '07/11/1989', '07/11/2012', '07/11/2013', '07/11/2017', '07/11/2019', '07/11/2020', '07/11/2021', '07/12/2008', '07/12/2010', '07/12/2012', '07/12/2013', '07/12/2016', '07/12/2020', '07/12/2021', '07/13/2014', '07/13/2015', '07/13/2019', '07/13/2020', '07/13/2021', '07/14/1969', '07/14/2018', '07/14/2019', '07/14/2020', '07/14/2021', '07/15/1993', '07/15/2003', '07/15/2015', '07/15/2017', '07/15/2018', '07/15/2019', '07/15/2020', '07/15/2021', '07/16/2020', '07/16/2021', '07/17/2018', '07/17/2019', '07/17/2020', '07/17/2021', '07/18/2020', '07/18/2021', '07/19/2019', '07/19/2020', '07/19/2021', '07/20/2011', '07/20/2015', '07/20/2017', '07/20/2019', '07/20/2020', '07/20/2021', '07/21/2014', '07/21/2015', '07/21/2018', '07/21/2019', '07/21/2020', '07/21/2021', '07/22/2009', '07/22/2019', '07/22/2020', '07/22/2021', '07/23/2017', '07/23/2020', '07/23/2021', '07/24/2018', '07/24/2020', '07/24/2021', '07/25/2018', '07/25/2020', '07/25/2021', '07/26/2018', '07/26/2019', '07/26/2020', '07/26/2021', '07/27/2018', '07/27/2019', '07/27/2020', '07/27/2021', '07/28/2017', '07/28/2019', '07/28/2020', '07/28/2021', '07/29/2000', '07/29/2012', '07/29/2019', '07/29/2020', '07/29/2021', '07/30/2011', '07/30/2017', '07/30/2018', '07/30/2019', '07/30/2020', '07/30/2021', '07/31/2001', '07/31/2012', '07/31/2013', '07/31/2014', '07/31/2018', '07/31/2019', '07/31/2020', '07/31/2021', '08/01/1993', '08/01/2000', '08/01/2003', '08/01/2005', '08/01/2010', '08/01/2012', '08/01/2013', '08/01/2014', '08/01/2015', '08/01/2016', '08/01/2017', '08/01/2018', '08/01/2019', '08/01/2020', '08/01/2021', '08/02/2019', '08/02/2020', '08/02/2021', '08/03/2005', '08/03/2014', '08/03/2016', '08/03/2019', '08/03/2020', '08/03/2021', '08/04/2007', '08/04/2019', '08/04/2020', '08/04/2021', '08/05/2013', '08/05/2019', '08/05/2020', '08/05/2021', '08/06/2010', '08/06/2015', '08/06/2018', '08/06/2019', '08/06/2020', '08/06/2021', '08/07/2011', '08/07/2018', '08/07/2020', '08/07/2021', '08/08/1981', '08/08/2020', '08/08/2021', '08/09/1990', '08/09/2020', '08/09/2021', '08/10/2004', '08/10/2006', '08/10/2011', '08/10/2017', '08/10/2018', '08/10/2019', '08/10/2020', '08/10/2021', '08/11/2011', '08/11/2013', '08/11/2019', '08/11/2020', '08/11/2021', '08/12/2016', '08/12/2018', '08/12/2019', '08/12/2020', '08/12/2021', '08/13/2017', '08/13/2019', '08/13/2020', '08/13/2021', '08/14/1997', '08/14/2012', '08/14/2019', '08/14/2020', '08/14/2021', '08/15/2006', '08/15/2015', '08/15/2016', '08/15/2017', '08/15/2018', '08/15/2020', '08/15/2021', '08/16/2015', '08/16/2020', '08/16/2021', '08/17/2014', '08/17/2020', '08/17/2021', '08/18/2014', '08/18/2017', '08/18/2018', '08/18/2019', '08/18/2020', '08/18/2021', '08/19/2012', '08/19/2019', '08/19/2020', '08/19/2021', '08/20/2012', '08/20/2014', '08/20/2019', '08/20/2020', '08/20/2021', '08/21/2016', '08/21/2019', '08/21/2020', '08/21/2021', '08/22/2007', '08/22/2013', '08/22/2017', '08/22/2018', '08/22/2019', '08/22/2020', '08/22/2021', '08/23/2012', '08/23/2014', '08/23/2019', '08/23/2020', '08/23/2021', '08/24/2017', '08/24/2018', '08/24/2019', '08/24/2020', '08/24/2021', '08/25/2012', '08/25/2014', '08/25/2016', '08/25/2018', '08/25/2020', '08/25/2021', '08/26/2000', '08/26/2016', '08/26/2017', '08/26/2018', '08/26/2020', '08/26/2021', '08/27/2000', '08/27/2019', '08/27/2020', '08/27/2021', '08/28/2001', '08/28/2018', '08/28/2019', '08/28/2020', '08/28/2021', '08/29/2007', '08/29/2011', '08/29/2016', '08/29/2019', '08/29/2020', '08/29/2021', '08/30/2015', '08/30/2018', '08/30/2019', '08/30/2020', '08/30/2021', '08/31/2011', '08/31/2015', '08/31/2018', '08/31/2019', '08/31/2020', '08/31/2021', '09/01/1987', '09/01/1991', '09/01/1998', '09/01/1999', '09/01/2005', '09/01/2007', '09/01/2009', '09/01/2010', '09/01/2011', '09/01/2012', '09/01/2013', '09/01/2014', '09/01/2015', '09/01/2016', '09/01/2017', '09/01/2018', '09/01/2019', '09/01/2020', '09/01/2021', '09/02/1988', '09/02/2002', '09/02/2012', '09/02/2014', '09/02/2015', '09/02/2017', '09/02/2018', '09/02/2020', '09/02/2021', '09/03/2009', '09/03/2020', '09/03/2021', '09/04/1999', '09/04/2011', '09/04/2018', '09/04/2019', '09/04/2020', '09/04/2021', '09/05/2019', '09/05/2020', '09/05/2021', '09/06/2006', '09/06/2009', '09/06/2018', '09/06/2019', '09/06/2020', '09/06/2021', '09/07/2011', '09/07/2017', '09/07/2020', '09/07/2021', '09/08/2017', '09/08/2018', '09/08/2019', '09/08/2020', '09/08/2021', '09/09/1971', '09/09/2009', '09/09/2014', '09/09/2015', '09/09/2016', '09/09/2019', '09/09/2020', '09/09/2021', '09/10/2012', '09/10/2013', '09/10/2015', '09/10/2016', '09/10/2018', '09/10/2019', '09/10/2020', '09/10/2021', '09/11/2013', '09/11/2020', '09/11/2021', '09/12/1019', '09/12/2000', '09/12/2013', '09/12/2019', '09/12/2020', '09/12/2021', '09/13/2008', '09/13/2013', '09/13/2018', '09/13/2019', '09/13/2020', '09/13/2021', '09/14/1984', '09/14/2011', '09/14/2015', '09/14/2018', '09/14/2019', '09/14/2020', '09/14/2021', '09/15/2002', '09/15/2010', '09/15/2016', '09/15/2018', '09/15/2019', '09/15/2020', '09/15/2021', '09/16/2016', '09/16/2018', '09/16/2019', '09/16/2020', '09/16/2021', '09/17/2001', '09/17/2011', '09/17/2012', '09/17/2013', '09/17/2017', '09/17/2018', '09/17/2019', '09/17/2020', '09/17/2021', '09/18/2019', '09/18/2020', '09/18/2021', '09/19/2019', '09/19/2020', '09/19/2021', '09/20/2003', '09/20/2010', '09/20/2013', '09/20/2016', '09/20/2018', '09/20/2019', '09/20/2020', '09/20/2021', '09/21/1921', '09/21/2009', '09/21/2015', '09/21/2018', '09/21/2019', '09/21/2020', '09/21/2021', '09/22/2017', '09/22/2019', '09/22/2020', '09/22/2021', '09/23/2012', '09/23/2017', '09/23/2019', '09/23/2020', '09/23/2021', '09/24/2018', '09/24/2019', '09/24/2020', '09/24/2021', '09/25/1021', '09/25/2015', '09/25/2019', '09/25/2020', '09/25/2021', '09/26/2012', '09/26/2016', '09/26/2017', '09/26/2018', '09/26/2019', '09/26/2020', '09/26/2021', '09/27/2001', '09/27/2017', '09/27/2019', '09/27/2020', '09/27/2021', '09/28/2018', '09/28/2020', '09/28/2021', '09/29/2001', '09/29/2011', '09/29/2016', '09/29/2019', '09/29/2020', '09/29/2021', '09/30/2016', '09/30/2018', '09/30/2019', '09/30/2020', '09/30/2021', '10/01/2008', '10/01/2009', '10/01/2010', '10/01/2012', '10/01/2013', '10/01/2014', '10/01/2015', '10/01/2016', '10/01/2017', '10/01/2018', '10/01/2019', '10/01/2020', '10/01/2021', '10/02/2012', '10/02/2020', '10/02/2021', '10/03/2001', '10/03/2002', '10/03/2016', '10/03/2019', '10/03/2020', '10/03/2021', '10/04/1981', '10/04/2014', '10/04/2015', '10/04/2018', '10/04/2019', '10/04/2020', '10/04/2021', '10/05/2016', '10/05/2019', '10/05/2020', '10/05/2021', '10/06/1991', '10/06/2009', '10/06/2015', '10/06/2016', '10/06/2019', '10/06/2020', '10/06/2021', '10/07/2001', '10/07/2007', '10/07/2013', '10/07/2015', '10/07/2016', '10/07/2017', '10/07/2018', '10/07/2019', '10/07/2020', '10/07/2021', '10/08/2008', '10/08/2013', '10/08/2014', '10/08/2017', '10/08/2019', '10/08/2020', '10/08/2021', '10/09/2008', '10/09/2010', '10/09/2011', '10/09/2019', '10/09/2020', '10/09/2021', '10/10/1958', '10/10/2007', '10/10/2010', '10/10/2012', '10/10/2014', '10/10/2018', '10/10/2019', '10/10/2020', '10/10/2021', '10/11/1971', '10/11/2012', '10/11/2016', '10/11/2019', '10/11/2020', '10/11/2021', '10/12/2018', '10/12/2019', '10/12/2020', '10/12/2021', '10/13/1021', '10/13/2013', '10/13/2017', '10/13/2018', '10/13/2019', '10/13/2020', '10/13/2021', '10/14/2005', '10/14/2018', '10/14/2019', '10/14/2020', '10/14/2021', '10/15/1921', '10/15/2004', '10/15/2010', '10/15/2014', '10/15/2018', '10/15/2019', '10/15/2020', '10/15/2021', '10/16/2016', '10/16/2017', '10/16/2019', '10/16/2020', '10/16/2021', '10/17/2019', '10/17/2020', '10/17/2021', '10/18/2018', '10/18/2019', '10/18/2020', '10/18/2021', '10/19/1998', '10/19/2019', '10/19/2020', '10/19/2021', '10/20/2000', '10/20/2018', '10/20/2019', '10/20/2020', '10/20/2021', '10/21/2001', '10/21/2019', '10/21/2020', '10/21/2021', '10/22/2001', '10/22/2018', '10/22/2020', '10/22/2021', '10/23/2018', '10/23/2019', '10/23/2020', '10/23/2021', '10/24/2019', '10/24/2020', '10/24/2021', '10/25/2012', '10/25/2013', '10/25/2016', '10/25/2017', '10/25/2019', '10/25/2020', '10/25/2021', '10/26/2012', '10/26/2013', '10/26/2017', '10/26/2018', '10/26/2020', '10/26/2021', '10/27/1998', '10/27/2010', '10/27/2017', '10/27/2018', '10/27/2019', '10/27/2020', '10/27/2021', '10/28/2018', '10/28/2019', '10/28/2020', '10/28/2021', '10/29/2016', '10/29/2017', '10/29/2018', '10/29/2019', '10/29/2020', '10/29/2021', '10/30/2015', '10/30/2017', '10/30/2018', '10/30/2019', '10/30/2020', '10/30/2021', '10/31/2004', '10/31/2016', '10/31/2018', '10/31/2019', '10/31/2020', '10/31/2021', '11/01/2004', '11/01/2006', '11/01/2008', '11/01/2010', '11/01/2011', '11/01/2012', '11/01/2014', '11/01/2015', '11/01/2016', '11/01/2017', '11/01/2018', '11/01/2019', '11/01/2020', '11/01/2021', '11/02/2009', '11/02/2013', '11/02/2015', '11/02/2016', '11/02/2019', '11/02/2020', '11/02/2021', '11/03/2017', '11/03/2018', '11/03/2019', '11/03/2020', '11/03/2021', '11/04/1021', '11/04/2010', '11/04/2011', '11/04/2017', '11/04/2019', '11/04/2020', '11/04/2021', '11/05/2015', '11/05/2019', '11/05/2020', '11/05/2021', '11/06/2012', '11/06/2016', '11/06/2019', '11/06/2020', '11/06/2021', '11/07/1979', '11/07/2012', '11/07/2014', '11/07/2018', '11/07/2019', '11/07/2020', '11/07/2021', '11/08/2019', '11/08/2020', '11/08/2021', '11/09/2015', '11/09/2017', '11/09/2019', '11/09/2020', '11/09/2021', '11/10/2013', '11/10/2017', '11/10/2019', '11/10/2020', '11/10/2021', '11/11/2008', '11/11/2011', '11/11/2019', '11/11/2020', '11/11/2021', '11/12/2019', '11/12/2020', '11/12/2021', '11/13/2012', '11/13/2018', '11/13/2019', '11/13/2020', '11/13/2021', '11/14/2008', '11/14/2016', '11/14/2018', '11/14/2020', '11/14/2021', '11/15/2017', '11/15/2019', '11/15/2020', '11/15/2021', '11/16/2017', '11/16/2019', '11/16/2020', '11/16/2021', '11/17/2017', '11/17/2019', '11/17/2020', '11/17/2021', '11/18/2012', '11/18/2013', '11/18/2017', '11/18/2018', '11/18/2019', '11/18/2020', '11/18/2021', '11/19/2016', '11/19/2018', '11/19/2019', '11/19/2020', '11/19/2021', '11/20/2013', '11/20/2014', '11/20/2019', '11/20/2020', '11/20/2021', '11/21/1982', '11/21/2008', '11/21/2017', '11/21/2018', '11/21/2019', '11/21/2020', '11/21/2021', '11/22/2018', '11/22/2019', '11/22/2020', '11/22/2021', '11/23/2016', '11/23/2019', '11/23/2020', '11/23/2021', '11/24/2015', '11/24/2019', '11/24/2020', '11/24/2021', '11/25/2016', '11/25/2019', '11/25/2020', '11/25/2021', '11/26/2007', '11/26/2019', '11/26/2020', '11/26/2021', '11/27/1995', '11/27/2000', '11/27/2014', '11/27/2015', '11/27/2017', '11/27/2018', '11/27/2019', '11/27/2020', '11/27/2021', '11/28/2005', '11/28/2017', '11/28/2019', '11/28/2020', '11/28/2021', '11/29/2004', '11/29/2008', '11/29/2014', '11/29/2016', '11/29/2017', '11/29/2018', '11/29/2019', '11/29/2020', '11/29/2021', '11/30/2011', '11/30/2016', '11/30/2018', '11/30/2019', '11/30/2020', '11/30/2021', '12/01/1997', '12/01/2006', '12/01/2009', '12/01/2010', '12/01/2012', '12/01/2013', '12/01/2014', '12/01/2015', '12/01/2016', '12/01/2017', '12/01/2018', '12/01/2019', '12/01/2020', '12/01/2021', '12/02/2016', '12/02/2017', '12/02/2018', '12/02/2020', '12/02/2021', '12/03/2002', '12/03/2014', '12/03/2016', '12/03/2018', '12/03/2019', '12/03/2020', '12/03/2021', '12/04/1996', '12/04/2016', '12/04/2019', '12/04/2020', '12/04/2021', '12/05/2015', '12/05/2018', '12/05/2019', '12/05/2020', '12/05/2021', '12/06/2010', '12/06/2017', '12/06/2019', '12/06/2020', '12/06/2021', '12/07/2020', '12/07/2021', '12/08/1021', '12/08/2018', '12/08/2019', '12/08/2020', '12/08/2021', '12/09/1971', '12/09/2016', '12/09/2019', '12/09/2020', '12/09/2021', '12/10/1971', '12/10/2013', '12/10/2018', '12/10/2019', '12/10/2020', '12/10/2021', '12/11/2012', '12/11/2016', '12/11/2019', '12/11/2020', '12/11/2021', '12/12/2015', '12/12/2019', '12/12/2020', '12/12/2021', '12/13/2001', '12/13/2012', '12/13/2016', '12/13/2019', '12/13/2020', '12/13/2021', '12/14/2009', '12/14/2010', '12/14/2012', '12/14/2013', '12/14/2014', '12/14/2019', '12/14/2020', '12/14/2021', '12/15/2003', '12/15/2015', '12/15/2016', '12/15/2017', '12/15/2019', '12/15/2020', '12/15/2021', '12/16/2019', '12/16/2020', '12/16/2021', '12/17/2017', '12/17/2018', '12/17/2019', '12/17/2020', '12/17/2021', '12/18/2016', '12/18/2018', '12/18/2019', '12/18/2020', '12/18/2021', '12/19/2015', '12/19/2019', '12/19/2020', '12/19/2021', '12/20/2005', '12/20/2018', '12/20/2019', '12/20/2020', '12/20/2021', '12/21/1921', '12/21/2017', '12/21/2019', '12/21/2020', '12/21/2021', '12/22/2001', '12/22/2010', '12/22/2017', '12/22/2020', '12/22/2021', '12/23/2019', '12/23/2020', '12/23/2021', '12/24/1971', '12/24/2016', '12/24/2018', '12/24/2020', '12/24/2021', '12/25/2016', '12/25/2019', '12/25/2020', '12/25/2021', '12/26/2019', '12/26/2020', '12/26/2021', '12/27/1960', '12/27/2015', '12/27/2016', '12/27/2017', '12/27/2018', '12/27/2019', '12/27/2020', '12/27/2021', '12/28/2019', '12/28/2020', '12/28/2021', '12/29/2015', '12/29/2018', '12/29/2019', '12/29/2020', '12/29/2021', '12/30/2019', '12/30/2020', '12/30/2021', '12/31/2002', '12/31/2003', '12/31/2015', '12/31/2017', '12/31/2018', '12/31/2019', '12/31/2020', '12/31/2021']\n",
            "                   :     0 : Rows Missing Data\n",
            "\n",
            "      CMPLNT_FR_TM :  1440 : ['00:00:00', '00:01:00', '00:02:00', '00:03:00', '00:04:00', '00:05:00', '00:06:00', '00:07:00', '00:08:00', '00:09:00', '00:10:00', '00:11:00', '00:12:00', '00:13:00', '00:14:00', '00:15:00', '00:16:00', '00:17:00', '00:18:00', '00:19:00', '00:20:00', '00:21:00', '00:22:00', '00:23:00', '00:24:00', '00:25:00', '00:26:00', '00:27:00', '00:28:00', '00:29:00', '00:30:00', '00:31:00', '00:32:00', '00:33:00', '00:34:00', '00:35:00', '00:36:00', '00:37:00', '00:38:00', '00:39:00', '00:40:00', '00:41:00', '00:42:00', '00:43:00', '00:44:00', '00:45:00', '00:46:00', '00:47:00', '00:48:00', '00:49:00', '00:50:00', '00:51:00', '00:52:00', '00:53:00', '00:54:00', '00:55:00', '00:56:00', '00:57:00', '00:58:00', '00:59:00', '01:00:00', '01:01:00', '01:02:00', '01:03:00', '01:04:00', '01:05:00', '01:06:00', '01:07:00', '01:08:00', '01:09:00', '01:10:00', '01:11:00', '01:12:00', '01:13:00', '01:14:00', '01:15:00', '01:16:00', '01:17:00', '01:18:00', '01:19:00', '01:20:00', '01:21:00', '01:22:00', '01:23:00', '01:24:00', '01:25:00', '01:26:00', '01:27:00', '01:28:00', '01:29:00', '01:30:00', '01:31:00', '01:32:00', '01:33:00', '01:34:00', '01:35:00', '01:36:00', '01:37:00', '01:38:00', '01:39:00', '01:40:00', '01:41:00', '01:42:00', '01:43:00', '01:44:00', '01:45:00', '01:46:00', '01:47:00', '01:48:00', '01:49:00', '01:50:00', '01:51:00', '01:52:00', '01:53:00', '01:54:00', '01:55:00', '01:56:00', '01:57:00', '01:58:00', '01:59:00', '02:00:00', '02:01:00', '02:02:00', '02:03:00', '02:04:00', '02:05:00', '02:06:00', '02:07:00', '02:08:00', '02:09:00', '02:10:00', '02:11:00', '02:12:00', '02:13:00', '02:14:00', '02:15:00', '02:16:00', '02:17:00', '02:18:00', '02:19:00', '02:20:00', '02:21:00', '02:22:00', '02:23:00', '02:24:00', '02:25:00', '02:26:00', '02:27:00', '02:28:00', '02:29:00', '02:30:00', '02:31:00', '02:32:00', '02:33:00', '02:34:00', '02:35:00', '02:36:00', '02:37:00', '02:38:00', '02:39:00', '02:40:00', '02:41:00', '02:42:00', '02:43:00', '02:44:00', '02:45:00', '02:46:00', '02:47:00', '02:48:00', '02:49:00', '02:50:00', '02:51:00', '02:52:00', '02:53:00', '02:54:00', '02:55:00', '02:56:00', '02:57:00', '02:58:00', '02:59:00', '03:00:00', '03:01:00', '03:02:00', '03:03:00', '03:04:00', '03:05:00', '03:06:00', '03:07:00', '03:08:00', '03:09:00', '03:10:00', '03:11:00', '03:12:00', '03:13:00', '03:14:00', '03:15:00', '03:16:00', '03:17:00', '03:18:00', '03:19:00', '03:20:00', '03:21:00', '03:22:00', '03:23:00', '03:24:00', '03:25:00', '03:26:00', '03:27:00', '03:28:00', '03:29:00', '03:30:00', '03:31:00', '03:32:00', '03:33:00', '03:34:00', '03:35:00', '03:36:00', '03:37:00', '03:38:00', '03:39:00', '03:40:00', '03:41:00', '03:42:00', '03:43:00', '03:44:00', '03:45:00', '03:46:00', '03:47:00', '03:48:00', '03:49:00', '03:50:00', '03:51:00', '03:52:00', '03:53:00', '03:54:00', '03:55:00', '03:56:00', '03:57:00', '03:58:00', '03:59:00', '04:00:00', '04:01:00', '04:02:00', '04:03:00', '04:04:00', '04:05:00', '04:06:00', '04:07:00', '04:08:00', '04:09:00', '04:10:00', '04:11:00', '04:12:00', '04:13:00', '04:14:00', '04:15:00', '04:16:00', '04:17:00', '04:18:00', '04:19:00', '04:20:00', '04:21:00', '04:22:00', '04:23:00', '04:24:00', '04:25:00', '04:26:00', '04:27:00', '04:28:00', '04:29:00', '04:30:00', '04:31:00', '04:32:00', '04:33:00', '04:34:00', '04:35:00', '04:36:00', '04:37:00', '04:38:00', '04:39:00', '04:40:00', '04:41:00', '04:42:00', '04:43:00', '04:44:00', '04:45:00', '04:46:00', '04:47:00', '04:48:00', '04:49:00', '04:50:00', '04:51:00', '04:52:00', '04:53:00', '04:54:00', '04:55:00', '04:56:00', '04:57:00', '04:58:00', '04:59:00', '05:00:00', '05:01:00', '05:02:00', '05:03:00', '05:04:00', '05:05:00', '05:06:00', '05:07:00', '05:08:00', '05:09:00', '05:10:00', '05:11:00', '05:12:00', '05:13:00', '05:14:00', '05:15:00', '05:16:00', '05:17:00', '05:18:00', '05:19:00', '05:20:00', '05:21:00', '05:22:00', '05:23:00', '05:24:00', '05:25:00', '05:26:00', '05:27:00', '05:28:00', '05:29:00', '05:30:00', '05:31:00', '05:32:00', '05:33:00', '05:34:00', '05:35:00', '05:36:00', '05:37:00', '05:38:00', '05:39:00', '05:40:00', '05:41:00', '05:42:00', '05:43:00', '05:44:00', '05:45:00', '05:46:00', '05:47:00', '05:48:00', '05:49:00', '05:50:00', '05:51:00', '05:52:00', '05:53:00', '05:54:00', '05:55:00', '05:56:00', '05:57:00', '05:58:00', '05:59:00', '06:00:00', '06:01:00', '06:02:00', '06:03:00', '06:04:00', '06:05:00', '06:06:00', '06:07:00', '06:08:00', '06:09:00', '06:10:00', '06:11:00', '06:12:00', '06:13:00', '06:14:00', '06:15:00', '06:16:00', '06:17:00', '06:18:00', '06:19:00', '06:20:00', '06:21:00', '06:22:00', '06:23:00', '06:24:00', '06:25:00', '06:26:00', '06:27:00', '06:28:00', '06:29:00', '06:30:00', '06:31:00', '06:32:00', '06:33:00', '06:34:00', '06:35:00', '06:36:00', '06:37:00', '06:38:00', '06:39:00', '06:40:00', '06:41:00', '06:42:00', '06:43:00', '06:44:00', '06:45:00', '06:46:00', '06:47:00', '06:48:00', '06:49:00', '06:50:00', '06:51:00', '06:52:00', '06:53:00', '06:54:00', '06:55:00', '06:56:00', '06:57:00', '06:58:00', '06:59:00', '07:00:00', '07:01:00', '07:02:00', '07:03:00', '07:04:00', '07:05:00', '07:06:00', '07:07:00', '07:08:00', '07:09:00', '07:10:00', '07:11:00', '07:12:00', '07:13:00', '07:14:00', '07:15:00', '07:16:00', '07:17:00', '07:18:00', '07:19:00', '07:20:00', '07:21:00', '07:22:00', '07:23:00', '07:24:00', '07:25:00', '07:26:00', '07:27:00', '07:28:00', '07:29:00', '07:30:00', '07:31:00', '07:32:00', '07:33:00', '07:34:00', '07:35:00', '07:36:00', '07:37:00', '07:38:00', '07:39:00', '07:40:00', '07:41:00', '07:42:00', '07:43:00', '07:44:00', '07:45:00', '07:46:00', '07:47:00', '07:48:00', '07:49:00', '07:50:00', '07:51:00', '07:52:00', '07:53:00', '07:54:00', '07:55:00', '07:56:00', '07:57:00', '07:58:00', '07:59:00', '08:00:00', '08:01:00', '08:02:00', '08:03:00', '08:04:00', '08:05:00', '08:06:00', '08:07:00', '08:08:00', '08:09:00', '08:10:00', '08:11:00', '08:12:00', '08:13:00', '08:14:00', '08:15:00', '08:16:00', '08:17:00', '08:18:00', '08:19:00', '08:20:00', '08:21:00', '08:22:00', '08:23:00', '08:24:00', '08:25:00', '08:26:00', '08:27:00', '08:28:00', '08:29:00', '08:30:00', '08:31:00', '08:32:00', '08:33:00', '08:34:00', '08:35:00', '08:36:00', '08:37:00', '08:38:00', '08:39:00', '08:40:00', '08:41:00', '08:42:00', '08:43:00', '08:44:00', '08:45:00', '08:46:00', '08:47:00', '08:48:00', '08:49:00', '08:50:00', '08:51:00', '08:52:00', '08:53:00', '08:54:00', '08:55:00', '08:56:00', '08:57:00', '08:58:00', '08:59:00', '09:00:00', '09:01:00', '09:02:00', '09:03:00', '09:04:00', '09:05:00', '09:06:00', '09:07:00', '09:08:00', '09:09:00', '09:10:00', '09:11:00', '09:12:00', '09:13:00', '09:14:00', '09:15:00', '09:16:00', '09:17:00', '09:18:00', '09:19:00', '09:20:00', '09:21:00', '09:22:00', '09:23:00', '09:24:00', '09:25:00', '09:26:00', '09:27:00', '09:28:00', '09:29:00', '09:30:00', '09:31:00', '09:32:00', '09:33:00', '09:34:00', '09:35:00', '09:36:00', '09:37:00', '09:38:00', '09:39:00', '09:40:00', '09:41:00', '09:42:00', '09:43:00', '09:44:00', '09:45:00', '09:46:00', '09:47:00', '09:48:00', '09:49:00', '09:50:00', '09:51:00', '09:52:00', '09:53:00', '09:54:00', '09:55:00', '09:56:00', '09:57:00', '09:58:00', '09:59:00', '10:00:00', '10:01:00', '10:02:00', '10:03:00', '10:04:00', '10:05:00', '10:06:00', '10:07:00', '10:08:00', '10:09:00', '10:10:00', '10:11:00', '10:12:00', '10:13:00', '10:14:00', '10:15:00', '10:16:00', '10:17:00', '10:18:00', '10:19:00', '10:20:00', '10:21:00', '10:22:00', '10:23:00', '10:24:00', '10:25:00', '10:26:00', '10:27:00', '10:28:00', '10:29:00', '10:30:00', '10:31:00', '10:32:00', '10:33:00', '10:34:00', '10:35:00', '10:36:00', '10:37:00', '10:38:00', '10:39:00', '10:40:00', '10:41:00', '10:42:00', '10:43:00', '10:44:00', '10:45:00', '10:46:00', '10:47:00', '10:48:00', '10:49:00', '10:50:00', '10:51:00', '10:52:00', '10:53:00', '10:54:00', '10:55:00', '10:56:00', '10:57:00', '10:58:00', '10:59:00', '11:00:00', '11:01:00', '11:02:00', '11:03:00', '11:04:00', '11:05:00', '11:06:00', '11:07:00', '11:08:00', '11:09:00', '11:10:00', '11:11:00', '11:12:00', '11:13:00', '11:14:00', '11:15:00', '11:16:00', '11:17:00', '11:18:00', '11:19:00', '11:20:00', '11:21:00', '11:22:00', '11:23:00', '11:24:00', '11:25:00', '11:26:00', '11:27:00', '11:28:00', '11:29:00', '11:30:00', '11:31:00', '11:32:00', '11:33:00', '11:34:00', '11:35:00', '11:36:00', '11:37:00', '11:38:00', '11:39:00', '11:40:00', '11:41:00', '11:42:00', '11:43:00', '11:44:00', '11:45:00', '11:46:00', '11:47:00', '11:48:00', '11:49:00', '11:50:00', '11:51:00', '11:52:00', '11:53:00', '11:54:00', '11:55:00', '11:56:00', '11:57:00', '11:58:00', '11:59:00', '12:00:00', '12:01:00', '12:02:00', '12:03:00', '12:04:00', '12:05:00', '12:06:00', '12:07:00', '12:08:00', '12:09:00', '12:10:00', '12:11:00', '12:12:00', '12:13:00', '12:14:00', '12:15:00', '12:16:00', '12:17:00', '12:18:00', '12:19:00', '12:20:00', '12:21:00', '12:22:00', '12:23:00', '12:24:00', '12:25:00', '12:26:00', '12:27:00', '12:28:00', '12:29:00', '12:30:00', '12:31:00', '12:32:00', '12:33:00', '12:34:00', '12:35:00', '12:36:00', '12:37:00', '12:38:00', '12:39:00', '12:40:00', '12:41:00', '12:42:00', '12:43:00', '12:44:00', '12:45:00', '12:46:00', '12:47:00', '12:48:00', '12:49:00', '12:50:00', '12:51:00', '12:52:00', '12:53:00', '12:54:00', '12:55:00', '12:56:00', '12:57:00', '12:58:00', '12:59:00', '13:00:00', '13:01:00', '13:02:00', '13:03:00', '13:04:00', '13:05:00', '13:06:00', '13:07:00', '13:08:00', '13:09:00', '13:10:00', '13:11:00', '13:12:00', '13:13:00', '13:14:00', '13:15:00', '13:16:00', '13:17:00', '13:18:00', '13:19:00', '13:20:00', '13:21:00', '13:22:00', '13:23:00', '13:24:00', '13:25:00', '13:26:00', '13:27:00', '13:28:00', '13:29:00', '13:30:00', '13:31:00', '13:32:00', '13:33:00', '13:34:00', '13:35:00', '13:36:00', '13:37:00', '13:38:00', '13:39:00', '13:40:00', '13:41:00', '13:42:00', '13:43:00', '13:44:00', '13:45:00', '13:46:00', '13:47:00', '13:48:00', '13:49:00', '13:50:00', '13:51:00', '13:52:00', '13:53:00', '13:54:00', '13:55:00', '13:56:00', '13:57:00', '13:58:00', '13:59:00', '14:00:00', '14:01:00', '14:02:00', '14:03:00', '14:04:00', '14:05:00', '14:06:00', '14:07:00', '14:08:00', '14:09:00', '14:10:00', '14:11:00', '14:12:00', '14:13:00', '14:14:00', '14:15:00', '14:16:00', '14:17:00', '14:18:00', '14:19:00', '14:20:00', '14:21:00', '14:22:00', '14:23:00', '14:24:00', '14:25:00', '14:26:00', '14:27:00', '14:28:00', '14:29:00', '14:30:00', '14:31:00', '14:32:00', '14:33:00', '14:34:00', '14:35:00', '14:36:00', '14:37:00', '14:38:00', '14:39:00', '14:40:00', '14:41:00', '14:42:00', '14:43:00', '14:44:00', '14:45:00', '14:46:00', '14:47:00', '14:48:00', '14:49:00', '14:50:00', '14:51:00', '14:52:00', '14:53:00', '14:54:00', '14:55:00', '14:56:00', '14:57:00', '14:58:00', '14:59:00', '15:00:00', '15:01:00', '15:02:00', '15:03:00', '15:04:00', '15:05:00', '15:06:00', '15:07:00', '15:08:00', '15:09:00', '15:10:00', '15:11:00', '15:12:00', '15:13:00', '15:14:00', '15:15:00', '15:16:00', '15:17:00', '15:18:00', '15:19:00', '15:20:00', '15:21:00', '15:22:00', '15:23:00', '15:24:00', '15:25:00', '15:26:00', '15:27:00', '15:28:00', '15:29:00', '15:30:00', '15:31:00', '15:32:00', '15:33:00', '15:34:00', '15:35:00', '15:36:00', '15:37:00', '15:38:00', '15:39:00', '15:40:00', '15:41:00', '15:42:00', '15:43:00', '15:44:00', '15:45:00', '15:46:00', '15:47:00', '15:48:00', '15:49:00', '15:50:00', '15:51:00', '15:52:00', '15:53:00', '15:54:00', '15:55:00', '15:56:00', '15:57:00', '15:58:00', '15:59:00', '16:00:00', '16:01:00', '16:02:00', '16:03:00', '16:04:00', '16:05:00', '16:06:00', '16:07:00', '16:08:00', '16:09:00', '16:10:00', '16:11:00', '16:12:00', '16:13:00', '16:14:00', '16:15:00', '16:16:00', '16:17:00', '16:18:00', '16:19:00', '16:20:00', '16:21:00', '16:22:00', '16:23:00', '16:24:00', '16:25:00', '16:26:00', '16:27:00', '16:28:00', '16:29:00', '16:30:00', '16:31:00', '16:32:00', '16:33:00', '16:34:00', '16:35:00', '16:36:00', '16:37:00', '16:38:00', '16:39:00', '16:40:00', '16:41:00', '16:42:00', '16:43:00', '16:44:00', '16:45:00', '16:46:00', '16:47:00', '16:48:00', '16:49:00', '16:50:00', '16:51:00', '16:52:00', '16:53:00', '16:54:00', '16:55:00', '16:56:00', '16:57:00', '16:58:00', '16:59:00', '17:00:00', '17:01:00', '17:02:00', '17:03:00', '17:04:00', '17:05:00', '17:06:00', '17:07:00', '17:08:00', '17:09:00', '17:10:00', '17:11:00', '17:12:00', '17:13:00', '17:14:00', '17:15:00', '17:16:00', '17:17:00', '17:18:00', '17:19:00', '17:20:00', '17:21:00', '17:22:00', '17:23:00', '17:24:00', '17:25:00', '17:26:00', '17:27:00', '17:28:00', '17:29:00', '17:30:00', '17:31:00', '17:32:00', '17:33:00', '17:34:00', '17:35:00', '17:36:00', '17:37:00', '17:38:00', '17:39:00', '17:40:00', '17:41:00', '17:42:00', '17:43:00', '17:44:00', '17:45:00', '17:46:00', '17:47:00', '17:48:00', '17:49:00', '17:50:00', '17:51:00', '17:52:00', '17:53:00', '17:54:00', '17:55:00', '17:56:00', '17:57:00', '17:58:00', '17:59:00', '18:00:00', '18:01:00', '18:02:00', '18:03:00', '18:04:00', '18:05:00', '18:06:00', '18:07:00', '18:08:00', '18:09:00', '18:10:00', '18:11:00', '18:12:00', '18:13:00', '18:14:00', '18:15:00', '18:16:00', '18:17:00', '18:18:00', '18:19:00', '18:20:00', '18:21:00', '18:22:00', '18:23:00', '18:24:00', '18:25:00', '18:26:00', '18:27:00', '18:28:00', '18:29:00', '18:30:00', '18:31:00', '18:32:00', '18:33:00', '18:34:00', '18:35:00', '18:36:00', '18:37:00', '18:38:00', '18:39:00', '18:40:00', '18:41:00', '18:42:00', '18:43:00', '18:44:00', '18:45:00', '18:46:00', '18:47:00', '18:48:00', '18:49:00', '18:50:00', '18:51:00', '18:52:00', '18:53:00', '18:54:00', '18:55:00', '18:56:00', '18:57:00', '18:58:00', '18:59:00', '19:00:00', '19:01:00', '19:02:00', '19:03:00', '19:04:00', '19:05:00', '19:06:00', '19:07:00', '19:08:00', '19:09:00', '19:10:00', '19:11:00', '19:12:00', '19:13:00', '19:14:00', '19:15:00', '19:16:00', '19:17:00', '19:18:00', '19:19:00', '19:20:00', '19:21:00', '19:22:00', '19:23:00', '19:24:00', '19:25:00', '19:26:00', '19:27:00', '19:28:00', '19:29:00', '19:30:00', '19:31:00', '19:32:00', '19:33:00', '19:34:00', '19:35:00', '19:36:00', '19:37:00', '19:38:00', '19:39:00', '19:40:00', '19:41:00', '19:42:00', '19:43:00', '19:44:00', '19:45:00', '19:46:00', '19:47:00', '19:48:00', '19:49:00', '19:50:00', '19:51:00', '19:52:00', '19:53:00', '19:54:00', '19:55:00', '19:56:00', '19:57:00', '19:58:00', '19:59:00', '20:00:00', '20:01:00', '20:02:00', '20:03:00', '20:04:00', '20:05:00', '20:06:00', '20:07:00', '20:08:00', '20:09:00', '20:10:00', '20:11:00', '20:12:00', '20:13:00', '20:14:00', '20:15:00', '20:16:00', '20:17:00', '20:18:00', '20:19:00', '20:20:00', '20:21:00', '20:22:00', '20:23:00', '20:24:00', '20:25:00', '20:26:00', '20:27:00', '20:28:00', '20:29:00', '20:30:00', '20:31:00', '20:32:00', '20:33:00', '20:34:00', '20:35:00', '20:36:00', '20:37:00', '20:38:00', '20:39:00', '20:40:00', '20:41:00', '20:42:00', '20:43:00', '20:44:00', '20:45:00', '20:46:00', '20:47:00', '20:48:00', '20:49:00', '20:50:00', '20:51:00', '20:52:00', '20:53:00', '20:54:00', '20:55:00', '20:56:00', '20:57:00', '20:58:00', '20:59:00', '21:00:00', '21:01:00', '21:02:00', '21:03:00', '21:04:00', '21:05:00', '21:06:00', '21:07:00', '21:08:00', '21:09:00', '21:10:00', '21:11:00', '21:12:00', '21:13:00', '21:14:00', '21:15:00', '21:16:00', '21:17:00', '21:18:00', '21:19:00', '21:20:00', '21:21:00', '21:22:00', '21:23:00', '21:24:00', '21:25:00', '21:26:00', '21:27:00', '21:28:00', '21:29:00', '21:30:00', '21:31:00', '21:32:00', '21:33:00', '21:34:00', '21:35:00', '21:36:00', '21:37:00', '21:38:00', '21:39:00', '21:40:00', '21:41:00', '21:42:00', '21:43:00', '21:44:00', '21:45:00', '21:46:00', '21:47:00', '21:48:00', '21:49:00', '21:50:00', '21:51:00', '21:52:00', '21:53:00', '21:54:00', '21:55:00', '21:56:00', '21:57:00', '21:58:00', '21:59:00', '22:00:00', '22:01:00', '22:02:00', '22:03:00', '22:04:00', '22:05:00', '22:06:00', '22:07:00', '22:08:00', '22:09:00', '22:10:00', '22:11:00', '22:12:00', '22:13:00', '22:14:00', '22:15:00', '22:16:00', '22:17:00', '22:18:00', '22:19:00', '22:20:00', '22:21:00', '22:22:00', '22:23:00', '22:24:00', '22:25:00', '22:26:00', '22:27:00', '22:28:00', '22:29:00', '22:30:00', '22:31:00', '22:32:00', '22:33:00', '22:34:00', '22:35:00', '22:36:00', '22:37:00', '22:38:00', '22:39:00', '22:40:00', '22:41:00', '22:42:00', '22:43:00', '22:44:00', '22:45:00', '22:46:00', '22:47:00', '22:48:00', '22:49:00', '22:50:00', '22:51:00', '22:52:00', '22:53:00', '22:54:00', '22:55:00', '22:56:00', '22:57:00', '22:58:00', '22:59:00', '23:00:00', '23:01:00', '23:02:00', '23:03:00', '23:04:00', '23:05:00', '23:06:00', '23:07:00', '23:08:00', '23:09:00', '23:10:00', '23:11:00', '23:12:00', '23:13:00', '23:14:00', '23:15:00', '23:16:00', '23:17:00', '23:18:00', '23:19:00', '23:20:00', '23:21:00', '23:22:00', '23:23:00', '23:24:00', '23:25:00', '23:26:00', '23:27:00', '23:28:00', '23:29:00', '23:30:00', '23:31:00', '23:32:00', '23:33:00', '23:34:00', '23:35:00', '23:36:00', '23:37:00', '23:38:00', '23:39:00', '23:40:00', '23:41:00', '23:42:00', '23:43:00', '23:44:00', '23:45:00', '23:46:00', '23:47:00', '23:48:00', '23:49:00', '23:50:00', '23:51:00', '23:52:00', '23:53:00', '23:54:00', '23:55:00', '23:56:00', '23:57:00', '23:58:00', '23:59:00']\n",
            "                   :     0 : Rows Missing Data\n",
            "\n",
            "        LAW_CAT_CD :     3 : ['FELONY', 'MISDEMEANOR', 'VIOLATION']\n",
            "                   :     0 : Rows Missing Data\n",
            "\n",
            "         OFNS_DESC :    62 : ['ADMINISTRATIVE CODE', 'AGRICULTURE & MRKTS LAW-UNCLASSIFIED', 'ALCOHOLIC BEVERAGE CONTROL LAW', 'ANTICIPATORY OFFENSES', 'ARSON', 'ASSAULT 3 & RELATED OFFENSES', \"BURGLAR'S TOOLS\", 'BURGLARY', 'CHILD ABANDONMENT/NON SUPPORT', 'CRIMINAL MISCHIEF & RELATED OF', 'CRIMINAL TRESPASS', 'DANGEROUS DRUGS', 'DANGEROUS WEAPONS', 'DISORDERLY CONDUCT', 'DISRUPTION OF A RELIGIOUS SERV', 'ENDAN WELFARE INCOMP', 'ESCAPE 3', 'FELONY ASSAULT', 'FELONY SEX CRIMES', 'FORGERY', 'FRAUDS', 'FRAUDULENT ACCOSTING', 'GAMBLING', 'GRAND LARCENY', 'GRAND LARCENY OF MOTOR VEHICLE', 'HARRASSMENT 2', 'HOMICIDE-NEGLIGENT,UNCLASSIFIE', 'HOMICIDE-NEGLIGENT-VEHICLE', 'INTOXICATED & IMPAIRED DRIVING', 'INTOXICATED/IMPAIRED DRIVING', 'JOSTLING', 'KIDNAPPING', 'KIDNAPPING & RELATED OFFENSES', 'LOITERING/GAMBLING (CARDS, DIC', 'MISCELLANEOUS PENAL LAW', 'MURDER & NON-NEGL. MANSLAUGHTER', 'NEW YORK CITY HEALTH CODE', 'NYS LAWS-UNCLASSIFIED FELONY', 'NYS LAWS-UNCLASSIFIED VIOLATION', 'OFF. AGNST PUB ORD SENSBLTY &', 'OFFENSES AGAINST MARRIAGE UNCL', 'OFFENSES AGAINST PUBLIC ADMINI', 'OFFENSES AGAINST PUBLIC SAFETY', 'OFFENSES AGAINST THE PERSON', 'OFFENSES INVOLVING FRAUD', 'OFFENSES RELATED TO CHILDREN', 'OTHER OFFENSES RELATED TO THEF', 'OTHER STATE LAWS', 'OTHER STATE LAWS (NON PENAL LA', 'OTHER STATE LAWS (NON PENAL LAW)', 'PETIT LARCENY', 'PETIT LARCENY OF MOTOR VEHICLE', 'POSSESSION OF STOLEN PROPERTY', 'PROSTITUTION & RELATED OFFENSES', 'RAPE', 'ROBBERY', 'SEX CRIMES', 'THEFT OF SERVICES', 'THEFT-FRAUD', 'UNAUTHORIZED USE OF A VEHICLE', 'UNLAWFUL POSS. WEAP. ON SCHOOL', 'VEHICLE AND TRAFFIC LAWS']\n",
            "                   :     8 : Rows Missing Data\n",
            "\n",
            "     PREM_TYP_DESC :    74 : ['ABANDONED BUILDING', 'AIRPORT TERMINAL', 'ATM', 'BANK', 'BAR/NIGHT CLUB', 'BEAUTY & NAIL SALON', 'BOOK/CARD', 'BRIDGE', 'BUS (NYC TRANSIT)', 'BUS (OTHER)', 'BUS STOP', 'BUS TERMINAL', 'CANDY STORE', 'CEMETERY', 'CHAIN STORE', 'CHECK CASHING BUSINESS', 'CHURCH', 'CLOTHING/BOUTIQUE', 'COMMERCIAL BUILDING', 'CONSTRUCTION SITE', 'DAYCARE FACILITY', 'DEPARTMENT STORE', 'DOCTOR/DENTIST OFFICE', 'DRUG STORE', 'DRY CLEANER/LAUNDRY', 'FACTORY/WAREHOUSE', 'FAST FOOD', 'FERRY/FERRY TERMINAL', 'FOOD SUPERMARKET', 'GAS STATION', 'GROCERY/BODEGA', 'GYM/FITNESS FACILITY', 'HIGHWAY/PARKWAY', 'HOMELESS SHELTER', 'HOSPITAL', 'HOTEL/MOTEL', 'JEWELRY', 'LIQUOR STORE', 'LOAN COMPANY', 'MAILBOX INSIDE', 'MAILBOX OUTSIDE', 'MARINA/PIER', 'MOSQUE', 'OPEN AREAS (OPEN LOTS)', 'OTHER', 'OTHER HOUSE OF WORSHIP', 'PARK/PLAYGROUND', 'PARKING LOT/GARAGE (PRIVATE)', 'PARKING LOT/GARAGE (PUBLIC)', 'PHOTO/COPY', 'PRIVATE/PAROCHIAL SCHOOL', 'PUBLIC BUILDING', 'PUBLIC SCHOOL', 'RESIDENCE - APT. HOUSE', 'RESIDENCE - PUBLIC HOUSING', 'RESIDENCE-HOUSE', 'RESTAURANT/DINER', 'SHOE', 'SMALL MERCHANT', 'SOCIAL CLUB/POLICY', 'STORAGE FACILITY', 'STORE UNCLASSIFIED', 'STREET', 'SYNAGOGUE', 'TAXI (LIVERY LICENSED)', 'TAXI (YELLOW LICENSED)', 'TAXI/LIVERY (UNLICENSED)', 'TELECOMM. STORE', 'TRAMWAY', 'TRANSIT - NYC SUBWAY', 'TRANSIT FACILITY (OTHER)', 'TUNNEL', 'VARIETY STORE', 'VIDEO STORE']\n",
            "                   :  1269 : Rows Missing Data\n",
            "\n"
          ]
        }
      ]
    }
  ]
}