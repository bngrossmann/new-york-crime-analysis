{
  "nbformat": 4,
  "nbformat_minor": 0,
  "metadata": {
    "colab": {
      "name": "New_York_Crime_Analysis.ipynb",
      "provenance": [],
      "collapsed_sections": [
        "ciIVGuswe2WV"
      ],
      "toc_visible": true,
      "include_colab_link": true
    },
    "kernelspec": {
      "name": "python3",
      "display_name": "Python 3"
    },
    "language_info": {
      "name": "python"
    }
  },
  "cells": [
    {
      "cell_type": "markdown",
      "metadata": {
        "id": "view-in-github",
        "colab_type": "text"
      },
      "source": [
        "<a href=\"https://colab.research.google.com/github/bngrossmann/new-york-crime-analysis/blob/main/New_York_Crime_Analysis.ipynb\" target=\"_parent\"><img src=\"https://colab.research.google.com/assets/colab-badge.svg\" alt=\"Open In Colab\"/></a>"
      ]
    },
    {
      "cell_type": "markdown",
      "source": [
        "# New York Crime Analysis\n",
        "\n",
        "* Benjamin Grossmann"
      ],
      "metadata": {
        "id": "CQZALYVTexUy"
      }
    },
    {
      "cell_type": "markdown",
      "source": [
        "# Part 1\n"
      ],
      "metadata": {
        "id": "ciIVGuswe2WV"
      }
    },
    {
      "cell_type": "markdown",
      "source": [
        "Your second project is going to have a lot more freedom than your first project. This is because we want you to have a project in your portfolio that interests you or relates to the industry you would like to work in.\n",
        "\n",
        "Your task for this week is to propose two possible datasets you would like to work with for Project 2.  \n",
        "\n",
        "You will choose your first choice data set, and a backup data set in case the first proposed data set is not approved.  \n",
        "\n",
        "This data can be from any source and can be on any topic with these limitations:\n",
        "\n",
        "the data must be available for use (it is your responsibility to ensure that the license states that you are able to use it.)\n",
        "the data must be appropriate for a professional environment\n",
        "the data must NOT contain personal information\n",
        "the data must NOT be a dataset used for any assignment, lecture, or task from the course\n",
        "Make sure you select a dataset that will be reasonable to work with in the amount of time we have left. Think about what questions you could reasonably answer with the dataset you select. \n",
        "\n",
        "You must propose two datasets that each have a supervised learning component. You may choose a regression or classification problem for each proposed data set."
      ],
      "metadata": {
        "id": "LvQuBIBEe-vJ"
      }
    },
    {
      "cell_type": "markdown",
      "source": [
        "**For this task:**\n",
        "\n",
        "Create a Colab notebook where you have uploaded and shown the .head() of each of your data sets.  For each of the proposed datasets, answer the following questions:"
      ],
      "metadata": {
        "id": "Qrq_fF47e-i1"
      }
    },
    {
      "cell_type": "markdown",
      "source": [
        "## **Dataset #1**\n"
      ],
      "metadata": {
        "id": "UAJG7sDUgc_4"
      }
    },
    {
      "cell_type": "code",
      "source": [
        "from google.colab import drive\n",
        "drive.mount(\"/content/drive\")"
      ],
      "metadata": {
        "colab": {
          "base_uri": "https://localhost:8080/"
        },
        "id": "f0EtXTScDgQu",
        "outputId": "f5116dc2-32ed-4588-c4f4-fa646ffc9069"
      },
      "execution_count": 800,
      "outputs": [
        {
          "output_type": "stream",
          "name": "stdout",
          "text": [
            "Drive already mounted at /content/drive; to attempt to forcibly remount, call drive.mount(\"/content/drive\", force_remount=True).\n"
          ]
        }
      ]
    },
    {
      "cell_type": "code",
      "source": [
        "# Load your data & imports\n",
        "import numpy as np\n",
        "import pandas as pd"
      ],
      "metadata": {
        "id": "Hx0zuT7zfUtC"
      },
      "execution_count": 801,
      "outputs": []
    },
    {
      "cell_type": "code",
      "execution_count": 802,
      "metadata": {
        "id": "K8_l1F5ZevgV"
      },
      "outputs": [],
      "source": [
        "df = pd.read_csv(\"/content/drive/MyDrive/Coding Dojo/Data Folder/NYPD_Complaint_Data_Current__Year_To_Date_.csv\")"
      ]
    },
    {
      "cell_type": "code",
      "source": [
        "# .head() for your dataframe\n",
        "df.head()"
      ],
      "metadata": {
        "id": "vRIlYFKWfdo8",
        "colab": {
          "base_uri": "https://localhost:8080/",
          "height": 490
        },
        "outputId": "ae4b16eb-8e80-461f-a210-c3a87e26c351"
      },
      "execution_count": 803,
      "outputs": [
        {
          "output_type": "execute_result",
          "data": {
            "text/plain": [
              "   CMPLNT_NUM  ADDR_PCT_CD BORO_NM CMPLNT_FR_DT CMPLNT_FR_TM CMPLNT_TO_DT  \\\n",
              "0   903695881           69     NaN   12/17/2021     22:13:00          NaN   \n",
              "1   400462399          113     NaN   12/17/2021     06:21:00          NaN   \n",
              "2   587910690          113     NaN   12/13/2021     20:05:00          NaN   \n",
              "3   186105368           52   BRONX   12/07/2021     22:49:00          NaN   \n",
              "4   185325394          113     NaN   12/06/2021     17:25:00          NaN   \n",
              "\n",
              "  CMPLNT_TO_TM CRM_ATPT_CPTD_CD HADEVELOPT  HOUSING_PSA  ...  \\\n",
              "0          NaN        COMPLETED        NaN          NaN  ...   \n",
              "1          NaN        COMPLETED        NaN          NaN  ...   \n",
              "2          NaN        COMPLETED        NaN          NaN  ...   \n",
              "3          NaN        COMPLETED        NaN          NaN  ...   \n",
              "4          NaN        COMPLETED        NaN          NaN  ...   \n",
              "\n",
              "   TRANSIT_DISTRICT VIC_AGE_GROUP  VIC_RACE VIC_SEX X_COORD_CD Y_COORD_CD  \\\n",
              "0               NaN         25-44     BLACK       M    1011203     174515   \n",
              "1               NaN         25-44     BLACK       F    1043252     187998   \n",
              "2               NaN         25-44     BLACK       M    1042087     190443   \n",
              "3               NaN       UNKNOWN   UNKNOWN       E    1017088     260895   \n",
              "4               NaN         25-44     BLACK       M    1046176     193100   \n",
              "\n",
              "    Latitude  Longitude                                   Lat_Lon  \\\n",
              "0  40.645647 -73.902876   (40.64564719600002, -73.90287588699994)   \n",
              "1  40.682499 -73.787269  (40.682499421000045, -73.78726915499993)   \n",
              "2  40.689218 -73.791449  (40.689218058000044, -73.79144856999993)   \n",
              "3  40.882718 -73.881247   (40.88271780700006, -73.88124724999993)   \n",
              "4  40.696483 -73.776680   (40.69648322200004, -73.77667979199998)   \n",
              "\n",
              "                        New Georeferenced Column  \n",
              "0   POINT (-73.90287588699994 40.64564719600002)  \n",
              "1  POINT (-73.78726915499993 40.682499421000045)  \n",
              "2  POINT (-73.79144856999993 40.689218058000044)  \n",
              "3   POINT (-73.88124724999993 40.88271780700006)  \n",
              "4   POINT (-73.77667979199998 40.69648322200004)  \n",
              "\n",
              "[5 rows x 36 columns]"
            ],
            "text/html": [
              "\n",
              "  <div id=\"df-0b032bbb-e617-4444-a782-2e3930f57755\">\n",
              "    <div class=\"colab-df-container\">\n",
              "      <div>\n",
              "<style scoped>\n",
              "    .dataframe tbody tr th:only-of-type {\n",
              "        vertical-align: middle;\n",
              "    }\n",
              "\n",
              "    .dataframe tbody tr th {\n",
              "        vertical-align: top;\n",
              "    }\n",
              "\n",
              "    .dataframe thead th {\n",
              "        text-align: right;\n",
              "    }\n",
              "</style>\n",
              "<table border=\"1\" class=\"dataframe\">\n",
              "  <thead>\n",
              "    <tr style=\"text-align: right;\">\n",
              "      <th></th>\n",
              "      <th>CMPLNT_NUM</th>\n",
              "      <th>ADDR_PCT_CD</th>\n",
              "      <th>BORO_NM</th>\n",
              "      <th>CMPLNT_FR_DT</th>\n",
              "      <th>CMPLNT_FR_TM</th>\n",
              "      <th>CMPLNT_TO_DT</th>\n",
              "      <th>CMPLNT_TO_TM</th>\n",
              "      <th>CRM_ATPT_CPTD_CD</th>\n",
              "      <th>HADEVELOPT</th>\n",
              "      <th>HOUSING_PSA</th>\n",
              "      <th>...</th>\n",
              "      <th>TRANSIT_DISTRICT</th>\n",
              "      <th>VIC_AGE_GROUP</th>\n",
              "      <th>VIC_RACE</th>\n",
              "      <th>VIC_SEX</th>\n",
              "      <th>X_COORD_CD</th>\n",
              "      <th>Y_COORD_CD</th>\n",
              "      <th>Latitude</th>\n",
              "      <th>Longitude</th>\n",
              "      <th>Lat_Lon</th>\n",
              "      <th>New Georeferenced Column</th>\n",
              "    </tr>\n",
              "  </thead>\n",
              "  <tbody>\n",
              "    <tr>\n",
              "      <th>0</th>\n",
              "      <td>903695881</td>\n",
              "      <td>69</td>\n",
              "      <td>NaN</td>\n",
              "      <td>12/17/2021</td>\n",
              "      <td>22:13:00</td>\n",
              "      <td>NaN</td>\n",
              "      <td>NaN</td>\n",
              "      <td>COMPLETED</td>\n",
              "      <td>NaN</td>\n",
              "      <td>NaN</td>\n",
              "      <td>...</td>\n",
              "      <td>NaN</td>\n",
              "      <td>25-44</td>\n",
              "      <td>BLACK</td>\n",
              "      <td>M</td>\n",
              "      <td>1011203</td>\n",
              "      <td>174515</td>\n",
              "      <td>40.645647</td>\n",
              "      <td>-73.902876</td>\n",
              "      <td>(40.64564719600002, -73.90287588699994)</td>\n",
              "      <td>POINT (-73.90287588699994 40.64564719600002)</td>\n",
              "    </tr>\n",
              "    <tr>\n",
              "      <th>1</th>\n",
              "      <td>400462399</td>\n",
              "      <td>113</td>\n",
              "      <td>NaN</td>\n",
              "      <td>12/17/2021</td>\n",
              "      <td>06:21:00</td>\n",
              "      <td>NaN</td>\n",
              "      <td>NaN</td>\n",
              "      <td>COMPLETED</td>\n",
              "      <td>NaN</td>\n",
              "      <td>NaN</td>\n",
              "      <td>...</td>\n",
              "      <td>NaN</td>\n",
              "      <td>25-44</td>\n",
              "      <td>BLACK</td>\n",
              "      <td>F</td>\n",
              "      <td>1043252</td>\n",
              "      <td>187998</td>\n",
              "      <td>40.682499</td>\n",
              "      <td>-73.787269</td>\n",
              "      <td>(40.682499421000045, -73.78726915499993)</td>\n",
              "      <td>POINT (-73.78726915499993 40.682499421000045)</td>\n",
              "    </tr>\n",
              "    <tr>\n",
              "      <th>2</th>\n",
              "      <td>587910690</td>\n",
              "      <td>113</td>\n",
              "      <td>NaN</td>\n",
              "      <td>12/13/2021</td>\n",
              "      <td>20:05:00</td>\n",
              "      <td>NaN</td>\n",
              "      <td>NaN</td>\n",
              "      <td>COMPLETED</td>\n",
              "      <td>NaN</td>\n",
              "      <td>NaN</td>\n",
              "      <td>...</td>\n",
              "      <td>NaN</td>\n",
              "      <td>25-44</td>\n",
              "      <td>BLACK</td>\n",
              "      <td>M</td>\n",
              "      <td>1042087</td>\n",
              "      <td>190443</td>\n",
              "      <td>40.689218</td>\n",
              "      <td>-73.791449</td>\n",
              "      <td>(40.689218058000044, -73.79144856999993)</td>\n",
              "      <td>POINT (-73.79144856999993 40.689218058000044)</td>\n",
              "    </tr>\n",
              "    <tr>\n",
              "      <th>3</th>\n",
              "      <td>186105368</td>\n",
              "      <td>52</td>\n",
              "      <td>BRONX</td>\n",
              "      <td>12/07/2021</td>\n",
              "      <td>22:49:00</td>\n",
              "      <td>NaN</td>\n",
              "      <td>NaN</td>\n",
              "      <td>COMPLETED</td>\n",
              "      <td>NaN</td>\n",
              "      <td>NaN</td>\n",
              "      <td>...</td>\n",
              "      <td>NaN</td>\n",
              "      <td>UNKNOWN</td>\n",
              "      <td>UNKNOWN</td>\n",
              "      <td>E</td>\n",
              "      <td>1017088</td>\n",
              "      <td>260895</td>\n",
              "      <td>40.882718</td>\n",
              "      <td>-73.881247</td>\n",
              "      <td>(40.88271780700006, -73.88124724999993)</td>\n",
              "      <td>POINT (-73.88124724999993 40.88271780700006)</td>\n",
              "    </tr>\n",
              "    <tr>\n",
              "      <th>4</th>\n",
              "      <td>185325394</td>\n",
              "      <td>113</td>\n",
              "      <td>NaN</td>\n",
              "      <td>12/06/2021</td>\n",
              "      <td>17:25:00</td>\n",
              "      <td>NaN</td>\n",
              "      <td>NaN</td>\n",
              "      <td>COMPLETED</td>\n",
              "      <td>NaN</td>\n",
              "      <td>NaN</td>\n",
              "      <td>...</td>\n",
              "      <td>NaN</td>\n",
              "      <td>25-44</td>\n",
              "      <td>BLACK</td>\n",
              "      <td>M</td>\n",
              "      <td>1046176</td>\n",
              "      <td>193100</td>\n",
              "      <td>40.696483</td>\n",
              "      <td>-73.776680</td>\n",
              "      <td>(40.69648322200004, -73.77667979199998)</td>\n",
              "      <td>POINT (-73.77667979199998 40.69648322200004)</td>\n",
              "    </tr>\n",
              "  </tbody>\n",
              "</table>\n",
              "<p>5 rows × 36 columns</p>\n",
              "</div>\n",
              "      <button class=\"colab-df-convert\" onclick=\"convertToInteractive('df-0b032bbb-e617-4444-a782-2e3930f57755')\"\n",
              "              title=\"Convert this dataframe to an interactive table.\"\n",
              "              style=\"display:none;\">\n",
              "        \n",
              "  <svg xmlns=\"http://www.w3.org/2000/svg\" height=\"24px\"viewBox=\"0 0 24 24\"\n",
              "       width=\"24px\">\n",
              "    <path d=\"M0 0h24v24H0V0z\" fill=\"none\"/>\n",
              "    <path d=\"M18.56 5.44l.94 2.06.94-2.06 2.06-.94-2.06-.94-.94-2.06-.94 2.06-2.06.94zm-11 1L8.5 8.5l.94-2.06 2.06-.94-2.06-.94L8.5 2.5l-.94 2.06-2.06.94zm10 10l.94 2.06.94-2.06 2.06-.94-2.06-.94-.94-2.06-.94 2.06-2.06.94z\"/><path d=\"M17.41 7.96l-1.37-1.37c-.4-.4-.92-.59-1.43-.59-.52 0-1.04.2-1.43.59L10.3 9.45l-7.72 7.72c-.78.78-.78 2.05 0 2.83L4 21.41c.39.39.9.59 1.41.59.51 0 1.02-.2 1.41-.59l7.78-7.78 2.81-2.81c.8-.78.8-2.07 0-2.86zM5.41 20L4 18.59l7.72-7.72 1.47 1.35L5.41 20z\"/>\n",
              "  </svg>\n",
              "      </button>\n",
              "      \n",
              "  <style>\n",
              "    .colab-df-container {\n",
              "      display:flex;\n",
              "      flex-wrap:wrap;\n",
              "      gap: 12px;\n",
              "    }\n",
              "\n",
              "    .colab-df-convert {\n",
              "      background-color: #E8F0FE;\n",
              "      border: none;\n",
              "      border-radius: 50%;\n",
              "      cursor: pointer;\n",
              "      display: none;\n",
              "      fill: #1967D2;\n",
              "      height: 32px;\n",
              "      padding: 0 0 0 0;\n",
              "      width: 32px;\n",
              "    }\n",
              "\n",
              "    .colab-df-convert:hover {\n",
              "      background-color: #E2EBFA;\n",
              "      box-shadow: 0px 1px 2px rgba(60, 64, 67, 0.3), 0px 1px 3px 1px rgba(60, 64, 67, 0.15);\n",
              "      fill: #174EA6;\n",
              "    }\n",
              "\n",
              "    [theme=dark] .colab-df-convert {\n",
              "      background-color: #3B4455;\n",
              "      fill: #D2E3FC;\n",
              "    }\n",
              "\n",
              "    [theme=dark] .colab-df-convert:hover {\n",
              "      background-color: #434B5C;\n",
              "      box-shadow: 0px 1px 3px 1px rgba(0, 0, 0, 0.15);\n",
              "      filter: drop-shadow(0px 1px 2px rgba(0, 0, 0, 0.3));\n",
              "      fill: #FFFFFF;\n",
              "    }\n",
              "  </style>\n",
              "\n",
              "      <script>\n",
              "        const buttonEl =\n",
              "          document.querySelector('#df-0b032bbb-e617-4444-a782-2e3930f57755 button.colab-df-convert');\n",
              "        buttonEl.style.display =\n",
              "          google.colab.kernel.accessAllowed ? 'block' : 'none';\n",
              "\n",
              "        async function convertToInteractive(key) {\n",
              "          const element = document.querySelector('#df-0b032bbb-e617-4444-a782-2e3930f57755');\n",
              "          const dataTable =\n",
              "            await google.colab.kernel.invokeFunction('convertToInteractive',\n",
              "                                                     [key], {});\n",
              "          if (!dataTable) return;\n",
              "\n",
              "          const docLinkHtml = 'Like what you see? Visit the ' +\n",
              "            '<a target=\"_blank\" href=https://colab.research.google.com/notebooks/data_table.ipynb>data table notebook</a>'\n",
              "            + ' to learn more about interactive tables.';\n",
              "          element.innerHTML = '';\n",
              "          dataTable['output_type'] = 'display_data';\n",
              "          await google.colab.output.renderOutput(dataTable, element);\n",
              "          const docLink = document.createElement('div');\n",
              "          docLink.innerHTML = docLinkHtml;\n",
              "          element.appendChild(docLink);\n",
              "        }\n",
              "      </script>\n",
              "    </div>\n",
              "  </div>\n",
              "  "
            ]
          },
          "metadata": {},
          "execution_count": 803
        }
      ]
    },
    {
      "cell_type": "code",
      "source": [
        "df.shape"
      ],
      "metadata": {
        "colab": {
          "base_uri": "https://localhost:8080/"
        },
        "id": "P3n3B0cFGHoH",
        "outputId": "76909ae0-b5eb-46e9-dab0-2f8dbf5d0409"
      },
      "execution_count": 804,
      "outputs": [
        {
          "output_type": "execute_result",
          "data": {
            "text/plain": [
              "(449506, 36)"
            ]
          },
          "metadata": {},
          "execution_count": 804
        }
      ]
    },
    {
      "cell_type": "markdown",
      "source": [
        "## Questions"
      ],
      "metadata": {
        "id": "RUP00hADfs1N"
      }
    },
    {
      "cell_type": "markdown",
      "source": [
        "### 1) source of your data\n",
        "\n",
        "The data comes from the New York City Police Department.\n",
        "\n",
        "https://data.cityofnewyork.us/Public-Safety/NYPD-Complaint-Data-Current-Year-To-Date-/5uac-w243\n"
      ],
      "metadata": {
        "id": "q9twhacHf_bd"
      }
    },
    {
      "cell_type": "markdown",
      "source": [
        "### 2) Brief description of data\n",
        "\n",
        "The data includes report information about crimes reported to the NYPD. (Location: Coordinates and Descriptive; Day and Time; Suspect Profile Information; Victim Profile Information; Weather; and several others)"
      ],
      "metadata": {
        "id": "s68fUeMogD_g"
      }
    },
    {
      "cell_type": "markdown",
      "source": [
        "### 3) What is the target?\n",
        "\n",
        "The target is `\"LAW_CAT_CD\"`, which is the level of offense (felony, misdemeanor, violation)."
      ],
      "metadata": {
        "id": "rsKJOX6PgKZV"
      }
    },
    {
      "cell_type": "markdown",
      "source": [
        "###  4) Is this a classification or regression problem?\n",
        "\n",
        "This will be a classification problem."
      ],
      "metadata": {
        "id": "QXfpkTOOgNlh"
      }
    },
    {
      "cell_type": "markdown",
      "source": [
        "### 5) How many features?\n",
        "Although the dataset has 35 features after being separated from the target, many of them are unnecessary and should be removed before any modeling is done.\n",
        "\n",
        "For example, there are multiple location features. Two pair of which express the same coordinate information in two different coordiante systems.\n",
        "\n",
        "There are also several features that are codes which ways of encoding report information and should not be used. They do not predict the target. They were explictly created by the reporting system after the crime was reported and cannot be used to predict future events (they postdict).\n",
        "\n",
        "A thourough examination of the data will be required to determine all the features that should be removed before modeling.\n"
      ],
      "metadata": {
        "id": "P_GxKXwmgRkL"
      }
    },
    {
      "cell_type": "markdown",
      "source": [
        "### 6) How many rows of data.\n",
        "\n",
        "The dataset has 449,506 rows of data"
      ],
      "metadata": {
        "id": "XKFujSFJgU0T"
      }
    },
    {
      "cell_type": "markdown",
      "source": [
        "### 7) What, if any, challenges do your foresee in cleaning, exploring, or modeling with this dataset?\n",
        "\n",
        "There are several columns which have a lot of missing values. Some missing values may be acceptable (`\"PARKS_NM\"` has no value if the occurance did not happen in a park), and can be accomadated.\n",
        "\n",
        "And as mentioned above in question 5, several of the columns should not be used because they may have values that are determined by the target values. Determining which ones may take some research.\n",
        "\n",
        "Some columns (such as some of the description columns) have multiple values within a single cell. It may be necessary to break them apart into their component values."
      ],
      "metadata": {
        "id": "BWc7tBFagXQz"
      }
    },
    {
      "cell_type": "markdown",
      "source": [
        ""
      ],
      "metadata": {
        "id": "7QfE9Qwf4roi"
      }
    },
    {
      "cell_type": "markdown",
      "source": [
        "#Data Dictionary\n",
        "\n",
        "Column Name|Description|Type\n",
        "-|-|-\n",
        "CMPLNT_NUM|Randomly generated persistent ID for each complaint|Number\n",
        "ADDR_PCT_CD|The precinct in which the incident occurred|Number\n",
        "BORO_NM|The name of the borough in which the incident occurred|Plain Text\n",
        "CMPLNT_FR_DT|Exact date of occurrence for the reported event (or starting date of occurrence, if CMPLNT_TO_DT exists)|Date & Time\n",
        "CMPLNT_FR_TM|Exact time of occurrence for the reported event (or starting time of occurrence, if CMPLNT_TO_TM exists)|Plain Text\n",
        "CMPLNT_TO_DT|Ending date of occurrence for the reported event, if exact time of occurrence is unknown|Date & Time\n",
        "CMPLNT_TO_TM|Ending time of occurrence for the reported event, if exact time of occurrence is unknown|Plain Text\n",
        "CRM_ATPT_CPTD_CD|Indicator of whether crime was successfully completed or attempted, but failed or was interrupted prematurely|Plain Text\n",
        "HADEVELOPT|Name of NYCHA housing development of occurrence, if applicable|Plain Text\n",
        "HOUSING_PSA|Development Level Code|Number\n",
        "JURISDICTION_CODE|Jurisdiction responsible for incident. Either internal, like Police(0), Transit(1), and Housing(2); or external(3), like Correction, Port Authority, etc.|Number\n",
        "JURIS_DESC|Description of the jurisdiction code|Plain Text\n",
        "KY_CD|Three digit offense classification code|Number\n",
        "LAW_CAT_CD|Level of offense: felony, misdemeanor, violation|Plain Text\n",
        "LOC_OF_OCCUR_DESC|Specific location of occurrence in or around the premises; inside, opposite of, front of, rear of|Plain Text\n",
        "OFNS_DESC|Description of offense corresponding with key code|Plain Text\n",
        "PARKS_NM|Name of NYC park, playground or greenspace of occurrence, if applicable (state parks are not included)|Plain Text\n",
        "PATROL_BORO|The name of the patrol borough in which the incident occurred|Plain Text\n",
        "PD_CD|Three digit internal classification code (more granular than Key Code)|Number\t\n",
        "PD_DESC|Description of internal classification corresponding with PD code (more granular than Offense Description)|Plain Text\n",
        "PREM_TYP_DESC|Specific description of premises; grocery store, residence, street, etc.|Plain Text\n",
        "RPT_DT|Date event was reported to police|Date & Time\n",
        "STATION_NAME|Transit station name|Plain Text\n",
        "SUSP_AGE_GROUP|Suspect’s Age Group|Plain Text\n",
        "SUSP_RACE|Suspect’s Race Description|Plain Text\n",
        "SUSP_SEX|Suspect’s Sex Description|Plain Text\n",
        "TRANSIT_DISTRICT|Transit district in which the offense occurred.|Number\t\n",
        "VIC_AGE_GROUP|Victim’s Age Group|Plain Text\n",
        "VIC_RACE|Victim’s Race Description|Plain Text\n",
        "VIC_SEX|Victim’s Sex Description|Plain Text\n",
        "X_COORD_CD|X-coordinate for New York State Plane Coordinate System, Long Island Zone, NAD 83, units feet (FIPS 3104)|Number\n",
        "Y_COORD_CD|Y-coordinate for New York State Plane Coordinate System, Long Island Zone, NAD 83, units feet (FIPS 3104)|Number\n",
        "Latitude|Midblock Latitude coordinate for Global Coordinate System, WGS 1984, decimal degrees (EPSG 4326)|Number\n",
        "Longitude|Midblock Longitude coordinate for Global Coordinate System, WGS 1984, decimal degrees (EPSG 4326)|Number\n",
        "Lat_Lon||Location\n",
        "New Georeferenced Column||Point"
      ],
      "metadata": {
        "id": "CjvWc9lH-DPT"
      }
    },
    {
      "cell_type": "markdown",
      "source": [
        "# 1 . Load Data"
      ],
      "metadata": {
        "id": "svM_yJyf4s95"
      }
    },
    {
      "cell_type": "code",
      "source": [
        "# from google.colab import drive\n",
        "# drive.mount(\"/content/drive\")"
      ],
      "metadata": {
        "id": "-5mAG4iC4xIh"
      },
      "execution_count": 805,
      "outputs": []
    },
    {
      "cell_type": "code",
      "source": [
        "# import numpy as np\n",
        "# import pandas as pd"
      ],
      "metadata": {
        "id": "pl75WLjI44OW"
      },
      "execution_count": 806,
      "outputs": []
    },
    {
      "cell_type": "code",
      "source": [
        "# df = pd.read_csv(\"/content/drive/MyDrive/Coding Dojo/Data Folder/NYPD_Complaint_Data_Current__Year_To_Date_.csv\")"
      ],
      "metadata": {
        "id": "CjYdd5nk8QOB"
      },
      "execution_count": 807,
      "outputs": []
    },
    {
      "cell_type": "code",
      "source": [
        "initial_row_count = df.shape[0]"
      ],
      "metadata": {
        "id": "NRr8SIeSfwKD"
      },
      "execution_count": 808,
      "outputs": []
    },
    {
      "cell_type": "code",
      "source": [
        "df.info()"
      ],
      "metadata": {
        "colab": {
          "base_uri": "https://localhost:8080/"
        },
        "id": "cglB3oDK8Xav",
        "outputId": "72112d5e-ff52-446d-e8c7-125a5dcd0a3b"
      },
      "execution_count": 809,
      "outputs": [
        {
          "output_type": "stream",
          "name": "stdout",
          "text": [
            "<class 'pandas.core.frame.DataFrame'>\n",
            "RangeIndex: 449506 entries, 0 to 449505\n",
            "Data columns (total 36 columns):\n",
            " #   Column                    Non-Null Count   Dtype  \n",
            "---  ------                    --------------   -----  \n",
            " 0   CMPLNT_NUM                449506 non-null  int64  \n",
            " 1   ADDR_PCT_CD               449506 non-null  int64  \n",
            " 2   BORO_NM                   448355 non-null  object \n",
            " 3   CMPLNT_FR_DT              449506 non-null  object \n",
            " 4   CMPLNT_FR_TM              449506 non-null  object \n",
            " 5   CMPLNT_TO_DT              409416 non-null  object \n",
            " 6   CMPLNT_TO_TM              409568 non-null  object \n",
            " 7   CRM_ATPT_CPTD_CD          449345 non-null  object \n",
            " 8   HADEVELOPT                1577 non-null    object \n",
            " 9   HOUSING_PSA               32583 non-null   float64\n",
            " 10  JURISDICTION_CODE         449023 non-null  float64\n",
            " 11  JURIS_DESC                449506 non-null  object \n",
            " 12  KY_CD                     449506 non-null  int64  \n",
            " 13  LAW_CAT_CD                449506 non-null  object \n",
            " 14  LOC_OF_OCCUR_DESC         375243 non-null  object \n",
            " 15  OFNS_DESC                 449497 non-null  object \n",
            " 16  PARKS_NM                  3192 non-null    object \n",
            " 17  PATROL_BORO               449023 non-null  object \n",
            " 18  PD_CD                     449023 non-null  float64\n",
            " 19  PD_DESC                   449023 non-null  object \n",
            " 20  PREM_TYP_DESC             448236 non-null  object \n",
            " 21  RPT_DT                    449506 non-null  object \n",
            " 22  STATION_NAME              8976 non-null    object \n",
            " 23  SUSP_AGE_GROUP            361372 non-null  object \n",
            " 24  SUSP_RACE                 361372 non-null  object \n",
            " 25  SUSP_SEX                  361372 non-null  object \n",
            " 26  TRANSIT_DISTRICT          8976 non-null    float64\n",
            " 27  VIC_AGE_GROUP             449506 non-null  object \n",
            " 28  VIC_RACE                  449425 non-null  object \n",
            " 29  VIC_SEX                   449506 non-null  object \n",
            " 30  X_COORD_CD                449506 non-null  int64  \n",
            " 31  Y_COORD_CD                449506 non-null  int64  \n",
            " 32  Latitude                  449506 non-null  float64\n",
            " 33  Longitude                 449506 non-null  float64\n",
            " 34  Lat_Lon                   449506 non-null  object \n",
            " 35  New Georeferenced Column  449506 non-null  object \n",
            "dtypes: float64(6), int64(5), object(25)\n",
            "memory usage: 123.5+ MB\n"
          ]
        }
      ]
    },
    {
      "cell_type": "markdown",
      "source": [
        "Given that there are 36 rows, I will construct a function that will let me examine the kind of data within the row and how much data is missing."
      ],
      "metadata": {
        "id": "e-xzZ7RSu-uz"
      }
    },
    {
      "cell_type": "code",
      "source": [
        "# Function for showing unique values and missing rows from columns of a dataframe\n",
        "def show_column_values(dataframe,column_list=[]):\n",
        "    for col in column_list:\n",
        "        print(f\"{col:>18} : {dataframe[col].nunique():>5} : {dataframe[col].value_counts().sort_index().index.to_list()}\")\n",
        "        print(f\"{':':>20} {dataframe.loc[ df[col].isna() , col].duplicated().sum():>5} : Rows Missing Data\\n\")"
      ],
      "metadata": {
        "id": "7V_pjgsYvDKY"
      },
      "execution_count": 810,
      "outputs": []
    },
    {
      "cell_type": "code",
      "source": [
        "# Function for showing how many rows have been dropped\n",
        "def show_dropped_row_count(dataframe):\n",
        "    print(f\"Total number of rows dropped: {dataframe.shape[0]:>8}\")\n",
        "    print(f\"Initial number of rows dropped: {initial_row_count:>3}\")\n",
        "    print(f\"Percent of rows dropped: {np.round(100 - 100 * dataframe.shape[0]/initial_row_count,1):>13} %\")"
      ],
      "metadata": {
        "id": "up-qwcQ9fRvr"
      },
      "execution_count": 811,
      "outputs": []
    },
    {
      "cell_type": "markdown",
      "source": [
        "## 1 . 2 . Identify the Target"
      ],
      "metadata": {
        "id": "G0CGIphEsa1A"
      }
    },
    {
      "cell_type": "markdown",
      "source": [
        "The target value for this analysis is the level of the offense.\n",
        "* `\"LAW_CAT_CD\"`\n",
        "    > The level of the offense: felony, misdemeanor, or violation."
      ],
      "metadata": {
        "id": "sRcup3zPtM4J"
      }
    },
    {
      "cell_type": "code",
      "source": [
        "show_column_values(df,[\"LAW_CAT_CD\"])"
      ],
      "metadata": {
        "colab": {
          "base_uri": "https://localhost:8080/"
        },
        "id": "3YKX8D6Wt_qS",
        "outputId": "63da872b-aa8b-4555-a6af-a690ffc79e88"
      },
      "execution_count": 812,
      "outputs": [
        {
          "output_type": "stream",
          "name": "stdout",
          "text": [
            "        LAW_CAT_CD :     3 : ['FELONY', 'MISDEMEANOR', 'VIOLATION']\n",
            "                   :     0 : Rows Missing Data\n",
            "\n"
          ]
        }
      ]
    },
    {
      "cell_type": "markdown",
      "source": [
        "If a greater distinction amoung the crimes is required, then an alternate target can be `\"OFNS_DESC\"`."
      ],
      "metadata": {
        "id": "Ux6fx75QrzP3"
      }
    },
    {
      "cell_type": "markdown",
      "source": [
        "# 2 . Uniqueness and Duplication"
      ],
      "metadata": {
        "id": "Eeg5idykSK2s"
      }
    },
    {
      "cell_type": "markdown",
      "source": [
        "Each data row is suppose to represent a single unique complaint identified in the `\"CMPLNT__NUM\"` column. So there should be no duplicates."
      ],
      "metadata": {
        "id": "XC0NCWMQFpbf"
      }
    },
    {
      "cell_type": "code",
      "source": [
        "print(f\"{df.shape[0]} Rows in the data table\")\n",
        "print(f\"{df['CMPLNT_NUM'].nunique()} Unique Entries in the complaint number column\")\n",
        "print(f\"{df.duplicated().sum():>6} Duplicated table rows\")"
      ],
      "metadata": {
        "colab": {
          "base_uri": "https://localhost:8080/"
        },
        "id": "BztrCtuv9hxD",
        "outputId": "6496cd12-4480-4467-f382-a6a66a513b07"
      },
      "execution_count": 813,
      "outputs": [
        {
          "output_type": "stream",
          "name": "stdout",
          "text": [
            "449506 Rows in the data table\n",
            "449506 Unique Entries in the complaint number column\n",
            "     0 Duplicated table rows\n"
          ]
        }
      ]
    },
    {
      "cell_type": "markdown",
      "source": [
        "Verified that no rows are duplicated.\n",
        "\n",
        "Since the values for `\"CMPLNT_NUM\"` are unique integers for each row, they can be used as the row index."
      ],
      "metadata": {
        "id": "ehPhU4YnnsS-"
      }
    },
    {
      "cell_type": "code",
      "source": [
        "df.set_index(\"CMPLNT_NUM\",inplace=True);"
      ],
      "metadata": {
        "id": "6MMWFqSKB91K"
      },
      "execution_count": 814,
      "outputs": []
    },
    {
      "cell_type": "markdown",
      "source": [
        "Now that the unique complaint number has been changed to the index, I can check again for duplicate rows. These new duplicates will indicate that there were probably mulitple suspects or mutiple victims at each incident, with each addtional suspect or victim contributing to new rows in the data table."
      ],
      "metadata": {
        "id": "eWUNvSx5qJUN"
      }
    },
    {
      "cell_type": "code",
      "source": [
        "print(f\"{df.duplicated().sum()} Duplicated table rows\")"
      ],
      "metadata": {
        "colab": {
          "base_uri": "https://localhost:8080/"
        },
        "id": "kIFcupY2vVUH",
        "outputId": "535e058b-1b54-494b-a91d-1f1e7d4844a3"
      },
      "execution_count": 815,
      "outputs": [
        {
          "output_type": "stream",
          "name": "stdout",
          "text": [
            "1576 Duplicated table rows\n"
          ]
        }
      ]
    },
    {
      "cell_type": "markdown",
      "source": [
        "Now I must make a choice of whether I will drop these new duplicates. I can either drop them and only consider each group of new duplicates as a single event. Or I can keep them and consider each new duplicate a separate event.\n",
        "\n",
        "From a resource perspective, I will consider each new duplicate a separate event. Although these new duplicates happen in groups, it may require more resources to respond to a single group of events.\n",
        "\n",
        "This choice may effect the results based on how often these groups of event occur."
      ],
      "metadata": {
        "id": "uhvELV_nvb9_"
      }
    },
    {
      "cell_type": "code",
      "source": [
        "print(f\"New duplicates account for {df.duplicated().sum() / df.shape[0]*100:.2f}% of all complaints.\")"
      ],
      "metadata": {
        "colab": {
          "base_uri": "https://localhost:8080/"
        },
        "id": "0eqmVix5vaf_",
        "outputId": "5ec4bd6b-e2e3-4cd0-fee3-e19b359a59a1"
      },
      "execution_count": 816,
      "outputs": [
        {
          "output_type": "stream",
          "name": "stdout",
          "text": [
            "New duplicates account for 0.35% of all complaints.\n"
          ]
        }
      ]
    },
    {
      "cell_type": "markdown",
      "source": [
        "Since the new duplicates only account for just over a third of one percent, they are not very common (less than four out of every thousand).\n",
        "\n",
        "Further justification for keeping these new duplicate can be found by considering who may be invovled. These duplicates are those where the suspects and victims necessarily share demographic characteristics. If a single group of events had suspects and victims with different demographic characteristics, then data rows conresponding the these different individuals would not be duplicates.\n",
        "\n",
        "At this stage in the analysis, I am not yet prepared to determine any group events that have non-duplicated rows of data. After I do so, it will be possible to do comparative analysis to see if grouping simultaneous events as a single occurance has any detectable consequences. There may be some applications where such grouping is a better measure than having them treated as separate these events."
      ],
      "metadata": {
        "id": "RTESTYy5yEag"
      }
    },
    {
      "cell_type": "markdown",
      "source": [
        "# 3 . Eliminating Unnecessary Columns"
      ],
      "metadata": {
        "id": "_CEUmEpnSFwB"
      }
    },
    {
      "cell_type": "markdown",
      "source": [
        "In building a model that can help me understand where different kinds of crimes are happening, I need to separate the information that can be used to help allocate resources from the information that which cannot.\n",
        "\n",
        "Time and location are quantities that must occur for any complaint, and exist even if there is no complaint. These are also important criteria to use when allocating resorces. Without these pieces of information there is no framework for understanding the layout of the city.\n",
        "\n",
        "Since I will be dropping columns several times, I will make a function to assist me and report how many columns remain.\n"
      ],
      "metadata": {
        "id": "RRHhaHNl6yLb"
      }
    },
    {
      "cell_type": "code",
      "source": [
        "# Function for dropping a list of columns from a dataframe and reporting it\n",
        "def drop_columns(dataframe, column_list=[]):\n",
        "    print(f\"{dataframe.shape[1]} columns before the drop.\")\n",
        "    dataframe.drop(columns=column_list, inplace=True)\n",
        "    print(f\"{dataframe.shape[1]} columns after the drop.\")"
      ],
      "metadata": {
        "id": "piPPWZYuJl1O"
      },
      "execution_count": 817,
      "outputs": []
    },
    {
      "cell_type": "markdown",
      "source": [
        "## 3 . 1 . Suspect and Victim Demographics"
      ],
      "metadata": {
        "id": "a2amr1r-6hhL"
      }
    },
    {
      "cell_type": "markdown",
      "source": [
        "There are only three characteristics in the data set given for suspect and victim demographics: sex, age, and race.\n",
        "* `\"SUSP_SEX\"`, `\"VIC_SEX\"`\n",
        "> Sex of the suspect or victim\n",
        "* `\"SUSP_RACE\"`, `\"VIC_RACE\"`\n",
        "> Race of the suspect or victim\n",
        "* `\"SUSP_AGE_GROUP\"`, `\"VIC_AGE_GROUP\"`\n",
        "> Age group of the suspect or victim\n",
        "\n",
        "I can look at how these values are recorded. I will display the values in ascending order (alphabetically and increasing numerically) and how much data is missing."
      ],
      "metadata": {
        "id": "TklH_9My6mh9"
      }
    },
    {
      "cell_type": "code",
      "source": [
        "show_column_values(df,[\"SUSP_SEX\",\"SUSP_RACE\",\"SUSP_AGE_GROUP\",\"VIC_SEX\",\"VIC_RACE\",\"VIC_AGE_GROUP\"])"
      ],
      "metadata": {
        "colab": {
          "base_uri": "https://localhost:8080/"
        },
        "id": "RuL1velwA5uu",
        "outputId": "06495762-2177-4ff8-e3f1-838164e3eebc"
      },
      "execution_count": 818,
      "outputs": [
        {
          "output_type": "stream",
          "name": "stdout",
          "text": [
            "          SUSP_SEX :     3 : ['F', 'M', 'U']\n",
            "                   : 88133 : Rows Missing Data\n",
            "\n",
            "         SUSP_RACE :     7 : ['AMERICAN INDIAN/ALASKAN NATIVE', 'ASIAN / PACIFIC ISLANDER', 'BLACK', 'BLACK HISPANIC', 'UNKNOWN', 'WHITE', 'WHITE HISPANIC']\n",
            "                   : 88133 : Rows Missing Data\n",
            "\n",
            "    SUSP_AGE_GROUP :    26 : ['-33', '-60', '-69', '-941', '-946', '-947', '-955', '-966', '-969', '-971', '-973', '-975', '1017', '1032', '1056', '18-24', '2021', '25-44', '45-64', '65+', '938', '940', '942', '953', '<18', 'UNKNOWN']\n",
            "                   : 88133 : Rows Missing Data\n",
            "\n",
            "           VIC_SEX :     4 : ['D', 'E', 'F', 'M']\n",
            "                   :     0 : Rows Missing Data\n",
            "\n",
            "          VIC_RACE :     7 : ['AMERICAN INDIAN/ALASKAN NATIVE', 'ASIAN / PACIFIC ISLANDER', 'BLACK', 'BLACK HISPANIC', 'UNKNOWN', 'WHITE', 'WHITE HISPANIC']\n",
            "                   :    80 : Rows Missing Data\n",
            "\n",
            "     VIC_AGE_GROUP :    21 : ['-1', '-3', '-4', '-48', '-51', '-61', '-62', '-921', '-935', '-943', '-960', '18-24', '25-44', '45-64', '65+', '936', '945', '963', '970', '<18', 'UNKNOWN']\n",
            "                   :     0 : Rows Missing Data\n",
            "\n"
          ]
        }
      ]
    },
    {
      "cell_type": "markdown",
      "source": [
        "These won't be very helpful to understand how crime is distributed as people matching these descriptions can be found throughout the city. Further, many complaints have no information about the suspect. And victims can include businesses and organizations (sex `\"D\"`) and the People of the State of New York  (sex `\"E\"`)\n",
        "\n",
        "A quick calculation can even show how much suspect information is unavailable. (As per the NYPD Complaints Incident Level Data Footnotes, item number 2, null values should be considered as either \"Unknown/Not Available/Not Reported\")."
      ],
      "metadata": {
        "id": "RiU-0Ip-MXUh"
      }
    },
    {
      "cell_type": "code",
      "source": [
        "for col,val in zip((\"SUSP_SEX\",\"SUSP_RACE\",\"SUSP_AGE_GROUP\"),(\"U\",\"UNKNOWN\",\"UNKNOWN\")):\n",
        "    print(f\"{df.loc[ df[col]==val , col].count() /  df[col].shape[0] * 100:.2f}% Rows with {col} {val}\")\n",
        "    print(f\"{df[col].isna().sum() /  df[col].shape[0] * 100:.2f}% Rows with {col} null\")\n",
        "    print(f\"{(df[col].isna().sum()+df.loc[ df[col]==val , col].count()) /  df[col].shape[0] * 100:.2f}% Total Rows\\n\")"
      ],
      "metadata": {
        "colab": {
          "base_uri": "https://localhost:8080/"
        },
        "id": "Abmfn3fzGyeY",
        "outputId": "0709a647-f2bf-48d4-b534-afa0f01a665a"
      },
      "execution_count": 819,
      "outputs": [
        {
          "output_type": "stream",
          "name": "stdout",
          "text": [
            "21.14% Rows with SUSP_SEX U\n",
            "19.61% Rows with SUSP_SEX null\n",
            "40.75% Total Rows\n",
            "\n",
            "24.82% Rows with SUSP_RACE UNKNOWN\n",
            "19.61% Rows with SUSP_RACE null\n",
            "44.42% Total Rows\n",
            "\n",
            "37.32% Rows with SUSP_AGE_GROUP UNKNOWN\n",
            "19.61% Rows with SUSP_AGE_GROUP null\n",
            "56.92% Total Rows\n",
            "\n"
          ]
        }
      ]
    },
    {
      "cell_type": "markdown",
      "source": [
        "With this much information unavailable (over 40%), these columns would be problamatic if they were kept. So I will drop these from the working dataframe. (This is even without considering all the additional age values that don't represent real ages.)"
      ],
      "metadata": {
        "id": "oCcyJcFwXTb9"
      }
    },
    {
      "cell_type": "code",
      "source": [
        "drop_columns(df,[\"SUSP_SEX\",\"SUSP_RACE\",\"SUSP_AGE_GROUP\",\"VIC_SEX\",\"VIC_RACE\",\"VIC_AGE_GROUP\"])"
      ],
      "metadata": {
        "colab": {
          "base_uri": "https://localhost:8080/"
        },
        "id": "oJ9lVE5DYLEW",
        "outputId": "c1a9af9b-3adf-4d63-c601-4833a5d5d188"
      },
      "execution_count": 820,
      "outputs": [
        {
          "output_type": "stream",
          "name": "stdout",
          "text": [
            "35 columns before the drop.\n",
            "29 columns after the drop.\n"
          ]
        }
      ]
    },
    {
      "cell_type": "markdown",
      "source": [
        "## 3 . 2 . Location Data"
      ],
      "metadata": {
        "id": "qF7UJiMcRBGx"
      }
    },
    {
      "cell_type": "markdown",
      "source": [
        "There are several columns that descibe the location of the complaint. Some of them are too general, others are too specific, and some are redudant.\n",
        "\n",
        "\n",
        "\n",
        "Primary Location Information\n",
        "* `\"ADDR_PCT_CD\"` (Precinct) (KEEP)\n",
        ">New York is divided into 77 precincts. This is the level that neighborhood communities and law enforcement will typically interact. Additionally, some offenses are assigned alternate locations than where they actually occured. (NYPD Complaints Incident Level Data Footnotes, items number 10 through 13, 15). This makes location resolution smaller than the precinct level less accurate.\n",
        "\n",
        "Too General\n",
        "*  `\"BORO_NM\"` (Borough) (DROP)\n",
        ">New York City has five boroughs. Each has a significantly large population density (four of which are greater than any other city in the country). Locating where events occur by borough is too broad, so I will drop the column. If for some reason the boroughs should become an important feature to include, then it can be added back in as each precinct is within a specific borough (there is the exception of Marble Hill).\n",
        "\n",
        "* `\"PATROL_BORO\"` (Patrol Borough) (DROP)\n",
        ">The patrol borough value  divides three of the boroughs into a north and south region. But otherwise, the size of these patrol boroughs are still too broad.\n",
        "\n",
        "Too Specific and Redundant\n",
        "\n",
        "* `\"Latitude\"` and `\"Longitude\"` (KEEP)\n",
        "    > Geographical location given in the Global Coordinate System. It must be kept in mind that coordinates which are not relocated will be approximations to the nearest mid-block or street intersection. This falls in line with the NYPD Complaints Incident Level Data Footnotes, item 9, which states that trying to match locations to an exact address is not recommended.\n",
        ">\n",
        ">I can use these values to plot a crime heat map of the city, to estimate the center of each precinct, or even create a distribuition of different location types. However, I don't think using it simultaneously with the precint numbers is a good idea, as that would add extra weight to geographical location at the expense of other features.\n",
        "* `\"Lat_Lon\"` and `\"New Georeferenced Column\"` (DROP)\n",
        "    > The latitude and longitude coordinates given as an ordered pair. The new georeferenced column reverses the order of the latitude-longitude ordered pair. Because these ordered pairs contain the same information as the latitude and longitude, they provide no new information.\n",
        "* `\"X_COORD_CD\"` and `\"Y_COORD_CD\"` (DROP)\n",
        "    >  Geographical location given in the New York State Plane Coordinate System. These coordinates can be determined by transforming the latitude and longitude, so provide no new information."
      ],
      "metadata": {
        "id": "FEoOrvI8Oi94"
      }
    },
    {
      "cell_type": "code",
      "source": [
        "drop_columns(df,[\"BORO_NM\", \"PATROL_BORO\",\"X_COORD_CD\",\"Y_COORD_CD\",\"Lat_Lon\",\"New Georeferenced Column\"]),#\"Latitude\",\"Longitude\""
      ],
      "metadata": {
        "colab": {
          "base_uri": "https://localhost:8080/"
        },
        "id": "fjasq6rxN2Rg",
        "outputId": "a080c8c7-9094-4c99-dd69-3b9f13332655"
      },
      "execution_count": 821,
      "outputs": [
        {
          "output_type": "stream",
          "name": "stdout",
          "text": [
            "29 columns before the drop.\n",
            "23 columns after the drop.\n"
          ]
        },
        {
          "output_type": "execute_result",
          "data": {
            "text/plain": [
              "(None,)"
            ]
          },
          "metadata": {},
          "execution_count": 821
        }
      ]
    },
    {
      "cell_type": "markdown",
      "source": [
        "## 3 . 3 . Location Descriptions"
      ],
      "metadata": {
        "id": "moajxmImcszd"
      }
    },
    {
      "cell_type": "markdown",
      "source": [
        "These columns describe attributes about the locations where the complaint occurred.\n",
        "\n",
        "* `\"PREM_TYP_DESC\"` (Premise Type Description) (KEEP)\n",
        ">This describe the type of premise where the complaint occurred. The distribution of location types may be a factor in identifying areas more susceptible to crimes as there may be an association between the type of crime and the type of location.\n",
        ">\n",
        ">This is not a smaller resolution than the precinct, as for most values it doesn't identify where within a precinct an event occurs. (Some exceptions can be identified, but are not common. For example, if the value is `\"CEMETARY\"` and there is only one cemetary in the precinct if won't be difficult to geo-locate the crime.)\n",
        "\n",
        "* `\"LOC_OF_OCCUR_DESC\"` (DROP)\n",
        ">This describes the specific location on the premises the crime occured. Although important for an investigation, I don't believe this is particularly helpful for understanding the distribution of crime throughout the city.\n",
        " \n",
        "The values in each column are listed below.\n",
        "\n",
        "\n",
        "\n",
        "\n"
      ],
      "metadata": {
        "id": "XWUn1NogWCL_"
      }
    },
    {
      "cell_type": "code",
      "source": [
        "show_column_values(df,[\"PREM_TYP_DESC\",\"LOC_OF_OCCUR_DESC\"])"
      ],
      "metadata": {
        "colab": {
          "base_uri": "https://localhost:8080/"
        },
        "id": "mFlDn6rVcWLr",
        "outputId": "90a3cb2c-d8d2-4548-e3ca-7b57e2f1ddc8"
      },
      "execution_count": 822,
      "outputs": [
        {
          "output_type": "stream",
          "name": "stdout",
          "text": [
            "     PREM_TYP_DESC :    74 : ['ABANDONED BUILDING', 'AIRPORT TERMINAL', 'ATM', 'BANK', 'BAR/NIGHT CLUB', 'BEAUTY & NAIL SALON', 'BOOK/CARD', 'BRIDGE', 'BUS (NYC TRANSIT)', 'BUS (OTHER)', 'BUS STOP', 'BUS TERMINAL', 'CANDY STORE', 'CEMETERY', 'CHAIN STORE', 'CHECK CASHING BUSINESS', 'CHURCH', 'CLOTHING/BOUTIQUE', 'COMMERCIAL BUILDING', 'CONSTRUCTION SITE', 'DAYCARE FACILITY', 'DEPARTMENT STORE', 'DOCTOR/DENTIST OFFICE', 'DRUG STORE', 'DRY CLEANER/LAUNDRY', 'FACTORY/WAREHOUSE', 'FAST FOOD', 'FERRY/FERRY TERMINAL', 'FOOD SUPERMARKET', 'GAS STATION', 'GROCERY/BODEGA', 'GYM/FITNESS FACILITY', 'HIGHWAY/PARKWAY', 'HOMELESS SHELTER', 'HOSPITAL', 'HOTEL/MOTEL', 'JEWELRY', 'LIQUOR STORE', 'LOAN COMPANY', 'MAILBOX INSIDE', 'MAILBOX OUTSIDE', 'MARINA/PIER', 'MOSQUE', 'OPEN AREAS (OPEN LOTS)', 'OTHER', 'OTHER HOUSE OF WORSHIP', 'PARK/PLAYGROUND', 'PARKING LOT/GARAGE (PRIVATE)', 'PARKING LOT/GARAGE (PUBLIC)', 'PHOTO/COPY', 'PRIVATE/PAROCHIAL SCHOOL', 'PUBLIC BUILDING', 'PUBLIC SCHOOL', 'RESIDENCE - APT. HOUSE', 'RESIDENCE - PUBLIC HOUSING', 'RESIDENCE-HOUSE', 'RESTAURANT/DINER', 'SHOE', 'SMALL MERCHANT', 'SOCIAL CLUB/POLICY', 'STORAGE FACILITY', 'STORE UNCLASSIFIED', 'STREET', 'SYNAGOGUE', 'TAXI (LIVERY LICENSED)', 'TAXI (YELLOW LICENSED)', 'TAXI/LIVERY (UNLICENSED)', 'TELECOMM. STORE', 'TRAMWAY', 'TRANSIT - NYC SUBWAY', 'TRANSIT FACILITY (OTHER)', 'TUNNEL', 'VARIETY STORE', 'VIDEO STORE']\n",
            "                   :  1269 : Rows Missing Data\n",
            "\n",
            " LOC_OF_OCCUR_DESC :     5 : ['FRONT OF', 'INSIDE', 'OPPOSITE OF', 'OUTSIDE', 'REAR OF']\n",
            "                   : 74262 : Rows Missing Data\n",
            "\n"
          ]
        }
      ]
    },
    {
      "cell_type": "markdown",
      "source": [
        "The values in `\"PREM_TYP_DESC\"` are clearly meant to distinguish different type of locations. Some are similar, and can potentially be merged into common categories if the need should arise (such as the mulitple types of residences).\n"
      ],
      "metadata": {
        "id": "LGw6xzOBco-D"
      }
    },
    {
      "cell_type": "code",
      "source": [
        "drop_columns(df,[\"LOC_OF_OCCUR_DESC\"])"
      ],
      "metadata": {
        "colab": {
          "base_uri": "https://localhost:8080/"
        },
        "id": "B2K58h1KhPP4",
        "outputId": "365d51dd-e8b5-4120-90fa-6734043b4d43"
      },
      "execution_count": 823,
      "outputs": [
        {
          "output_type": "stream",
          "name": "stdout",
          "text": [
            "23 columns before the drop.\n",
            "22 columns after the drop.\n"
          ]
        }
      ]
    },
    {
      "cell_type": "markdown",
      "source": [
        "## 3 . 4 . Special Locations"
      ],
      "metadata": {
        "id": "54AFILIVh8VH"
      }
    },
    {
      "cell_type": "markdown",
      "source": [
        "There are a few columns that provide special location information.\n",
        "* `\"HADEVELOPT\"` (DROP)\n",
        "    > Name of a New York City Housing Authority Development, if applicable.\n",
        "* `\"PARKS_NM\"` (DROP)\n",
        "    >  Name of a New York City park, playground, or greenspace, if applicable.\n",
        "* `\"STATION_NAME\"` (DROP)\n",
        "    > Name of a Transit Station, if applicable.\n",
        "* `\"TRANSIT_DISTRICT\"` (DROP)\n",
        "    > Name of a Transit District, if applicable.\n",
        "\n",
        "Each of these features probably provides too much resolution or nuance for the purposes of this project. I can check that each of these columns is strongly associated with the corresponding descriptions from the `\"PREM_TYP_DESC\"` column.\n",
        "\n"
      ],
      "metadata": {
        "id": "GIsj08DNiEq4"
      }
    },
    {
      "cell_type": "code",
      "source": [
        "print(\"Greatest Premise Type Description for Each Special Location Type\")\n",
        "for col in [\"HADEVELOPT\",\"PARKS_NM\",\"STATION_NAME\",\"TRANSIT_DISTRICT\"]:\n",
        "    # print the most frequent of the premise types that has a value in the iterated column\n",
        "    print(f\"{col:>16} : {df.loc[ ~df[col].isna(), 'PREM_TYP_DESC'].value_counts().index.to_list()[0]}\")\n",
        "    # print the number of occurences for the most frequent of the premise types and all premise types that have values in the iterated column\n",
        "    print(f\"{'':>16} : {df.loc[ ~df[col].isna(), 'PREM_TYP_DESC'].value_counts()[0]} out of {df.loc[ ~df[col].isna(), 'PREM_TYP_DESC'].value_counts().sum()} data entries\")\n",
        "    # print the percent of occurences for the most frequent of the premise types that has a value in the iterated column\n",
        "    print(f\"{'':>16} : {df.loc[ ~df[col].isna(), 'PREM_TYP_DESC'].value_counts()[0]/df.loc[ ~df[col].isna(), 'PREM_TYP_DESC'].value_counts().sum()*100:.2f}%\")\n",
        "    \n",
        "    # print the most 2nd frequent of the premise types that has a value in the iterated column\n",
        "    print(f\"{col:>16} : {df.loc[ ~df[col].isna(), 'PREM_TYP_DESC'].value_counts().index.to_list()[1]}\")\n",
        "    # print the number of occurences for the 2nd most frequent of the premise types and all premise types that have values in the iterated column\n",
        "    print(f\"{'':>16} : {df.loc[ ~df[col].isna(), 'PREM_TYP_DESC'].value_counts()[1]} out of {df.loc[ ~df[col].isna(), 'PREM_TYP_DESC'].value_counts().sum()} data entries\")\n",
        "    # print the percent of occurences for the 2nd most frequent of the premise types that has a value in the iterated column\n",
        "    print(f\"{'':>16} : {df.loc[ ~df[col].isna(), 'PREM_TYP_DESC'].value_counts()[1]/df.loc[ ~df[col].isna(), 'PREM_TYP_DESC'].value_counts().sum()*100:.2f}%\")"
      ],
      "metadata": {
        "colab": {
          "base_uri": "https://localhost:8080/"
        },
        "id": "t3Ms7NalmRYh",
        "outputId": "a49d3641-41d6-4aff-836f-8551b4e58847"
      },
      "execution_count": 824,
      "outputs": [
        {
          "output_type": "stream",
          "name": "stdout",
          "text": [
            "Greatest Premise Type Description for Each Special Location Type\n",
            "      HADEVELOPT : RESIDENCE - PUBLIC HOUSING\n",
            "                 : 1530 out of 1572 data entries\n",
            "                 : 97.33%\n",
            "      HADEVELOPT : STREET\n",
            "                 : 16 out of 1572 data entries\n",
            "                 : 1.02%\n",
            "        PARKS_NM : PARK/PLAYGROUND\n",
            "                 : 2682 out of 3192 data entries\n",
            "                 : 84.02%\n",
            "        PARKS_NM : OTHER\n",
            "                 : 111 out of 3192 data entries\n",
            "                 : 3.48%\n",
            "    STATION_NAME : TRANSIT - NYC SUBWAY\n",
            "                 : 8840 out of 8976 data entries\n",
            "                 : 98.48%\n",
            "    STATION_NAME : TRANSIT FACILITY (OTHER)\n",
            "                 : 59 out of 8976 data entries\n",
            "                 : 0.66%\n",
            "TRANSIT_DISTRICT : TRANSIT - NYC SUBWAY\n",
            "                 : 8840 out of 8976 data entries\n",
            "                 : 98.48%\n",
            "TRANSIT_DISTRICT : TRANSIT FACILITY (OTHER)\n",
            "                 : 59 out of 8976 data entries\n",
            "                 : 0.66%\n"
          ]
        }
      ]
    },
    {
      "cell_type": "markdown",
      "source": [
        "The correspondence is overwhelming, so I will drop the special locations from the dataframe."
      ],
      "metadata": {
        "id": "vbIMFtCYsmQz"
      }
    },
    {
      "cell_type": "code",
      "source": [
        "drop_columns(df,[\"HADEVELOPT\",\"PARKS_NM\",\"STATION_NAME\",\"TRANSIT_DISTRICT\"])"
      ],
      "metadata": {
        "colab": {
          "base_uri": "https://localhost:8080/"
        },
        "id": "tayshcDds7L7",
        "outputId": "2dcc1854-2283-4c37-f7ec-7f1a440f0204"
      },
      "execution_count": 825,
      "outputs": [
        {
          "output_type": "stream",
          "name": "stdout",
          "text": [
            "22 columns before the drop.\n",
            "18 columns after the drop.\n"
          ]
        }
      ]
    },
    {
      "cell_type": "markdown",
      "source": [
        "## 3 . 5 . Jurisdiction"
      ],
      "metadata": {
        "id": "ggHQAuwlrNfj"
      }
    },
    {
      "cell_type": "markdown",
      "source": [
        "The jurisdiction for that is responsible for managing the response to incident can belong to one of 18 different departments. As it is unlikely that a significant number of incidences are carried out based on which authority's jurisdiction it will happen, I will drop these columns.\n",
        "* `\"JURISDICTION_CODE\"` (DROP)\n",
        "    > Numerical designation for a jurisdiction.\n",
        "* `\"JURIS_DESC\"` (DROP)\n",
        "    > Description name for a jurisdiction.\n",
        "\n"
      ],
      "metadata": {
        "id": "ZP_uN1TfteUE"
      }
    },
    {
      "cell_type": "code",
      "source": [
        "drop_columns(df,[\"JURISDICTION_CODE\",\"JURIS_DESC\"])"
      ],
      "metadata": {
        "colab": {
          "base_uri": "https://localhost:8080/"
        },
        "id": "XKDtJ2kVwIFF",
        "outputId": "911af1b8-839d-4799-f987-9897f4643a49"
      },
      "execution_count": 826,
      "outputs": [
        {
          "output_type": "stream",
          "name": "stdout",
          "text": [
            "18 columns before the drop.\n",
            "16 columns after the drop.\n"
          ]
        }
      ]
    },
    {
      "cell_type": "markdown",
      "source": [
        "## 3 . 6 . Offense Codes"
      ],
      "metadata": {
        "id": "4HQ4Vt3Bxbv9"
      }
    },
    {
      "cell_type": "markdown",
      "source": [
        "There are a few additional numerical codes that are used in this data set.\n",
        "\n",
        "* `\"OFNS_DESC\"` (DROP)\n",
        "    >Description of the offense. Types of crimes may be relevant, as differnt types will likely have different distributions throughout the city. This can be used as an alternate target if a more detailed analysis should be required. Otherwise, it should be dropped because each offense belongs only to one of the severity levels of the current target.\n",
        "\n",
        "* `\"PD_DESC\"` (DROP)\n",
        "    >These codes more greatly refine the encoding of the `\"OFNS_DESC\"` column, so would indicate extra information about specific crimes which goes beyond identifying general types of crime.\n",
        "\n",
        "* `\"KY_CD\"` (DROP)\n",
        "    >These are numerical codes corresponding to the descriptive values of the `\"OFNS_DESC\"` column. This is redundent information for this analysis.\n",
        "\n",
        "* `\"PD_CD\"` (DROP)\n",
        "    >These codes more greatly refine the encoding of the `\"KY_CD\"` column, so would indicate extra information about specific crimes which goes beyond identifying general types of crime.\n"
      ],
      "metadata": {
        "id": "rPsq1c2TxftX"
      }
    },
    {
      "cell_type": "code",
      "source": [
        "drop_columns(df,[\"OFNS_DESC\",\"PD_DESC\",\"KY_CD\",\"PD_CD\"])"
      ],
      "metadata": {
        "colab": {
          "base_uri": "https://localhost:8080/"
        },
        "id": "C45CC_v1H36G",
        "outputId": "d8237f70-4959-4a4c-8918-e163b4686f45"
      },
      "execution_count": 827,
      "outputs": [
        {
          "output_type": "stream",
          "name": "stdout",
          "text": [
            "16 columns before the drop.\n",
            "12 columns after the drop.\n"
          ]
        }
      ]
    },
    {
      "cell_type": "markdown",
      "source": [
        "## 3 . 7 . Crime Completion"
      ],
      "metadata": {
        "id": "lRPSWtLFfLoK"
      }
    },
    {
      "cell_type": "markdown",
      "source": [
        "* `\"CRM_ATPT_CPTD_CD\"` (DROP)\n",
        "    > Whether or not the crime was successfully completed or not doesn't alter the fact a crime was initiated."
      ],
      "metadata": {
        "id": "TunzWeH3fV7U"
      }
    },
    {
      "cell_type": "code",
      "source": [
        "drop_columns(df,[\"CRM_ATPT_CPTD_CD\"])"
      ],
      "metadata": {
        "colab": {
          "base_uri": "https://localhost:8080/"
        },
        "id": "109xRq7QgLgE",
        "outputId": "052a32d2-f9d0-4c21-8f57-a0cb9c65e454"
      },
      "execution_count": 828,
      "outputs": [
        {
          "output_type": "stream",
          "name": "stdout",
          "text": [
            "12 columns before the drop.\n",
            "11 columns after the drop.\n"
          ]
        }
      ]
    },
    {
      "cell_type": "markdown",
      "source": [
        "## 3 . 8 . Additional Codes"
      ],
      "metadata": {
        "id": "M3l1T-cEj0Gk"
      }
    },
    {
      "cell_type": "markdown",
      "source": [
        "\n",
        "* `\"HOUSING_PSA\"` (DROP) \n",
        "    >I am assuming this column is related to the Police Service Areas. There are nine Police Service Areas (PSA) in New York City, which patrol housing developments within 31 different precincts. Since this column has 362 unique values, I am not sure what it represents. Since each PSA contains mulitiple precincts, they are individually larger than the resolution I will be examining. I can only guess the many values in this column narrow down the location to a resolution smaller than what I want.\n"
      ],
      "metadata": {
        "id": "5SFxtvcfj0fh"
      }
    },
    {
      "cell_type": "code",
      "source": [
        "drop_columns(df,[\"HOUSING_PSA\"])"
      ],
      "metadata": {
        "colab": {
          "base_uri": "https://localhost:8080/"
        },
        "id": "hudap5_BkHg-",
        "outputId": "9dd22bf3-2547-42bb-de58-b77cb7d6b1e1"
      },
      "execution_count": 829,
      "outputs": [
        {
          "output_type": "stream",
          "name": "stdout",
          "text": [
            "11 columns before the drop.\n",
            "10 columns after the drop.\n"
          ]
        }
      ]
    },
    {
      "cell_type": "markdown",
      "source": [
        "## 3 . 9 . Time and Date\n",
        "\n",
        "* `\"CMPLNT_FR_DT\"` and `\"CMPLNT_FR_TM\"` (KEEP)\n",
        "    >When the event happens or begins is very relevant. All the data rows have these values present.\n",
        "* `\"CMPLNT_TO_DT\"` and `\"CMPLNT_TO_TM\"` (DROP)\n",
        "    >If present, these values indicate a time range when the crime occured. This column has many missing values as many crimes are known to happen at specific times. Since crime data is used to understand and to try to reduce crime, there is more value knowing when crimes are likely to begin rather than when they are likely to end. A crime can't be prevented if it has already happened.\n",
        "* `\"RPT_DT\"` (DROP)\n",
        "    > The date the crime was reported to the police does not alter when the crime actually occured."
      ],
      "metadata": {
        "id": "lLbW5ybYmeBl"
      }
    },
    {
      "cell_type": "code",
      "source": [
        "drop_columns(df,[\"CMPLNT_TO_DT\",\"CMPLNT_TO_TM\",\"RPT_DT\"])"
      ],
      "metadata": {
        "colab": {
          "base_uri": "https://localhost:8080/"
        },
        "id": "3NE8c8sdrcvY",
        "outputId": "f55cfa57-5810-47ab-ae21-abffc39eea57"
      },
      "execution_count": 830,
      "outputs": [
        {
          "output_type": "stream",
          "name": "stdout",
          "text": [
            "10 columns before the drop.\n",
            "7 columns after the drop.\n"
          ]
        }
      ]
    },
    {
      "cell_type": "markdown",
      "source": [
        "# 4 . Data Types and Consistency\n"
      ],
      "metadata": {
        "id": "18Iq7-8lsI2A"
      }
    },
    {
      "cell_type": "markdown",
      "source": [
        "Of the remaining columns, I will review the dataframe information."
      ],
      "metadata": {
        "id": "USsb6cFFx1cx"
      }
    },
    {
      "cell_type": "code",
      "source": [
        "df.info()"
      ],
      "metadata": {
        "colab": {
          "base_uri": "https://localhost:8080/"
        },
        "id": "uu4gWfujxtNb",
        "outputId": "fa4da4a7-aaa9-474b-d302-d68be830d304"
      },
      "execution_count": 831,
      "outputs": [
        {
          "output_type": "stream",
          "name": "stdout",
          "text": [
            "<class 'pandas.core.frame.DataFrame'>\n",
            "Int64Index: 449506 entries, 903695881 to 806537994\n",
            "Data columns (total 7 columns):\n",
            " #   Column         Non-Null Count   Dtype  \n",
            "---  ------         --------------   -----  \n",
            " 0   ADDR_PCT_CD    449506 non-null  int64  \n",
            " 1   CMPLNT_FR_DT   449506 non-null  object \n",
            " 2   CMPLNT_FR_TM   449506 non-null  object \n",
            " 3   LAW_CAT_CD     449506 non-null  object \n",
            " 4   PREM_TYP_DESC  448236 non-null  object \n",
            " 5   Latitude       449506 non-null  float64\n",
            " 6   Longitude      449506 non-null  float64\n",
            "dtypes: float64(2), int64(1), object(4)\n",
            "memory usage: 27.4+ MB\n"
          ]
        }
      ]
    },
    {
      "cell_type": "markdown",
      "source": [
        "## 4 . 1 . Date and Time Values"
      ],
      "metadata": {
        "id": "mvlar5THpZfX"
      }
    },
    {
      "cell_type": "markdown",
      "source": [
        "Here, the date and time columns are the object data type, but would probably be better served as the datetime datatype. However, I have encounted an error in trying to convert the strings into datetime values, so I will need to examine the strings more carefully."
      ],
      "metadata": {
        "id": "KPZTuu2yx7Wx"
      }
    },
    {
      "cell_type": "markdown",
      "source": [
        "### 4 . 1 . 1 . Date"
      ],
      "metadata": {
        "id": "shTGnwb_EMs3"
      }
    },
    {
      "cell_type": "markdown",
      "source": [
        "First I will examine the date values by looking at their format.\n",
        "\n"
      ],
      "metadata": {
        "id": "tkzrW3laEd5d"
      }
    },
    {
      "cell_type": "code",
      "source": [
        "display(df[\"CMPLNT_FR_DT\"])\n",
        "display(df[\"CMPLNT_FR_DT\"].apply(type).head())"
      ],
      "metadata": {
        "colab": {
          "base_uri": "https://localhost:8080/",
          "height": 364
        },
        "id": "5rTSg-XWEwSG",
        "outputId": "08f534e7-676d-4249-e147-5037ad46d547"
      },
      "execution_count": 832,
      "outputs": [
        {
          "output_type": "display_data",
          "data": {
            "text/plain": [
              "CMPLNT_NUM\n",
              "903695881    12/17/2021\n",
              "400462399    12/17/2021\n",
              "587910690    12/13/2021\n",
              "186105368    12/07/2021\n",
              "185325394    12/06/2021\n",
              "                ...    \n",
              "798000815    01/08/2021\n",
              "900510890    01/02/2021\n",
              "244132985    01/02/2021\n",
              "366756177    01/06/2021\n",
              "806537994    08/01/2019\n",
              "Name: CMPLNT_FR_DT, Length: 449506, dtype: object"
            ]
          },
          "metadata": {}
        },
        {
          "output_type": "display_data",
          "data": {
            "text/plain": [
              "CMPLNT_NUM\n",
              "903695881    <class 'str'>\n",
              "400462399    <class 'str'>\n",
              "587910690    <class 'str'>\n",
              "186105368    <class 'str'>\n",
              "185325394    <class 'str'>\n",
              "Name: CMPLNT_FR_DT, dtype: object"
            ]
          },
          "metadata": {}
        }
      ]
    },
    {
      "cell_type": "markdown",
      "source": [
        "Since they are string in the format 00/00/0000, I can take slices of the strings and examine day, month, and year separately."
      ],
      "metadata": {
        "id": "eZ-JypzzE7sO"
      }
    },
    {
      "cell_type": "code",
      "source": [
        "# Examine the month values with slice [0:2]\n",
        "display(df[\"CMPLNT_FR_DT\"].apply(lambda x: x[0:2]).value_counts().sort_index())"
      ],
      "metadata": {
        "colab": {
          "base_uri": "https://localhost:8080/",
          "height": 243
        },
        "id": "istGclaN5iS8",
        "outputId": "be8ab0dc-1076-485b-8e69-25caabc05441"
      },
      "execution_count": 833,
      "outputs": [
        {
          "output_type": "display_data",
          "data": {
            "text/plain": [
              "01    33767\n",
              "02    28572\n",
              "03    34956\n",
              "04    32982\n",
              "05    36990\n",
              "06    37879\n",
              "07    39779\n",
              "08    39383\n",
              "09    40196\n",
              "10    43288\n",
              "11    41615\n",
              "12    40099\n",
              "Name: CMPLNT_FR_DT, dtype: int64"
            ]
          },
          "metadata": {}
        }
      ]
    },
    {
      "cell_type": "markdown",
      "source": [
        "All the month values are individually OK."
      ],
      "metadata": {
        "id": "LOLCELNZ9ft7"
      }
    },
    {
      "cell_type": "code",
      "source": [
        "# Examine the day values with slice [3:5]\n",
        "display(df[\"CMPLNT_FR_DT\"].apply(lambda x: x[3:5]).value_counts().sort_index())"
      ],
      "metadata": {
        "colab": {
          "base_uri": "https://localhost:8080/",
          "height": 573
        },
        "id": "nm3YlpUC6txk",
        "outputId": "ced1a6bc-9f39-4bf2-9213-59e15f465208"
      },
      "execution_count": 834,
      "outputs": [
        {
          "output_type": "display_data",
          "data": {
            "text/plain": [
              "01    17941\n",
              "02    14340\n",
              "03    14349\n",
              "04    14589\n",
              "05    14877\n",
              "06    14604\n",
              "07    14440\n",
              "08    14357\n",
              "09    14441\n",
              "10    15047\n",
              "11    14703\n",
              "12    15011\n",
              "13    14925\n",
              "14    14741\n",
              "15    15713\n",
              "16    15145\n",
              "17    14989\n",
              "18    14373\n",
              "19    14618\n",
              "20    15261\n",
              "21    14915\n",
              "22    14592\n",
              "23    14648\n",
              "24    14695\n",
              "25    14483\n",
              "26    14510\n",
              "27    14435\n",
              "28    14207\n",
              "29    12944\n",
              "30    13552\n",
              "31     8061\n",
              "Name: CMPLNT_FR_DT, dtype: int64"
            ]
          },
          "metadata": {}
        }
      ]
    },
    {
      "cell_type": "markdown",
      "source": [
        "All the day values are individually OK. (The days 29, 30, and 31 might not work with some month combinations if those months do not have those days.)"
      ],
      "metadata": {
        "id": "UjfwpMEd9nDV"
      }
    },
    {
      "cell_type": "code",
      "source": [
        "# Examine the year values with slice [:6]\n",
        "display(df[\"CMPLNT_FR_DT\"].apply(lambda x: x[6:]).value_counts().sort_index())"
      ],
      "metadata": {
        "colab": {
          "base_uri": "https://localhost:8080/",
          "height": 1000
        },
        "id": "03YYAc7A9Ul0",
        "outputId": "87b9f6e2-8d9c-470f-b11d-5c569e34b9d8"
      },
      "execution_count": 835,
      "outputs": [
        {
          "output_type": "display_data",
          "data": {
            "text/plain": [
              "1019         1\n",
              "1021         7\n",
              "1920         1\n",
              "1921         8\n",
              "1955         1\n",
              "1958         1\n",
              "1960         1\n",
              "1966         1\n",
              "1967         1\n",
              "1969         1\n",
              "1970         1\n",
              "1971         7\n",
              "1972         1\n",
              "1973         1\n",
              "1976         2\n",
              "1977         1\n",
              "1978         1\n",
              "1979         3\n",
              "1980         1\n",
              "1981         4\n",
              "1982         2\n",
              "1983         3\n",
              "1984         5\n",
              "1985         1\n",
              "1986         3\n",
              "1987         4\n",
              "1988         5\n",
              "1989         5\n",
              "1990         5\n",
              "1991         3\n",
              "1992         1\n",
              "1993         4\n",
              "1994         5\n",
              "1995         8\n",
              "1996         4\n",
              "1997        11\n",
              "1998        10\n",
              "1999        10\n",
              "2000        18\n",
              "2001        29\n",
              "2002        14\n",
              "2003        16\n",
              "2004        13\n",
              "2005        16\n",
              "2006        23\n",
              "2007        32\n",
              "2008        38\n",
              "2009        40\n",
              "2010        46\n",
              "2011        61\n",
              "2012        99\n",
              "2013        94\n",
              "2014       111\n",
              "2015       116\n",
              "2016       175\n",
              "2017       244\n",
              "2018       335\n",
              "2019       898\n",
              "2020      7329\n",
              "2021    439625\n",
              "Name: CMPLNT_FR_DT, dtype: int64"
            ]
          },
          "metadata": {}
        }
      ]
    },
    {
      "cell_type": "markdown",
      "source": [
        "Well, one row has the year 1019 and seven rows have the year 1021. Those are certaintly wrong.\n",
        "\n",
        "Additionally, the number of reports for all years before 2021 are almost two orders of magnitude fewer. So I will just drop all the rows with a year that isn't 2021. This means that the current analysis is restricted to the year 2021. A comparison between years will would require another dataset."
      ],
      "metadata": {
        "id": "-9YwTQnK-Rjd"
      }
    },
    {
      "cell_type": "code",
      "source": [
        "filter_2021 = df[\"CMPLNT_FR_DT\"].apply(lambda x: x[6:])==\"2021\"\n",
        "df = df.loc[filter_2021, :]\n",
        "print(f\"Current number of rows dropped: {(~filter_2021).sum():>6}\")\n",
        "show_dropped_row_count(df)"
      ],
      "metadata": {
        "id": "O6o62MwY-0he",
        "colab": {
          "base_uri": "https://localhost:8080/"
        },
        "outputId": "57e1e9c0-b9e1-499d-d6f0-3f342896d5ff"
      },
      "execution_count": 836,
      "outputs": [
        {
          "output_type": "stream",
          "name": "stdout",
          "text": [
            "Current number of rows dropped:   9881\n",
            "Total number of rows dropped:   439625\n",
            "Initial number of rows dropped: 449506\n",
            "Percent of rows dropped:           2.2 %\n"
          ]
        }
      ]
    },
    {
      "cell_type": "markdown",
      "source": [
        "Now that the unnecessary years (and invalid years) are gone, I can convert the strings to the datetime data type. However, I will further convert them to the day of the year (1 through 365) as an integer. This is because I have encountered some issues when trying to use the date mathematically (such as with a corrolation heatmap). I will also rename the column to better match the new representation of date."
      ],
      "metadata": {
        "id": "mnaDijQ3_quw"
      }
    },
    {
      "cell_type": "code",
      "source": [
        "from datetime import datetime\n",
        "df[\"CMPLNT_FR_DT\"] = pd.to_datetime(df[\"CMPLNT_FR_DT\"])\n",
        "df[\"CMPLNT_FR_DT\"] = df[\"CMPLNT_FR_DT\"].apply(lambda x: x.timetuple().tm_yday)\n",
        "df.rename(columns = {\"CMPLNT_FR_DT\":\"DAY_OF_YEAR\"}, inplace=True)\n",
        "df[\"DAY_OF_YEAR\"].nunique()"
      ],
      "metadata": {
        "id": "0mw3li6x_Ts1",
        "colab": {
          "base_uri": "https://localhost:8080/"
        },
        "outputId": "4d9c82cf-c592-48d0-f0c7-43f8438e6f12"
      },
      "execution_count": 837,
      "outputs": [
        {
          "output_type": "stream",
          "name": "stderr",
          "text": [
            "/usr/local/lib/python3.7/dist-packages/ipykernel_launcher.py:2: SettingWithCopyWarning: \n",
            "A value is trying to be set on a copy of a slice from a DataFrame.\n",
            "Try using .loc[row_indexer,col_indexer] = value instead\n",
            "\n",
            "See the caveats in the documentation: https://pandas.pydata.org/pandas-docs/stable/user_guide/indexing.html#returning-a-view-versus-a-copy\n",
            "  \n"
          ]
        },
        {
          "output_type": "execute_result",
          "data": {
            "text/plain": [
              "365"
            ]
          },
          "metadata": {},
          "execution_count": 837
        }
      ]
    },
    {
      "cell_type": "markdown",
      "source": [
        "There are 365 unique values as expected."
      ],
      "metadata": {
        "id": "SlTE2iyqIIau"
      }
    },
    {
      "cell_type": "markdown",
      "source": [
        "### 4 . 1  . 2 . Time"
      ],
      "metadata": {
        "id": "p9M30ALYEE1S"
      }
    },
    {
      "cell_type": "markdown",
      "source": [
        "A quick look at the format and data type of the time values."
      ],
      "metadata": {
        "id": "Ga_O1-X0JlCX"
      }
    },
    {
      "cell_type": "code",
      "source": [
        "display(df[\"CMPLNT_FR_TM\"])\n",
        "display(df[\"CMPLNT_FR_TM\"].apply(type).head())"
      ],
      "metadata": {
        "colab": {
          "base_uri": "https://localhost:8080/",
          "height": 364
        },
        "id": "cFNB_ZJAJkYg",
        "outputId": "c5a22f9a-f7e9-4312-e28a-6e7b28cacd76"
      },
      "execution_count": 838,
      "outputs": [
        {
          "output_type": "display_data",
          "data": {
            "text/plain": [
              "CMPLNT_NUM\n",
              "903695881    22:13:00\n",
              "400462399    06:21:00\n",
              "587910690    20:05:00\n",
              "186105368    22:49:00\n",
              "185325394    17:25:00\n",
              "               ...   \n",
              "702183776    15:40:00\n",
              "798000815    07:00:00\n",
              "900510890    04:50:00\n",
              "244132985    09:35:00\n",
              "366756177    19:40:00\n",
              "Name: CMPLNT_FR_TM, Length: 439625, dtype: object"
            ]
          },
          "metadata": {}
        },
        {
          "output_type": "display_data",
          "data": {
            "text/plain": [
              "CMPLNT_NUM\n",
              "903695881    <class 'str'>\n",
              "400462399    <class 'str'>\n",
              "587910690    <class 'str'>\n",
              "186105368    <class 'str'>\n",
              "185325394    <class 'str'>\n",
              "Name: CMPLNT_FR_TM, dtype: object"
            ]
          },
          "metadata": {}
        }
      ]
    },
    {
      "cell_type": "markdown",
      "source": [
        "The time can also be converted from a string to a more useful format. Additionally, I will also bin times into 15 minute intervals. A resolution of 1 minute doesn't seem at this time to be particularly helpful when examining crime as a whole.\n",
        "\n",
        "I'm going to represent time values in decimal format with each quarter hour as 0.00, 0.25, 0.50, and 0.75."
      ],
      "metadata": {
        "id": "wIBpZLcFj6hm"
      }
    },
    {
      "cell_type": "code",
      "source": [
        "# For times in the format 00:00:00, slice [:2] is the hour, slice [3:5] is the minute\n",
        "\n",
        "# function to bin minutes into 15 minute intervals\n",
        "# np.floor(x * 1 / 60 * 4 ) * 0.25\n",
        "# * 1/60 to normalize down to a scale of 1\n",
        "# * 4 because there are 4 intervals of 15 minutes per hour\n",
        "# floor() to round down to the begining minute of the interval\n",
        "# * 0.25 to scale the 15 minute interval to a fraction of 1 hour\n",
        "\n",
        "df[\"CMPLNT_FR_TM\"] = df[\"CMPLNT_FR_TM\"].apply(lambda x: int(x[:2]) + np.floor(int(x[3:5]) * 1 / 60 * 4 ) * 0.25)"
      ],
      "metadata": {
        "id": "FkIPM4xX-rqL"
      },
      "execution_count": 839,
      "outputs": []
    },
    {
      "cell_type": "markdown",
      "source": [
        "And a quick review of the results."
      ],
      "metadata": {
        "id": "g7MULf14KU7K"
      }
    },
    {
      "cell_type": "code",
      "source": [
        "display(df[\"CMPLNT_FR_TM\"])\n",
        "display(df[\"CMPLNT_FR_TM\"].apply(type).head())"
      ],
      "metadata": {
        "colab": {
          "base_uri": "https://localhost:8080/",
          "height": 364
        },
        "id": "LJgONhzFKTEA",
        "outputId": "89b3bc34-5ce0-466e-9658-4dde41673311"
      },
      "execution_count": 840,
      "outputs": [
        {
          "output_type": "display_data",
          "data": {
            "text/plain": [
              "CMPLNT_NUM\n",
              "903695881    22.00\n",
              "400462399     6.25\n",
              "587910690    20.00\n",
              "186105368    22.75\n",
              "185325394    17.25\n",
              "             ...  \n",
              "702183776    15.50\n",
              "798000815     7.00\n",
              "900510890     4.75\n",
              "244132985     9.50\n",
              "366756177    19.50\n",
              "Name: CMPLNT_FR_TM, Length: 439625, dtype: float64"
            ]
          },
          "metadata": {}
        },
        {
          "output_type": "display_data",
          "data": {
            "text/plain": [
              "CMPLNT_NUM\n",
              "903695881    <class 'float'>\n",
              "400462399    <class 'float'>\n",
              "587910690    <class 'float'>\n",
              "186105368    <class 'float'>\n",
              "185325394    <class 'float'>\n",
              "Name: CMPLNT_FR_TM, dtype: object"
            ]
          },
          "metadata": {}
        }
      ]
    },
    {
      "cell_type": "markdown",
      "source": [
        "Comparing these to the brief display before conversion shows that these results are what is wanted.\n",
        "\n",
        "I will also rename the column to reflect that I have modified it."
      ],
      "metadata": {
        "id": "4H7YxtQRKZeo"
      }
    },
    {
      "cell_type": "code",
      "source": [
        "df.rename(columns = {\"CMPLNT_FR_TM\":\"TIME_OF_DAY\"}, inplace=True)"
      ],
      "metadata": {
        "id": "y9RFc8sXlTdg"
      },
      "execution_count": 841,
      "outputs": []
    },
    {
      "cell_type": "markdown",
      "source": [
        "## 4 . 2 . Precinct Values"
      ],
      "metadata": {
        "id": "rTJ1YTm7pRU4"
      }
    },
    {
      "cell_type": "markdown",
      "source": [
        "Although the precinct values are \"numbers\", they are not numeric. Rather the values are nominal, so should be treated as strings and then One-Hot encoded at the appropriate preprocessing step."
      ],
      "metadata": {
        "id": "EzsZzkHxpeTf"
      }
    },
    {
      "cell_type": "code",
      "source": [
        "df[\"ADDR_PCT_CD\"] = df[\"ADDR_PCT_CD\"].apply(str)\n",
        "df.info()"
      ],
      "metadata": {
        "colab": {
          "base_uri": "https://localhost:8080/"
        },
        "id": "SpH9RbwzqdxP",
        "outputId": "c0f93b53-2936-4ba6-ee71-38363c3e2bf8"
      },
      "execution_count": 842,
      "outputs": [
        {
          "output_type": "stream",
          "name": "stdout",
          "text": [
            "<class 'pandas.core.frame.DataFrame'>\n",
            "Int64Index: 439625 entries, 903695881 to 366756177\n",
            "Data columns (total 7 columns):\n",
            " #   Column         Non-Null Count   Dtype  \n",
            "---  ------         --------------   -----  \n",
            " 0   ADDR_PCT_CD    439625 non-null  object \n",
            " 1   DAY_OF_YEAR    439625 non-null  int64  \n",
            " 2   TIME_OF_DAY    439625 non-null  float64\n",
            " 3   LAW_CAT_CD     439625 non-null  object \n",
            " 4   PREM_TYP_DESC  438418 non-null  object \n",
            " 5   Latitude       439625 non-null  float64\n",
            " 6   Longitude      439625 non-null  float64\n",
            "dtypes: float64(3), int64(1), object(3)\n",
            "memory usage: 26.8+ MB\n"
          ]
        }
      ]
    },
    {
      "cell_type": "markdown",
      "source": [
        "## 4 . 3 . Law Category Code Value"
      ],
      "metadata": {
        "id": "fXJMHGYuqD2n"
      }
    },
    {
      "cell_type": "markdown",
      "source": [
        "The `\"LAW_CAT_CD\"` values are given as strings. However, they can be treated as ordinal values. This is because they can be ranked by severity, with violation being the lowest severity, and felony being the greatest severity."
      ],
      "metadata": {
        "id": "B-YPZ9W0qRrr"
      }
    },
    {
      "cell_type": "code",
      "source": [
        "df[\"LAW_CAT_CD\"].value_counts()"
      ],
      "metadata": {
        "colab": {
          "base_uri": "https://localhost:8080/"
        },
        "id": "rNe-nI3sQ1Uy",
        "outputId": "00467927-f135-426a-b02a-ee2663d8d270"
      },
      "execution_count": 843,
      "outputs": [
        {
          "output_type": "execute_result",
          "data": {
            "text/plain": [
              "MISDEMEANOR    221145\n",
              "FELONY         144025\n",
              "VIOLATION       74455\n",
              "Name: LAW_CAT_CD, dtype: int64"
            ]
          },
          "metadata": {},
          "execution_count": 843
        }
      ]
    },
    {
      "cell_type": "code",
      "source": [
        "df[\"LAW_CAT_CD\"]=df[\"LAW_CAT_CD\"].replace({\"VIOLATION\":0,\"MISDEMEANOR\":1,\"FELONY\":2})"
      ],
      "metadata": {
        "id": "xzDP2azNiKXV"
      },
      "execution_count": 844,
      "outputs": []
    },
    {
      "cell_type": "markdown",
      "source": [
        "## 4 . 4 . Offense Description Values"
      ],
      "metadata": {
        "id": "eOs-nvp0rp05"
      }
    },
    {
      "cell_type": "markdown",
      "source": [
        "The offense description column is descriptive, thus nominal, so can remain as strings to be later One-Hot Encoded. Reviewing the output earlier, it can be seen that the values are consistently formated and unique for their meaning.\n",
        "\n",
        "However, there are a few rows missing values. But the number is very small, so I will choose to drop them."
      ],
      "metadata": {
        "id": "48mNa_thrtxo"
      }
    },
    {
      "cell_type": "code",
      "source": [
        "filter_premise_type = ~df[\"PREM_TYP_DESC\"].isna()\n",
        "df = df.loc[ filter_premise_type , : ]\n",
        "print(f\"Current number of rows dropped: {(~filter_premise_type).sum():>6}\")\n",
        "show_dropped_row_count(df)"
      ],
      "metadata": {
        "colab": {
          "base_uri": "https://localhost:8080/"
        },
        "id": "wD9S3QFRdmYc",
        "outputId": "5348d68d-8122-4f78-e915-82c2ec560084"
      },
      "execution_count": 845,
      "outputs": [
        {
          "output_type": "stream",
          "name": "stdout",
          "text": [
            "Current number of rows dropped:   1207\n",
            "Total number of rows dropped:   438418\n",
            "Initial number of rows dropped: 449506\n",
            "Percent of rows dropped:           2.5 %\n"
          ]
        }
      ]
    },
    {
      "cell_type": "markdown",
      "source": [
        "So, the total number of rows dropped only account for 2.5% of the data."
      ],
      "metadata": {
        "id": "WcQ8GDoVpLx9"
      }
    },
    {
      "cell_type": "markdown",
      "source": [
        "# 5 . Creating New Columns"
      ],
      "metadata": {
        "id": "-7SZHBQAQuQ1"
      }
    },
    {
      "cell_type": "markdown",
      "source": [
        "## 5 . 1 . Day of the Week"
      ],
      "metadata": {
        "id": "STgozzzoQyZR"
      }
    },
    {
      "cell_type": "markdown",
      "source": [
        "Since the days of the week are ordinal, I will use the numbering convention where\n",
        "* Monday : 0\n",
        "* Tuesday : 1\n",
        "* Wednesday : 2\n",
        "* Thursday : 3\n",
        "* Friday : 4\n",
        "* Saturday : 5\n",
        "* Sunday : 6\n",
        "\n",
        "Since I've already stripped the year information from the \"CMPLNT_FR_DT\" column, I will need to know that January 1, 2021 was a Friday. Using modular division I can find the value for the day of the week for each day of the year."
      ],
      "metadata": {
        "id": "KqnayJFAR86i"
      }
    },
    {
      "cell_type": "code",
      "source": [
        "df[\"DAY_OF_WEEK\"] = df[\"DAY_OF_YEAR\"].apply(lambda x: (x - 4) % 7)\n",
        "df.info()"
      ],
      "metadata": {
        "colab": {
          "base_uri": "https://localhost:8080/"
        },
        "id": "tf6D-BBRQ1HA",
        "outputId": "b5ad16e9-65e7-4b93-d840-f1edd7b0878e"
      },
      "execution_count": 846,
      "outputs": [
        {
          "output_type": "stream",
          "name": "stdout",
          "text": [
            "<class 'pandas.core.frame.DataFrame'>\n",
            "Int64Index: 438418 entries, 186105368 to 366756177\n",
            "Data columns (total 8 columns):\n",
            " #   Column         Non-Null Count   Dtype  \n",
            "---  ------         --------------   -----  \n",
            " 0   ADDR_PCT_CD    438418 non-null  object \n",
            " 1   DAY_OF_YEAR    438418 non-null  int64  \n",
            " 2   TIME_OF_DAY    438418 non-null  float64\n",
            " 3   LAW_CAT_CD     438418 non-null  int64  \n",
            " 4   PREM_TYP_DESC  438418 non-null  object \n",
            " 5   Latitude       438418 non-null  float64\n",
            " 6   Longitude      438418 non-null  float64\n",
            " 7   DAY_OF_WEEK    438418 non-null  int64  \n",
            "dtypes: float64(3), int64(3), object(2)\n",
            "memory usage: 30.1+ MB\n"
          ]
        }
      ]
    },
    {
      "cell_type": "markdown",
      "source": [
        "# 6 . Univariate Visuals"
      ],
      "metadata": {
        "id": "5rLBrOe9tnG4"
      }
    },
    {
      "cell_type": "markdown",
      "source": [
        "After viewing the visuals below, it is apparent that some modifications to the data format and classification will be necessary,"
      ],
      "metadata": {
        "id": "Xx6qAhRVumPR"
      }
    },
    {
      "cell_type": "code",
      "source": [
        "import matplotlib.pyplot as plt\n",
        "import seaborn as sns"
      ],
      "metadata": {
        "id": "uBYETiLB_4pC"
      },
      "execution_count": 847,
      "outputs": []
    },
    {
      "cell_type": "markdown",
      "source": [
        "## 6 . 1 . Crime, Day,  and Time"
      ],
      "metadata": {
        "id": "DDadkFVa0qlp"
      }
    },
    {
      "cell_type": "code",
      "source": [
        "# fig, axe = plt.subplots(ncols=1,nrows=1,figsize=(8,6),tight_layout=True)\n",
        "plt.figure(figsize=(15,5),tight_layout=True)\n",
        "# from matplotlib.pyplot import cm\n",
        "# color = cm.rainbow(np.linspace(0, 1, df[\"LAW_CAT_CD\"].nunique()+1))\n",
        "plt.xlim(0,366)\n",
        "axe = sns.histplot(data=df.sort_values(by=\"LAW_CAT_CD\"), x=\"DAY_OF_YEAR\",hue=\"LAW_CAT_CD\",\\\n",
        "                hue_order=[2,1,0],binwidth=1,binrange=(0.5,365.5),\\\n",
        "                edgecolor=\"black\",alpha=1,multiple=\"dodge\",palette=\"Set1\",zorder=3)\n",
        "axe.set_title(\"Number of Crimes for Each Day of the Year 2021 in New York City\",fontsize=\"xx-large\",pad=20)\n",
        "axe.set_xlabel(\"Day of the Year\",labelpad=10,fontsize=\"x-large\")\n",
        "axe.set_ylabel(\"Number of Crimes\",labelpad=10,fontsize=\"x-large\")\n",
        "axe.tick_params(left=True)\n",
        "axe.tick_params(axis=\"x\",labelrotation=90)#,labelsize=\"small\")\n",
        "axe.legend(title=\"Severity of Crime\",labels=[\"Violation\",\"Misdemeanor\",\"Felony\"],framealpha=1)\n",
        "plt.xticks([1]+list(range(0,366,5))[1:])\n",
        "axe.yaxis.grid(True,zorder=0);\n",
        "plt.show()"
      ],
      "metadata": {
        "colab": {
          "base_uri": "https://localhost:8080/",
          "height": 369
        },
        "id": "1yH4eOTdjHUO",
        "outputId": "13439c16-9a93-4ba2-bee0-c995c9ab3180"
      },
      "execution_count": 848,
      "outputs": [
        {
          "output_type": "display_data",
          "data": {
            "text/plain": [
              "<Figure size 1080x360 with 1 Axes>"
            ],
            "image/png": "[encoded data removed]"
          },
          "metadata": {
            "needs_background": "light"
          }
        }
      ]
    },
    {
      "cell_type": "markdown",
      "source": [
        "This graphs can be a bit difficult to read, so I will make a version where the three severities are graphed separately."
      ],
      "metadata": {
        "id": "YYdZLwZ3VvyP"
      }
    },
    {
      "cell_type": "code",
      "source": [
        "fig, axe = plt.subplots(nrows=3,figsize=(15,6))\n",
        "fig.tight_layout(rect=[0, 0.03, 1, 0.95])\n",
        "# plt.xlim(0,366)\n",
        "# sns.set_palette(sns.color_palette(\"tab10\",2))\n",
        "plt.suptitle(\"Number of Crimes for Each Day of the Year 2021 in New York City\",fontsize=\"xx-large\")\n",
        "for i in range(3):\n",
        "    sns.histplot(ax = axe[i], data = df.loc[df[\"LAW_CAT_CD\"] == i, : ],\\\n",
        "                        x=\"DAY_OF_YEAR\",\\\n",
        "                        #   hue=\"LAW_CAT_CD\",\\\n",
        "                        binwidth=1,binrange=(0.5,365.5),\\\n",
        "                        edgecolor=\"black\",alpha=1, color=sns.color_palette(\"Set1\")[2-i],\\\n",
        "                        # color order reversal so red is felony, green is violation\n",
        "                        multiple=\"dodge\",zorder=3)\n",
        "    crime_severity = [\"Violations\",\"Misdemeanors\",\"Felonies\"][i]\n",
        "    axe[i].set_ylabel(f\"Number of\\n{crime_severity}\",labelpad=10,fontsize=\"x-large\")\n",
        "    axe[i].set_xlabel(\"\",visible=False)\n",
        "    axe[i].tick_params(left=True)\n",
        "    axe[i].yaxis.grid(True);\n",
        "    axe[i].tick_params(axis=\"x\",labelrotation=90)\n",
        "    axe[i].set_xticks([1]+list(range(0,366,5))[1:])\n",
        "    axe[i].set_xlim(0,366)\n",
        "# Put felonies on the top, violations on the bottom\n",
        "pos0 = axe[0].get_position()\n",
        "axe[0].set_position(axe[2].get_position())\n",
        "axe[2].set_position(pos0)\n",
        "axe[0].set_xlabel(\"Day of the Year\", fontsize=\"x-large\",labelpad=10,visible=True)\n",
        "plt.savefig('NY Crime by Day of Year 2021.png', bbox_inches='tight')\n",
        "plt.show()"
      ],
      "metadata": {
        "colab": {
          "base_uri": "https://localhost:8080/",
          "height": 464
        },
        "id": "_XgGEU-vk-o-",
        "outputId": "36a1e1ed-d771-4989-97e6-137097af8879"
      },
      "execution_count": 849,
      "outputs": [
        {
          "output_type": "display_data",
          "data": {
            "text/plain": [
              "<Figure size 1080x432 with 3 Axes>"
            ],
            "image/png": "[encoded data removed]"
          },
          "metadata": {
            "needs_background": "light"
          }
        }
      ]
    },
    {
      "cell_type": "code",
      "source": [
        "# fig, axe = plt.subplots(ncols=1,nrows=1,figsize=(8,6),tight_layout=True)\n",
        "from matplotlib.ticker import AutoMinorLocator\n",
        "plt.figure(figsize=(15,5),tight_layout=True)\n",
        "# color = cm.rainbow(np.linspace(0, 1, df[\"LAW_CAT_CD\"].nunique()+1))\n",
        "plt.xlim(0,24)\n",
        "# zorder is the drawing order, higher numbers are on top, lower on bottom.\n",
        "axe = sns.histplot(data = df, x=\"TIME_OF_DAY\",hue=\"LAW_CAT_CD\",hue_order=[2,1,0],binwidth=0.25,binrange=(0,25),\\\n",
        "             edgecolor=\"black\",alpha=1,multiple=\"dodge\",palette=\"Set1\", shrink=0.9,zorder=3)\n",
        "axe.set_title(\"Number of Crimes by Time of Day \\n Cummulative over the Year 2021\",fontsize=\"xx-large\",pad=20)\n",
        "axe.set_xlabel(\"Hour of the Day (in quarter hour intervals)\",fontsize=\"x-large\",labelpad=10)\n",
        "axe.set_ylabel(\"Number of Crimes\",fontsize=\"x-large\",labelpad=10)\n",
        "axe.yaxis.grid(True,zorder=0);\n",
        "axe.tick_params(left=True)\n",
        "axe.tick_params(axis=\"x\")\n",
        "axe.set_xticks(range(0,25))\n",
        "plt.xticks(range(25))\n",
        "axe.xaxis.set_minor_locator(AutoMinorLocator(n=4))\n",
        "axe.legend(title=\"Severity of Crime\",labels=[\"Violation\",\"Misdemeanor\",\"Felony\"],framealpha=1)\n",
        "plt.show()"
      ],
      "metadata": {
        "colab": {
          "base_uri": "https://localhost:8080/",
          "height": 369
        },
        "id": "Gumz8zeS1F57",
        "outputId": "2b2234c1-ba3b-437d-b810-98e842378c83"
      },
      "execution_count": 850,
      "outputs": [
        {
          "output_type": "display_data",
          "data": {
            "text/plain": [
              "<Figure size 1080x360 with 1 Axes>"
            ],
            "image/png": "[encoded data removed]"
          },
          "metadata": {
            "needs_background": "light"
          }
        }
      ]
    },
    {
      "cell_type": "markdown",
      "source": [
        "There are some interesting properties in this graph. During the 15 minute interval at the beginning fo the hour spikes the highest, then the 15 minute interval at the half hour spikes the second highest. The consistency throughout the day suggest this is an artifact of the investigation or recording process when deterimining the time. Since it is unlikely that the precise minute of each incident is always known, it would likely be rounded to the nearest hour or half hour as the closest estimate.\n",
        "\n",
        "However, hour 0 and hour 12 have unusual spikes that doesn't match nearby spikes well. This may also be due partially to extra rounding for events that happen near \"midnight\" and \"noon\"."
      ],
      "metadata": {
        "id": "yB_1xGk9X8BA"
      }
    },
    {
      "cell_type": "markdown",
      "source": [
        "## 6 . 2 . Crime and Premise Type"
      ],
      "metadata": {
        "id": "FrNCzgFB3SlN"
      }
    },
    {
      "cell_type": "markdown",
      "source": [
        "As seen in the plot, the comment I made earlier about merging some of the category values may be prudent."
      ],
      "metadata": {
        "id": "9CUZ8S6p6xT1"
      }
    },
    {
      "cell_type": "code",
      "source": [
        "# fig, axe = plt.subplots(ncols=1,nrows=1,figsize=(8,6),tight_layout=True)\n",
        "import matplotlib.ticker\n",
        "plt.figure(figsize=(15,5),tight_layout=True)\n",
        "axe = sns.histplot(data=df, x=\"PREM_TYP_DESC\",hue=\"LAW_CAT_CD\",palette=\"Set1\",\\\n",
        "             edgecolor=\"black\",alpha=1,zorder=3)\n",
        "axe.set_title(\"Number of Crimes for Each Premise Type\",fontsize=\"x-large\",pad=20)\n",
        "axe.set_xlabel(\"Premise Type\",fontsize=\"x-large\",labelpad=10)\n",
        "axe.set_ylabel(\"Number of Crimes\",fontsize=\"x-large\",labelpad=10)\n",
        "axe.yaxis.grid(True,zorder=0);\n",
        "axe.set_yscale(\"linear\")\n",
        "axe.set_yticks(range(0,80000,10000))\n",
        "axe.tick_params(left=True,axis=\"y\",labelsize=\"large\")\n",
        "axe.tick_params(axis=\"x\",labelrotation=90,labelsize=\"small\")\n",
        "plt.xlim(df[\"PREM_TYP_DESC\"].nunique(),-1)\n",
        "axe.legend(title=\"Severity of Crime\",labels=[\"Violation\",\"Misdemeanor\",\"Felony\"],loc=0,framealpha=1)\n",
        "plt.savefig('NY Crime by Premise Type.png', bbox_inches='tight')\n",
        "plt.show()"
      ],
      "metadata": {
        "colab": {
          "base_uri": "https://localhost:8080/",
          "height": 369
        },
        "id": "ZV72saDf5LKV",
        "outputId": "4a51619b-8509-48a7-a30b-6bd8510e6fae"
      },
      "execution_count": 851,
      "outputs": [
        {
          "output_type": "display_data",
          "data": {
            "text/plain": [
              "<Figure size 1080x360 with 1 Axes>"
            ],
            "image/png": "[encoded data removed]"
          },
          "metadata": {
            "needs_background": "light"
          }
        }
      ]
    },
    {
      "cell_type": "markdown",
      "source": [
        "## 6 . 3 . Crime and Precinct"
      ],
      "metadata": {
        "id": "iv8TgU_87Jx8"
      }
    },
    {
      "cell_type": "code",
      "source": [
        "# fig, axe = plt.subplots(ncols=1,nrows=1,figsize=(8,6),tight_layout=True)\n",
        "plt.figure(figsize=(10,10),tight_layout=True)\n",
        "\n",
        "# temporary convertion to int\n",
        "df[\"ADDR_PCT_CD\"] = df[\"ADDR_PCT_CD\"].apply(int)\n",
        "\n",
        "\n",
        "axe = sns.histplot(data=df, y=\"ADDR_PCT_CD\",hue=\"LAW_CAT_CD\",hue_order=[2,1,0],palette=\"Set1\",\\\n",
        "             edgecolor=\"black\",alpha=1,multiple=\"fill\")\n",
        "axe.set_title(\"Fraction of Crimes By Severity Type within Each Precinct\",fontsize=\"xx-large\",pad=20)\n",
        "axe.set_ylabel(\"Precinct Number\",labelpad=10, fontsize=\"x-large\")\n",
        "axe.set_xlabel(\"Fraction of Crimes\",fontsize=\"x-large\",labelpad=10)\n",
        "axe.yaxis.grid(False);\n",
        "plt.ylim(0, df[\"ADDR_PCT_CD\"].unique().max()+1)\n",
        "axe.set_yticks(range(0,125,5))\n",
        "axe.tick_params(left=True)\n",
        "axe.tick_params(axis=\"x\",labelrotation=90)\n",
        "axe.legend(title=\"Severity of Crime\",labels=[\"Violation\",\"Misdemeanor\",\"Felony\"],framealpha=1)\n",
        "plt.savefig('NY Crime Ratios in Precincts.png', bbox_inches='tight')\n",
        "plt.show()\n",
        "\n",
        "# undo conversion\n",
        "df[\"ADDR_PCT_CD\"] = df[\"ADDR_PCT_CD\"].apply(str)"
      ],
      "metadata": {
        "colab": {
          "base_uri": "https://localhost:8080/",
          "height": 729
        },
        "id": "jyTLXAPG7KLF",
        "outputId": "20a99182-d999-4109-be61-a9c44b9ef9ba"
      },
      "execution_count": 852,
      "outputs": [
        {
          "output_type": "display_data",
          "data": {
            "text/plain": [
              "<Figure size 720x720 with 1 Axes>"
            ],
            "image/png": "[encoded data removed]"
          },
          "metadata": {
            "needs_background": "light"
          }
        }
      ]
    },
    {
      "cell_type": "markdown",
      "source": [
        "The distribution of crimes by severity appears to be very similar across most precints.\n",
        "\n"
      ],
      "metadata": {
        "id": "UraxSRU7aTv7"
      }
    },
    {
      "cell_type": "code",
      "source": [
        "# import squarify    # pip install squarify (algorithm for treemap)\n",
        "# from matplotlib.pyplot import cm\n",
        "# color = cm.rainbow(np.linspace(0, 1, df_sales[\"Outlet_Type\"].nunique()+1))\n",
        "\n",
        "display(df.groupby(\"LAW_CAT_CD\")[\"LAW_CAT_CD\"].value_counts())\n",
        "display(df.loc[ df[\"LAW_CAT_CD\"] == 0 , : ].sum())\n",
        "\n",
        "# plt.figure(figsize=(12,6))\n",
        "# squarify.plot(sizes=items_per_outlet,value=items_per_outlet,label=items_per_outlet.index,pad=True,color=color,alpha=0.5)\n",
        "# #, label=df_sales[\"Item_Type\"].value_counts().index ,value=df_sales[\"Item_Type\"].value_counts() ,color=color,alpha=0.5,text_kwargs={\"fontsize\":12}\n",
        "\n",
        "# plt.title(\"Number of Items Sold Within Each Category (All Outlets)\")\n",
        "# plt.axis('off')\n",
        "# plt.show()"
      ],
      "metadata": {
        "colab": {
          "base_uri": "https://localhost:8080/",
          "height": 260
        },
        "id": "39C51rBRwkBG",
        "outputId": "458da63d-8b67-4bf0-db07-8924dd1b353a"
      },
      "execution_count": 853,
      "outputs": [
        {
          "output_type": "display_data",
          "data": {
            "text/plain": [
              "LAW_CAT_CD  LAW_CAT_CD\n",
              "0           0              74346\n",
              "1           1             220746\n",
              "2           2             143326\n",
              "Name: LAW_CAT_CD, dtype: int64"
            ]
          },
          "metadata": {}
        },
        {
          "output_type": "display_data",
          "data": {
            "text/plain": [
              "ADDR_PCT_CD      4746115477373616218101104601074875694123504510...\n",
              "DAY_OF_YEAR                                               14117438\n",
              "TIME_OF_DAY                                              1024226.0\n",
              "LAW_CAT_CD                                                       0\n",
              "PREM_TYP_DESC    RESIDENCE - APT. HOUSERESIDENCE - APT. HOUSERE...\n",
              "Latitude                                             3028354.47901\n",
              "Longitude                                           -5495733.95056\n",
              "DAY_OF_WEEK                                                 220132\n",
              "dtype: object"
            ]
          },
          "metadata": {}
        }
      ]
    },
    {
      "cell_type": "markdown",
      "source": [
        "# 7 . Correlation"
      ],
      "metadata": {
        "id": "3MySK1XEzKns"
      }
    },
    {
      "cell_type": "markdown",
      "source": [
        "Premise type descriptions are not included in the heatmap as they are categorical.\n"
      ],
      "metadata": {
        "id": "o38TjEdKz-8Z"
      }
    },
    {
      "cell_type": "code",
      "source": [
        "plt.figure(figsize=(8,8))\n",
        "corr = df.corr()\n",
        "heat_ax = sns.heatmap(corr,cmap='bwr',annot=True,square=True,center=0,annot_kws={\"fontsize\":\"large\"})\n",
        "heat_ax.set_title(\"Correlation Heatmap \\n \", fontsize=\"xx-large\");\n",
        "heat_ax.xaxis.grid(False);\n",
        "heat_ax.tick_params(axis=\"x\",labelrotation=90,labelsize=\"large\")\n",
        "heat_ax.tick_params(axis=\"y\",labelrotation=0,labelsize=\"large\")"
      ],
      "metadata": {
        "colab": {
          "base_uri": "https://localhost:8080/",
          "height": 524
        },
        "id": "tCrK_hWfwWCp",
        "outputId": "1b1fa9d1-8f58-439c-cee1-1ecce7f00b67"
      },
      "execution_count": 854,
      "outputs": [
        {
          "output_type": "display_data",
          "data": {
            "text/plain": [
              "<Figure size 576x576 with 2 Axes>"
            ],
            "image/png": "[encoded data removed]"
          },
          "metadata": {
            "needs_background": "light"
          }
        }
      ]
    },
    {
      "cell_type": "markdown",
      "source": [
        "Strickly speaking, the precincts are categorical. However, the names are numbers and thus included in this correlation heatmap. The correlation that the precincts have with the global coordinates comes from the numbering scheme, which has the precinct predominantly increasing in numerical value going from the southwest toward the northeast.There are a few significant jumps that break this pattern.\n",
        "\n",
        "It would appear that I can determine there is almost no linear correlation between the severity of the crime and the precinct the crime occurs in. This was already suggested by the previous plot showing the ratios of the severity levels within each precinct."
      ],
      "metadata": {
        "id": "oMVCEN2RFklH"
      }
    },
    {
      "cell_type": "markdown",
      "source": [
        "# 8 . Preprocessing"
      ],
      "metadata": {
        "id": "5kOUo_6wbY2M"
      }
    },
    {
      "cell_type": "markdown",
      "source": [
        "For this classification analysis (with 3 target values), the models I will try be be a random forest and a K-nearest neighbors.\n",
        "\n",
        "First, the preprocessser will be constructed that will feed data to each model."
      ],
      "metadata": {
        "id": "YTa9ehsJoJ0H"
      }
    },
    {
      "cell_type": "code",
      "source": [
        "from sklearn.model_selection import train_test_split\n",
        "from sklearn.preprocessing import StandardScaler, OneHotEncoder\n",
        "from sklearn.pipeline import make_pipeline\n",
        "from sklearn.compose import make_column_selector, make_column_transformer\n",
        "\n",
        "from sklearn import set_config\n",
        "set_config(display=\"diagram\")"
      ],
      "metadata": {
        "id": "Y8SfwdlOZxFk"
      },
      "execution_count": 855,
      "outputs": []
    },
    {
      "cell_type": "markdown",
      "source": [
        "## 8 . 1 . Validation Split"
      ],
      "metadata": {
        "id": "rbODPgLNpcaG"
      }
    },
    {
      "cell_type": "code",
      "source": [
        "# Seperate the data into feature matrix and target vector\n",
        "X = df.drop(columns=\"LAW_CAT_CD\")\n",
        "y = df[\"LAW_CAT_CD\"]\n",
        "\n",
        "# Split the data in to training and testing data\n",
        "X_train,X_test,y_train,y_test=train_test_split(X,y,random_state=42)"
      ],
      "metadata": {
        "id": "6NV5pnqopiou"
      },
      "execution_count": 856,
      "outputs": []
    },
    {
      "cell_type": "markdown",
      "source": [
        "## 8 . 2 . Column Selectors"
      ],
      "metadata": {
        "id": "5lxWWtjzp5aX"
      }
    },
    {
      "cell_type": "code",
      "source": [
        "# numeric feature selector\n",
        "num_selector = make_column_selector(dtype_include = \"number\")\n",
        "# nominal feature selector\n",
        "cat_selector = make_column_selector(dtype_include = \"object\")"
      ],
      "metadata": {
        "id": "AeXcODYEvNz9"
      },
      "execution_count": 857,
      "outputs": []
    },
    {
      "cell_type": "markdown",
      "source": [
        "## 8 . 3 . Imputers"
      ],
      "metadata": {
        "id": "ul_R9VfJvorz"
      }
    },
    {
      "cell_type": "markdown",
      "source": [
        "There is no remaining missing data, so no columns need imputation."
      ],
      "metadata": {
        "id": "a6vSdp9EvtBc"
      }
    },
    {
      "cell_type": "markdown",
      "source": [
        "## 8 . 4 . Data Transformers"
      ],
      "metadata": {
        "id": "uq7Dkb5OvvLD"
      }
    },
    {
      "cell_type": "markdown",
      "source": [
        "The numeric features will be scaled to a standard-score ($z=\\frac{x-\\mu}{\\sigma}$).\n",
        "\n",
        "The nominal features will be one-hot encoded."
      ],
      "metadata": {
        "id": "O30sz7rk8I4H"
      }
    },
    {
      "cell_type": "code",
      "source": [
        "# scaler transformer\n",
        "scaler = StandardScaler()\n",
        "# one-hot encoder\n",
        "onehot = OneHotEncoder(handle_unknown = \"ignore\", sparse = False)"
      ],
      "metadata": {
        "id": "Wa-4w4Lgvzce"
      },
      "execution_count": 858,
      "outputs": []
    },
    {
      "cell_type": "markdown",
      "source": [
        "## 8 . 5 . Pipelines"
      ],
      "metadata": {
        "id": "obNsTCCYxtcz"
      }
    },
    {
      "cell_type": "code",
      "source": [
        "# numeric pipeline\n",
        "num_pipe = make_pipeline(scaler)\n",
        "\n",
        "# nominal pipeline\n",
        "cat_pipe = make_pipeline(onehot)"
      ],
      "metadata": {
        "id": "tA6QAhQOxsDe"
      },
      "execution_count": 859,
      "outputs": []
    },
    {
      "cell_type": "markdown",
      "source": [
        "## 8 . 6 . Column Transformer"
      ],
      "metadata": {
        "id": "BQLbj3ax0muq"
      }
    },
    {
      "cell_type": "code",
      "source": [
        "# numeric tuple\n",
        "num_tuple = ( num_pipe, num_selector )\n",
        "\n",
        "# nominal tuple\n",
        "cat_tuple = ( cat_pipe, cat_selector )"
      ],
      "metadata": {
        "id": "tIFkb5X40mfi"
      },
      "execution_count": 860,
      "outputs": []
    },
    {
      "cell_type": "code",
      "source": [
        "preprocessor = make_column_transformer( num_tuple, cat_tuple)\n",
        "display(preprocessor)"
      ],
      "metadata": {
        "colab": {
          "base_uri": "https://localhost:8080/",
          "height": 118
        },
        "id": "CNcrM-tV0t-K",
        "outputId": "54c89e82-7ec6-4b43-a95e-3839a17c9ed1"
      },
      "execution_count": 861,
      "outputs": [
        {
          "output_type": "display_data",
          "data": {
            "text/plain": [
              "ColumnTransformer(transformers=[('pipeline-1',\n",
              "                                 Pipeline(steps=[('standardscaler',\n",
              "                                                  StandardScaler())]),\n",
              "                                 <sklearn.compose._column_transformer.make_column_selector object at 0x7feb74bc5210>),\n",
              "                                ('pipeline-2',\n",
              "                                 Pipeline(steps=[('onehotencoder',\n",
              "                                                  OneHotEncoder(handle_unknown='ignore',\n",
              "                                                                sparse=False))]),\n",
              "                                 <sklearn.compose._column_transformer.make_column_selector object at 0x7feb71a51d10>)])"
            ],
            "text/html": [
              "<style>#sk-51afe63b-4ccb-4316-9e47-c9affd382da6 {color: black;background-color: white;}#sk-51afe63b-4ccb-4316-9e47-c9affd382da6 pre{padding: 0;}#sk-51afe63b-4ccb-4316-9e47-c9affd382da6 div.sk-toggleable {background-color: white;}#sk-51afe63b-4ccb-4316-9e47-c9affd382da6 label.sk-toggleable__label {cursor: pointer;display: block;width: 100%;margin-bottom: 0;padding: 0.3em;box-sizing: border-box;text-align: center;}#sk-51afe63b-4ccb-4316-9e47-c9affd382da6 label.sk-toggleable__label-arrow:before {content: \"▸\";float: left;margin-right: 0.25em;color: #696969;}#sk-51afe63b-4ccb-4316-9e47-c9affd382da6 label.sk-toggleable__label-arrow:hover:before {color: black;}#sk-51afe63b-4ccb-4316-9e47-c9affd382da6 div.sk-estimator:hover label.sk-toggleable__label-arrow:before {color: black;}#sk-51afe63b-4ccb-4316-9e47-c9affd382da6 div.sk-toggleable__content {max-height: 0;max-width: 0;overflow: hidden;text-align: left;background-color: #f0f8ff;}#sk-51afe63b-4ccb-4316-9e47-c9affd382da6 div.sk-toggleable__content pre {margin: 0.2em;color: black;border-radius: 0.25em;background-color: #f0f8ff;}#sk-51afe63b-4ccb-4316-9e47-c9affd382da6 input.sk-toggleable__control:checked~div.sk-toggleable__content {max-height: 200px;max-width: 100%;overflow: auto;}#sk-51afe63b-4ccb-4316-9e47-c9affd382da6 input.sk-toggleable__control:checked~label.sk-toggleable__label-arrow:before {content: \"▾\";}#sk-51afe63b-4ccb-4316-9e47-c9affd382da6 div.sk-estimator input.sk-toggleable__control:checked~label.sk-toggleable__label {background-color: #d4ebff;}#sk-51afe63b-4ccb-4316-9e47-c9affd382da6 div.sk-label input.sk-toggleable__control:checked~label.sk-toggleable__label {background-color: #d4ebff;}#sk-51afe63b-4ccb-4316-9e47-c9affd382da6 input.sk-hidden--visually {border: 0;clip: rect(1px 1px 1px 1px);clip: rect(1px, 1px, 1px, 1px);height: 1px;margin: -1px;overflow: hidden;padding: 0;position: absolute;width: 1px;}#sk-51afe63b-4ccb-4316-9e47-c9affd382da6 div.sk-estimator {font-family: monospace;background-color: #f0f8ff;border: 1px dotted black;border-radius: 0.25em;box-sizing: border-box;margin-bottom: 0.5em;}#sk-51afe63b-4ccb-4316-9e47-c9affd382da6 div.sk-estimator:hover {background-color: #d4ebff;}#sk-51afe63b-4ccb-4316-9e47-c9affd382da6 div.sk-parallel-item::after {content: \"\";width: 100%;border-bottom: 1px solid gray;flex-grow: 1;}#sk-51afe63b-4ccb-4316-9e47-c9affd382da6 div.sk-label:hover label.sk-toggleable__label {background-color: #d4ebff;}#sk-51afe63b-4ccb-4316-9e47-c9affd382da6 div.sk-serial::before {content: \"\";position: absolute;border-left: 1px solid gray;box-sizing: border-box;top: 2em;bottom: 0;left: 50%;}#sk-51afe63b-4ccb-4316-9e47-c9affd382da6 div.sk-serial {display: flex;flex-direction: column;align-items: center;background-color: white;padding-right: 0.2em;padding-left: 0.2em;}#sk-51afe63b-4ccb-4316-9e47-c9affd382da6 div.sk-item {z-index: 1;}#sk-51afe63b-4ccb-4316-9e47-c9affd382da6 div.sk-parallel {display: flex;align-items: stretch;justify-content: center;background-color: white;}#sk-51afe63b-4ccb-4316-9e47-c9affd382da6 div.sk-parallel::before {content: \"\";position: absolute;border-left: 1px solid gray;box-sizing: border-box;top: 2em;bottom: 0;left: 50%;}#sk-51afe63b-4ccb-4316-9e47-c9affd382da6 div.sk-parallel-item {display: flex;flex-direction: column;position: relative;background-color: white;}#sk-51afe63b-4ccb-4316-9e47-c9affd382da6 div.sk-parallel-item:first-child::after {align-self: flex-end;width: 50%;}#sk-51afe63b-4ccb-4316-9e47-c9affd382da6 div.sk-parallel-item:last-child::after {align-self: flex-start;width: 50%;}#sk-51afe63b-4ccb-4316-9e47-c9affd382da6 div.sk-parallel-item:only-child::after {width: 0;}#sk-51afe63b-4ccb-4316-9e47-c9affd382da6 div.sk-dashed-wrapped {border: 1px dashed gray;margin: 0 0.4em 0.5em 0.4em;box-sizing: border-box;padding-bottom: 0.4em;background-color: white;position: relative;}#sk-51afe63b-4ccb-4316-9e47-c9affd382da6 div.sk-label label {font-family: monospace;font-weight: bold;background-color: white;display: inline-block;line-height: 1.2em;}#sk-51afe63b-4ccb-4316-9e47-c9affd382da6 div.sk-label-container {position: relative;z-index: 2;text-align: center;}#sk-51afe63b-4ccb-4316-9e47-c9affd382da6 div.sk-container {/* jupyter's `normalize.less` sets `[hidden] { display: none; }` but bootstrap.min.css set `[hidden] { display: none !important; }` so we also need the `!important` here to be able to override the default hidden behavior on the sphinx rendered scikit-learn.org. See: https://github.com/scikit-learn/scikit-learn/issues/21755 */display: inline-block !important;position: relative;}#sk-51afe63b-4ccb-4316-9e47-c9affd382da6 div.sk-text-repr-fallback {display: none;}</style><div id=\"sk-51afe63b-4ccb-4316-9e47-c9affd382da6\" class=\"sk-top-container\"><div class=\"sk-text-repr-fallback\"><pre>ColumnTransformer(transformers=[(&#x27;pipeline-1&#x27;,\n",
              "                                 Pipeline(steps=[(&#x27;standardscaler&#x27;,\n",
              "                                                  StandardScaler())]),\n",
              "                                 &lt;sklearn.compose._column_transformer.make_column_selector object at 0x7feb74bc5210&gt;),\n",
              "                                (&#x27;pipeline-2&#x27;,\n",
              "                                 Pipeline(steps=[(&#x27;onehotencoder&#x27;,\n",
              "                                                  OneHotEncoder(handle_unknown=&#x27;ignore&#x27;,\n",
              "                                                                sparse=False))]),\n",
              "                                 &lt;sklearn.compose._column_transformer.make_column_selector object at 0x7feb71a51d10&gt;)])</pre><b>Please rerun this cell to show the HTML repr or trust the notebook.</b></div><div class=\"sk-container\" hidden><div class=\"sk-item sk-dashed-wrapped\"><div class=\"sk-label-container\"><div class=\"sk-label sk-toggleable\"><input class=\"sk-toggleable__control sk-hidden--visually\" id=\"6c856be8-764a-4af9-b541-4ebebb4f2657\" type=\"checkbox\" ><label for=\"6c856be8-764a-4af9-b541-4ebebb4f2657\" class=\"sk-toggleable__label sk-toggleable__label-arrow\">ColumnTransformer</label><div class=\"sk-toggleable__content\"><pre>ColumnTransformer(transformers=[(&#x27;pipeline-1&#x27;,\n",
              "                                 Pipeline(steps=[(&#x27;standardscaler&#x27;,\n",
              "                                                  StandardScaler())]),\n",
              "                                 &lt;sklearn.compose._column_transformer.make_column_selector object at 0x7feb74bc5210&gt;),\n",
              "                                (&#x27;pipeline-2&#x27;,\n",
              "                                 Pipeline(steps=[(&#x27;onehotencoder&#x27;,\n",
              "                                                  OneHotEncoder(handle_unknown=&#x27;ignore&#x27;,\n",
              "                                                                sparse=False))]),\n",
              "                                 &lt;sklearn.compose._column_transformer.make_column_selector object at 0x7feb71a51d10&gt;)])</pre></div></div></div><div class=\"sk-parallel\"><div class=\"sk-parallel-item\"><div class=\"sk-item\"><div class=\"sk-label-container\"><div class=\"sk-label sk-toggleable\"><input class=\"sk-toggleable__control sk-hidden--visually\" id=\"1c142812-20e0-4391-995c-32c241712ef0\" type=\"checkbox\" ><label for=\"1c142812-20e0-4391-995c-32c241712ef0\" class=\"sk-toggleable__label sk-toggleable__label-arrow\">pipeline-1</label><div class=\"sk-toggleable__content\"><pre>&lt;sklearn.compose._column_transformer.make_column_selector object at 0x7feb74bc5210&gt;</pre></div></div></div><div class=\"sk-serial\"><div class=\"sk-item\"><div class=\"sk-serial\"><div class=\"sk-item\"><div class=\"sk-estimator sk-toggleable\"><input class=\"sk-toggleable__control sk-hidden--visually\" id=\"248623fe-0485-44a9-a13a-4d90995b0d13\" type=\"checkbox\" ><label for=\"248623fe-0485-44a9-a13a-4d90995b0d13\" class=\"sk-toggleable__label sk-toggleable__label-arrow\">StandardScaler</label><div class=\"sk-toggleable__content\"><pre>StandardScaler()</pre></div></div></div></div></div></div></div></div><div class=\"sk-parallel-item\"><div class=\"sk-item\"><div class=\"sk-label-container\"><div class=\"sk-label sk-toggleable\"><input class=\"sk-toggleable__control sk-hidden--visually\" id=\"25279c28-903b-40fa-b63a-dd61da4d7ee1\" type=\"checkbox\" ><label for=\"25279c28-903b-40fa-b63a-dd61da4d7ee1\" class=\"sk-toggleable__label sk-toggleable__label-arrow\">pipeline-2</label><div class=\"sk-toggleable__content\"><pre>&lt;sklearn.compose._column_transformer.make_column_selector object at 0x7feb71a51d10&gt;</pre></div></div></div><div class=\"sk-serial\"><div class=\"sk-item\"><div class=\"sk-serial\"><div class=\"sk-item\"><div class=\"sk-estimator sk-toggleable\"><input class=\"sk-toggleable__control sk-hidden--visually\" id=\"4335cb52-13ef-4138-bb28-712eda3a1ba3\" type=\"checkbox\" ><label for=\"4335cb52-13ef-4138-bb28-712eda3a1ba3\" class=\"sk-toggleable__label sk-toggleable__label-arrow\">OneHotEncoder</label><div class=\"sk-toggleable__content\"><pre>OneHotEncoder(handle_unknown=&#x27;ignore&#x27;, sparse=False)</pre></div></div></div></div></div></div></div></div></div></div></div></div>"
            ]
          },
          "metadata": {}
        }
      ]
    },
    {
      "cell_type": "markdown",
      "source": [
        "# 9 . Model 0: Baseline"
      ],
      "metadata": {
        "id": "BRy4VEdl1TbS"
      }
    },
    {
      "cell_type": "markdown",
      "source": [
        "This will be a baseline comparision model. Any model with predictive power should perform better than the baseline model."
      ],
      "metadata": {
        "id": "oSfJ_mQ31o6S"
      }
    },
    {
      "cell_type": "markdown",
      "source": [
        "## 9 . 1 . Baseline Pipeline"
      ],
      "metadata": {
        "id": "u20WCWjm2FHx"
      }
    },
    {
      "cell_type": "code",
      "source": [
        "from sklearn.dummy import DummyClassifier\n",
        "from sklearn.metrics import classification_report\n",
        "base_classifier = DummyClassifier(strategy=\"most_frequent\",random_state=42)\n",
        "\n",
        "base_pipe = make_pipeline(preprocessor, base_classifier)\n",
        "base_pipe"
      ],
      "metadata": {
        "colab": {
          "base_uri": "https://localhost:8080/",
          "height": 192
        },
        "id": "1TaQYQ9Z1ors",
        "outputId": "87ebbb19-e069-4409-bb83-8f8d7fefe8c5"
      },
      "execution_count": 862,
      "outputs": [
        {
          "output_type": "execute_result",
          "data": {
            "text/plain": [
              "Pipeline(steps=[('columntransformer',\n",
              "                 ColumnTransformer(transformers=[('pipeline-1',\n",
              "                                                  Pipeline(steps=[('standardscaler',\n",
              "                                                                   StandardScaler())]),\n",
              "                                                  <sklearn.compose._column_transformer.make_column_selector object at 0x7feb74bc5210>),\n",
              "                                                 ('pipeline-2',\n",
              "                                                  Pipeline(steps=[('onehotencoder',\n",
              "                                                                   OneHotEncoder(handle_unknown='ignore',\n",
              "                                                                                 sparse=False))]),\n",
              "                                                  <sklearn.compose._column_transformer.make_column_selector object at 0x7feb71a51d10>)])),\n",
              "                ('dummyclassifier',\n",
              "                 DummyClassifier(random_state=42, strategy='most_frequent'))])"
            ],
            "text/html": [
              "<style>#sk-219f143b-a55e-476d-a40d-a8602f1b21ba {color: black;background-color: white;}#sk-219f143b-a55e-476d-a40d-a8602f1b21ba pre{padding: 0;}#sk-219f143b-a55e-476d-a40d-a8602f1b21ba div.sk-toggleable {background-color: white;}#sk-219f143b-a55e-476d-a40d-a8602f1b21ba label.sk-toggleable__label {cursor: pointer;display: block;width: 100%;margin-bottom: 0;padding: 0.3em;box-sizing: border-box;text-align: center;}#sk-219f143b-a55e-476d-a40d-a8602f1b21ba label.sk-toggleable__label-arrow:before {content: \"▸\";float: left;margin-right: 0.25em;color: #696969;}#sk-219f143b-a55e-476d-a40d-a8602f1b21ba label.sk-toggleable__label-arrow:hover:before {color: black;}#sk-219f143b-a55e-476d-a40d-a8602f1b21ba div.sk-estimator:hover label.sk-toggleable__label-arrow:before {color: black;}#sk-219f143b-a55e-476d-a40d-a8602f1b21ba div.sk-toggleable__content {max-height: 0;max-width: 0;overflow: hidden;text-align: left;background-color: #f0f8ff;}#sk-219f143b-a55e-476d-a40d-a8602f1b21ba div.sk-toggleable__content pre {margin: 0.2em;color: black;border-radius: 0.25em;background-color: #f0f8ff;}#sk-219f143b-a55e-476d-a40d-a8602f1b21ba input.sk-toggleable__control:checked~div.sk-toggleable__content {max-height: 200px;max-width: 100%;overflow: auto;}#sk-219f143b-a55e-476d-a40d-a8602f1b21ba input.sk-toggleable__control:checked~label.sk-toggleable__label-arrow:before {content: \"▾\";}#sk-219f143b-a55e-476d-a40d-a8602f1b21ba div.sk-estimator input.sk-toggleable__control:checked~label.sk-toggleable__label {background-color: #d4ebff;}#sk-219f143b-a55e-476d-a40d-a8602f1b21ba div.sk-label input.sk-toggleable__control:checked~label.sk-toggleable__label {background-color: #d4ebff;}#sk-219f143b-a55e-476d-a40d-a8602f1b21ba input.sk-hidden--visually {border: 0;clip: rect(1px 1px 1px 1px);clip: rect(1px, 1px, 1px, 1px);height: 1px;margin: -1px;overflow: hidden;padding: 0;position: absolute;width: 1px;}#sk-219f143b-a55e-476d-a40d-a8602f1b21ba div.sk-estimator {font-family: monospace;background-color: #f0f8ff;border: 1px dotted black;border-radius: 0.25em;box-sizing: border-box;margin-bottom: 0.5em;}#sk-219f143b-a55e-476d-a40d-a8602f1b21ba div.sk-estimator:hover {background-color: #d4ebff;}#sk-219f143b-a55e-476d-a40d-a8602f1b21ba div.sk-parallel-item::after {content: \"\";width: 100%;border-bottom: 1px solid gray;flex-grow: 1;}#sk-219f143b-a55e-476d-a40d-a8602f1b21ba div.sk-label:hover label.sk-toggleable__label {background-color: #d4ebff;}#sk-219f143b-a55e-476d-a40d-a8602f1b21ba div.sk-serial::before {content: \"\";position: absolute;border-left: 1px solid gray;box-sizing: border-box;top: 2em;bottom: 0;left: 50%;}#sk-219f143b-a55e-476d-a40d-a8602f1b21ba div.sk-serial {display: flex;flex-direction: column;align-items: center;background-color: white;padding-right: 0.2em;padding-left: 0.2em;}#sk-219f143b-a55e-476d-a40d-a8602f1b21ba div.sk-item {z-index: 1;}#sk-219f143b-a55e-476d-a40d-a8602f1b21ba div.sk-parallel {display: flex;align-items: stretch;justify-content: center;background-color: white;}#sk-219f143b-a55e-476d-a40d-a8602f1b21ba div.sk-parallel::before {content: \"\";position: absolute;border-left: 1px solid gray;box-sizing: border-box;top: 2em;bottom: 0;left: 50%;}#sk-219f143b-a55e-476d-a40d-a8602f1b21ba div.sk-parallel-item {display: flex;flex-direction: column;position: relative;background-color: white;}#sk-219f143b-a55e-476d-a40d-a8602f1b21ba div.sk-parallel-item:first-child::after {align-self: flex-end;width: 50%;}#sk-219f143b-a55e-476d-a40d-a8602f1b21ba div.sk-parallel-item:last-child::after {align-self: flex-start;width: 50%;}#sk-219f143b-a55e-476d-a40d-a8602f1b21ba div.sk-parallel-item:only-child::after {width: 0;}#sk-219f143b-a55e-476d-a40d-a8602f1b21ba div.sk-dashed-wrapped {border: 1px dashed gray;margin: 0 0.4em 0.5em 0.4em;box-sizing: border-box;padding-bottom: 0.4em;background-color: white;position: relative;}#sk-219f143b-a55e-476d-a40d-a8602f1b21ba div.sk-label label {font-family: monospace;font-weight: bold;background-color: white;display: inline-block;line-height: 1.2em;}#sk-219f143b-a55e-476d-a40d-a8602f1b21ba div.sk-label-container {position: relative;z-index: 2;text-align: center;}#sk-219f143b-a55e-476d-a40d-a8602f1b21ba div.sk-container {/* jupyter's `normalize.less` sets `[hidden] { display: none; }` but bootstrap.min.css set `[hidden] { display: none !important; }` so we also need the `!important` here to be able to override the default hidden behavior on the sphinx rendered scikit-learn.org. See: https://github.com/scikit-learn/scikit-learn/issues/21755 */display: inline-block !important;position: relative;}#sk-219f143b-a55e-476d-a40d-a8602f1b21ba div.sk-text-repr-fallback {display: none;}</style><div id=\"sk-219f143b-a55e-476d-a40d-a8602f1b21ba\" class=\"sk-top-container\"><div class=\"sk-text-repr-fallback\"><pre>Pipeline(steps=[(&#x27;columntransformer&#x27;,\n",
              "                 ColumnTransformer(transformers=[(&#x27;pipeline-1&#x27;,\n",
              "                                                  Pipeline(steps=[(&#x27;standardscaler&#x27;,\n",
              "                                                                   StandardScaler())]),\n",
              "                                                  &lt;sklearn.compose._column_transformer.make_column_selector object at 0x7feb74bc5210&gt;),\n",
              "                                                 (&#x27;pipeline-2&#x27;,\n",
              "                                                  Pipeline(steps=[(&#x27;onehotencoder&#x27;,\n",
              "                                                                   OneHotEncoder(handle_unknown=&#x27;ignore&#x27;,\n",
              "                                                                                 sparse=False))]),\n",
              "                                                  &lt;sklearn.compose._column_transformer.make_column_selector object at 0x7feb71a51d10&gt;)])),\n",
              "                (&#x27;dummyclassifier&#x27;,\n",
              "                 DummyClassifier(random_state=42, strategy=&#x27;most_frequent&#x27;))])</pre><b>Please rerun this cell to show the HTML repr or trust the notebook.</b></div><div class=\"sk-container\" hidden><div class=\"sk-item sk-dashed-wrapped\"><div class=\"sk-label-container\"><div class=\"sk-label sk-toggleable\"><input class=\"sk-toggleable__control sk-hidden--visually\" id=\"4126c300-9efa-4fc4-b148-0ab4ecc4ffc6\" type=\"checkbox\" ><label for=\"4126c300-9efa-4fc4-b148-0ab4ecc4ffc6\" class=\"sk-toggleable__label sk-toggleable__label-arrow\">Pipeline</label><div class=\"sk-toggleable__content\"><pre>Pipeline(steps=[(&#x27;columntransformer&#x27;,\n",
              "                 ColumnTransformer(transformers=[(&#x27;pipeline-1&#x27;,\n",
              "                                                  Pipeline(steps=[(&#x27;standardscaler&#x27;,\n",
              "                                                                   StandardScaler())]),\n",
              "                                                  &lt;sklearn.compose._column_transformer.make_column_selector object at 0x7feb74bc5210&gt;),\n",
              "                                                 (&#x27;pipeline-2&#x27;,\n",
              "                                                  Pipeline(steps=[(&#x27;onehotencoder&#x27;,\n",
              "                                                                   OneHotEncoder(handle_unknown=&#x27;ignore&#x27;,\n",
              "                                                                                 sparse=False))]),\n",
              "                                                  &lt;sklearn.compose._column_transformer.make_column_selector object at 0x7feb71a51d10&gt;)])),\n",
              "                (&#x27;dummyclassifier&#x27;,\n",
              "                 DummyClassifier(random_state=42, strategy=&#x27;most_frequent&#x27;))])</pre></div></div></div><div class=\"sk-serial\"><div class=\"sk-item sk-dashed-wrapped\"><div class=\"sk-label-container\"><div class=\"sk-label sk-toggleable\"><input class=\"sk-toggleable__control sk-hidden--visually\" id=\"5f3fb587-fc8d-48c5-a05e-437134b80ee7\" type=\"checkbox\" ><label for=\"5f3fb587-fc8d-48c5-a05e-437134b80ee7\" class=\"sk-toggleable__label sk-toggleable__label-arrow\">columntransformer: ColumnTransformer</label><div class=\"sk-toggleable__content\"><pre>ColumnTransformer(transformers=[(&#x27;pipeline-1&#x27;,\n",
              "                                 Pipeline(steps=[(&#x27;standardscaler&#x27;,\n",
              "                                                  StandardScaler())]),\n",
              "                                 &lt;sklearn.compose._column_transformer.make_column_selector object at 0x7feb74bc5210&gt;),\n",
              "                                (&#x27;pipeline-2&#x27;,\n",
              "                                 Pipeline(steps=[(&#x27;onehotencoder&#x27;,\n",
              "                                                  OneHotEncoder(handle_unknown=&#x27;ignore&#x27;,\n",
              "                                                                sparse=False))]),\n",
              "                                 &lt;sklearn.compose._column_transformer.make_column_selector object at 0x7feb71a51d10&gt;)])</pre></div></div></div><div class=\"sk-parallel\"><div class=\"sk-parallel-item\"><div class=\"sk-item\"><div class=\"sk-label-container\"><div class=\"sk-label sk-toggleable\"><input class=\"sk-toggleable__control sk-hidden--visually\" id=\"70f79839-ef0d-4ec1-b9f3-b05f979bbdf3\" type=\"checkbox\" ><label for=\"70f79839-ef0d-4ec1-b9f3-b05f979bbdf3\" class=\"sk-toggleable__label sk-toggleable__label-arrow\">pipeline-1</label><div class=\"sk-toggleable__content\"><pre>&lt;sklearn.compose._column_transformer.make_column_selector object at 0x7feb74bc5210&gt;</pre></div></div></div><div class=\"sk-serial\"><div class=\"sk-item\"><div class=\"sk-serial\"><div class=\"sk-item\"><div class=\"sk-estimator sk-toggleable\"><input class=\"sk-toggleable__control sk-hidden--visually\" id=\"771c98a4-7ea3-4c9a-8f17-c89769ae8209\" type=\"checkbox\" ><label for=\"771c98a4-7ea3-4c9a-8f17-c89769ae8209\" class=\"sk-toggleable__label sk-toggleable__label-arrow\">StandardScaler</label><div class=\"sk-toggleable__content\"><pre>StandardScaler()</pre></div></div></div></div></div></div></div></div><div class=\"sk-parallel-item\"><div class=\"sk-item\"><div class=\"sk-label-container\"><div class=\"sk-label sk-toggleable\"><input class=\"sk-toggleable__control sk-hidden--visually\" id=\"379c27ff-461e-479c-a409-43a326753823\" type=\"checkbox\" ><label for=\"379c27ff-461e-479c-a409-43a326753823\" class=\"sk-toggleable__label sk-toggleable__label-arrow\">pipeline-2</label><div class=\"sk-toggleable__content\"><pre>&lt;sklearn.compose._column_transformer.make_column_selector object at 0x7feb71a51d10&gt;</pre></div></div></div><div class=\"sk-serial\"><div class=\"sk-item\"><div class=\"sk-serial\"><div class=\"sk-item\"><div class=\"sk-estimator sk-toggleable\"><input class=\"sk-toggleable__control sk-hidden--visually\" id=\"676ddfef-f7df-492b-9b80-1a0c7f61c910\" type=\"checkbox\" ><label for=\"676ddfef-f7df-492b-9b80-1a0c7f61c910\" class=\"sk-toggleable__label sk-toggleable__label-arrow\">OneHotEncoder</label><div class=\"sk-toggleable__content\"><pre>OneHotEncoder(handle_unknown=&#x27;ignore&#x27;, sparse=False)</pre></div></div></div></div></div></div></div></div></div></div><div class=\"sk-item\"><div class=\"sk-estimator sk-toggleable\"><input class=\"sk-toggleable__control sk-hidden--visually\" id=\"fc42436c-d4ad-4040-a565-b65b1524bbeb\" type=\"checkbox\" ><label for=\"fc42436c-d4ad-4040-a565-b65b1524bbeb\" class=\"sk-toggleable__label sk-toggleable__label-arrow\">DummyClassifier</label><div class=\"sk-toggleable__content\"><pre>DummyClassifier(random_state=42, strategy=&#x27;most_frequent&#x27;)</pre></div></div></div></div></div></div></div>"
            ]
          },
          "metadata": {},
          "execution_count": 862
        }
      ]
    },
    {
      "cell_type": "markdown",
      "source": [
        "## 9 . 2 . Baseline Default"
      ],
      "metadata": {
        "id": "X3NxhIAE3W2M"
      }
    },
    {
      "cell_type": "code",
      "source": [
        "%%time\n",
        "base_pipe.fit(X_train,y_train);"
      ],
      "metadata": {
        "colab": {
          "base_uri": "https://localhost:8080/",
          "height": 227
        },
        "id": "WojqTHTt2D5K",
        "outputId": "aa806c59-b68d-4a00-844c-f6bddb9401b2"
      },
      "execution_count": 863,
      "outputs": [
        {
          "output_type": "stream",
          "name": "stdout",
          "text": [
            "CPU times: user 603 ms, sys: 416 ms, total: 1.02 s\n",
            "Wall time: 1.01 s\n"
          ]
        },
        {
          "output_type": "execute_result",
          "data": {
            "text/plain": [
              "Pipeline(steps=[('columntransformer',\n",
              "                 ColumnTransformer(transformers=[('pipeline-1',\n",
              "                                                  Pipeline(steps=[('standardscaler',\n",
              "                                                                   StandardScaler())]),\n",
              "                                                  <sklearn.compose._column_transformer.make_column_selector object at 0x7feb74bc5210>),\n",
              "                                                 ('pipeline-2',\n",
              "                                                  Pipeline(steps=[('onehotencoder',\n",
              "                                                                   OneHotEncoder(handle_unknown='ignore',\n",
              "                                                                                 sparse=False))]),\n",
              "                                                  <sklearn.compose._column_transformer.make_column_selector object at 0x7feb71a51d10>)])),\n",
              "                ('dummyclassifier',\n",
              "                 DummyClassifier(random_state=42, strategy='most_frequent'))])"
            ],
            "text/html": [
              "<style>#sk-9e0ad34f-d65b-4245-bb47-a0a29b193fe1 {color: black;background-color: white;}#sk-9e0ad34f-d65b-4245-bb47-a0a29b193fe1 pre{padding: 0;}#sk-9e0ad34f-d65b-4245-bb47-a0a29b193fe1 div.sk-toggleable {background-color: white;}#sk-9e0ad34f-d65b-4245-bb47-a0a29b193fe1 label.sk-toggleable__label {cursor: pointer;display: block;width: 100%;margin-bottom: 0;padding: 0.3em;box-sizing: border-box;text-align: center;}#sk-9e0ad34f-d65b-4245-bb47-a0a29b193fe1 label.sk-toggleable__label-arrow:before {content: \"▸\";float: left;margin-right: 0.25em;color: #696969;}#sk-9e0ad34f-d65b-4245-bb47-a0a29b193fe1 label.sk-toggleable__label-arrow:hover:before {color: black;}#sk-9e0ad34f-d65b-4245-bb47-a0a29b193fe1 div.sk-estimator:hover label.sk-toggleable__label-arrow:before {color: black;}#sk-9e0ad34f-d65b-4245-bb47-a0a29b193fe1 div.sk-toggleable__content {max-height: 0;max-width: 0;overflow: hidden;text-align: left;background-color: #f0f8ff;}#sk-9e0ad34f-d65b-4245-bb47-a0a29b193fe1 div.sk-toggleable__content pre {margin: 0.2em;color: black;border-radius: 0.25em;background-color: #f0f8ff;}#sk-9e0ad34f-d65b-4245-bb47-a0a29b193fe1 input.sk-toggleable__control:checked~div.sk-toggleable__content {max-height: 200px;max-width: 100%;overflow: auto;}#sk-9e0ad34f-d65b-4245-bb47-a0a29b193fe1 input.sk-toggleable__control:checked~label.sk-toggleable__label-arrow:before {content: \"▾\";}#sk-9e0ad34f-d65b-4245-bb47-a0a29b193fe1 div.sk-estimator input.sk-toggleable__control:checked~label.sk-toggleable__label {background-color: #d4ebff;}#sk-9e0ad34f-d65b-4245-bb47-a0a29b193fe1 div.sk-label input.sk-toggleable__control:checked~label.sk-toggleable__label {background-color: #d4ebff;}#sk-9e0ad34f-d65b-4245-bb47-a0a29b193fe1 input.sk-hidden--visually {border: 0;clip: rect(1px 1px 1px 1px);clip: rect(1px, 1px, 1px, 1px);height: 1px;margin: -1px;overflow: hidden;padding: 0;position: absolute;width: 1px;}#sk-9e0ad34f-d65b-4245-bb47-a0a29b193fe1 div.sk-estimator {font-family: monospace;background-color: #f0f8ff;border: 1px dotted black;border-radius: 0.25em;box-sizing: border-box;margin-bottom: 0.5em;}#sk-9e0ad34f-d65b-4245-bb47-a0a29b193fe1 div.sk-estimator:hover {background-color: #d4ebff;}#sk-9e0ad34f-d65b-4245-bb47-a0a29b193fe1 div.sk-parallel-item::after {content: \"\";width: 100%;border-bottom: 1px solid gray;flex-grow: 1;}#sk-9e0ad34f-d65b-4245-bb47-a0a29b193fe1 div.sk-label:hover label.sk-toggleable__label {background-color: #d4ebff;}#sk-9e0ad34f-d65b-4245-bb47-a0a29b193fe1 div.sk-serial::before {content: \"\";position: absolute;border-left: 1px solid gray;box-sizing: border-box;top: 2em;bottom: 0;left: 50%;}#sk-9e0ad34f-d65b-4245-bb47-a0a29b193fe1 div.sk-serial {display: flex;flex-direction: column;align-items: center;background-color: white;padding-right: 0.2em;padding-left: 0.2em;}#sk-9e0ad34f-d65b-4245-bb47-a0a29b193fe1 div.sk-item {z-index: 1;}#sk-9e0ad34f-d65b-4245-bb47-a0a29b193fe1 div.sk-parallel {display: flex;align-items: stretch;justify-content: center;background-color: white;}#sk-9e0ad34f-d65b-4245-bb47-a0a29b193fe1 div.sk-parallel::before {content: \"\";position: absolute;border-left: 1px solid gray;box-sizing: border-box;top: 2em;bottom: 0;left: 50%;}#sk-9e0ad34f-d65b-4245-bb47-a0a29b193fe1 div.sk-parallel-item {display: flex;flex-direction: column;position: relative;background-color: white;}#sk-9e0ad34f-d65b-4245-bb47-a0a29b193fe1 div.sk-parallel-item:first-child::after {align-self: flex-end;width: 50%;}#sk-9e0ad34f-d65b-4245-bb47-a0a29b193fe1 div.sk-parallel-item:last-child::after {align-self: flex-start;width: 50%;}#sk-9e0ad34f-d65b-4245-bb47-a0a29b193fe1 div.sk-parallel-item:only-child::after {width: 0;}#sk-9e0ad34f-d65b-4245-bb47-a0a29b193fe1 div.sk-dashed-wrapped {border: 1px dashed gray;margin: 0 0.4em 0.5em 0.4em;box-sizing: border-box;padding-bottom: 0.4em;background-color: white;position: relative;}#sk-9e0ad34f-d65b-4245-bb47-a0a29b193fe1 div.sk-label label {font-family: monospace;font-weight: bold;background-color: white;display: inline-block;line-height: 1.2em;}#sk-9e0ad34f-d65b-4245-bb47-a0a29b193fe1 div.sk-label-container {position: relative;z-index: 2;text-align: center;}#sk-9e0ad34f-d65b-4245-bb47-a0a29b193fe1 div.sk-container {/* jupyter's `normalize.less` sets `[hidden] { display: none; }` but bootstrap.min.css set `[hidden] { display: none !important; }` so we also need the `!important` here to be able to override the default hidden behavior on the sphinx rendered scikit-learn.org. See: https://github.com/scikit-learn/scikit-learn/issues/21755 */display: inline-block !important;position: relative;}#sk-9e0ad34f-d65b-4245-bb47-a0a29b193fe1 div.sk-text-repr-fallback {display: none;}</style><div id=\"sk-9e0ad34f-d65b-4245-bb47-a0a29b193fe1\" class=\"sk-top-container\"><div class=\"sk-text-repr-fallback\"><pre>Pipeline(steps=[(&#x27;columntransformer&#x27;,\n",
              "                 ColumnTransformer(transformers=[(&#x27;pipeline-1&#x27;,\n",
              "                                                  Pipeline(steps=[(&#x27;standardscaler&#x27;,\n",
              "                                                                   StandardScaler())]),\n",
              "                                                  &lt;sklearn.compose._column_transformer.make_column_selector object at 0x7feb74bc5210&gt;),\n",
              "                                                 (&#x27;pipeline-2&#x27;,\n",
              "                                                  Pipeline(steps=[(&#x27;onehotencoder&#x27;,\n",
              "                                                                   OneHotEncoder(handle_unknown=&#x27;ignore&#x27;,\n",
              "                                                                                 sparse=False))]),\n",
              "                                                  &lt;sklearn.compose._column_transformer.make_column_selector object at 0x7feb71a51d10&gt;)])),\n",
              "                (&#x27;dummyclassifier&#x27;,\n",
              "                 DummyClassifier(random_state=42, strategy=&#x27;most_frequent&#x27;))])</pre><b>Please rerun this cell to show the HTML repr or trust the notebook.</b></div><div class=\"sk-container\" hidden><div class=\"sk-item sk-dashed-wrapped\"><div class=\"sk-label-container\"><div class=\"sk-label sk-toggleable\"><input class=\"sk-toggleable__control sk-hidden--visually\" id=\"f037f538-735c-42c7-a3c2-6638196b66b3\" type=\"checkbox\" ><label for=\"f037f538-735c-42c7-a3c2-6638196b66b3\" class=\"sk-toggleable__label sk-toggleable__label-arrow\">Pipeline</label><div class=\"sk-toggleable__content\"><pre>Pipeline(steps=[(&#x27;columntransformer&#x27;,\n",
              "                 ColumnTransformer(transformers=[(&#x27;pipeline-1&#x27;,\n",
              "                                                  Pipeline(steps=[(&#x27;standardscaler&#x27;,\n",
              "                                                                   StandardScaler())]),\n",
              "                                                  &lt;sklearn.compose._column_transformer.make_column_selector object at 0x7feb74bc5210&gt;),\n",
              "                                                 (&#x27;pipeline-2&#x27;,\n",
              "                                                  Pipeline(steps=[(&#x27;onehotencoder&#x27;,\n",
              "                                                                   OneHotEncoder(handle_unknown=&#x27;ignore&#x27;,\n",
              "                                                                                 sparse=False))]),\n",
              "                                                  &lt;sklearn.compose._column_transformer.make_column_selector object at 0x7feb71a51d10&gt;)])),\n",
              "                (&#x27;dummyclassifier&#x27;,\n",
              "                 DummyClassifier(random_state=42, strategy=&#x27;most_frequent&#x27;))])</pre></div></div></div><div class=\"sk-serial\"><div class=\"sk-item sk-dashed-wrapped\"><div class=\"sk-label-container\"><div class=\"sk-label sk-toggleable\"><input class=\"sk-toggleable__control sk-hidden--visually\" id=\"696d1029-2175-416b-9a57-5631f4be4db0\" type=\"checkbox\" ><label for=\"696d1029-2175-416b-9a57-5631f4be4db0\" class=\"sk-toggleable__label sk-toggleable__label-arrow\">columntransformer: ColumnTransformer</label><div class=\"sk-toggleable__content\"><pre>ColumnTransformer(transformers=[(&#x27;pipeline-1&#x27;,\n",
              "                                 Pipeline(steps=[(&#x27;standardscaler&#x27;,\n",
              "                                                  StandardScaler())]),\n",
              "                                 &lt;sklearn.compose._column_transformer.make_column_selector object at 0x7feb74bc5210&gt;),\n",
              "                                (&#x27;pipeline-2&#x27;,\n",
              "                                 Pipeline(steps=[(&#x27;onehotencoder&#x27;,\n",
              "                                                  OneHotEncoder(handle_unknown=&#x27;ignore&#x27;,\n",
              "                                                                sparse=False))]),\n",
              "                                 &lt;sklearn.compose._column_transformer.make_column_selector object at 0x7feb71a51d10&gt;)])</pre></div></div></div><div class=\"sk-parallel\"><div class=\"sk-parallel-item\"><div class=\"sk-item\"><div class=\"sk-label-container\"><div class=\"sk-label sk-toggleable\"><input class=\"sk-toggleable__control sk-hidden--visually\" id=\"ed0a45d4-c28c-48b7-a078-21b086f4b0c7\" type=\"checkbox\" ><label for=\"ed0a45d4-c28c-48b7-a078-21b086f4b0c7\" class=\"sk-toggleable__label sk-toggleable__label-arrow\">pipeline-1</label><div class=\"sk-toggleable__content\"><pre>&lt;sklearn.compose._column_transformer.make_column_selector object at 0x7feb74bc5210&gt;</pre></div></div></div><div class=\"sk-serial\"><div class=\"sk-item\"><div class=\"sk-serial\"><div class=\"sk-item\"><div class=\"sk-estimator sk-toggleable\"><input class=\"sk-toggleable__control sk-hidden--visually\" id=\"3ba23644-687e-46ab-8d37-3b0f570f6e42\" type=\"checkbox\" ><label for=\"3ba23644-687e-46ab-8d37-3b0f570f6e42\" class=\"sk-toggleable__label sk-toggleable__label-arrow\">StandardScaler</label><div class=\"sk-toggleable__content\"><pre>StandardScaler()</pre></div></div></div></div></div></div></div></div><div class=\"sk-parallel-item\"><div class=\"sk-item\"><div class=\"sk-label-container\"><div class=\"sk-label sk-toggleable\"><input class=\"sk-toggleable__control sk-hidden--visually\" id=\"da961bfe-58a0-47ef-beeb-eaca4e8b382b\" type=\"checkbox\" ><label for=\"da961bfe-58a0-47ef-beeb-eaca4e8b382b\" class=\"sk-toggleable__label sk-toggleable__label-arrow\">pipeline-2</label><div class=\"sk-toggleable__content\"><pre>&lt;sklearn.compose._column_transformer.make_column_selector object at 0x7feb71a51d10&gt;</pre></div></div></div><div class=\"sk-serial\"><div class=\"sk-item\"><div class=\"sk-serial\"><div class=\"sk-item\"><div class=\"sk-estimator sk-toggleable\"><input class=\"sk-toggleable__control sk-hidden--visually\" id=\"279d45fd-07a5-4a20-b6f9-9346be44a9cd\" type=\"checkbox\" ><label for=\"279d45fd-07a5-4a20-b6f9-9346be44a9cd\" class=\"sk-toggleable__label sk-toggleable__label-arrow\">OneHotEncoder</label><div class=\"sk-toggleable__content\"><pre>OneHotEncoder(handle_unknown=&#x27;ignore&#x27;, sparse=False)</pre></div></div></div></div></div></div></div></div></div></div><div class=\"sk-item\"><div class=\"sk-estimator sk-toggleable\"><input class=\"sk-toggleable__control sk-hidden--visually\" id=\"63349074-d227-46c3-bdbe-d805d7748fe9\" type=\"checkbox\" ><label for=\"63349074-d227-46c3-bdbe-d805d7748fe9\" class=\"sk-toggleable__label sk-toggleable__label-arrow\">DummyClassifier</label><div class=\"sk-toggleable__content\"><pre>DummyClassifier(random_state=42, strategy=&#x27;most_frequent&#x27;)</pre></div></div></div></div></div></div></div>"
            ]
          },
          "metadata": {},
          "execution_count": 863
        }
      ]
    },
    {
      "cell_type": "code",
      "source": [
        "base_default_predict_train = base_pipe.predict(X_train)\n",
        "base_default_predict_test = base_pipe.predict(X_test)\n",
        "\n",
        "base_default_report_train = classification_report(y_train, base_default_predict_train, zero_division = 0)\n",
        "base_default_report_test = classification_report(y_test, base_default_predict_test, zero_division = 0)\n",
        "\n",
        "print(\"Metrics from the Baseline Model Used on the Training Data:\\n\",base_default_report_train )\n",
        "print(\"Metrics from the Baseline Model Used on the Testing Data\\n\", base_default_report_test )"
      ],
      "metadata": {
        "colab": {
          "base_uri": "https://localhost:8080/"
        },
        "id": "vdUP_PsK2X1a",
        "outputId": "ccac8fa5-d82a-455c-91c7-bf7d91e5d079"
      },
      "execution_count": 864,
      "outputs": [
        {
          "output_type": "stream",
          "name": "stdout",
          "text": [
            "Metrics from the Baseline Model Used on the Training Data:\n",
            "               precision    recall  f1-score   support\n",
            "\n",
            "           0       0.00      0.00      0.00     55648\n",
            "           1       0.50      1.00      0.67    165532\n",
            "           2       0.00      0.00      0.00    107633\n",
            "\n",
            "    accuracy                           0.50    328813\n",
            "   macro avg       0.17      0.33      0.22    328813\n",
            "weighted avg       0.25      0.50      0.34    328813\n",
            "\n",
            "Metrics from the Baseline Model Used on the Testing Data\n",
            "               precision    recall  f1-score   support\n",
            "\n",
            "           0       0.00      0.00      0.00     18698\n",
            "           1       0.50      1.00      0.67     55214\n",
            "           2       0.00      0.00      0.00     35693\n",
            "\n",
            "    accuracy                           0.50    109605\n",
            "   macro avg       0.17      0.33      0.22    109605\n",
            "weighted avg       0.25      0.50      0.34    109605\n",
            "\n"
          ]
        }
      ]
    },
    {
      "cell_type": "markdown",
      "source": [
        "The default Baseline Model performs equally poorly on both the training and testing data.\n",
        "\n",
        "The accuracy of 0.50 indicates it is no better than flipping a coin."
      ],
      "metadata": {
        "id": "7K_fIlCS9IGo"
      }
    },
    {
      "cell_type": "markdown",
      "source": [
        "## 9 . 3 . Baseline Grid Search"
      ],
      "metadata": {
        "id": "7yCuWliR21yp"
      }
    },
    {
      "cell_type": "markdown",
      "source": [
        "A grid search will be used to determine if there might be any better versions of the baseline model by implementing different hyperparameters."
      ],
      "metadata": {
        "id": "3ic3g5gH9ZEY"
      }
    },
    {
      "cell_type": "code",
      "source": [
        "# dictionary of hyperparameter ranges to use in the grid search\n",
        "base_grid_params = {'dummyclassifier__strategy': [\"stratified\", \"uniform\",\"prior\",\"most_frequent\", \"constant\"],\\\n",
        "                    'dummyclassifier__constant': [0,1,2]}"
      ],
      "metadata": {
        "id": "bJuoXsBp20_x"
      },
      "execution_count": 865,
      "outputs": []
    },
    {
      "cell_type": "code",
      "source": [
        "%%time\n",
        "from sklearn.model_selection import GridSearchCV\n",
        "# instantiate the grid-search model for the random baseline classifier\n",
        "base_grid = GridSearchCV(base_pipe, base_grid_params,scoring=\"accuracy\");\n",
        "base_grid.fit(X_train,y_train);\n",
        "base_grid.best_params_"
      ],
      "metadata": {
        "colab": {
          "base_uri": "https://localhost:8080/"
        },
        "id": "d3wRwYsu2-9p",
        "outputId": "665451a7-a092-40e5-b3f8-0422ecf67676"
      },
      "execution_count": 866,
      "outputs": [
        {
          "output_type": "stream",
          "name": "stdout",
          "text": [
            "CPU times: user 51.7 s, sys: 2.33 s, total: 54 s\n",
            "Wall time: 53.8 s\n"
          ]
        }
      ]
    },
    {
      "cell_type": "code",
      "source": [
        "base_best = base_pipe.set_params(**base_grid.best_params_)"
      ],
      "metadata": {
        "id": "uz55AFHg3EsC"
      },
      "execution_count": 867,
      "outputs": []
    },
    {
      "cell_type": "code",
      "source": [
        "%%time\n",
        "base_best.fit(X_train,y_train)\n",
        "\n",
        "base_best_predict_train = base_best.predict(X_train)\n",
        "base_best_predict_test  = base_best.predict(X_test)\n",
        "\n",
        "base_best_report_train = classification_report(y_train, base_best_predict_train, zero_division = 0)\n",
        "base_best_report_test = classification_report(y_test, base_best_predict_test, zero_division = 0)\n",
        "\n",
        "print(\"Best Metrics from the Baseline Model Used on the Training Data:\\n\", base_best_report_train)\n",
        "print(\"Best Metrics from the Baseline Model Used on the Testing Data:\\n\", base_best_report_test)"
      ],
      "metadata": {
        "colab": {
          "base_uri": "https://localhost:8080/"
        },
        "id": "Y8t7Fv-l3GgB",
        "outputId": "9ffad0e2-7303-4d0d-c932-47d3b2f89867"
      },
      "execution_count": 868,
      "outputs": [
        {
          "output_type": "stream",
          "name": "stdout",
          "text": [
            "Best Metrics from the Baseline Model Used on the Training Data:\n",
            "               precision    recall  f1-score   support\n",
            "\n",
            "           0       0.00      0.00      0.00     55648\n",
            "           1       0.50      1.00      0.67    165532\n",
            "           2       0.00      0.00      0.00    107633\n",
            "\n",
            "    accuracy                           0.50    328813\n",
            "   macro avg       0.17      0.33      0.22    328813\n",
            "weighted avg       0.25      0.50      0.34    328813\n",
            "\n",
            "Best Metrics from the Baseline Model Used on the Testing Data:\n",
            "               precision    recall  f1-score   support\n",
            "\n",
            "           0       0.00      0.00      0.00     18698\n",
            "           1       0.50      1.00      0.67     55214\n",
            "           2       0.00      0.00      0.00     35693\n",
            "\n",
            "    accuracy                           0.50    109605\n",
            "   macro avg       0.17      0.33      0.22    109605\n",
            "weighted avg       0.25      0.50      0.34    109605\n",
            "\n",
            "CPU times: user 2.05 s, sys: 32.9 ms, total: 2.08 s\n",
            "Wall time: 2.07 s\n"
          ]
        }
      ]
    },
    {
      "cell_type": "markdown",
      "source": [
        "No improvement after adjusting the hyperparameters."
      ],
      "metadata": {
        "id": "ML-eAh_g3nRa"
      }
    },
    {
      "cell_type": "markdown",
      "source": [
        "# 10 . Model 1: Random Forest Classifier"
      ],
      "metadata": {
        "id": "2Nra5Fqo3IIh"
      }
    },
    {
      "cell_type": "markdown",
      "source": [
        "The first model to be used is a random forest."
      ],
      "metadata": {
        "id": "yIyR4gQd9_9P"
      }
    },
    {
      "cell_type": "markdown",
      "source": [
        "## 10 . 1 . Random Forest Pipeline"
      ],
      "metadata": {
        "id": "E1z8qqVR3sh7"
      }
    },
    {
      "cell_type": "code",
      "source": [
        "from sklearn.ensemble import RandomForestClassifier\n",
        "# instatiate the random forest model\n",
        "forest_classifier = RandomForestClassifier(random_state = 42)\n",
        "# Create the pipeline\n",
        "forest_pipe =  make_pipeline(preprocessor, forest_classifier)\n",
        "forest_pipe"
      ],
      "metadata": {
        "colab": {
          "base_uri": "https://localhost:8080/",
          "height": 192
        },
        "id": "aCl66b5m3wo5",
        "outputId": "535ea58c-1fd8-492c-d5ff-5c79adcf8127"
      },
      "execution_count": 869,
      "outputs": [
        {
          "output_type": "execute_result",
          "data": {
            "text/plain": [
              "Pipeline(steps=[('columntransformer',\n",
              "                 ColumnTransformer(transformers=[('pipeline-1',\n",
              "                                                  Pipeline(steps=[('standardscaler',\n",
              "                                                                   StandardScaler())]),\n",
              "                                                  <sklearn.compose._column_transformer.make_column_selector object at 0x7feb74bc5210>),\n",
              "                                                 ('pipeline-2',\n",
              "                                                  Pipeline(steps=[('onehotencoder',\n",
              "                                                                   OneHotEncoder(handle_unknown='ignore',\n",
              "                                                                                 sparse=False))]),\n",
              "                                                  <sklearn.compose._column_transformer.make_column_selector object at 0x7feb71a51d10>)])),\n",
              "                ('randomforestclassifier',\n",
              "                 RandomForestClassifier(random_state=42))])"
            ],
            "text/html": [
              "<style>#sk-6b531f6d-501f-4e59-8305-f78aeda174ae {color: black;background-color: white;}#sk-6b531f6d-501f-4e59-8305-f78aeda174ae pre{padding: 0;}#sk-6b531f6d-501f-4e59-8305-f78aeda174ae div.sk-toggleable {background-color: white;}#sk-6b531f6d-501f-4e59-8305-f78aeda174ae label.sk-toggleable__label {cursor: pointer;display: block;width: 100%;margin-bottom: 0;padding: 0.3em;box-sizing: border-box;text-align: center;}#sk-6b531f6d-501f-4e59-8305-f78aeda174ae label.sk-toggleable__label-arrow:before {content: \"▸\";float: left;margin-right: 0.25em;color: #696969;}#sk-6b531f6d-501f-4e59-8305-f78aeda174ae label.sk-toggleable__label-arrow:hover:before {color: black;}#sk-6b531f6d-501f-4e59-8305-f78aeda174ae div.sk-estimator:hover label.sk-toggleable__label-arrow:before {color: black;}#sk-6b531f6d-501f-4e59-8305-f78aeda174ae div.sk-toggleable__content {max-height: 0;max-width: 0;overflow: hidden;text-align: left;background-color: #f0f8ff;}#sk-6b531f6d-501f-4e59-8305-f78aeda174ae div.sk-toggleable__content pre {margin: 0.2em;color: black;border-radius: 0.25em;background-color: #f0f8ff;}#sk-6b531f6d-501f-4e59-8305-f78aeda174ae input.sk-toggleable__control:checked~div.sk-toggleable__content {max-height: 200px;max-width: 100%;overflow: auto;}#sk-6b531f6d-501f-4e59-8305-f78aeda174ae input.sk-toggleable__control:checked~label.sk-toggleable__label-arrow:before {content: \"▾\";}#sk-6b531f6d-501f-4e59-8305-f78aeda174ae div.sk-estimator input.sk-toggleable__control:checked~label.sk-toggleable__label {background-color: #d4ebff;}#sk-6b531f6d-501f-4e59-8305-f78aeda174ae div.sk-label input.sk-toggleable__control:checked~label.sk-toggleable__label {background-color: #d4ebff;}#sk-6b531f6d-501f-4e59-8305-f78aeda174ae input.sk-hidden--visually {border: 0;clip: rect(1px 1px 1px 1px);clip: rect(1px, 1px, 1px, 1px);height: 1px;margin: -1px;overflow: hidden;padding: 0;position: absolute;width: 1px;}#sk-6b531f6d-501f-4e59-8305-f78aeda174ae div.sk-estimator {font-family: monospace;background-color: #f0f8ff;border: 1px dotted black;border-radius: 0.25em;box-sizing: border-box;margin-bottom: 0.5em;}#sk-6b531f6d-501f-4e59-8305-f78aeda174ae div.sk-estimator:hover {background-color: #d4ebff;}#sk-6b531f6d-501f-4e59-8305-f78aeda174ae div.sk-parallel-item::after {content: \"\";width: 100%;border-bottom: 1px solid gray;flex-grow: 1;}#sk-6b531f6d-501f-4e59-8305-f78aeda174ae div.sk-label:hover label.sk-toggleable__label {background-color: #d4ebff;}#sk-6b531f6d-501f-4e59-8305-f78aeda174ae div.sk-serial::before {content: \"\";position: absolute;border-left: 1px solid gray;box-sizing: border-box;top: 2em;bottom: 0;left: 50%;}#sk-6b531f6d-501f-4e59-8305-f78aeda174ae div.sk-serial {display: flex;flex-direction: column;align-items: center;background-color: white;padding-right: 0.2em;padding-left: 0.2em;}#sk-6b531f6d-501f-4e59-8305-f78aeda174ae div.sk-item {z-index: 1;}#sk-6b531f6d-501f-4e59-8305-f78aeda174ae div.sk-parallel {display: flex;align-items: stretch;justify-content: center;background-color: white;}#sk-6b531f6d-501f-4e59-8305-f78aeda174ae div.sk-parallel::before {content: \"\";position: absolute;border-left: 1px solid gray;box-sizing: border-box;top: 2em;bottom: 0;left: 50%;}#sk-6b531f6d-501f-4e59-8305-f78aeda174ae div.sk-parallel-item {display: flex;flex-direction: column;position: relative;background-color: white;}#sk-6b531f6d-501f-4e59-8305-f78aeda174ae div.sk-parallel-item:first-child::after {align-self: flex-end;width: 50%;}#sk-6b531f6d-501f-4e59-8305-f78aeda174ae div.sk-parallel-item:last-child::after {align-self: flex-start;width: 50%;}#sk-6b531f6d-501f-4e59-8305-f78aeda174ae div.sk-parallel-item:only-child::after {width: 0;}#sk-6b531f6d-501f-4e59-8305-f78aeda174ae div.sk-dashed-wrapped {border: 1px dashed gray;margin: 0 0.4em 0.5em 0.4em;box-sizing: border-box;padding-bottom: 0.4em;background-color: white;position: relative;}#sk-6b531f6d-501f-4e59-8305-f78aeda174ae div.sk-label label {font-family: monospace;font-weight: bold;background-color: white;display: inline-block;line-height: 1.2em;}#sk-6b531f6d-501f-4e59-8305-f78aeda174ae div.sk-label-container {position: relative;z-index: 2;text-align: center;}#sk-6b531f6d-501f-4e59-8305-f78aeda174ae div.sk-container {/* jupyter's `normalize.less` sets `[hidden] { display: none; }` but bootstrap.min.css set `[hidden] { display: none !important; }` so we also need the `!important` here to be able to override the default hidden behavior on the sphinx rendered scikit-learn.org. See: https://github.com/scikit-learn/scikit-learn/issues/21755 */display: inline-block !important;position: relative;}#sk-6b531f6d-501f-4e59-8305-f78aeda174ae div.sk-text-repr-fallback {display: none;}</style><div id=\"sk-6b531f6d-501f-4e59-8305-f78aeda174ae\" class=\"sk-top-container\"><div class=\"sk-text-repr-fallback\"><pre>Pipeline(steps=[(&#x27;columntransformer&#x27;,\n",
              "                 ColumnTransformer(transformers=[(&#x27;pipeline-1&#x27;,\n",
              "                                                  Pipeline(steps=[(&#x27;standardscaler&#x27;,\n",
              "                                                                   StandardScaler())]),\n",
              "                                                  &lt;sklearn.compose._column_transformer.make_column_selector object at 0x7feb74bc5210&gt;),\n",
              "                                                 (&#x27;pipeline-2&#x27;,\n",
              "                                                  Pipeline(steps=[(&#x27;onehotencoder&#x27;,\n",
              "                                                                   OneHotEncoder(handle_unknown=&#x27;ignore&#x27;,\n",
              "                                                                                 sparse=False))]),\n",
              "                                                  &lt;sklearn.compose._column_transformer.make_column_selector object at 0x7feb71a51d10&gt;)])),\n",
              "                (&#x27;randomforestclassifier&#x27;,\n",
              "                 RandomForestClassifier(random_state=42))])</pre><b>Please rerun this cell to show the HTML repr or trust the notebook.</b></div><div class=\"sk-container\" hidden><div class=\"sk-item sk-dashed-wrapped\"><div class=\"sk-label-container\"><div class=\"sk-label sk-toggleable\"><input class=\"sk-toggleable__control sk-hidden--visually\" id=\"74016af4-e652-4cc5-983b-2688d95cbabd\" type=\"checkbox\" ><label for=\"74016af4-e652-4cc5-983b-2688d95cbabd\" class=\"sk-toggleable__label sk-toggleable__label-arrow\">Pipeline</label><div class=\"sk-toggleable__content\"><pre>Pipeline(steps=[(&#x27;columntransformer&#x27;,\n",
              "                 ColumnTransformer(transformers=[(&#x27;pipeline-1&#x27;,\n",
              "                                                  Pipeline(steps=[(&#x27;standardscaler&#x27;,\n",
              "                                                                   StandardScaler())]),\n",
              "                                                  &lt;sklearn.compose._column_transformer.make_column_selector object at 0x7feb74bc5210&gt;),\n",
              "                                                 (&#x27;pipeline-2&#x27;,\n",
              "                                                  Pipeline(steps=[(&#x27;onehotencoder&#x27;,\n",
              "                                                                   OneHotEncoder(handle_unknown=&#x27;ignore&#x27;,\n",
              "                                                                                 sparse=False))]),\n",
              "                                                  &lt;sklearn.compose._column_transformer.make_column_selector object at 0x7feb71a51d10&gt;)])),\n",
              "                (&#x27;randomforestclassifier&#x27;,\n",
              "                 RandomForestClassifier(random_state=42))])</pre></div></div></div><div class=\"sk-serial\"><div class=\"sk-item sk-dashed-wrapped\"><div class=\"sk-label-container\"><div class=\"sk-label sk-toggleable\"><input class=\"sk-toggleable__control sk-hidden--visually\" id=\"2034a3c2-67d0-4baa-8fa6-5c39208842c8\" type=\"checkbox\" ><label for=\"2034a3c2-67d0-4baa-8fa6-5c39208842c8\" class=\"sk-toggleable__label sk-toggleable__label-arrow\">columntransformer: ColumnTransformer</label><div class=\"sk-toggleable__content\"><pre>ColumnTransformer(transformers=[(&#x27;pipeline-1&#x27;,\n",
              "                                 Pipeline(steps=[(&#x27;standardscaler&#x27;,\n",
              "                                                  StandardScaler())]),\n",
              "                                 &lt;sklearn.compose._column_transformer.make_column_selector object at 0x7feb74bc5210&gt;),\n",
              "                                (&#x27;pipeline-2&#x27;,\n",
              "                                 Pipeline(steps=[(&#x27;onehotencoder&#x27;,\n",
              "                                                  OneHotEncoder(handle_unknown=&#x27;ignore&#x27;,\n",
              "                                                                sparse=False))]),\n",
              "                                 &lt;sklearn.compose._column_transformer.make_column_selector object at 0x7feb71a51d10&gt;)])</pre></div></div></div><div class=\"sk-parallel\"><div class=\"sk-parallel-item\"><div class=\"sk-item\"><div class=\"sk-label-container\"><div class=\"sk-label sk-toggleable\"><input class=\"sk-toggleable__control sk-hidden--visually\" id=\"1c6802f7-4cf6-4a9a-ad06-fc196a7310a6\" type=\"checkbox\" ><label for=\"1c6802f7-4cf6-4a9a-ad06-fc196a7310a6\" class=\"sk-toggleable__label sk-toggleable__label-arrow\">pipeline-1</label><div class=\"sk-toggleable__content\"><pre>&lt;sklearn.compose._column_transformer.make_column_selector object at 0x7feb74bc5210&gt;</pre></div></div></div><div class=\"sk-serial\"><div class=\"sk-item\"><div class=\"sk-serial\"><div class=\"sk-item\"><div class=\"sk-estimator sk-toggleable\"><input class=\"sk-toggleable__control sk-hidden--visually\" id=\"df6c01a4-47b1-4202-bac2-a015f234216c\" type=\"checkbox\" ><label for=\"df6c01a4-47b1-4202-bac2-a015f234216c\" class=\"sk-toggleable__label sk-toggleable__label-arrow\">StandardScaler</label><div class=\"sk-toggleable__content\"><pre>StandardScaler()</pre></div></div></div></div></div></div></div></div><div class=\"sk-parallel-item\"><div class=\"sk-item\"><div class=\"sk-label-container\"><div class=\"sk-label sk-toggleable\"><input class=\"sk-toggleable__control sk-hidden--visually\" id=\"9bcb45f5-22d2-4eb3-8e83-a4fda4137e4a\" type=\"checkbox\" ><label for=\"9bcb45f5-22d2-4eb3-8e83-a4fda4137e4a\" class=\"sk-toggleable__label sk-toggleable__label-arrow\">pipeline-2</label><div class=\"sk-toggleable__content\"><pre>&lt;sklearn.compose._column_transformer.make_column_selector object at 0x7feb71a51d10&gt;</pre></div></div></div><div class=\"sk-serial\"><div class=\"sk-item\"><div class=\"sk-serial\"><div class=\"sk-item\"><div class=\"sk-estimator sk-toggleable\"><input class=\"sk-toggleable__control sk-hidden--visually\" id=\"b6923cdf-1e88-4247-b1e9-08473d5777df\" type=\"checkbox\" ><label for=\"b6923cdf-1e88-4247-b1e9-08473d5777df\" class=\"sk-toggleable__label sk-toggleable__label-arrow\">OneHotEncoder</label><div class=\"sk-toggleable__content\"><pre>OneHotEncoder(handle_unknown=&#x27;ignore&#x27;, sparse=False)</pre></div></div></div></div></div></div></div></div></div></div><div class=\"sk-item\"><div class=\"sk-estimator sk-toggleable\"><input class=\"sk-toggleable__control sk-hidden--visually\" id=\"c85caf04-621c-4795-89d8-1ca8ff64952c\" type=\"checkbox\" ><label for=\"c85caf04-621c-4795-89d8-1ca8ff64952c\" class=\"sk-toggleable__label sk-toggleable__label-arrow\">RandomForestClassifier</label><div class=\"sk-toggleable__content\"><pre>RandomForestClassifier(random_state=42)</pre></div></div></div></div></div></div></div>"
            ]
          },
          "metadata": {},
          "execution_count": 869
        }
      ]
    },
    {
      "cell_type": "markdown",
      "source": [
        "## 10 . 2 . Random Forest Default"
      ],
      "metadata": {
        "id": "0qnUXBFK3z6y"
      }
    },
    {
      "cell_type": "code",
      "source": [
        "%%time\n",
        "forest_pipe.fit(X_train,y_train);"
      ],
      "metadata": {
        "colab": {
          "base_uri": "https://localhost:8080/",
          "height": 227
        },
        "id": "C2wBsWAz33x5",
        "outputId": "e4f5f971-9d40-464a-a700-460ad149ae21"
      },
      "execution_count": 870,
      "outputs": [
        {
          "output_type": "stream",
          "name": "stdout",
          "text": [
            "CPU times: user 3min 51s, sys: 2.31 s, total: 3min 54s\n",
            "Wall time: 3min 52s\n"
          ]
        },
        {
          "output_type": "execute_result",
          "data": {
            "text/plain": [
              "Pipeline(steps=[('columntransformer',\n",
              "                 ColumnTransformer(transformers=[('pipeline-1',\n",
              "                                                  Pipeline(steps=[('standardscaler',\n",
              "                                                                   StandardScaler())]),\n",
              "                                                  <sklearn.compose._column_transformer.make_column_selector object at 0x7feb74bc5210>),\n",
              "                                                 ('pipeline-2',\n",
              "                                                  Pipeline(steps=[('onehotencoder',\n",
              "                                                                   OneHotEncoder(handle_unknown='ignore',\n",
              "                                                                                 sparse=False))]),\n",
              "                                                  <sklearn.compose._column_transformer.make_column_selector object at 0x7feb71a51d10>)])),\n",
              "                ('randomforestclassifier',\n",
              "                 RandomForestClassifier(random_state=42))])"
            ],
            "text/html": [
              "<style>#sk-cecacc4b-7585-4413-bf48-6341cf7cd0ef {color: black;background-color: white;}#sk-cecacc4b-7585-4413-bf48-6341cf7cd0ef pre{padding: 0;}#sk-cecacc4b-7585-4413-bf48-6341cf7cd0ef div.sk-toggleable {background-color: white;}#sk-cecacc4b-7585-4413-bf48-6341cf7cd0ef label.sk-toggleable__label {cursor: pointer;display: block;width: 100%;margin-bottom: 0;padding: 0.3em;box-sizing: border-box;text-align: center;}#sk-cecacc4b-7585-4413-bf48-6341cf7cd0ef label.sk-toggleable__label-arrow:before {content: \"▸\";float: left;margin-right: 0.25em;color: #696969;}#sk-cecacc4b-7585-4413-bf48-6341cf7cd0ef label.sk-toggleable__label-arrow:hover:before {color: black;}#sk-cecacc4b-7585-4413-bf48-6341cf7cd0ef div.sk-estimator:hover label.sk-toggleable__label-arrow:before {color: black;}#sk-cecacc4b-7585-4413-bf48-6341cf7cd0ef div.sk-toggleable__content {max-height: 0;max-width: 0;overflow: hidden;text-align: left;background-color: #f0f8ff;}#sk-cecacc4b-7585-4413-bf48-6341cf7cd0ef div.sk-toggleable__content pre {margin: 0.2em;color: black;border-radius: 0.25em;background-color: #f0f8ff;}#sk-cecacc4b-7585-4413-bf48-6341cf7cd0ef input.sk-toggleable__control:checked~div.sk-toggleable__content {max-height: 200px;max-width: 100%;overflow: auto;}#sk-cecacc4b-7585-4413-bf48-6341cf7cd0ef input.sk-toggleable__control:checked~label.sk-toggleable__label-arrow:before {content: \"▾\";}#sk-cecacc4b-7585-4413-bf48-6341cf7cd0ef div.sk-estimator input.sk-toggleable__control:checked~label.sk-toggleable__label {background-color: #d4ebff;}#sk-cecacc4b-7585-4413-bf48-6341cf7cd0ef div.sk-label input.sk-toggleable__control:checked~label.sk-toggleable__label {background-color: #d4ebff;}#sk-cecacc4b-7585-4413-bf48-6341cf7cd0ef input.sk-hidden--visually {border: 0;clip: rect(1px 1px 1px 1px);clip: rect(1px, 1px, 1px, 1px);height: 1px;margin: -1px;overflow: hidden;padding: 0;position: absolute;width: 1px;}#sk-cecacc4b-7585-4413-bf48-6341cf7cd0ef div.sk-estimator {font-family: monospace;background-color: #f0f8ff;border: 1px dotted black;border-radius: 0.25em;box-sizing: border-box;margin-bottom: 0.5em;}#sk-cecacc4b-7585-4413-bf48-6341cf7cd0ef div.sk-estimator:hover {background-color: #d4ebff;}#sk-cecacc4b-7585-4413-bf48-6341cf7cd0ef div.sk-parallel-item::after {content: \"\";width: 100%;border-bottom: 1px solid gray;flex-grow: 1;}#sk-cecacc4b-7585-4413-bf48-6341cf7cd0ef div.sk-label:hover label.sk-toggleable__label {background-color: #d4ebff;}#sk-cecacc4b-7585-4413-bf48-6341cf7cd0ef div.sk-serial::before {content: \"\";position: absolute;border-left: 1px solid gray;box-sizing: border-box;top: 2em;bottom: 0;left: 50%;}#sk-cecacc4b-7585-4413-bf48-6341cf7cd0ef div.sk-serial {display: flex;flex-direction: column;align-items: center;background-color: white;padding-right: 0.2em;padding-left: 0.2em;}#sk-cecacc4b-7585-4413-bf48-6341cf7cd0ef div.sk-item {z-index: 1;}#sk-cecacc4b-7585-4413-bf48-6341cf7cd0ef div.sk-parallel {display: flex;align-items: stretch;justify-content: center;background-color: white;}#sk-cecacc4b-7585-4413-bf48-6341cf7cd0ef div.sk-parallel::before {content: \"\";position: absolute;border-left: 1px solid gray;box-sizing: border-box;top: 2em;bottom: 0;left: 50%;}#sk-cecacc4b-7585-4413-bf48-6341cf7cd0ef div.sk-parallel-item {display: flex;flex-direction: column;position: relative;background-color: white;}#sk-cecacc4b-7585-4413-bf48-6341cf7cd0ef div.sk-parallel-item:first-child::after {align-self: flex-end;width: 50%;}#sk-cecacc4b-7585-4413-bf48-6341cf7cd0ef div.sk-parallel-item:last-child::after {align-self: flex-start;width: 50%;}#sk-cecacc4b-7585-4413-bf48-6341cf7cd0ef div.sk-parallel-item:only-child::after {width: 0;}#sk-cecacc4b-7585-4413-bf48-6341cf7cd0ef div.sk-dashed-wrapped {border: 1px dashed gray;margin: 0 0.4em 0.5em 0.4em;box-sizing: border-box;padding-bottom: 0.4em;background-color: white;position: relative;}#sk-cecacc4b-7585-4413-bf48-6341cf7cd0ef div.sk-label label {font-family: monospace;font-weight: bold;background-color: white;display: inline-block;line-height: 1.2em;}#sk-cecacc4b-7585-4413-bf48-6341cf7cd0ef div.sk-label-container {position: relative;z-index: 2;text-align: center;}#sk-cecacc4b-7585-4413-bf48-6341cf7cd0ef div.sk-container {/* jupyter's `normalize.less` sets `[hidden] { display: none; }` but bootstrap.min.css set `[hidden] { display: none !important; }` so we also need the `!important` here to be able to override the default hidden behavior on the sphinx rendered scikit-learn.org. See: https://github.com/scikit-learn/scikit-learn/issues/21755 */display: inline-block !important;position: relative;}#sk-cecacc4b-7585-4413-bf48-6341cf7cd0ef div.sk-text-repr-fallback {display: none;}</style><div id=\"sk-cecacc4b-7585-4413-bf48-6341cf7cd0ef\" class=\"sk-top-container\"><div class=\"sk-text-repr-fallback\"><pre>Pipeline(steps=[(&#x27;columntransformer&#x27;,\n",
              "                 ColumnTransformer(transformers=[(&#x27;pipeline-1&#x27;,\n",
              "                                                  Pipeline(steps=[(&#x27;standardscaler&#x27;,\n",
              "                                                                   StandardScaler())]),\n",
              "                                                  &lt;sklearn.compose._column_transformer.make_column_selector object at 0x7feb74bc5210&gt;),\n",
              "                                                 (&#x27;pipeline-2&#x27;,\n",
              "                                                  Pipeline(steps=[(&#x27;onehotencoder&#x27;,\n",
              "                                                                   OneHotEncoder(handle_unknown=&#x27;ignore&#x27;,\n",
              "                                                                                 sparse=False))]),\n",
              "                                                  &lt;sklearn.compose._column_transformer.make_column_selector object at 0x7feb71a51d10&gt;)])),\n",
              "                (&#x27;randomforestclassifier&#x27;,\n",
              "                 RandomForestClassifier(random_state=42))])</pre><b>Please rerun this cell to show the HTML repr or trust the notebook.</b></div><div class=\"sk-container\" hidden><div class=\"sk-item sk-dashed-wrapped\"><div class=\"sk-label-container\"><div class=\"sk-label sk-toggleable\"><input class=\"sk-toggleable__control sk-hidden--visually\" id=\"712fd773-f52b-46e6-b908-42a22259dd46\" type=\"checkbox\" ><label for=\"712fd773-f52b-46e6-b908-42a22259dd46\" class=\"sk-toggleable__label sk-toggleable__label-arrow\">Pipeline</label><div class=\"sk-toggleable__content\"><pre>Pipeline(steps=[(&#x27;columntransformer&#x27;,\n",
              "                 ColumnTransformer(transformers=[(&#x27;pipeline-1&#x27;,\n",
              "                                                  Pipeline(steps=[(&#x27;standardscaler&#x27;,\n",
              "                                                                   StandardScaler())]),\n",
              "                                                  &lt;sklearn.compose._column_transformer.make_column_selector object at 0x7feb74bc5210&gt;),\n",
              "                                                 (&#x27;pipeline-2&#x27;,\n",
              "                                                  Pipeline(steps=[(&#x27;onehotencoder&#x27;,\n",
              "                                                                   OneHotEncoder(handle_unknown=&#x27;ignore&#x27;,\n",
              "                                                                                 sparse=False))]),\n",
              "                                                  &lt;sklearn.compose._column_transformer.make_column_selector object at 0x7feb71a51d10&gt;)])),\n",
              "                (&#x27;randomforestclassifier&#x27;,\n",
              "                 RandomForestClassifier(random_state=42))])</pre></div></div></div><div class=\"sk-serial\"><div class=\"sk-item sk-dashed-wrapped\"><div class=\"sk-label-container\"><div class=\"sk-label sk-toggleable\"><input class=\"sk-toggleable__control sk-hidden--visually\" id=\"889e95b1-654d-4169-b096-e893b1a5d6e8\" type=\"checkbox\" ><label for=\"889e95b1-654d-4169-b096-e893b1a5d6e8\" class=\"sk-toggleable__label sk-toggleable__label-arrow\">columntransformer: ColumnTransformer</label><div class=\"sk-toggleable__content\"><pre>ColumnTransformer(transformers=[(&#x27;pipeline-1&#x27;,\n",
              "                                 Pipeline(steps=[(&#x27;standardscaler&#x27;,\n",
              "                                                  StandardScaler())]),\n",
              "                                 &lt;sklearn.compose._column_transformer.make_column_selector object at 0x7feb74bc5210&gt;),\n",
              "                                (&#x27;pipeline-2&#x27;,\n",
              "                                 Pipeline(steps=[(&#x27;onehotencoder&#x27;,\n",
              "                                                  OneHotEncoder(handle_unknown=&#x27;ignore&#x27;,\n",
              "                                                                sparse=False))]),\n",
              "                                 &lt;sklearn.compose._column_transformer.make_column_selector object at 0x7feb71a51d10&gt;)])</pre></div></div></div><div class=\"sk-parallel\"><div class=\"sk-parallel-item\"><div class=\"sk-item\"><div class=\"sk-label-container\"><div class=\"sk-label sk-toggleable\"><input class=\"sk-toggleable__control sk-hidden--visually\" id=\"78824ddc-22b2-4271-9582-5170a8210d7d\" type=\"checkbox\" ><label for=\"78824ddc-22b2-4271-9582-5170a8210d7d\" class=\"sk-toggleable__label sk-toggleable__label-arrow\">pipeline-1</label><div class=\"sk-toggleable__content\"><pre>&lt;sklearn.compose._column_transformer.make_column_selector object at 0x7feb74bc5210&gt;</pre></div></div></div><div class=\"sk-serial\"><div class=\"sk-item\"><div class=\"sk-serial\"><div class=\"sk-item\"><div class=\"sk-estimator sk-toggleable\"><input class=\"sk-toggleable__control sk-hidden--visually\" id=\"1d7404a3-a87e-453a-b126-fee84249e4e7\" type=\"checkbox\" ><label for=\"1d7404a3-a87e-453a-b126-fee84249e4e7\" class=\"sk-toggleable__label sk-toggleable__label-arrow\">StandardScaler</label><div class=\"sk-toggleable__content\"><pre>StandardScaler()</pre></div></div></div></div></div></div></div></div><div class=\"sk-parallel-item\"><div class=\"sk-item\"><div class=\"sk-label-container\"><div class=\"sk-label sk-toggleable\"><input class=\"sk-toggleable__control sk-hidden--visually\" id=\"42537b39-ee1b-4ae0-a268-57632e13ccd7\" type=\"checkbox\" ><label for=\"42537b39-ee1b-4ae0-a268-57632e13ccd7\" class=\"sk-toggleable__label sk-toggleable__label-arrow\">pipeline-2</label><div class=\"sk-toggleable__content\"><pre>&lt;sklearn.compose._column_transformer.make_column_selector object at 0x7feb71a51d10&gt;</pre></div></div></div><div class=\"sk-serial\"><div class=\"sk-item\"><div class=\"sk-serial\"><div class=\"sk-item\"><div class=\"sk-estimator sk-toggleable\"><input class=\"sk-toggleable__control sk-hidden--visually\" id=\"0f68db61-3efa-4012-b68a-5ee0ce0f7dc8\" type=\"checkbox\" ><label for=\"0f68db61-3efa-4012-b68a-5ee0ce0f7dc8\" class=\"sk-toggleable__label sk-toggleable__label-arrow\">OneHotEncoder</label><div class=\"sk-toggleable__content\"><pre>OneHotEncoder(handle_unknown=&#x27;ignore&#x27;, sparse=False)</pre></div></div></div></div></div></div></div></div></div></div><div class=\"sk-item\"><div class=\"sk-estimator sk-toggleable\"><input class=\"sk-toggleable__control sk-hidden--visually\" id=\"d7de254a-1462-4c7a-a6be-2164f9fffad4\" type=\"checkbox\" ><label for=\"d7de254a-1462-4c7a-a6be-2164f9fffad4\" class=\"sk-toggleable__label sk-toggleable__label-arrow\">RandomForestClassifier</label><div class=\"sk-toggleable__content\"><pre>RandomForestClassifier(random_state=42)</pre></div></div></div></div></div></div></div>"
            ]
          },
          "metadata": {},
          "execution_count": 870
        }
      ]
    },
    {
      "cell_type": "code",
      "source": [
        "forest_default_predict_train = forest_pipe.predict(X_train)\n",
        "forest_default_predict_test = forest_pipe.predict(X_test)\n",
        "\n",
        "forest_default_report_train = classification_report(y_train, forest_default_predict_train)\n",
        "forest_default_report_test = classification_report(y_test, forest_default_predict_test) \n",
        "\n",
        "print(\"Metrics from the Random Forest Model Used on the Training Data:\\n\", forest_default_report_train )\n",
        "print(\"Metrics from the Random Forest Model Used on the Testing Data:\\n\",forest_default_report_test )"
      ],
      "metadata": {
        "colab": {
          "base_uri": "https://localhost:8080/"
        },
        "id": "7plMCkmu35Gg",
        "outputId": "fc4f62e6-da75-4ec1-fa01-13a4e4c7b83e"
      },
      "execution_count": 871,
      "outputs": [
        {
          "output_type": "stream",
          "name": "stdout",
          "text": [
            "Metrics from the Random Forest Model Used on the Training Data:\n",
            "               precision    recall  f1-score   support\n",
            "\n",
            "           0       1.00      0.99      1.00     55648\n",
            "           1       0.99      1.00      0.99    165532\n",
            "           2       0.99      0.99      0.99    107633\n",
            "\n",
            "    accuracy                           0.99    328813\n",
            "   macro avg       0.99      0.99      0.99    328813\n",
            "weighted avg       0.99      0.99      0.99    328813\n",
            "\n",
            "Metrics from the Random Forest Model Used on the Testing Data:\n",
            "               precision    recall  f1-score   support\n",
            "\n",
            "           0       0.35      0.17      0.23     18698\n",
            "           1       0.55      0.72      0.62     55214\n",
            "           2       0.45      0.36      0.40     35693\n",
            "\n",
            "    accuracy                           0.51    109605\n",
            "   macro avg       0.45      0.42      0.42    109605\n",
            "weighted avg       0.48      0.51      0.48    109605\n",
            "\n"
          ]
        }
      ]
    },
    {
      "cell_type": "markdown",
      "source": [
        "With the default hyperparameters, the random forest performs barely better than the baseline model. It has an accuracy 0.51 compared to the baseline model accuracy of 0.50. Other metrics are similarly poor."
      ],
      "metadata": {
        "id": "5qJ0Kspp-V9W"
      }
    },
    {
      "cell_type": "markdown",
      "source": [
        "## 10 . 3 . Random Forest Grid Search"
      ],
      "metadata": {
        "id": "3m8Ux_Sa398Z"
      }
    },
    {
      "cell_type": "code",
      "source": [
        "# dictionary of hyperparameter ranges to use in the grid search\n",
        "forest_grid_params = {\"randomforestclassifier__max_depth\": range(3,13,3),\\\n",
        "                    \"randomforestclassifier__max_features\": [\"sqrt\",\"log2\",None]}"
      ],
      "metadata": {
        "id": "nV5bmAyi4DH5"
      },
      "execution_count": 874,
      "outputs": []
    },
    {
      "cell_type": "code",
      "source": [
        "%%time\n",
        "# instantiate the grid-search model for the random forest classifier\n",
        "forest_grid = GridSearchCV(forest_pipe, forest_grid_params,scoring=\"accuracy\")\n",
        "forest_grid.fit(X_train,y_train)\n",
        "forest_grid.best_params_"
      ],
      "metadata": {
        "colab": {
          "base_uri": "https://localhost:8080/"
        },
        "id": "gpKTEYSa4Fgp",
        "outputId": "e8d05335-2f1a-496e-ce37-ffcf90bdf7f4"
      },
      "execution_count": 875,
      "outputs": [
        {
          "output_type": "stream",
          "name": "stdout",
          "text": [
            "CPU times: user 1h 58min 55s, sys: 16.3 s, total: 1h 59min 12s\n",
            "Wall time: 1h 58min 19s\n"
          ]
        }
      ]
    },
    {
      "cell_type": "code",
      "source": [
        "forest_best = forest_pipe.set_params(**forest_grid.best_params_)\n",
        "forest_best.get_params()"
      ],
      "metadata": {
        "id": "I-FiU9M34JC8"
      },
      "execution_count": null,
      "outputs": []
    },
    {
      "cell_type": "code",
      "source": [
        "%%time\n",
        "forest_best.fit(X_train,y_train)\n",
        "\n",
        "forest_best_predict_train = forest_best.predict(X_train)\n",
        "forest_best_predict_test  = forest_best.predict(X_test)\n",
        "\n",
        "forest_best_report_train = classification_report(y_train, forest_best_predict_train)\n",
        "forest_best_report_test = classification_report(y_test, forest_best_predict_test)\n",
        "\n",
        "print(\"Best Random Forest Model Metrics Used on the Training Data:\\n\", forest_best_report_train)\n",
        "print(\"Best Random Forest Model Metrics Used on the Testing Data:\\n\", forest_best_report_test)"
      ],
      "metadata": {
        "colab": {
          "base_uri": "https://localhost:8080/"
        },
        "id": "3fUUJ5Es4KVJ",
        "outputId": "88773aec-08a5-4d4c-e9a4-bbcdc9950458"
      },
      "execution_count": 879,
      "outputs": [
        {
          "output_type": "stream",
          "name": "stdout",
          "text": [
            "Best Random Forest Model Metrics Used on the Training Data:\n",
            "               precision    recall  f1-score   support\n",
            "\n",
            "           0       0.62      0.01      0.01     55648\n",
            "           1       0.52      0.94      0.67    165532\n",
            "           2       0.60      0.17      0.26    107633\n",
            "\n",
            "    accuracy                           0.53    328813\n",
            "   macro avg       0.58      0.37      0.31    328813\n",
            "weighted avg       0.56      0.53      0.42    328813\n",
            "\n",
            "Best Random Forest Model Metrics Used on the Testing Data:\n",
            "               precision    recall  f1-score   support\n",
            "\n",
            "           0       0.39      0.00      0.01     18698\n",
            "           1       0.51      0.93      0.66     55214\n",
            "           2       0.53      0.15      0.23     35693\n",
            "\n",
            "    accuracy                           0.52    109605\n",
            "   macro avg       0.48      0.36      0.30    109605\n",
            "weighted avg       0.50      0.52      0.41    109605\n",
            "\n",
            "CPU times: user 8min 15s, sys: 996 ms, total: 8min 16s\n",
            "Wall time: 8min 12s\n"
          ]
        }
      ]
    },
    {
      "cell_type": "markdown",
      "source": [
        "This random forest model doesn't perform significantly better than the baseline model."
      ],
      "metadata": {
        "id": "vE_wYFeEi7HS"
      }
    },
    {
      "cell_type": "markdown",
      "source": [
        "# 11 . Model 2: KNN"
      ],
      "metadata": {
        "id": "atYi-dR24L6i"
      }
    },
    {
      "cell_type": "markdown",
      "source": [
        "The second model to be used is a K-Nearest Neighbors model."
      ],
      "metadata": {
        "id": "2NLbRDoU_ig-"
      }
    },
    {
      "cell_type": "markdown",
      "source": [
        "## 11 . 1 . KNN Pipeline"
      ],
      "metadata": {
        "id": "6SN5zgce4jOZ"
      }
    },
    {
      "cell_type": "code",
      "source": [
        "from sklearn.neighbors import KNeighborsClassifier"
      ],
      "metadata": {
        "id": "uGyNP90A4hRh"
      },
      "execution_count": 880,
      "outputs": []
    },
    {
      "cell_type": "code",
      "source": [
        "knn_classifier = KNeighborsClassifier(n_neighbors = 10)\n",
        "\n",
        "knn_pipe = make_pipeline(preprocessor, knn_classifier)\n",
        "knn_pipe"
      ],
      "metadata": {
        "colab": {
          "base_uri": "https://localhost:8080/",
          "height": 192
        },
        "id": "qBXLwTz44nt-",
        "outputId": "a6a22ff7-928f-475b-cd3f-4c7595de12f2"
      },
      "execution_count": 881,
      "outputs": [
        {
          "output_type": "execute_result",
          "data": {
            "text/plain": [
              "Pipeline(steps=[('columntransformer',\n",
              "                 ColumnTransformer(transformers=[('pipeline-1',\n",
              "                                                  Pipeline(steps=[('standardscaler',\n",
              "                                                                   StandardScaler())]),\n",
              "                                                  <sklearn.compose._column_transformer.make_column_selector object at 0x7feb74bc5210>),\n",
              "                                                 ('pipeline-2',\n",
              "                                                  Pipeline(steps=[('onehotencoder',\n",
              "                                                                   OneHotEncoder(handle_unknown='ignore',\n",
              "                                                                                 sparse=False))]),\n",
              "                                                  <sklearn.compose._column_transformer.make_column_selector object at 0x7feb71a51d10>)])),\n",
              "                ('kneighborsclassifier', KNeighborsClassifier(n_neighbors=10))])"
            ],
            "text/html": [
              "<style>#sk-0481451c-a051-4036-a38b-fdd092a7e00e {color: black;background-color: white;}#sk-0481451c-a051-4036-a38b-fdd092a7e00e pre{padding: 0;}#sk-0481451c-a051-4036-a38b-fdd092a7e00e div.sk-toggleable {background-color: white;}#sk-0481451c-a051-4036-a38b-fdd092a7e00e label.sk-toggleable__label {cursor: pointer;display: block;width: 100%;margin-bottom: 0;padding: 0.3em;box-sizing: border-box;text-align: center;}#sk-0481451c-a051-4036-a38b-fdd092a7e00e label.sk-toggleable__label-arrow:before {content: \"▸\";float: left;margin-right: 0.25em;color: #696969;}#sk-0481451c-a051-4036-a38b-fdd092a7e00e label.sk-toggleable__label-arrow:hover:before {color: black;}#sk-0481451c-a051-4036-a38b-fdd092a7e00e div.sk-estimator:hover label.sk-toggleable__label-arrow:before {color: black;}#sk-0481451c-a051-4036-a38b-fdd092a7e00e div.sk-toggleable__content {max-height: 0;max-width: 0;overflow: hidden;text-align: left;background-color: #f0f8ff;}#sk-0481451c-a051-4036-a38b-fdd092a7e00e div.sk-toggleable__content pre {margin: 0.2em;color: black;border-radius: 0.25em;background-color: #f0f8ff;}#sk-0481451c-a051-4036-a38b-fdd092a7e00e input.sk-toggleable__control:checked~div.sk-toggleable__content {max-height: 200px;max-width: 100%;overflow: auto;}#sk-0481451c-a051-4036-a38b-fdd092a7e00e input.sk-toggleable__control:checked~label.sk-toggleable__label-arrow:before {content: \"▾\";}#sk-0481451c-a051-4036-a38b-fdd092a7e00e div.sk-estimator input.sk-toggleable__control:checked~label.sk-toggleable__label {background-color: #d4ebff;}#sk-0481451c-a051-4036-a38b-fdd092a7e00e div.sk-label input.sk-toggleable__control:checked~label.sk-toggleable__label {background-color: #d4ebff;}#sk-0481451c-a051-4036-a38b-fdd092a7e00e input.sk-hidden--visually {border: 0;clip: rect(1px 1px 1px 1px);clip: rect(1px, 1px, 1px, 1px);height: 1px;margin: -1px;overflow: hidden;padding: 0;position: absolute;width: 1px;}#sk-0481451c-a051-4036-a38b-fdd092a7e00e div.sk-estimator {font-family: monospace;background-color: #f0f8ff;border: 1px dotted black;border-radius: 0.25em;box-sizing: border-box;margin-bottom: 0.5em;}#sk-0481451c-a051-4036-a38b-fdd092a7e00e div.sk-estimator:hover {background-color: #d4ebff;}#sk-0481451c-a051-4036-a38b-fdd092a7e00e div.sk-parallel-item::after {content: \"\";width: 100%;border-bottom: 1px solid gray;flex-grow: 1;}#sk-0481451c-a051-4036-a38b-fdd092a7e00e div.sk-label:hover label.sk-toggleable__label {background-color: #d4ebff;}#sk-0481451c-a051-4036-a38b-fdd092a7e00e div.sk-serial::before {content: \"\";position: absolute;border-left: 1px solid gray;box-sizing: border-box;top: 2em;bottom: 0;left: 50%;}#sk-0481451c-a051-4036-a38b-fdd092a7e00e div.sk-serial {display: flex;flex-direction: column;align-items: center;background-color: white;padding-right: 0.2em;padding-left: 0.2em;}#sk-0481451c-a051-4036-a38b-fdd092a7e00e div.sk-item {z-index: 1;}#sk-0481451c-a051-4036-a38b-fdd092a7e00e div.sk-parallel {display: flex;align-items: stretch;justify-content: center;background-color: white;}#sk-0481451c-a051-4036-a38b-fdd092a7e00e div.sk-parallel::before {content: \"\";position: absolute;border-left: 1px solid gray;box-sizing: border-box;top: 2em;bottom: 0;left: 50%;}#sk-0481451c-a051-4036-a38b-fdd092a7e00e div.sk-parallel-item {display: flex;flex-direction: column;position: relative;background-color: white;}#sk-0481451c-a051-4036-a38b-fdd092a7e00e div.sk-parallel-item:first-child::after {align-self: flex-end;width: 50%;}#sk-0481451c-a051-4036-a38b-fdd092a7e00e div.sk-parallel-item:last-child::after {align-self: flex-start;width: 50%;}#sk-0481451c-a051-4036-a38b-fdd092a7e00e div.sk-parallel-item:only-child::after {width: 0;}#sk-0481451c-a051-4036-a38b-fdd092a7e00e div.sk-dashed-wrapped {border: 1px dashed gray;margin: 0 0.4em 0.5em 0.4em;box-sizing: border-box;padding-bottom: 0.4em;background-color: white;position: relative;}#sk-0481451c-a051-4036-a38b-fdd092a7e00e div.sk-label label {font-family: monospace;font-weight: bold;background-color: white;display: inline-block;line-height: 1.2em;}#sk-0481451c-a051-4036-a38b-fdd092a7e00e div.sk-label-container {position: relative;z-index: 2;text-align: center;}#sk-0481451c-a051-4036-a38b-fdd092a7e00e div.sk-container {/* jupyter's `normalize.less` sets `[hidden] { display: none; }` but bootstrap.min.css set `[hidden] { display: none !important; }` so we also need the `!important` here to be able to override the default hidden behavior on the sphinx rendered scikit-learn.org. See: https://github.com/scikit-learn/scikit-learn/issues/21755 */display: inline-block !important;position: relative;}#sk-0481451c-a051-4036-a38b-fdd092a7e00e div.sk-text-repr-fallback {display: none;}</style><div id=\"sk-0481451c-a051-4036-a38b-fdd092a7e00e\" class=\"sk-top-container\"><div class=\"sk-text-repr-fallback\"><pre>Pipeline(steps=[(&#x27;columntransformer&#x27;,\n",
              "                 ColumnTransformer(transformers=[(&#x27;pipeline-1&#x27;,\n",
              "                                                  Pipeline(steps=[(&#x27;standardscaler&#x27;,\n",
              "                                                                   StandardScaler())]),\n",
              "                                                  &lt;sklearn.compose._column_transformer.make_column_selector object at 0x7feb74bc5210&gt;),\n",
              "                                                 (&#x27;pipeline-2&#x27;,\n",
              "                                                  Pipeline(steps=[(&#x27;onehotencoder&#x27;,\n",
              "                                                                   OneHotEncoder(handle_unknown=&#x27;ignore&#x27;,\n",
              "                                                                                 sparse=False))]),\n",
              "                                                  &lt;sklearn.compose._column_transformer.make_column_selector object at 0x7feb71a51d10&gt;)])),\n",
              "                (&#x27;kneighborsclassifier&#x27;, KNeighborsClassifier(n_neighbors=10))])</pre><b>Please rerun this cell to show the HTML repr or trust the notebook.</b></div><div class=\"sk-container\" hidden><div class=\"sk-item sk-dashed-wrapped\"><div class=\"sk-label-container\"><div class=\"sk-label sk-toggleable\"><input class=\"sk-toggleable__control sk-hidden--visually\" id=\"d686c3f4-b464-4690-bd67-fd08f85df436\" type=\"checkbox\" ><label for=\"d686c3f4-b464-4690-bd67-fd08f85df436\" class=\"sk-toggleable__label sk-toggleable__label-arrow\">Pipeline</label><div class=\"sk-toggleable__content\"><pre>Pipeline(steps=[(&#x27;columntransformer&#x27;,\n",
              "                 ColumnTransformer(transformers=[(&#x27;pipeline-1&#x27;,\n",
              "                                                  Pipeline(steps=[(&#x27;standardscaler&#x27;,\n",
              "                                                                   StandardScaler())]),\n",
              "                                                  &lt;sklearn.compose._column_transformer.make_column_selector object at 0x7feb74bc5210&gt;),\n",
              "                                                 (&#x27;pipeline-2&#x27;,\n",
              "                                                  Pipeline(steps=[(&#x27;onehotencoder&#x27;,\n",
              "                                                                   OneHotEncoder(handle_unknown=&#x27;ignore&#x27;,\n",
              "                                                                                 sparse=False))]),\n",
              "                                                  &lt;sklearn.compose._column_transformer.make_column_selector object at 0x7feb71a51d10&gt;)])),\n",
              "                (&#x27;kneighborsclassifier&#x27;, KNeighborsClassifier(n_neighbors=10))])</pre></div></div></div><div class=\"sk-serial\"><div class=\"sk-item sk-dashed-wrapped\"><div class=\"sk-label-container\"><div class=\"sk-label sk-toggleable\"><input class=\"sk-toggleable__control sk-hidden--visually\" id=\"64ccda70-9239-4331-8d78-58c6ba3a5918\" type=\"checkbox\" ><label for=\"64ccda70-9239-4331-8d78-58c6ba3a5918\" class=\"sk-toggleable__label sk-toggleable__label-arrow\">columntransformer: ColumnTransformer</label><div class=\"sk-toggleable__content\"><pre>ColumnTransformer(transformers=[(&#x27;pipeline-1&#x27;,\n",
              "                                 Pipeline(steps=[(&#x27;standardscaler&#x27;,\n",
              "                                                  StandardScaler())]),\n",
              "                                 &lt;sklearn.compose._column_transformer.make_column_selector object at 0x7feb74bc5210&gt;),\n",
              "                                (&#x27;pipeline-2&#x27;,\n",
              "                                 Pipeline(steps=[(&#x27;onehotencoder&#x27;,\n",
              "                                                  OneHotEncoder(handle_unknown=&#x27;ignore&#x27;,\n",
              "                                                                sparse=False))]),\n",
              "                                 &lt;sklearn.compose._column_transformer.make_column_selector object at 0x7feb71a51d10&gt;)])</pre></div></div></div><div class=\"sk-parallel\"><div class=\"sk-parallel-item\"><div class=\"sk-item\"><div class=\"sk-label-container\"><div class=\"sk-label sk-toggleable\"><input class=\"sk-toggleable__control sk-hidden--visually\" id=\"ad55f54c-4161-453d-8d09-24416f95772c\" type=\"checkbox\" ><label for=\"ad55f54c-4161-453d-8d09-24416f95772c\" class=\"sk-toggleable__label sk-toggleable__label-arrow\">pipeline-1</label><div class=\"sk-toggleable__content\"><pre>&lt;sklearn.compose._column_transformer.make_column_selector object at 0x7feb74bc5210&gt;</pre></div></div></div><div class=\"sk-serial\"><div class=\"sk-item\"><div class=\"sk-serial\"><div class=\"sk-item\"><div class=\"sk-estimator sk-toggleable\"><input class=\"sk-toggleable__control sk-hidden--visually\" id=\"c44be4ee-efed-48e5-8785-fbebbc355c4c\" type=\"checkbox\" ><label for=\"c44be4ee-efed-48e5-8785-fbebbc355c4c\" class=\"sk-toggleable__label sk-toggleable__label-arrow\">StandardScaler</label><div class=\"sk-toggleable__content\"><pre>StandardScaler()</pre></div></div></div></div></div></div></div></div><div class=\"sk-parallel-item\"><div class=\"sk-item\"><div class=\"sk-label-container\"><div class=\"sk-label sk-toggleable\"><input class=\"sk-toggleable__control sk-hidden--visually\" id=\"47643a8f-d03d-44eb-8b25-8e4356068b99\" type=\"checkbox\" ><label for=\"47643a8f-d03d-44eb-8b25-8e4356068b99\" class=\"sk-toggleable__label sk-toggleable__label-arrow\">pipeline-2</label><div class=\"sk-toggleable__content\"><pre>&lt;sklearn.compose._column_transformer.make_column_selector object at 0x7feb71a51d10&gt;</pre></div></div></div><div class=\"sk-serial\"><div class=\"sk-item\"><div class=\"sk-serial\"><div class=\"sk-item\"><div class=\"sk-estimator sk-toggleable\"><input class=\"sk-toggleable__control sk-hidden--visually\" id=\"40f51d30-ab62-41de-86ca-9444f38ed2f5\" type=\"checkbox\" ><label for=\"40f51d30-ab62-41de-86ca-9444f38ed2f5\" class=\"sk-toggleable__label sk-toggleable__label-arrow\">OneHotEncoder</label><div class=\"sk-toggleable__content\"><pre>OneHotEncoder(handle_unknown=&#x27;ignore&#x27;, sparse=False)</pre></div></div></div></div></div></div></div></div></div></div><div class=\"sk-item\"><div class=\"sk-estimator sk-toggleable\"><input class=\"sk-toggleable__control sk-hidden--visually\" id=\"486b4a33-cb20-4449-b67a-56ff680e57c0\" type=\"checkbox\" ><label for=\"486b4a33-cb20-4449-b67a-56ff680e57c0\" class=\"sk-toggleable__label sk-toggleable__label-arrow\">KNeighborsClassifier</label><div class=\"sk-toggleable__content\"><pre>KNeighborsClassifier(n_neighbors=10)</pre></div></div></div></div></div></div></div>"
            ]
          },
          "metadata": {},
          "execution_count": 881
        }
      ]
    },
    {
      "cell_type": "markdown",
      "source": [
        "## 11 . 2 . KNN Default"
      ],
      "metadata": {
        "id": "X32jzct-60aZ"
      }
    },
    {
      "cell_type": "code",
      "source": [
        "%%time\n",
        "knn_pipe.fit(X_train,y_train);"
      ],
      "metadata": {
        "colab": {
          "base_uri": "https://localhost:8080/",
          "height": 227
        },
        "id": "NgX7tq6R63_I",
        "outputId": "9ab8dfb3-a8b1-4b5f-e3fe-89dab22076be"
      },
      "execution_count": 884,
      "outputs": [
        {
          "output_type": "stream",
          "name": "stdout",
          "text": [
            "CPU times: user 659 ms, sys: 561 ms, total: 1.22 s\n",
            "Wall time: 1.23 s\n"
          ]
        },
        {
          "output_type": "execute_result",
          "data": {
            "text/plain": [
              "Pipeline(steps=[('columntransformer',\n",
              "                 ColumnTransformer(transformers=[('pipeline-1',\n",
              "                                                  Pipeline(steps=[('standardscaler',\n",
              "                                                                   StandardScaler())]),\n",
              "                                                  <sklearn.compose._column_transformer.make_column_selector object at 0x7feb74bc5210>),\n",
              "                                                 ('pipeline-2',\n",
              "                                                  Pipeline(steps=[('onehotencoder',\n",
              "                                                                   OneHotEncoder(handle_unknown='ignore',\n",
              "                                                                                 sparse=False))]),\n",
              "                                                  <sklearn.compose._column_transformer.make_column_selector object at 0x7feb71a51d10>)])),\n",
              "                ('kneighborsclassifier', KNeighborsClassifier(n_neighbors=10))])"
            ],
            "text/html": [
              "<style>#sk-0a7f0b0f-d110-4153-8a44-9f987e934926 {color: black;background-color: white;}#sk-0a7f0b0f-d110-4153-8a44-9f987e934926 pre{padding: 0;}#sk-0a7f0b0f-d110-4153-8a44-9f987e934926 div.sk-toggleable {background-color: white;}#sk-0a7f0b0f-d110-4153-8a44-9f987e934926 label.sk-toggleable__label {cursor: pointer;display: block;width: 100%;margin-bottom: 0;padding: 0.3em;box-sizing: border-box;text-align: center;}#sk-0a7f0b0f-d110-4153-8a44-9f987e934926 label.sk-toggleable__label-arrow:before {content: \"▸\";float: left;margin-right: 0.25em;color: #696969;}#sk-0a7f0b0f-d110-4153-8a44-9f987e934926 label.sk-toggleable__label-arrow:hover:before {color: black;}#sk-0a7f0b0f-d110-4153-8a44-9f987e934926 div.sk-estimator:hover label.sk-toggleable__label-arrow:before {color: black;}#sk-0a7f0b0f-d110-4153-8a44-9f987e934926 div.sk-toggleable__content {max-height: 0;max-width: 0;overflow: hidden;text-align: left;background-color: #f0f8ff;}#sk-0a7f0b0f-d110-4153-8a44-9f987e934926 div.sk-toggleable__content pre {margin: 0.2em;color: black;border-radius: 0.25em;background-color: #f0f8ff;}#sk-0a7f0b0f-d110-4153-8a44-9f987e934926 input.sk-toggleable__control:checked~div.sk-toggleable__content {max-height: 200px;max-width: 100%;overflow: auto;}#sk-0a7f0b0f-d110-4153-8a44-9f987e934926 input.sk-toggleable__control:checked~label.sk-toggleable__label-arrow:before {content: \"▾\";}#sk-0a7f0b0f-d110-4153-8a44-9f987e934926 div.sk-estimator input.sk-toggleable__control:checked~label.sk-toggleable__label {background-color: #d4ebff;}#sk-0a7f0b0f-d110-4153-8a44-9f987e934926 div.sk-label input.sk-toggleable__control:checked~label.sk-toggleable__label {background-color: #d4ebff;}#sk-0a7f0b0f-d110-4153-8a44-9f987e934926 input.sk-hidden--visually {border: 0;clip: rect(1px 1px 1px 1px);clip: rect(1px, 1px, 1px, 1px);height: 1px;margin: -1px;overflow: hidden;padding: 0;position: absolute;width: 1px;}#sk-0a7f0b0f-d110-4153-8a44-9f987e934926 div.sk-estimator {font-family: monospace;background-color: #f0f8ff;border: 1px dotted black;border-radius: 0.25em;box-sizing: border-box;margin-bottom: 0.5em;}#sk-0a7f0b0f-d110-4153-8a44-9f987e934926 div.sk-estimator:hover {background-color: #d4ebff;}#sk-0a7f0b0f-d110-4153-8a44-9f987e934926 div.sk-parallel-item::after {content: \"\";width: 100%;border-bottom: 1px solid gray;flex-grow: 1;}#sk-0a7f0b0f-d110-4153-8a44-9f987e934926 div.sk-label:hover label.sk-toggleable__label {background-color: #d4ebff;}#sk-0a7f0b0f-d110-4153-8a44-9f987e934926 div.sk-serial::before {content: \"\";position: absolute;border-left: 1px solid gray;box-sizing: border-box;top: 2em;bottom: 0;left: 50%;}#sk-0a7f0b0f-d110-4153-8a44-9f987e934926 div.sk-serial {display: flex;flex-direction: column;align-items: center;background-color: white;padding-right: 0.2em;padding-left: 0.2em;}#sk-0a7f0b0f-d110-4153-8a44-9f987e934926 div.sk-item {z-index: 1;}#sk-0a7f0b0f-d110-4153-8a44-9f987e934926 div.sk-parallel {display: flex;align-items: stretch;justify-content: center;background-color: white;}#sk-0a7f0b0f-d110-4153-8a44-9f987e934926 div.sk-parallel::before {content: \"\";position: absolute;border-left: 1px solid gray;box-sizing: border-box;top: 2em;bottom: 0;left: 50%;}#sk-0a7f0b0f-d110-4153-8a44-9f987e934926 div.sk-parallel-item {display: flex;flex-direction: column;position: relative;background-color: white;}#sk-0a7f0b0f-d110-4153-8a44-9f987e934926 div.sk-parallel-item:first-child::after {align-self: flex-end;width: 50%;}#sk-0a7f0b0f-d110-4153-8a44-9f987e934926 div.sk-parallel-item:last-child::after {align-self: flex-start;width: 50%;}#sk-0a7f0b0f-d110-4153-8a44-9f987e934926 div.sk-parallel-item:only-child::after {width: 0;}#sk-0a7f0b0f-d110-4153-8a44-9f987e934926 div.sk-dashed-wrapped {border: 1px dashed gray;margin: 0 0.4em 0.5em 0.4em;box-sizing: border-box;padding-bottom: 0.4em;background-color: white;position: relative;}#sk-0a7f0b0f-d110-4153-8a44-9f987e934926 div.sk-label label {font-family: monospace;font-weight: bold;background-color: white;display: inline-block;line-height: 1.2em;}#sk-0a7f0b0f-d110-4153-8a44-9f987e934926 div.sk-label-container {position: relative;z-index: 2;text-align: center;}#sk-0a7f0b0f-d110-4153-8a44-9f987e934926 div.sk-container {/* jupyter's `normalize.less` sets `[hidden] { display: none; }` but bootstrap.min.css set `[hidden] { display: none !important; }` so we also need the `!important` here to be able to override the default hidden behavior on the sphinx rendered scikit-learn.org. See: https://github.com/scikit-learn/scikit-learn/issues/21755 */display: inline-block !important;position: relative;}#sk-0a7f0b0f-d110-4153-8a44-9f987e934926 div.sk-text-repr-fallback {display: none;}</style><div id=\"sk-0a7f0b0f-d110-4153-8a44-9f987e934926\" class=\"sk-top-container\"><div class=\"sk-text-repr-fallback\"><pre>Pipeline(steps=[(&#x27;columntransformer&#x27;,\n",
              "                 ColumnTransformer(transformers=[(&#x27;pipeline-1&#x27;,\n",
              "                                                  Pipeline(steps=[(&#x27;standardscaler&#x27;,\n",
              "                                                                   StandardScaler())]),\n",
              "                                                  &lt;sklearn.compose._column_transformer.make_column_selector object at 0x7feb74bc5210&gt;),\n",
              "                                                 (&#x27;pipeline-2&#x27;,\n",
              "                                                  Pipeline(steps=[(&#x27;onehotencoder&#x27;,\n",
              "                                                                   OneHotEncoder(handle_unknown=&#x27;ignore&#x27;,\n",
              "                                                                                 sparse=False))]),\n",
              "                                                  &lt;sklearn.compose._column_transformer.make_column_selector object at 0x7feb71a51d10&gt;)])),\n",
              "                (&#x27;kneighborsclassifier&#x27;, KNeighborsClassifier(n_neighbors=10))])</pre><b>Please rerun this cell to show the HTML repr or trust the notebook.</b></div><div class=\"sk-container\" hidden><div class=\"sk-item sk-dashed-wrapped\"><div class=\"sk-label-container\"><div class=\"sk-label sk-toggleable\"><input class=\"sk-toggleable__control sk-hidden--visually\" id=\"9ff59d52-75ff-48ed-b0a7-be596ff613db\" type=\"checkbox\" ><label for=\"9ff59d52-75ff-48ed-b0a7-be596ff613db\" class=\"sk-toggleable__label sk-toggleable__label-arrow\">Pipeline</label><div class=\"sk-toggleable__content\"><pre>Pipeline(steps=[(&#x27;columntransformer&#x27;,\n",
              "                 ColumnTransformer(transformers=[(&#x27;pipeline-1&#x27;,\n",
              "                                                  Pipeline(steps=[(&#x27;standardscaler&#x27;,\n",
              "                                                                   StandardScaler())]),\n",
              "                                                  &lt;sklearn.compose._column_transformer.make_column_selector object at 0x7feb74bc5210&gt;),\n",
              "                                                 (&#x27;pipeline-2&#x27;,\n",
              "                                                  Pipeline(steps=[(&#x27;onehotencoder&#x27;,\n",
              "                                                                   OneHotEncoder(handle_unknown=&#x27;ignore&#x27;,\n",
              "                                                                                 sparse=False))]),\n",
              "                                                  &lt;sklearn.compose._column_transformer.make_column_selector object at 0x7feb71a51d10&gt;)])),\n",
              "                (&#x27;kneighborsclassifier&#x27;, KNeighborsClassifier(n_neighbors=10))])</pre></div></div></div><div class=\"sk-serial\"><div class=\"sk-item sk-dashed-wrapped\"><div class=\"sk-label-container\"><div class=\"sk-label sk-toggleable\"><input class=\"sk-toggleable__control sk-hidden--visually\" id=\"3e76c2c9-9ee0-4d68-a266-9381b80d42ac\" type=\"checkbox\" ><label for=\"3e76c2c9-9ee0-4d68-a266-9381b80d42ac\" class=\"sk-toggleable__label sk-toggleable__label-arrow\">columntransformer: ColumnTransformer</label><div class=\"sk-toggleable__content\"><pre>ColumnTransformer(transformers=[(&#x27;pipeline-1&#x27;,\n",
              "                                 Pipeline(steps=[(&#x27;standardscaler&#x27;,\n",
              "                                                  StandardScaler())]),\n",
              "                                 &lt;sklearn.compose._column_transformer.make_column_selector object at 0x7feb74bc5210&gt;),\n",
              "                                (&#x27;pipeline-2&#x27;,\n",
              "                                 Pipeline(steps=[(&#x27;onehotencoder&#x27;,\n",
              "                                                  OneHotEncoder(handle_unknown=&#x27;ignore&#x27;,\n",
              "                                                                sparse=False))]),\n",
              "                                 &lt;sklearn.compose._column_transformer.make_column_selector object at 0x7feb71a51d10&gt;)])</pre></div></div></div><div class=\"sk-parallel\"><div class=\"sk-parallel-item\"><div class=\"sk-item\"><div class=\"sk-label-container\"><div class=\"sk-label sk-toggleable\"><input class=\"sk-toggleable__control sk-hidden--visually\" id=\"91b512b3-437b-460e-a4ce-63a9ce557906\" type=\"checkbox\" ><label for=\"91b512b3-437b-460e-a4ce-63a9ce557906\" class=\"sk-toggleable__label sk-toggleable__label-arrow\">pipeline-1</label><div class=\"sk-toggleable__content\"><pre>&lt;sklearn.compose._column_transformer.make_column_selector object at 0x7feb74bc5210&gt;</pre></div></div></div><div class=\"sk-serial\"><div class=\"sk-item\"><div class=\"sk-serial\"><div class=\"sk-item\"><div class=\"sk-estimator sk-toggleable\"><input class=\"sk-toggleable__control sk-hidden--visually\" id=\"8b787f49-2d6c-4998-bfcd-c6c0ef5b3e99\" type=\"checkbox\" ><label for=\"8b787f49-2d6c-4998-bfcd-c6c0ef5b3e99\" class=\"sk-toggleable__label sk-toggleable__label-arrow\">StandardScaler</label><div class=\"sk-toggleable__content\"><pre>StandardScaler()</pre></div></div></div></div></div></div></div></div><div class=\"sk-parallel-item\"><div class=\"sk-item\"><div class=\"sk-label-container\"><div class=\"sk-label sk-toggleable\"><input class=\"sk-toggleable__control sk-hidden--visually\" id=\"8bb988ee-63b2-4b26-8ed6-42f542a72e2c\" type=\"checkbox\" ><label for=\"8bb988ee-63b2-4b26-8ed6-42f542a72e2c\" class=\"sk-toggleable__label sk-toggleable__label-arrow\">pipeline-2</label><div class=\"sk-toggleable__content\"><pre>&lt;sklearn.compose._column_transformer.make_column_selector object at 0x7feb71a51d10&gt;</pre></div></div></div><div class=\"sk-serial\"><div class=\"sk-item\"><div class=\"sk-serial\"><div class=\"sk-item\"><div class=\"sk-estimator sk-toggleable\"><input class=\"sk-toggleable__control sk-hidden--visually\" id=\"710e07dc-db4d-43c4-86fe-4fd094aa5918\" type=\"checkbox\" ><label for=\"710e07dc-db4d-43c4-86fe-4fd094aa5918\" class=\"sk-toggleable__label sk-toggleable__label-arrow\">OneHotEncoder</label><div class=\"sk-toggleable__content\"><pre>OneHotEncoder(handle_unknown=&#x27;ignore&#x27;, sparse=False)</pre></div></div></div></div></div></div></div></div></div></div><div class=\"sk-item\"><div class=\"sk-estimator sk-toggleable\"><input class=\"sk-toggleable__control sk-hidden--visually\" id=\"621ba270-e107-4d10-878f-5491a9e75003\" type=\"checkbox\" ><label for=\"621ba270-e107-4d10-878f-5491a9e75003\" class=\"sk-toggleable__label sk-toggleable__label-arrow\">KNeighborsClassifier</label><div class=\"sk-toggleable__content\"><pre>KNeighborsClassifier(n_neighbors=10)</pre></div></div></div></div></div></div></div>"
            ]
          },
          "metadata": {},
          "execution_count": 884
        }
      ]
    },
    {
      "cell_type": "code",
      "source": [
        "%%time\n",
        "knn_default_predict_train = knn_pipe.predict(X_train)\n",
        "knn_default_predict_test = knn_pipe.predict(X_test)\n",
        "\n",
        "knn_default_report_train = classification_report(y_train, knn_default_predict_train)\n",
        "knn_default_report_test = classification_report(y_test, knn_default_predict_test) \n",
        "\n",
        "print(\"Training Data set:\\n\", knn_default_report_train )\n",
        "print(\"Testing Data set:\\n\",knn_default_report_test )"
      ],
      "metadata": {
        "colab": {
          "base_uri": "https://localhost:8080/"
        },
        "id": "PWIF48ho64nI",
        "outputId": "46ff2e9b-97e1-4ec2-f24e-660026be08e2"
      },
      "execution_count": 885,
      "outputs": [
        {
          "output_type": "stream",
          "name": "stdout",
          "text": [
            "Training Data set:\n",
            "               precision    recall  f1-score   support\n",
            "\n",
            "           0       0.47      0.30      0.37     55648\n",
            "           1       0.61      0.81      0.70    165532\n",
            "           2       0.58      0.40      0.48    107633\n",
            "\n",
            "    accuracy                           0.59    328813\n",
            "   macro avg       0.55      0.50      0.51    328813\n",
            "weighted avg       0.58      0.59      0.57    328813\n",
            "\n",
            "Testing Data set:\n",
            "               precision    recall  f1-score   support\n",
            "\n",
            "           0       0.29      0.18      0.22     18698\n",
            "           1       0.54      0.72      0.61     55214\n",
            "           2       0.41      0.28      0.34     35693\n",
            "\n",
            "    accuracy                           0.48    109605\n",
            "   macro avg       0.41      0.39      0.39    109605\n",
            "weighted avg       0.45      0.48      0.46    109605\n",
            "\n",
            "CPU times: user 1h 35min 6s, sys: 2min 53s, total: 1h 37min 59s\n",
            "Wall time: 1h 11min 8s\n"
          ]
        }
      ]
    },
    {
      "cell_type": "markdown",
      "source": [
        "## 11 . 3 . KNN Grid Search"
      ],
      "metadata": {
        "id": "kLnLlUN56_Eq"
      }
    },
    {
      "cell_type": "code",
      "source": [
        "knn_grid_params = {\"kneighborsclassifier__p\": range(1,2),\\\n",
        "                   \"kneighborsclassifier__weights\": [\"uniform\",\"distance\"]}"
      ],
      "metadata": {
        "id": "kSqkR5Wm7D9_"
      },
      "execution_count": null,
      "outputs": []
    },
    {
      "cell_type": "code",
      "source": [
        "%%time\n",
        "# instantiate the grid-search model for the knn classifier\n",
        "knn_grid = GridSearchCV(knn_pipe,knn_grid_params,scoring=\"accuracy\")\n",
        "knn_grid.fit(X_train,y_train)\n",
        "knn_grid.best_params_"
      ],
      "metadata": {
        "id": "2pOq0UsJ7fzZ"
      },
      "execution_count": null,
      "outputs": []
    },
    {
      "cell_type": "code",
      "source": [
        "knn_best = knn_pipe.set_params(**knn_grid.best_params_)"
      ],
      "metadata": {
        "id": "ytrDohGL7hoh"
      },
      "execution_count": null,
      "outputs": []
    },
    {
      "cell_type": "code",
      "source": [
        "%%time\n",
        "# Temporarily skipping the prediction of the best knn model due to time constraints.\n",
        "\n",
        "# knn_best.fit(X_train,y_train)\n",
        "\n",
        "# knn_best_predict_train = knn_best.predict(X_train)\n",
        "# knn_best_predict_test  = knn_best.predict(X_test)\n",
        "\n",
        "# knn_best_report_train = classification_report(y_train,knn_best_predict_train)\n",
        "# knn_best_report_test = classification_report(y_test,knn_best_predict_test)\n",
        "\n",
        "# due to temporarily skipping the predition of the best knn model, the default is considered the best\n",
        "knn_best_report_train = knn_default_report_train\n",
        "knn_best_report_test  = knn_default_report_test\n",
        "\n",
        "print(\"Best KNN Model Metrics Used on the Training Data:\\n\", knn_best_report_train)\n",
        "print(\"Best KNN Model Metrics Used on the Testing Data:\\n\", knn_best_report_test)"
      ],
      "metadata": {
        "colab": {
          "base_uri": "https://localhost:8080/"
        },
        "id": "4dyKxAK47jMA",
        "outputId": "3cc009e6-4c39-4108-e9e2-30076aeb57a5"
      },
      "execution_count": 886,
      "outputs": [
        {
          "output_type": "stream",
          "name": "stdout",
          "text": [
            "Best KNN Model Metrics Used on the Training Data:\n",
            "               precision    recall  f1-score   support\n",
            "\n",
            "           0       0.47      0.30      0.37     55648\n",
            "           1       0.61      0.81      0.70    165532\n",
            "           2       0.58      0.40      0.48    107633\n",
            "\n",
            "    accuracy                           0.59    328813\n",
            "   macro avg       0.55      0.50      0.51    328813\n",
            "weighted avg       0.58      0.59      0.57    328813\n",
            "\n",
            "Best KNN Model Metrics Used on the Testing Data:\n",
            "               precision    recall  f1-score   support\n",
            "\n",
            "           0       0.29      0.18      0.22     18698\n",
            "           1       0.54      0.72      0.61     55214\n",
            "           2       0.41      0.28      0.34     35693\n",
            "\n",
            "    accuracy                           0.48    109605\n",
            "   macro avg       0.41      0.39      0.39    109605\n",
            "weighted avg       0.45      0.48      0.46    109605\n",
            "\n",
            "CPU times: user 58 µs, sys: 978 µs, total: 1.04 ms\n",
            "Wall time: 902 µs\n"
          ]
        }
      ]
    },
    {
      "cell_type": "markdown",
      "source": [
        "# 12 . Model 3: Logistic Regression"
      ],
      "metadata": {
        "id": "3tJ8cbgRxnpo"
      }
    },
    {
      "cell_type": "markdown",
      "source": [
        "## 12 . 1 . Logistic Regression Pipeline"
      ],
      "metadata": {
        "id": "1TS9D9FQxrW8"
      }
    },
    {
      "cell_type": "code",
      "source": [
        "from sklearn.linear_model import LogisticRegression"
      ],
      "metadata": {
        "id": "4lEfPQNKx-4n"
      },
      "execution_count": 887,
      "outputs": []
    },
    {
      "cell_type": "code",
      "source": [
        "log_classifier = LogisticRegression(max_iter=500,random_state=42)\n",
        "\n",
        "log_pipe = make_pipeline(preprocessor, log_classifier)\n",
        "log_pipe"
      ],
      "metadata": {
        "colab": {
          "base_uri": "https://localhost:8080/",
          "height": 192
        },
        "id": "3TWjIlsayFo8",
        "outputId": "f861a76a-e36e-48ff-a3ce-6e30c155e8c6"
      },
      "execution_count": 897,
      "outputs": [
        {
          "output_type": "execute_result",
          "data": {
            "text/plain": [
              "Pipeline(steps=[('columntransformer',\n",
              "                 ColumnTransformer(transformers=[('pipeline-1',\n",
              "                                                  Pipeline(steps=[('standardscaler',\n",
              "                                                                   StandardScaler())]),\n",
              "                                                  <sklearn.compose._column_transformer.make_column_selector object at 0x7feb74bc5210>),\n",
              "                                                 ('pipeline-2',\n",
              "                                                  Pipeline(steps=[('onehotencoder',\n",
              "                                                                   OneHotEncoder(handle_unknown='ignore',\n",
              "                                                                                 sparse=False))]),\n",
              "                                                  <sklearn.compose._column_transformer.make_column_selector object at 0x7feb71a51d10>)])),\n",
              "                ('logisticregression',\n",
              "                 LogisticRegression(max_iter=500, random_state=42))])"
            ],
            "text/html": [
              "<style>#sk-96379425-72ca-433d-8e35-a4721bd0e3d2 {color: black;background-color: white;}#sk-96379425-72ca-433d-8e35-a4721bd0e3d2 pre{padding: 0;}#sk-96379425-72ca-433d-8e35-a4721bd0e3d2 div.sk-toggleable {background-color: white;}#sk-96379425-72ca-433d-8e35-a4721bd0e3d2 label.sk-toggleable__label {cursor: pointer;display: block;width: 100%;margin-bottom: 0;padding: 0.3em;box-sizing: border-box;text-align: center;}#sk-96379425-72ca-433d-8e35-a4721bd0e3d2 label.sk-toggleable__label-arrow:before {content: \"▸\";float: left;margin-right: 0.25em;color: #696969;}#sk-96379425-72ca-433d-8e35-a4721bd0e3d2 label.sk-toggleable__label-arrow:hover:before {color: black;}#sk-96379425-72ca-433d-8e35-a4721bd0e3d2 div.sk-estimator:hover label.sk-toggleable__label-arrow:before {color: black;}#sk-96379425-72ca-433d-8e35-a4721bd0e3d2 div.sk-toggleable__content {max-height: 0;max-width: 0;overflow: hidden;text-align: left;background-color: #f0f8ff;}#sk-96379425-72ca-433d-8e35-a4721bd0e3d2 div.sk-toggleable__content pre {margin: 0.2em;color: black;border-radius: 0.25em;background-color: #f0f8ff;}#sk-96379425-72ca-433d-8e35-a4721bd0e3d2 input.sk-toggleable__control:checked~div.sk-toggleable__content {max-height: 200px;max-width: 100%;overflow: auto;}#sk-96379425-72ca-433d-8e35-a4721bd0e3d2 input.sk-toggleable__control:checked~label.sk-toggleable__label-arrow:before {content: \"▾\";}#sk-96379425-72ca-433d-8e35-a4721bd0e3d2 div.sk-estimator input.sk-toggleable__control:checked~label.sk-toggleable__label {background-color: #d4ebff;}#sk-96379425-72ca-433d-8e35-a4721bd0e3d2 div.sk-label input.sk-toggleable__control:checked~label.sk-toggleable__label {background-color: #d4ebff;}#sk-96379425-72ca-433d-8e35-a4721bd0e3d2 input.sk-hidden--visually {border: 0;clip: rect(1px 1px 1px 1px);clip: rect(1px, 1px, 1px, 1px);height: 1px;margin: -1px;overflow: hidden;padding: 0;position: absolute;width: 1px;}#sk-96379425-72ca-433d-8e35-a4721bd0e3d2 div.sk-estimator {font-family: monospace;background-color: #f0f8ff;border: 1px dotted black;border-radius: 0.25em;box-sizing: border-box;margin-bottom: 0.5em;}#sk-96379425-72ca-433d-8e35-a4721bd0e3d2 div.sk-estimator:hover {background-color: #d4ebff;}#sk-96379425-72ca-433d-8e35-a4721bd0e3d2 div.sk-parallel-item::after {content: \"\";width: 100%;border-bottom: 1px solid gray;flex-grow: 1;}#sk-96379425-72ca-433d-8e35-a4721bd0e3d2 div.sk-label:hover label.sk-toggleable__label {background-color: #d4ebff;}#sk-96379425-72ca-433d-8e35-a4721bd0e3d2 div.sk-serial::before {content: \"\";position: absolute;border-left: 1px solid gray;box-sizing: border-box;top: 2em;bottom: 0;left: 50%;}#sk-96379425-72ca-433d-8e35-a4721bd0e3d2 div.sk-serial {display: flex;flex-direction: column;align-items: center;background-color: white;padding-right: 0.2em;padding-left: 0.2em;}#sk-96379425-72ca-433d-8e35-a4721bd0e3d2 div.sk-item {z-index: 1;}#sk-96379425-72ca-433d-8e35-a4721bd0e3d2 div.sk-parallel {display: flex;align-items: stretch;justify-content: center;background-color: white;}#sk-96379425-72ca-433d-8e35-a4721bd0e3d2 div.sk-parallel::before {content: \"\";position: absolute;border-left: 1px solid gray;box-sizing: border-box;top: 2em;bottom: 0;left: 50%;}#sk-96379425-72ca-433d-8e35-a4721bd0e3d2 div.sk-parallel-item {display: flex;flex-direction: column;position: relative;background-color: white;}#sk-96379425-72ca-433d-8e35-a4721bd0e3d2 div.sk-parallel-item:first-child::after {align-self: flex-end;width: 50%;}#sk-96379425-72ca-433d-8e35-a4721bd0e3d2 div.sk-parallel-item:last-child::after {align-self: flex-start;width: 50%;}#sk-96379425-72ca-433d-8e35-a4721bd0e3d2 div.sk-parallel-item:only-child::after {width: 0;}#sk-96379425-72ca-433d-8e35-a4721bd0e3d2 div.sk-dashed-wrapped {border: 1px dashed gray;margin: 0 0.4em 0.5em 0.4em;box-sizing: border-box;padding-bottom: 0.4em;background-color: white;position: relative;}#sk-96379425-72ca-433d-8e35-a4721bd0e3d2 div.sk-label label {font-family: monospace;font-weight: bold;background-color: white;display: inline-block;line-height: 1.2em;}#sk-96379425-72ca-433d-8e35-a4721bd0e3d2 div.sk-label-container {position: relative;z-index: 2;text-align: center;}#sk-96379425-72ca-433d-8e35-a4721bd0e3d2 div.sk-container {/* jupyter's `normalize.less` sets `[hidden] { display: none; }` but bootstrap.min.css set `[hidden] { display: none !important; }` so we also need the `!important` here to be able to override the default hidden behavior on the sphinx rendered scikit-learn.org. See: https://github.com/scikit-learn/scikit-learn/issues/21755 */display: inline-block !important;position: relative;}#sk-96379425-72ca-433d-8e35-a4721bd0e3d2 div.sk-text-repr-fallback {display: none;}</style><div id=\"sk-96379425-72ca-433d-8e35-a4721bd0e3d2\" class=\"sk-top-container\"><div class=\"sk-text-repr-fallback\"><pre>Pipeline(steps=[(&#x27;columntransformer&#x27;,\n",
              "                 ColumnTransformer(transformers=[(&#x27;pipeline-1&#x27;,\n",
              "                                                  Pipeline(steps=[(&#x27;standardscaler&#x27;,\n",
              "                                                                   StandardScaler())]),\n",
              "                                                  &lt;sklearn.compose._column_transformer.make_column_selector object at 0x7feb74bc5210&gt;),\n",
              "                                                 (&#x27;pipeline-2&#x27;,\n",
              "                                                  Pipeline(steps=[(&#x27;onehotencoder&#x27;,\n",
              "                                                                   OneHotEncoder(handle_unknown=&#x27;ignore&#x27;,\n",
              "                                                                                 sparse=False))]),\n",
              "                                                  &lt;sklearn.compose._column_transformer.make_column_selector object at 0x7feb71a51d10&gt;)])),\n",
              "                (&#x27;logisticregression&#x27;,\n",
              "                 LogisticRegression(max_iter=500, random_state=42))])</pre><b>Please rerun this cell to show the HTML repr or trust the notebook.</b></div><div class=\"sk-container\" hidden><div class=\"sk-item sk-dashed-wrapped\"><div class=\"sk-label-container\"><div class=\"sk-label sk-toggleable\"><input class=\"sk-toggleable__control sk-hidden--visually\" id=\"372d4090-42f4-40ba-8151-df59f65cfac3\" type=\"checkbox\" ><label for=\"372d4090-42f4-40ba-8151-df59f65cfac3\" class=\"sk-toggleable__label sk-toggleable__label-arrow\">Pipeline</label><div class=\"sk-toggleable__content\"><pre>Pipeline(steps=[(&#x27;columntransformer&#x27;,\n",
              "                 ColumnTransformer(transformers=[(&#x27;pipeline-1&#x27;,\n",
              "                                                  Pipeline(steps=[(&#x27;standardscaler&#x27;,\n",
              "                                                                   StandardScaler())]),\n",
              "                                                  &lt;sklearn.compose._column_transformer.make_column_selector object at 0x7feb74bc5210&gt;),\n",
              "                                                 (&#x27;pipeline-2&#x27;,\n",
              "                                                  Pipeline(steps=[(&#x27;onehotencoder&#x27;,\n",
              "                                                                   OneHotEncoder(handle_unknown=&#x27;ignore&#x27;,\n",
              "                                                                                 sparse=False))]),\n",
              "                                                  &lt;sklearn.compose._column_transformer.make_column_selector object at 0x7feb71a51d10&gt;)])),\n",
              "                (&#x27;logisticregression&#x27;,\n",
              "                 LogisticRegression(max_iter=500, random_state=42))])</pre></div></div></div><div class=\"sk-serial\"><div class=\"sk-item sk-dashed-wrapped\"><div class=\"sk-label-container\"><div class=\"sk-label sk-toggleable\"><input class=\"sk-toggleable__control sk-hidden--visually\" id=\"19c9e37d-e3fc-4a81-814b-58340ffaaa93\" type=\"checkbox\" ><label for=\"19c9e37d-e3fc-4a81-814b-58340ffaaa93\" class=\"sk-toggleable__label sk-toggleable__label-arrow\">columntransformer: ColumnTransformer</label><div class=\"sk-toggleable__content\"><pre>ColumnTransformer(transformers=[(&#x27;pipeline-1&#x27;,\n",
              "                                 Pipeline(steps=[(&#x27;standardscaler&#x27;,\n",
              "                                                  StandardScaler())]),\n",
              "                                 &lt;sklearn.compose._column_transformer.make_column_selector object at 0x7feb74bc5210&gt;),\n",
              "                                (&#x27;pipeline-2&#x27;,\n",
              "                                 Pipeline(steps=[(&#x27;onehotencoder&#x27;,\n",
              "                                                  OneHotEncoder(handle_unknown=&#x27;ignore&#x27;,\n",
              "                                                                sparse=False))]),\n",
              "                                 &lt;sklearn.compose._column_transformer.make_column_selector object at 0x7feb71a51d10&gt;)])</pre></div></div></div><div class=\"sk-parallel\"><div class=\"sk-parallel-item\"><div class=\"sk-item\"><div class=\"sk-label-container\"><div class=\"sk-label sk-toggleable\"><input class=\"sk-toggleable__control sk-hidden--visually\" id=\"92e62016-88c6-40c8-b3cf-cb65a5a4bc0b\" type=\"checkbox\" ><label for=\"92e62016-88c6-40c8-b3cf-cb65a5a4bc0b\" class=\"sk-toggleable__label sk-toggleable__label-arrow\">pipeline-1</label><div class=\"sk-toggleable__content\"><pre>&lt;sklearn.compose._column_transformer.make_column_selector object at 0x7feb74bc5210&gt;</pre></div></div></div><div class=\"sk-serial\"><div class=\"sk-item\"><div class=\"sk-serial\"><div class=\"sk-item\"><div class=\"sk-estimator sk-toggleable\"><input class=\"sk-toggleable__control sk-hidden--visually\" id=\"2f24afa3-2783-4134-9d53-b3516b8f113d\" type=\"checkbox\" ><label for=\"2f24afa3-2783-4134-9d53-b3516b8f113d\" class=\"sk-toggleable__label sk-toggleable__label-arrow\">StandardScaler</label><div class=\"sk-toggleable__content\"><pre>StandardScaler()</pre></div></div></div></div></div></div></div></div><div class=\"sk-parallel-item\"><div class=\"sk-item\"><div class=\"sk-label-container\"><div class=\"sk-label sk-toggleable\"><input class=\"sk-toggleable__control sk-hidden--visually\" id=\"bee937b5-6de4-45a2-a2d4-0a580f74d7ea\" type=\"checkbox\" ><label for=\"bee937b5-6de4-45a2-a2d4-0a580f74d7ea\" class=\"sk-toggleable__label sk-toggleable__label-arrow\">pipeline-2</label><div class=\"sk-toggleable__content\"><pre>&lt;sklearn.compose._column_transformer.make_column_selector object at 0x7feb71a51d10&gt;</pre></div></div></div><div class=\"sk-serial\"><div class=\"sk-item\"><div class=\"sk-serial\"><div class=\"sk-item\"><div class=\"sk-estimator sk-toggleable\"><input class=\"sk-toggleable__control sk-hidden--visually\" id=\"722fa75d-947e-4948-8d39-e2df4b503b99\" type=\"checkbox\" ><label for=\"722fa75d-947e-4948-8d39-e2df4b503b99\" class=\"sk-toggleable__label sk-toggleable__label-arrow\">OneHotEncoder</label><div class=\"sk-toggleable__content\"><pre>OneHotEncoder(handle_unknown=&#x27;ignore&#x27;, sparse=False)</pre></div></div></div></div></div></div></div></div></div></div><div class=\"sk-item\"><div class=\"sk-estimator sk-toggleable\"><input class=\"sk-toggleable__control sk-hidden--visually\" id=\"799030a4-7243-4986-873b-b1fc0d1e6930\" type=\"checkbox\" ><label for=\"799030a4-7243-4986-873b-b1fc0d1e6930\" class=\"sk-toggleable__label sk-toggleable__label-arrow\">LogisticRegression</label><div class=\"sk-toggleable__content\"><pre>LogisticRegression(max_iter=500, random_state=42)</pre></div></div></div></div></div></div></div>"
            ]
          },
          "metadata": {},
          "execution_count": 897
        }
      ]
    },
    {
      "cell_type": "markdown",
      "source": [
        "## 12 . 2 .Logistic Regression Default"
      ],
      "metadata": {
        "id": "pasZc4c_xxHD"
      }
    },
    {
      "cell_type": "code",
      "source": [
        "%%time\n",
        "log_pipe.fit(X_train,y_train);"
      ],
      "metadata": {
        "colab": {
          "base_uri": "https://localhost:8080/",
          "height": 227
        },
        "id": "W21Lmi8iyRir",
        "outputId": "8e304e91-f3a4-4c90-f2f3-f6264176b640"
      },
      "execution_count": 898,
      "outputs": [
        {
          "output_type": "stream",
          "name": "stdout",
          "text": [
            "CPU times: user 3min 9s, sys: 45.7 s, total: 3min 55s\n",
            "Wall time: 2min 2s\n"
          ]
        },
        {
          "output_type": "execute_result",
          "data": {
            "text/plain": [
              "Pipeline(steps=[('columntransformer',\n",
              "                 ColumnTransformer(transformers=[('pipeline-1',\n",
              "                                                  Pipeline(steps=[('standardscaler',\n",
              "                                                                   StandardScaler())]),\n",
              "                                                  <sklearn.compose._column_transformer.make_column_selector object at 0x7feb74bc5210>),\n",
              "                                                 ('pipeline-2',\n",
              "                                                  Pipeline(steps=[('onehotencoder',\n",
              "                                                                   OneHotEncoder(handle_unknown='ignore',\n",
              "                                                                                 sparse=False))]),\n",
              "                                                  <sklearn.compose._column_transformer.make_column_selector object at 0x7feb71a51d10>)])),\n",
              "                ('logisticregression',\n",
              "                 LogisticRegression(max_iter=500, random_state=42))])"
            ],
            "text/html": [
              "<style>#sk-3234006d-a584-4487-98ac-d884d5889721 {color: black;background-color: white;}#sk-3234006d-a584-4487-98ac-d884d5889721 pre{padding: 0;}#sk-3234006d-a584-4487-98ac-d884d5889721 div.sk-toggleable {background-color: white;}#sk-3234006d-a584-4487-98ac-d884d5889721 label.sk-toggleable__label {cursor: pointer;display: block;width: 100%;margin-bottom: 0;padding: 0.3em;box-sizing: border-box;text-align: center;}#sk-3234006d-a584-4487-98ac-d884d5889721 label.sk-toggleable__label-arrow:before {content: \"▸\";float: left;margin-right: 0.25em;color: #696969;}#sk-3234006d-a584-4487-98ac-d884d5889721 label.sk-toggleable__label-arrow:hover:before {color: black;}#sk-3234006d-a584-4487-98ac-d884d5889721 div.sk-estimator:hover label.sk-toggleable__label-arrow:before {color: black;}#sk-3234006d-a584-4487-98ac-d884d5889721 div.sk-toggleable__content {max-height: 0;max-width: 0;overflow: hidden;text-align: left;background-color: #f0f8ff;}#sk-3234006d-a584-4487-98ac-d884d5889721 div.sk-toggleable__content pre {margin: 0.2em;color: black;border-radius: 0.25em;background-color: #f0f8ff;}#sk-3234006d-a584-4487-98ac-d884d5889721 input.sk-toggleable__control:checked~div.sk-toggleable__content {max-height: 200px;max-width: 100%;overflow: auto;}#sk-3234006d-a584-4487-98ac-d884d5889721 input.sk-toggleable__control:checked~label.sk-toggleable__label-arrow:before {content: \"▾\";}#sk-3234006d-a584-4487-98ac-d884d5889721 div.sk-estimator input.sk-toggleable__control:checked~label.sk-toggleable__label {background-color: #d4ebff;}#sk-3234006d-a584-4487-98ac-d884d5889721 div.sk-label input.sk-toggleable__control:checked~label.sk-toggleable__label {background-color: #d4ebff;}#sk-3234006d-a584-4487-98ac-d884d5889721 input.sk-hidden--visually {border: 0;clip: rect(1px 1px 1px 1px);clip: rect(1px, 1px, 1px, 1px);height: 1px;margin: -1px;overflow: hidden;padding: 0;position: absolute;width: 1px;}#sk-3234006d-a584-4487-98ac-d884d5889721 div.sk-estimator {font-family: monospace;background-color: #f0f8ff;border: 1px dotted black;border-radius: 0.25em;box-sizing: border-box;margin-bottom: 0.5em;}#sk-3234006d-a584-4487-98ac-d884d5889721 div.sk-estimator:hover {background-color: #d4ebff;}#sk-3234006d-a584-4487-98ac-d884d5889721 div.sk-parallel-item::after {content: \"\";width: 100%;border-bottom: 1px solid gray;flex-grow: 1;}#sk-3234006d-a584-4487-98ac-d884d5889721 div.sk-label:hover label.sk-toggleable__label {background-color: #d4ebff;}#sk-3234006d-a584-4487-98ac-d884d5889721 div.sk-serial::before {content: \"\";position: absolute;border-left: 1px solid gray;box-sizing: border-box;top: 2em;bottom: 0;left: 50%;}#sk-3234006d-a584-4487-98ac-d884d5889721 div.sk-serial {display: flex;flex-direction: column;align-items: center;background-color: white;padding-right: 0.2em;padding-left: 0.2em;}#sk-3234006d-a584-4487-98ac-d884d5889721 div.sk-item {z-index: 1;}#sk-3234006d-a584-4487-98ac-d884d5889721 div.sk-parallel {display: flex;align-items: stretch;justify-content: center;background-color: white;}#sk-3234006d-a584-4487-98ac-d884d5889721 div.sk-parallel::before {content: \"\";position: absolute;border-left: 1px solid gray;box-sizing: border-box;top: 2em;bottom: 0;left: 50%;}#sk-3234006d-a584-4487-98ac-d884d5889721 div.sk-parallel-item {display: flex;flex-direction: column;position: relative;background-color: white;}#sk-3234006d-a584-4487-98ac-d884d5889721 div.sk-parallel-item:first-child::after {align-self: flex-end;width: 50%;}#sk-3234006d-a584-4487-98ac-d884d5889721 div.sk-parallel-item:last-child::after {align-self: flex-start;width: 50%;}#sk-3234006d-a584-4487-98ac-d884d5889721 div.sk-parallel-item:only-child::after {width: 0;}#sk-3234006d-a584-4487-98ac-d884d5889721 div.sk-dashed-wrapped {border: 1px dashed gray;margin: 0 0.4em 0.5em 0.4em;box-sizing: border-box;padding-bottom: 0.4em;background-color: white;position: relative;}#sk-3234006d-a584-4487-98ac-d884d5889721 div.sk-label label {font-family: monospace;font-weight: bold;background-color: white;display: inline-block;line-height: 1.2em;}#sk-3234006d-a584-4487-98ac-d884d5889721 div.sk-label-container {position: relative;z-index: 2;text-align: center;}#sk-3234006d-a584-4487-98ac-d884d5889721 div.sk-container {/* jupyter's `normalize.less` sets `[hidden] { display: none; }` but bootstrap.min.css set `[hidden] { display: none !important; }` so we also need the `!important` here to be able to override the default hidden behavior on the sphinx rendered scikit-learn.org. See: https://github.com/scikit-learn/scikit-learn/issues/21755 */display: inline-block !important;position: relative;}#sk-3234006d-a584-4487-98ac-d884d5889721 div.sk-text-repr-fallback {display: none;}</style><div id=\"sk-3234006d-a584-4487-98ac-d884d5889721\" class=\"sk-top-container\"><div class=\"sk-text-repr-fallback\"><pre>Pipeline(steps=[(&#x27;columntransformer&#x27;,\n",
              "                 ColumnTransformer(transformers=[(&#x27;pipeline-1&#x27;,\n",
              "                                                  Pipeline(steps=[(&#x27;standardscaler&#x27;,\n",
              "                                                                   StandardScaler())]),\n",
              "                                                  &lt;sklearn.compose._column_transformer.make_column_selector object at 0x7feb74bc5210&gt;),\n",
              "                                                 (&#x27;pipeline-2&#x27;,\n",
              "                                                  Pipeline(steps=[(&#x27;onehotencoder&#x27;,\n",
              "                                                                   OneHotEncoder(handle_unknown=&#x27;ignore&#x27;,\n",
              "                                                                                 sparse=False))]),\n",
              "                                                  &lt;sklearn.compose._column_transformer.make_column_selector object at 0x7feb71a51d10&gt;)])),\n",
              "                (&#x27;logisticregression&#x27;,\n",
              "                 LogisticRegression(max_iter=500, random_state=42))])</pre><b>Please rerun this cell to show the HTML repr or trust the notebook.</b></div><div class=\"sk-container\" hidden><div class=\"sk-item sk-dashed-wrapped\"><div class=\"sk-label-container\"><div class=\"sk-label sk-toggleable\"><input class=\"sk-toggleable__control sk-hidden--visually\" id=\"a3ae2019-140f-4600-89a7-fc550d354321\" type=\"checkbox\" ><label for=\"a3ae2019-140f-4600-89a7-fc550d354321\" class=\"sk-toggleable__label sk-toggleable__label-arrow\">Pipeline</label><div class=\"sk-toggleable__content\"><pre>Pipeline(steps=[(&#x27;columntransformer&#x27;,\n",
              "                 ColumnTransformer(transformers=[(&#x27;pipeline-1&#x27;,\n",
              "                                                  Pipeline(steps=[(&#x27;standardscaler&#x27;,\n",
              "                                                                   StandardScaler())]),\n",
              "                                                  &lt;sklearn.compose._column_transformer.make_column_selector object at 0x7feb74bc5210&gt;),\n",
              "                                                 (&#x27;pipeline-2&#x27;,\n",
              "                                                  Pipeline(steps=[(&#x27;onehotencoder&#x27;,\n",
              "                                                                   OneHotEncoder(handle_unknown=&#x27;ignore&#x27;,\n",
              "                                                                                 sparse=False))]),\n",
              "                                                  &lt;sklearn.compose._column_transformer.make_column_selector object at 0x7feb71a51d10&gt;)])),\n",
              "                (&#x27;logisticregression&#x27;,\n",
              "                 LogisticRegression(max_iter=500, random_state=42))])</pre></div></div></div><div class=\"sk-serial\"><div class=\"sk-item sk-dashed-wrapped\"><div class=\"sk-label-container\"><div class=\"sk-label sk-toggleable\"><input class=\"sk-toggleable__control sk-hidden--visually\" id=\"f1657dae-05a5-4670-9894-0548d664e0b0\" type=\"checkbox\" ><label for=\"f1657dae-05a5-4670-9894-0548d664e0b0\" class=\"sk-toggleable__label sk-toggleable__label-arrow\">columntransformer: ColumnTransformer</label><div class=\"sk-toggleable__content\"><pre>ColumnTransformer(transformers=[(&#x27;pipeline-1&#x27;,\n",
              "                                 Pipeline(steps=[(&#x27;standardscaler&#x27;,\n",
              "                                                  StandardScaler())]),\n",
              "                                 &lt;sklearn.compose._column_transformer.make_column_selector object at 0x7feb74bc5210&gt;),\n",
              "                                (&#x27;pipeline-2&#x27;,\n",
              "                                 Pipeline(steps=[(&#x27;onehotencoder&#x27;,\n",
              "                                                  OneHotEncoder(handle_unknown=&#x27;ignore&#x27;,\n",
              "                                                                sparse=False))]),\n",
              "                                 &lt;sklearn.compose._column_transformer.make_column_selector object at 0x7feb71a51d10&gt;)])</pre></div></div></div><div class=\"sk-parallel\"><div class=\"sk-parallel-item\"><div class=\"sk-item\"><div class=\"sk-label-container\"><div class=\"sk-label sk-toggleable\"><input class=\"sk-toggleable__control sk-hidden--visually\" id=\"6983b0bc-43e5-44f5-aee8-977285d28966\" type=\"checkbox\" ><label for=\"6983b0bc-43e5-44f5-aee8-977285d28966\" class=\"sk-toggleable__label sk-toggleable__label-arrow\">pipeline-1</label><div class=\"sk-toggleable__content\"><pre>&lt;sklearn.compose._column_transformer.make_column_selector object at 0x7feb74bc5210&gt;</pre></div></div></div><div class=\"sk-serial\"><div class=\"sk-item\"><div class=\"sk-serial\"><div class=\"sk-item\"><div class=\"sk-estimator sk-toggleable\"><input class=\"sk-toggleable__control sk-hidden--visually\" id=\"213fbbdd-9b82-4a64-bb0b-134afa33ae57\" type=\"checkbox\" ><label for=\"213fbbdd-9b82-4a64-bb0b-134afa33ae57\" class=\"sk-toggleable__label sk-toggleable__label-arrow\">StandardScaler</label><div class=\"sk-toggleable__content\"><pre>StandardScaler()</pre></div></div></div></div></div></div></div></div><div class=\"sk-parallel-item\"><div class=\"sk-item\"><div class=\"sk-label-container\"><div class=\"sk-label sk-toggleable\"><input class=\"sk-toggleable__control sk-hidden--visually\" id=\"74f8ad1d-c78c-470d-bd35-385b6a2a3cca\" type=\"checkbox\" ><label for=\"74f8ad1d-c78c-470d-bd35-385b6a2a3cca\" class=\"sk-toggleable__label sk-toggleable__label-arrow\">pipeline-2</label><div class=\"sk-toggleable__content\"><pre>&lt;sklearn.compose._column_transformer.make_column_selector object at 0x7feb71a51d10&gt;</pre></div></div></div><div class=\"sk-serial\"><div class=\"sk-item\"><div class=\"sk-serial\"><div class=\"sk-item\"><div class=\"sk-estimator sk-toggleable\"><input class=\"sk-toggleable__control sk-hidden--visually\" id=\"e83084e2-37a7-4a8b-bbd6-f659613b2555\" type=\"checkbox\" ><label for=\"e83084e2-37a7-4a8b-bbd6-f659613b2555\" class=\"sk-toggleable__label sk-toggleable__label-arrow\">OneHotEncoder</label><div class=\"sk-toggleable__content\"><pre>OneHotEncoder(handle_unknown=&#x27;ignore&#x27;, sparse=False)</pre></div></div></div></div></div></div></div></div></div></div><div class=\"sk-item\"><div class=\"sk-estimator sk-toggleable\"><input class=\"sk-toggleable__control sk-hidden--visually\" id=\"4dac5169-ab6e-456f-98c3-af6c4052e9d2\" type=\"checkbox\" ><label for=\"4dac5169-ab6e-456f-98c3-af6c4052e9d2\" class=\"sk-toggleable__label sk-toggleable__label-arrow\">LogisticRegression</label><div class=\"sk-toggleable__content\"><pre>LogisticRegression(max_iter=500, random_state=42)</pre></div></div></div></div></div></div></div>"
            ]
          },
          "metadata": {},
          "execution_count": 898
        }
      ]
    },
    {
      "cell_type": "code",
      "source": [
        "%%time\n",
        "log_default_predict_train = log_pipe.predict(X_train)\n",
        "log_default_predict_test = log_pipe.predict(X_test)\n",
        "\n",
        "log_default_report_train = classification_report(y_train, log_default_predict_train)\n",
        "log_default_report_test = classification_report(y_test, log_default_predict_test) \n",
        "\n",
        "print(\"Training Data set:\\n\", log_default_report_train )\n",
        "print(\"Testing Data set:\\n\",log_default_report_test )"
      ],
      "metadata": {
        "colab": {
          "base_uri": "https://localhost:8080/"
        },
        "id": "AWK1amFKyU-7",
        "outputId": "f855ffe3-5286-459a-ee90-43a0cf52a1e5"
      },
      "execution_count": 899,
      "outputs": [
        {
          "output_type": "stream",
          "name": "stdout",
          "text": [
            "Training Data set:\n",
            "               precision    recall  f1-score   support\n",
            "\n",
            "           0       0.36      0.00      0.00     55648\n",
            "           1       0.51      0.95      0.66    165532\n",
            "           2       0.47      0.09      0.15    107633\n",
            "\n",
            "    accuracy                           0.51    328813\n",
            "   macro avg       0.45      0.35      0.27    328813\n",
            "weighted avg       0.47      0.51      0.38    328813\n",
            "\n",
            "Testing Data set:\n",
            "               precision    recall  f1-score   support\n",
            "\n",
            "           0       0.39      0.00      0.00     18698\n",
            "           1       0.51      0.95      0.66     55214\n",
            "           2       0.47      0.09      0.15     35693\n",
            "\n",
            "    accuracy                           0.51    109605\n",
            "   macro avg       0.46      0.35      0.27    109605\n",
            "weighted avg       0.48      0.51      0.38    109605\n",
            "\n",
            "CPU times: user 1.92 s, sys: 272 ms, total: 2.19 s\n",
            "Wall time: 1.82 s\n"
          ]
        }
      ]
    },
    {
      "cell_type": "markdown",
      "source": [
        "## 12 . 3 . Logistic Regression Grid Search"
      ],
      "metadata": {
        "id": "PIxIqr17x3Fc"
      }
    },
    {
      "cell_type": "code",
      "source": [
        "log_grid_params = {\"logisticregression__penalty\": [\"l1\",\"l2\",\"elasticnet\"],\\\n",
        "                   \"logisticregression__solver\": [\"saga\"]}"
      ],
      "metadata": {
        "id": "39TmY21zyge2"
      },
      "execution_count": 901,
      "outputs": []
    },
    {
      "cell_type": "code",
      "source": [
        "%%time\n",
        "# instantiate the grid-search model for the knn classifier\n",
        "log_grid = GridSearchCV(log_pipe,log_grid_params,scoring=\"accuracy\")\n",
        "log_grid.fit(X_train,y_train)\n",
        "log_grid.best_params_"
      ],
      "metadata": {
        "colab": {
          "base_uri": "https://localhost:8080/"
        },
        "id": "UyuHtzGmyjWc",
        "outputId": "f8dd2a43-e216-4c17-d713-2904b75bd25f"
      },
      "execution_count": 902,
      "outputs": [
        {
          "output_type": "stream",
          "name": "stderr",
          "text": [
            "/usr/local/lib/python3.7/dist-packages/sklearn/model_selection/_validation.py:372: FitFailedWarning: \n",
            "5 fits failed out of a total of 15.\n",
            "The score on these train-test partitions for these parameters will be set to nan.\n",
            "If these failures are not expected, you can try to debug them by setting error_score='raise'.\n",
            "\n",
            "Below are more details about the failures:\n",
            "--------------------------------------------------------------------------------\n",
            "5 fits failed with the following error:\n",
            "Traceback (most recent call last):\n",
            "  File \"/usr/local/lib/python3.7/dist-packages/sklearn/model_selection/_validation.py\", line 680, in _fit_and_score\n",
            "    estimator.fit(X_train, y_train, **fit_params)\n",
            "  File \"/usr/local/lib/python3.7/dist-packages/sklearn/pipeline.py\", line 394, in fit\n",
            "    self._final_estimator.fit(Xt, y, **fit_params_last_step)\n",
            "  File \"/usr/local/lib/python3.7/dist-packages/sklearn/linear_model/_logistic.py\", line 1473, in fit\n",
            "    % self.l1_ratio\n",
            "ValueError: l1_ratio must be between 0 and 1; got (l1_ratio=None)\n",
            "\n",
            "  warnings.warn(some_fits_failed_message, FitFailedWarning)\n",
            "/usr/local/lib/python3.7/dist-packages/sklearn/model_selection/_search.py:972: UserWarning: One or more of the test scores are non-finite: [0.5071454  0.50704199        nan]\n",
            "  category=UserWarning,\n"
          ]
        },
        {
          "output_type": "stream",
          "name": "stdout",
          "text": [
            "CPU times: user 24min 22s, sys: 2.54 s, total: 24min 24s\n",
            "Wall time: 24min 15s\n"
          ]
        }
      ]
    },
    {
      "cell_type": "code",
      "source": [
        "log_best = log_pipe.set_params(**log_grid.best_params_)"
      ],
      "metadata": {
        "id": "XbBeK5bDylB1"
      },
      "execution_count": 903,
      "outputs": []
    },
    {
      "cell_type": "code",
      "source": [
        "%%time\n",
        "log_best.fit(X_train,y_train)\n",
        "\n",
        "log_best_predict_train = log_best.predict(X_train)\n",
        "log_best_predict_test  = log_best.predict(X_test)\n",
        "\n",
        "log_best_report_train = classification_report(y_train,log_best_predict_train)\n",
        "log_best_report_test = classification_report(y_test,log_best_predict_test)\n",
        "\n",
        "print(\"Best Logistic Regression Model Metrics Used on the Training Data:\\n\", log_best_report_train)\n",
        "print(\"Best Logistic Regression Model Metrics Used on the Testing Data:\\n\", log_best_report_test)"
      ],
      "metadata": {
        "colab": {
          "base_uri": "https://localhost:8080/"
        },
        "id": "88zFPN7dym5s",
        "outputId": "f6d235d1-9cd0-4cc6-90c4-a3b0dd528ef4"
      },
      "execution_count": 904,
      "outputs": [
        {
          "output_type": "stream",
          "name": "stdout",
          "text": [
            "Best Logistic Regression Model Metrics Used on the Training Data:\n",
            "               precision    recall  f1-score   support\n",
            "\n",
            "           0       0.35      0.00      0.00     55648\n",
            "           1       0.51      0.95      0.66    165532\n",
            "           2       0.47      0.09      0.15    107633\n",
            "\n",
            "    accuracy                           0.51    328813\n",
            "   macro avg       0.45      0.35      0.27    328813\n",
            "weighted avg       0.47      0.51      0.38    328813\n",
            "\n",
            "Best Logistic Regression Model Metrics Used on the Testing Data:\n",
            "               precision    recall  f1-score   support\n",
            "\n",
            "           0       0.41      0.00      0.00     18698\n",
            "           1       0.51      0.95      0.66     55214\n",
            "           2       0.47      0.09      0.15     35693\n",
            "\n",
            "    accuracy                           0.51    109605\n",
            "   macro avg       0.46      0.35      0.27    109605\n",
            "weighted avg       0.48      0.51      0.38    109605\n",
            "\n",
            "CPU times: user 3min 12s, sys: 419 ms, total: 3min 13s\n",
            "Wall time: 3min 11s\n"
          ]
        }
      ]
    },
    {
      "cell_type": "markdown",
      "source": [
        "# 12 . Confusion Matrices"
      ],
      "metadata": {
        "id": "P7ZHM4JikXvD"
      }
    },
    {
      "cell_type": "code",
      "source": [
        "from sklearn.metrics import confusion_matrix\n",
        "#values normalized along the 'true' axis.\n",
        "base_best_confusion_matrix_norm = confusion_matrix(y_test, base_best_predict_test, normalize=\"true\")\n",
        "forest_best_confusion_matrix_norm = confusion_matrix(y_test,forest_best_predict_test, normalize=\"true\")\n",
        "knn_best_confusion_matrix_norm = confusion_matrix(y_test, knn_default_predict_test, normalize=\"true\")\n",
        "log_best_confusion_matrix_norm = confusion_matrix(y_test, log_best_predict_test, normalize=\"true\")\n",
        "\n",
        "labels=[\"Violation\",\"Misdemeanor\",\"Felony\"]\n",
        "\n",
        "fig, axes = plt.subplots(ncols = 4, figsize=(15,5),constrained_layout=True,sharey=True)\n",
        "fig.suptitle(\"Confusion Matrices for the Best Found Models of Each Type\", fontsize=\"xx-large\")\n",
        "sns.heatmap(base_best_confusion_matrix_norm,xticklabels=labels,yticklabels=labels,annot=True,square=True,cmap=\"Reds\",ax=axes[0],linecolor=\"black\",linewidths=1,cbar_kws={\"shrink\":0.6})\n",
        "sns.heatmap(forest_best_confusion_matrix_norm,xticklabels=labels,yticklabels=labels,annot=True,square=True,cmap=\"Greens\",ax=axes[1],linecolor=\"black\",linewidths=1,cbar_kws={\"shrink\":0.6})\n",
        "sns.heatmap(knn_best_confusion_matrix_norm,xticklabels=labels,yticklabels=labels,annot=True,square=True,cmap=\"Blues\",ax=axes[2],linecolor=\"black\",linewidths=1,cbar_kws={\"shrink\":0.6})\n",
        "sns.heatmap(log_best_confusion_matrix_norm,xticklabels=labels,yticklabels=labels,annot=True,square=True,cmap=\"Purples\",ax=axes[3],linecolor=\"black\",linewidths=1,cbar_kws={\"shrink\":0.6})\n",
        "axes[0].set_title(\"Baseline\", fontsize=\"x-large\")\n",
        "axes[1].set_title(\"Random Forest\", fontsize=\"x-large\")\n",
        "axes[2].set_title(\"KNN\", fontsize=\"x-large\")\n",
        "axes[3].set_title(\"Logistic Regression\", fontsize=\"x-large\")\n",
        "for c in range(4):\n",
        "    axes[c].tick_params(axis=\"y\",labelrotation=45)\n",
        "    axes[c].tick_params(axis=\"x\",labelrotation=45)\n",
        "    axes[c].set_xlabel(\"Predicted Values\",labelpad=15,fontsize=\"large\")\n",
        "axes[0].set_ylabel(\"Actual Values\",labelpad=15,fontsize=\"large\")\n",
        "\n",
        "plt.show()"
      ],
      "metadata": {
        "colab": {
          "base_uri": "https://localhost:8080/",
          "height": 387
        },
        "id": "XzBTrerawHH8",
        "outputId": "53618b77-e50b-4e26-c39c-b886132b7f27"
      },
      "execution_count": 925,
      "outputs": [
        {
          "output_type": "display_data",
          "data": {
            "text/plain": [
              "<Figure size 1080x360 with 8 Axes>"
            ],
            "image/png": "[encoded data removed]"
          },
          "metadata": {
            "needs_background": "light"
          }
        }
      ]
    },
    {
      "cell_type": "markdown",
      "source": [
        "None of the models perform very well. However the KNN model appears to perform the best out of the 3 different classifiers. Although it predicts misdemeanors with lower precision, it predicts misdemeanors and felonies significantly better than the other models."
      ],
      "metadata": {
        "id": "3tQ6wcnj_mBo"
      }
    }
  ]
}